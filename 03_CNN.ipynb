{
  "cells": [
    {
      "cell_type": "markdown",
      "metadata": {
        "id": "view-in-github",
        "colab_type": "text"
      },
      "source": [
        "<a href=\"https://colab.research.google.com/github/vinhpeters/tf-exam/blob/main/03_CNN.ipynb\" target=\"_parent\"><img src=\"https://colab.research.google.com/assets/colab-badge.svg\" alt=\"Open In Colab\"/></a>"
      ]
    },
    {
      "cell_type": "markdown",
      "metadata": {
        "id": "jV418nWUve-G"
      },
      "source": [
        "# Intro to Computer Vision with Covolutional Neural Networks"
      ]
    },
    {
      "cell_type": "code",
      "execution_count": null,
      "metadata": {
        "id": "P5lkdExsdHv3"
      },
      "outputs": [],
      "source": [
        "import tensorflow as tf\n",
        "import zipfile"
      ]
    },
    {
      "cell_type": "markdown",
      "metadata": {
        "id": "1cwxoKwgwtDx"
      },
      "source": [
        "## Using subset of Food 101 dataset"
      ]
    },
    {
      "cell_type": "code",
      "execution_count": null,
      "metadata": {
        "colab": {
          "base_uri": "https://localhost:8080/"
        },
        "id": "OF5B1REsvb4v",
        "outputId": "17910342-d43f-4707-c97b-2ff6e9cc70dc"
      },
      "outputs": [
        {
          "name": "stdout",
          "output_type": "stream",
          "text": [
            "--2023-04-06 14:45:21--  https://storage.googleapis.com/ztm_tf_course/food_vision/pizza_steak.zip\n",
            "Resolving storage.googleapis.com (storage.googleapis.com)... 142.251.18.128, 142.250.153.128, 142.250.145.128, ...\n",
            "Connecting to storage.googleapis.com (storage.googleapis.com)|142.251.18.128|:443... connected.\n",
            "HTTP request sent, awaiting response... 200 OK\n",
            "Length: 109540975 (104M) [application/zip]\n",
            "Saving to: ‘pizza_steak.zip’\n",
            "\n",
            "pizza_steak.zip     100%[===================>] 104.47M  33.5MB/s    in 3.1s    \n",
            "\n",
            "2023-04-06 14:45:25 (33.5 MB/s) - ‘pizza_steak.zip’ saved [109540975/109540975]\n",
            "\n"
          ]
        }
      ],
      "source": [
        "!wget https://storage.googleapis.com/ztm_tf_course/food_vision/pizza_steak.zip"
      ]
    },
    {
      "cell_type": "code",
      "execution_count": null,
      "metadata": {
        "id": "Zs13f1XYwMXV"
      },
      "outputs": [],
      "source": [
        "zip_ref = zipfile.ZipFile('pizza_steak.zip')\n",
        "zip_ref.extractall()\n",
        "zip_ref.close()"
      ]
    },
    {
      "cell_type": "markdown",
      "metadata": {
        "id": "g1q1a09FwY5d"
      },
      "source": [
        "## Data exploration"
      ]
    },
    {
      "cell_type": "code",
      "execution_count": null,
      "metadata": {
        "id": "3upeoLhzx0kT"
      },
      "outputs": [],
      "source": [
        "!ls pizza_steak/train/pizza"
      ]
    },
    {
      "cell_type": "code",
      "execution_count": null,
      "metadata": {
        "id": "u8SQLhlXyNS2"
      },
      "outputs": [],
      "source": [
        "import os \n",
        "\n",
        "for dirpath, dirnames, filenames in os.walk('pizza_steak'):\n",
        "  print(f'Dirs: {len(dirnames)}, imgs:{len(filenames)} in {dirpath}')"
      ]
    },
    {
      "cell_type": "code",
      "execution_count": null,
      "metadata": {
        "id": "Urt3f7s2znK0"
      },
      "outputs": [],
      "source": [
        "num_steak=len(os.listdir('pizza_steak/train/steak'))\n",
        "num_steak"
      ]
    },
    {
      "cell_type": "code",
      "execution_count": null,
      "metadata": {
        "id": "TxxKqG7czxlT"
      },
      "outputs": [],
      "source": [
        "num_pizza=len(os.listdir('pizza_steak/train/pizza'))\n",
        "num_pizza"
      ]
    },
    {
      "cell_type": "markdown",
      "metadata": {
        "id": "9ho3lBVpz5XK"
      },
      "source": [
        "## Get class names programmitically"
      ]
    },
    {
      "cell_type": "code",
      "execution_count": null,
      "metadata": {
        "id": "jeKdkEJ-z9Iy"
      },
      "outputs": [],
      "source": [
        "import pathlib\n",
        "import numpy as np \n",
        "data_dir = pathlib.Path('pizza_steak/train')\n",
        "class_names = np.array(sorted(item.name for item in data_dir.glob('*')))"
      ]
    },
    {
      "cell_type": "code",
      "execution_count": null,
      "metadata": {
        "id": "WqqofPRm0mkU"
      },
      "outputs": [],
      "source": [
        "class_names"
      ]
    },
    {
      "cell_type": "code",
      "execution_count": null,
      "metadata": {
        "id": "gwPz5T7O0pKJ"
      },
      "outputs": [],
      "source": [
        "import matplotlib.pyplot as plt\n",
        "import matplotlib.image as mpimg\n",
        "import random\n",
        "\n",
        "def view_random_image(target_dir, target_class):\n",
        "  target_folder = target_dir+target_class\n",
        "\n",
        "  random_image = random.sample(os.listdir(target_folder), 1)\n",
        "  img = mpimg.imread(target_folder + \"/\" + random_image[0] )\n",
        "  plt.imshow(img)\n",
        "  plt.title(target_class)\n",
        "  plt.axis('off');\n",
        "\n",
        "  print(f'Image shape: {img.shape}')\n",
        "  return img"
      ]
    },
    {
      "cell_type": "code",
      "execution_count": null,
      "metadata": {
        "id": "QSeySmbO2aC6"
      },
      "outputs": [],
      "source": [
        "img = view_random_image(target_dir='pizza_steak/train/', target_class='steak')"
      ]
    },
    {
      "cell_type": "markdown",
      "metadata": {
        "id": "2wr282U8422Z"
      },
      "source": [
        "## An end-to-end example"
      ]
    },
    {
      "cell_type": "code",
      "execution_count": null,
      "metadata": {
        "id": "2W0V0HeY6u_b"
      },
      "outputs": [],
      "source": [
        "from tensorflow.keras.preprocessing.image import ImageDataGenerator"
      ]
    },
    {
      "cell_type": "code",
      "execution_count": null,
      "metadata": {
        "id": "VBqZiGnO7Gvf"
      },
      "outputs": [],
      "source": [
        "tf.random.set_seed(42)\n",
        "\n",
        "train_datagen = ImageDataGenerator(rescale=1./255)\n",
        "valid_datagen = ImageDataGenerator(rescale=1./255)\n",
        "\n",
        "train_dir = 'pizza_steak/train'\n",
        "test_dir = 'pizza_steak/test'\n",
        "\n",
        "\n",
        "train_data = train_datagen.flow_from_directory(directory=train_dir, batch_size=32, target_size=(224,224), class_mode ='binary', seed=42)\n",
        "valid_data = train_datagen.flow_from_directory(directory=test_dir, batch_size=32, target_size=(224,224), class_mode ='binary', seed=42)\n"
      ]
    },
    {
      "cell_type": "code",
      "execution_count": null,
      "metadata": {
        "colab": {
          "background_save": true,
          "base_uri": "https://localhost:8080/"
        },
        "id": "soGqaRGR8wPi",
        "outputId": "c99bb82a-3073-4436-bbd5-6b553e64bd33"
      },
      "outputs": [
        {
          "name": "stdout",
          "output_type": "stream",
          "text": [
            "Epoch 1/5\n",
            "47/47 [==============================] - 89s 2s/step - loss: 0.5636 - accuracy: 0.6960 - val_loss: 0.4527 - val_accuracy: 0.7720\n",
            "Epoch 2/5\n",
            "47/47 [==============================] - 86s 2s/step - loss: 0.4156 - accuracy: 0.8167 - val_loss: 0.3399 - val_accuracy: 0.8500\n",
            "Epoch 3/5\n",
            "47/47 [==============================] - 86s 2s/step - loss: 0.4084 - accuracy: 0.8180 - val_loss: 0.3470 - val_accuracy: 0.8540\n",
            "Epoch 4/5\n",
            "47/47 [==============================] - 85s 2s/step - loss: 0.3596 - accuracy: 0.8480 - val_loss: 0.3212 - val_accuracy: 0.8720\n"
          ]
        },
        {
          "ename": "KeyboardInterrupt",
          "evalue": "ignored",
          "output_type": "error",
          "traceback": [
            "\u001b[0;31m---------------------------------------------------------------------------\u001b[0m",
            "\u001b[0;31mKeyboardInterrupt\u001b[0m                         Traceback (most recent call last)",
            "\u001b[0;32m<ipython-input-14-97fb83b1e649>\u001b[0m in \u001b[0;36m<cell line: 14>\u001b[0;34m()\u001b[0m\n\u001b[1;32m     12\u001b[0m \u001b[0mmodel_1\u001b[0m\u001b[0;34m.\u001b[0m\u001b[0mcompile\u001b[0m\u001b[0;34m(\u001b[0m\u001b[0mloss\u001b[0m\u001b[0;34m=\u001b[0m\u001b[0;34m'binary_crossentropy'\u001b[0m\u001b[0;34m,\u001b[0m \u001b[0moptimizer\u001b[0m\u001b[0;34m=\u001b[0m\u001b[0mtf\u001b[0m\u001b[0;34m.\u001b[0m\u001b[0mkeras\u001b[0m\u001b[0;34m.\u001b[0m\u001b[0moptimizers\u001b[0m\u001b[0;34m.\u001b[0m\u001b[0mAdam\u001b[0m\u001b[0;34m(\u001b[0m\u001b[0;34m)\u001b[0m\u001b[0;34m,\u001b[0m \u001b[0mmetrics\u001b[0m\u001b[0;34m=\u001b[0m\u001b[0;34m[\u001b[0m\u001b[0;34m'accuracy'\u001b[0m\u001b[0;34m]\u001b[0m\u001b[0;34m)\u001b[0m\u001b[0;34m\u001b[0m\u001b[0;34m\u001b[0m\u001b[0m\n\u001b[1;32m     13\u001b[0m \u001b[0;34m\u001b[0m\u001b[0m\n\u001b[0;32m---> 14\u001b[0;31m \u001b[0mhistor_1\u001b[0m\u001b[0;34m=\u001b[0m\u001b[0mmodel_1\u001b[0m\u001b[0;34m.\u001b[0m\u001b[0mfit\u001b[0m\u001b[0;34m(\u001b[0m\u001b[0mtrain_data\u001b[0m\u001b[0;34m,\u001b[0m \u001b[0mepochs\u001b[0m\u001b[0;34m=\u001b[0m\u001b[0;36m5\u001b[0m\u001b[0;34m,\u001b[0m \u001b[0msteps_per_epoch\u001b[0m\u001b[0;34m=\u001b[0m\u001b[0mlen\u001b[0m\u001b[0;34m(\u001b[0m\u001b[0mtrain_data\u001b[0m\u001b[0;34m)\u001b[0m\u001b[0;34m,\u001b[0m \u001b[0mvalidation_data\u001b[0m\u001b[0;34m=\u001b[0m\u001b[0mvalid_data\u001b[0m\u001b[0;34m,\u001b[0m \u001b[0mvalidation_steps\u001b[0m\u001b[0;34m=\u001b[0m\u001b[0mlen\u001b[0m\u001b[0;34m(\u001b[0m\u001b[0mvalid_data\u001b[0m\u001b[0;34m)\u001b[0m\u001b[0;34m)\u001b[0m\u001b[0;34m\u001b[0m\u001b[0;34m\u001b[0m\u001b[0m\n\u001b[0m",
            "\u001b[0;32m/usr/local/lib/python3.9/dist-packages/keras/utils/traceback_utils.py\u001b[0m in \u001b[0;36merror_handler\u001b[0;34m(*args, **kwargs)\u001b[0m\n\u001b[1;32m     63\u001b[0m         \u001b[0mfiltered_tb\u001b[0m \u001b[0;34m=\u001b[0m \u001b[0;32mNone\u001b[0m\u001b[0;34m\u001b[0m\u001b[0;34m\u001b[0m\u001b[0m\n\u001b[1;32m     64\u001b[0m         \u001b[0;32mtry\u001b[0m\u001b[0;34m:\u001b[0m\u001b[0;34m\u001b[0m\u001b[0;34m\u001b[0m\u001b[0m\n\u001b[0;32m---> 65\u001b[0;31m             \u001b[0;32mreturn\u001b[0m \u001b[0mfn\u001b[0m\u001b[0;34m(\u001b[0m\u001b[0;34m*\u001b[0m\u001b[0margs\u001b[0m\u001b[0;34m,\u001b[0m \u001b[0;34m**\u001b[0m\u001b[0mkwargs\u001b[0m\u001b[0;34m)\u001b[0m\u001b[0;34m\u001b[0m\u001b[0;34m\u001b[0m\u001b[0m\n\u001b[0m\u001b[1;32m     66\u001b[0m         \u001b[0;32mexcept\u001b[0m \u001b[0mException\u001b[0m \u001b[0;32mas\u001b[0m \u001b[0me\u001b[0m\u001b[0;34m:\u001b[0m\u001b[0;34m\u001b[0m\u001b[0;34m\u001b[0m\u001b[0m\n\u001b[1;32m     67\u001b[0m             \u001b[0mfiltered_tb\u001b[0m \u001b[0;34m=\u001b[0m \u001b[0m_process_traceback_frames\u001b[0m\u001b[0;34m(\u001b[0m\u001b[0me\u001b[0m\u001b[0;34m.\u001b[0m\u001b[0m__traceback__\u001b[0m\u001b[0;34m)\u001b[0m\u001b[0;34m\u001b[0m\u001b[0;34m\u001b[0m\u001b[0m\n",
            "\u001b[0;32m/usr/local/lib/python3.9/dist-packages/keras/engine/training.py\u001b[0m in \u001b[0;36mfit\u001b[0;34m(self, x, y, batch_size, epochs, verbose, callbacks, validation_split, validation_data, shuffle, class_weight, sample_weight, initial_epoch, steps_per_epoch, validation_steps, validation_batch_size, validation_freq, max_queue_size, workers, use_multiprocessing)\u001b[0m\n\u001b[1;32m   1671\u001b[0m             \u001b[0mlogs\u001b[0m \u001b[0;34m=\u001b[0m \u001b[0;32mNone\u001b[0m\u001b[0;34m\u001b[0m\u001b[0;34m\u001b[0m\u001b[0m\n\u001b[1;32m   1672\u001b[0m             \u001b[0;32mfor\u001b[0m \u001b[0mepoch\u001b[0m\u001b[0;34m,\u001b[0m \u001b[0miterator\u001b[0m \u001b[0;32min\u001b[0m \u001b[0mdata_handler\u001b[0m\u001b[0;34m.\u001b[0m\u001b[0menumerate_epochs\u001b[0m\u001b[0;34m(\u001b[0m\u001b[0;34m)\u001b[0m\u001b[0;34m:\u001b[0m\u001b[0;34m\u001b[0m\u001b[0;34m\u001b[0m\u001b[0m\n\u001b[0;32m-> 1673\u001b[0;31m                 \u001b[0mself\u001b[0m\u001b[0;34m.\u001b[0m\u001b[0mreset_metrics\u001b[0m\u001b[0;34m(\u001b[0m\u001b[0;34m)\u001b[0m\u001b[0;34m\u001b[0m\u001b[0;34m\u001b[0m\u001b[0m\n\u001b[0m\u001b[1;32m   1674\u001b[0m                 \u001b[0mcallbacks\u001b[0m\u001b[0;34m.\u001b[0m\u001b[0mon_epoch_begin\u001b[0m\u001b[0;34m(\u001b[0m\u001b[0mepoch\u001b[0m\u001b[0;34m)\u001b[0m\u001b[0;34m\u001b[0m\u001b[0;34m\u001b[0m\u001b[0m\n\u001b[1;32m   1675\u001b[0m                 \u001b[0;32mwith\u001b[0m \u001b[0mdata_handler\u001b[0m\u001b[0;34m.\u001b[0m\u001b[0mcatch_stop_iteration\u001b[0m\u001b[0;34m(\u001b[0m\u001b[0;34m)\u001b[0m\u001b[0;34m:\u001b[0m\u001b[0;34m\u001b[0m\u001b[0;34m\u001b[0m\u001b[0m\n",
            "\u001b[0;31mKeyboardInterrupt\u001b[0m: "
          ]
        }
      ],
      "source": [
        "model_1 = tf.keras.models.Sequential([\n",
        "    tf.keras.layers.Conv2D(filters =10, kernel_size=3, activation='relu', input_shape=(224,224,3)),\n",
        "    tf.keras.layers.Conv2D(10, 3, activation='relu'),\n",
        "    tf.keras.layers.MaxPool2D(pool_size=2, padding='valid'),\n",
        "    tf.keras.layers.Conv2D(10, 3, activation='relu'),\n",
        "    tf.keras.layers.Conv2D(10, 3, activation='relu'),\n",
        "    tf.keras.layers.MaxPool2D(pool_size=2, padding='valid'),\n",
        "    tf.keras.layers.Flatten(),\n",
        "    tf.keras.layers.Dense(1, activation='sigmoid')  \n",
        "])\n",
        "\n",
        "model_1.compile(loss='binary_crossentropy', optimizer=tf.keras.optimizers.Adam(), metrics=['accuracy'])\n",
        "\n",
        "histor_1=model_1.fit(train_data, epochs=5, steps_per_epoch=len(train_data), validation_data=valid_data, validation_steps=len(valid_data))\n"
      ]
    },
    {
      "cell_type": "code",
      "execution_count": null,
      "metadata": {
        "colab": {
          "background_save": true
        },
        "id": "mFm60eLHAXuL"
      },
      "outputs": [],
      "source": [
        "model_1.evaluate(valid_data)"
      ]
    },
    {
      "cell_type": "code",
      "execution_count": null,
      "metadata": {
        "colab": {
          "background_save": true
        },
        "id": "La6ptCDZAbBm"
      },
      "outputs": [],
      "source": [
        "tf.random.set_seed(42)\n",
        "\n",
        "model_2 = tf.keras.Sequential([\n",
        "    tf.keras.layers.Flatten(input_shape=(224,224,3)),\n",
        "    tf.keras.layers.Dense(4, activation='relu'),\n",
        "    tf.keras.layers.Dense(4, activation='relu'),\n",
        "    tf.keras.layers.Dense(1, activation='sigmoid')\n",
        "])\n",
        "\n",
        "model_2.compile(loss='binary_crossentropy', optimizer=tf.keras.optimizers.Adam(), metrics=['accuracy'])\n",
        "history_2 = model_2.fit(train_data, epochs=5, steps_per_epoch=len(train_data), validation_data=valid_data, validation_steps=len(valid_data))\n"
      ]
    },
    {
      "cell_type": "code",
      "execution_count": null,
      "metadata": {
        "colab": {
          "background_save": true
        },
        "id": "86EJMKvpUeFV"
      },
      "outputs": [],
      "source": [
        "model_2.summary()"
      ]
    },
    {
      "cell_type": "code",
      "execution_count": null,
      "metadata": {
        "colab": {
          "background_save": true
        },
        "id": "MOWAEKcFf-Vf"
      },
      "outputs": [],
      "source": [
        "tf.random.set_seed(42)\n",
        "\n",
        "model_3 = tf.keras.Sequential([\n",
        "    tf.keras.layers.Flatten(input_shape=(224,224,3)),\n",
        "    tf.keras.layers.Dense(100, activation='relu'),\n",
        "    tf.keras.layers.Dense(100, activation='relu'),\n",
        "    tf.keras.layers.Dense(100, activation='relu'),\n",
        "    tf.keras.layers.Dense(1, activation='sigmoid')\n",
        "])\n",
        "\n",
        "model_3.compile(loss='binary_crossentropy', optimizer=tf.keras.optimizers.Adam(), metrics=['accuracy'])\n",
        "history_3 = model_3.fit(train_data, epochs=5, steps_per_epoch=len(train_data), validation_data=valid_data, validation_steps=len(valid_data))\n"
      ]
    },
    {
      "cell_type": "code",
      "execution_count": null,
      "metadata": {
        "colab": {
          "background_save": true
        },
        "id": "g5Ozt-bvhLOp"
      },
      "outputs": [],
      "source": [
        "model_3.summary()"
      ]
    },
    {
      "cell_type": "code",
      "execution_count": null,
      "metadata": {
        "colab": {
          "background_save": true
        },
        "id": "Kak8rFTihpMs"
      },
      "outputs": [],
      "source": [
        "plt.figure()\n",
        "plt.subplot(1,2,1)\n",
        "steak_img = view_random_image('pizza_steak/train/', 'steak') \n",
        "plt.subplot(1,2,2)\n",
        "pizza_img = view_random_image('pizza_steak/train/', 'pizza')"
      ]
    },
    {
      "cell_type": "code",
      "execution_count": null,
      "metadata": {
        "colab": {
          "background_save": true
        },
        "id": "yu9odMn2m_pI"
      },
      "outputs": [],
      "source": [
        "train_dir = 'pizza_steak/train'\n",
        "test_dir = 'pizza_steak/test'"
      ]
    },
    {
      "cell_type": "markdown",
      "metadata": {
        "id": "GDpvHfConSak"
      },
      "source": [
        "## Batching"
      ]
    },
    {
      "cell_type": "code",
      "execution_count": null,
      "metadata": {
        "colab": {
          "background_save": true
        },
        "id": "F0kvwNNtnxtI"
      },
      "outputs": [],
      "source": [
        "train_datagen = ImageDataGenerator(rescale=1./255)\n",
        "test_datagen = ImageDataGenerator(rescale=1./255)\n",
        "\n",
        "train_data = train_datagen.flow_from_directory(directory=train_dir, batch_size=32, target_size=(224,224), class_mode ='binary', seed=42)\n",
        "test_data = train_datagen.flow_from_directory(directory=test_dir, batch_size=32, target_size=(224,224), class_mode ='binary', seed=42)"
      ]
    },
    {
      "cell_type": "code",
      "execution_count": null,
      "metadata": {
        "colab": {
          "background_save": true
        },
        "id": "KfXDy1j2syng"
      },
      "outputs": [],
      "source": [
        "images, labels = train_data.next()\n",
        "len(images), len(labels)"
      ]
    },
    {
      "cell_type": "code",
      "execution_count": null,
      "metadata": {
        "colab": {
          "background_save": true
        },
        "id": "XBvG0kBXtJqd"
      },
      "outputs": [],
      "source": [
        "images[:2], images[0].shape"
      ]
    },
    {
      "cell_type": "code",
      "execution_count": null,
      "metadata": {
        "colab": {
          "background_save": true
        },
        "id": "YlivSYjutM8C"
      },
      "outputs": [],
      "source": [
        "labels"
      ]
    },
    {
      "cell_type": "code",
      "execution_count": null,
      "metadata": {
        "colab": {
          "background_save": true
        },
        "id": "IC7iUxSktk51"
      },
      "outputs": [],
      "source": [
        "## Baseline CNN Model"
      ]
    },
    {
      "cell_type": "code",
      "execution_count": null,
      "metadata": {
        "colab": {
          "background_save": true
        },
        "id": "PRoaGbLHwqkV"
      },
      "outputs": [],
      "source": [
        "from tensorflow.keras.optimizers import Adam\n",
        "from tensorflow.keras.layers import Dense, Flatten, Conv2D, MaxPool2D, Activation\n",
        "from tensorflow.keras import Sequential"
      ]
    },
    {
      "cell_type": "code",
      "execution_count": null,
      "metadata": {
        "colab": {
          "background_save": true
        },
        "id": "nZRkPNe3xtP1"
      },
      "outputs": [],
      "source": [
        "model_4 = Sequential([\n",
        "    Conv2D(filters=10, kernel_size=3,strides=1,padding='valid',input_shape=(224,224,3),activation='relu'),\n",
        "    Conv2D(filters=10, kernel_size=3,activation='relu'),\n",
        "    Conv2D(filters=10, kernel_size=3,activation='relu'),\n",
        "    Flatten(),\n",
        "    Dense(1, activation='sigmoid')\n",
        "])\n",
        "\n",
        "\n",
        "model_4.compile(loss='binary_crossentropy', optimizer=tf.keras.optimizers.Adam(), metrics=['accuracy'])\n",
        "history_4 = model_4.fit(train_data, epochs=5, steps_per_epoch=len(train_data), validation_data=valid_data, validation_steps=len(test_data))"
      ]
    },
    {
      "cell_type": "code",
      "execution_count": null,
      "metadata": {
        "colab": {
          "background_save": true
        },
        "id": "d6WCopGCOVTW"
      },
      "outputs": [],
      "source": [
        "import pandas as pd\n",
        "\n",
        "pd.DataFrame(history_4.history).plot(figsize=(10,7));"
      ]
    },
    {
      "cell_type": "code",
      "execution_count": null,
      "metadata": {
        "id": "fqaBq5vVO0H3"
      },
      "outputs": [],
      "source": [
        "def plot_loss_curves(history):\n",
        "  '''\n",
        "  Returns seperate loss curves for training and validation metrics\n",
        "  '''\n",
        "\n",
        "  loss = history.history['loss']\n",
        "  accuracy = history.history['accuracy']\n",
        "  val_loss = history.history['val_loss']\n",
        "  val_accuracy = history.history['val_accuracy']\n",
        "\n",
        "  epochs=range(len(history.history['loss']))\n",
        "\n",
        "  plt.plot(epochs,loss, label='training_loss')\n",
        "  plt.plot(epochs,val_loss, label='val_loss')\n",
        "  plt.title('loss')\n",
        "  plt.xlabel('epochs')\n",
        "  plt.legend()\n",
        "\n",
        "  plt.figure()\n",
        "  plt.plot(epochs, accuracy, label='training_accuracy')\n",
        "  plt.plot(epochs,val_accuracy, label='val_accuracy')\n",
        "  plt.title('accuracy')\n",
        "  plt.xlabel('epochs')\n",
        "  plt.legend()\n"
      ]
    },
    {
      "cell_type": "code",
      "execution_count": null,
      "metadata": {
        "id": "pg3uh4A4PvSn"
      },
      "outputs": [],
      "source": [
        "plot_loss_curves(history_4)"
      ]
    },
    {
      "cell_type": "code",
      "execution_count": null,
      "metadata": {
        "id": "luHrx5_krBcI"
      },
      "outputs": [],
      "source": [
        "model_5 = Sequential([\n",
        "    Conv2D(filters=10, kernel_size=3,strides=1,padding='valid',input_shape=(224,224,3),activation='relu'),\n",
        "    MaxPool2D(pool_size=2),\n",
        "    Conv2D(filters=10, kernel_size=3,activation='relu'),\n",
        "    MaxPool2D(),\n",
        "    Conv2D(filters=10, kernel_size=3,activation='relu'),\n",
        "    MaxPool2D(),\n",
        "    Flatten(),\n",
        "    Dense(1, activation='sigmoid')\n",
        "])\n",
        "\n",
        "\n",
        "model_5.compile(loss='binary_crossentropy', optimizer=tf.keras.optimizers.Adam(), metrics=['accuracy'])\n",
        "history_5 = model_5.fit(train_data, epochs=5, steps_per_epoch=len(train_data), validation_data=valid_data, validation_steps=len(test_data))"
      ]
    },
    {
      "cell_type": "code",
      "execution_count": null,
      "metadata": {
        "id": "WH650JuuwSOA"
      },
      "outputs": [],
      "source": [
        "model_5.summary()"
      ]
    },
    {
      "cell_type": "code",
      "execution_count": null,
      "metadata": {
        "id": "k9rrH8udwTdL"
      },
      "outputs": [],
      "source": [
        "plot_loss_curves(history_5)"
      ]
    },
    {
      "cell_type": "markdown",
      "metadata": {
        "id": "lxJvLMuL6Chw"
      },
      "source": [
        "## Data augmentation"
      ]
    },
    {
      "cell_type": "code",
      "execution_count": null,
      "metadata": {
        "id": "9aFK7po56XsW"
      },
      "outputs": [],
      "source": [
        "train_datagen_augmented = ImageDataGenerator(rescale=1./255, rotation_range=0.2, shear_range=0.2, zoom_range=0.2, width_shift_range=0.2, height_shift_range=0.2, horizontal_flip=True)\n",
        "train_datagen = ImageDataGenerator(rescale=1./255)\n",
        "test_datagen = ImageDataGenerator(rescale=1./255)\n",
        "\n",
        "train_data_augmented = train_datagen_augmented.flow_from_directory(directory=train_dir, batch_size=32, target_size=(224,224), class_mode ='binary', shuffle=False)\n",
        "train_data= train_datagen.flow_from_directory(directory=train_dir, batch_size=32, target_size=(224,224), class_mode ='binary', shuffle=False)\n",
        "\n",
        "test_data = train_datagen.flow_from_directory(directory=test_dir, batch_size=32, target_size=(224,224), class_mode ='binary', seed=42)"
      ]
    },
    {
      "cell_type": "code",
      "execution_count": null,
      "metadata": {
        "id": "E40D5gB06t7t"
      },
      "outputs": [],
      "source": [
        "images, labels=train_data.next()\n",
        "augmented_images, augmented_labels = train_data_augmented.next()"
      ]
    },
    {
      "cell_type": "code",
      "execution_count": null,
      "metadata": {
        "id": "nYmnt4xf9hl1"
      },
      "outputs": [],
      "source": [
        "import random\n",
        "\n",
        "random_number = random.randint(0,31)\n",
        "plt.imshow(images[random_number])\n",
        "plt.title('Original Image')\n",
        "plt.axis(False)\n",
        "plt.figure();\n",
        "plt.imshow(augmented_images[random_number])\n",
        "plt.title('Augmented Image')\n",
        "plt.axis(False);\n",
        "\n",
        "\n"
      ]
    },
    {
      "cell_type": "code",
      "execution_count": null,
      "metadata": {
        "id": "hABxPc86_XRN"
      },
      "outputs": [],
      "source": [
        "model_6 = Sequential([\n",
        "    Conv2D(filters=10, kernel_size=3,strides=1,padding='valid',input_shape=(224,224,3),activation='relu'),\n",
        "    MaxPool2D(pool_size=2),\n",
        "    Conv2D(filters=10, kernel_size=3,activation='relu'),\n",
        "    MaxPool2D(),\n",
        "    Conv2D(filters=10, kernel_size=3,activation='relu'),\n",
        "    MaxPool2D(),\n",
        "    Flatten(),\n",
        "    Dense(1, activation='sigmoid')\n",
        "])\n",
        "\n",
        "\n",
        "model_6.compile(loss='binary_crossentropy', optimizer=tf.keras.optimizers.Adam(), metrics=['accuracy'])\n",
        "history_6 = model_6.fit(train_data_augmented, epochs=5, steps_per_epoch=len(train_data_augmented), validation_data=valid_data, validation_steps=len(test_data))"
      ]
    },
    {
      "cell_type": "code",
      "execution_count": null,
      "metadata": {
        "id": "JwN2GgVEA6ie"
      },
      "outputs": [],
      "source": [
        "train_data_augmented = train_datagen_augmented.flow_from_directory(directory=train_dir, batch_size=32, target_size=(224,224), class_mode ='binary')"
      ]
    },
    {
      "cell_type": "code",
      "execution_count": null,
      "metadata": {
        "id": "RPSnq5VaA8zm"
      },
      "outputs": [],
      "source": [
        "model_7 = Sequential([\n",
        "    Conv2D(filters=10, kernel_size=3,strides=1,padding='valid',input_shape=(224,224,3),activation='relu'),\n",
        "    MaxPool2D(pool_size=2),\n",
        "    Conv2D(filters=10, kernel_size=3,activation='relu'),\n",
        "    MaxPool2D(),\n",
        "    Conv2D(filters=10, kernel_size=3,activation='relu'),\n",
        "    MaxPool2D(),\n",
        "    Flatten(),\n",
        "    Dense(1, activation='sigmoid')\n",
        "])\n",
        "\n",
        "\n",
        "model_7.compile(loss='binary_crossentropy', optimizer=tf.keras.optimizers.Adam(), metrics=['accuracy'])\n",
        "history_7 = model_7.fit(train_data_augmented, epochs=5, steps_per_epoch=len(train_data_augmented), validation_data=valid_data, validation_steps=len(test_data))"
      ]
    },
    {
      "cell_type": "code",
      "execution_count": null,
      "metadata": {
        "id": "vKiSD9NgCRxS"
      },
      "outputs": [],
      "source": [
        "plot_loss_curves(history_7)"
      ]
    },
    {
      "cell_type": "code",
      "execution_count": null,
      "metadata": {
        "id": "-KHyNSobDqUM"
      },
      "outputs": [],
      "source": [
        "model_8 = Sequential([\n",
        "    Conv2D(filters=10, kernel_size=3,strides=1,padding='valid',input_shape=(224,224,3),activation='relu'),\n",
        "    MaxPool2D(pool_size=2),\n",
        "    Conv2D(filters=10, kernel_size=3,activation='relu'),\n",
        "    MaxPool2D(),\n",
        "    Conv2D(filters=10, kernel_size=3,activation='relu'),\n",
        "    MaxPool2D(),\n",
        "    Conv2D(filters=10, kernel_size=3,activation='relu'),\n",
        "    MaxPool2D(),\n",
        "    Conv2D(filters=10, kernel_size=3,activation='relu'),\n",
        "    MaxPool2D(),\n",
        "    Flatten(),\n",
        "    Dense(1, activation='sigmoid')\n",
        "])\n",
        "\n",
        "\n",
        "model_8.compile(loss='binary_crossentropy', optimizer=tf.keras.optimizers.Adam(), metrics=['accuracy'])\n",
        "history_8 = model_8.fit(train_data_augmented, epochs=5, steps_per_epoch=len(train_data_augmented), validation_data=valid_data, validation_steps=len(test_data))"
      ]
    }
  ],
  "metadata": {
    "colab": {
      "provenance": [],
      "authorship_tag": "ABX9TyNKT4X8r2Bunh+p496FrMWb",
      "include_colab_link": true
    },
    "gpuClass": "standard",
    "kernelspec": {
      "display_name": "Python 3",
      "name": "python3"
    },
    "language_info": {
      "name": "python"
    },
    "accelerator": "GPU"
  },
  "nbformat": 4,
  "nbformat_minor": 0
}