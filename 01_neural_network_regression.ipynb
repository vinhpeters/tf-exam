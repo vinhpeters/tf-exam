{
 "cells": [
  {
   "cell_type": "markdown",
   "metadata": {
    "colab_type": "text",
    "id": "view-in-github"
   },
   "source": [
    "<a href=\"https://colab.research.google.com/github/vinhpeters/tf-exam/blob/main/01_neural_network_regression.ipynb\" target=\"_parent\"><img src=\"https://colab.research.google.com/assets/colab-badge.svg\" alt=\"Open In Colab\"/></a>"
   ]
  },
  {
   "cell_type": "markdown",
   "metadata": {
    "id": "Tyf8grB7OePp"
   },
   "source": [
    "# Intro to regression "
   ]
  },
  {
   "cell_type": "code",
   "execution_count": 4,
   "metadata": {
    "id": "3j2Pv_VFTlhO"
   },
   "outputs": [],
   "source": [
    "import tensorflow as tf"
   ]
  },
  {
   "cell_type": "code",
   "execution_count": 5,
   "metadata": {},
   "outputs": [
    {
     "name": "stdout",
     "output_type": "stream",
     "text": [
      "Sat May 13 16:14:08 2023       \n",
      "+---------------------------------------------------------------------------------------+\n",
      "| NVIDIA-SMI 531.79                 Driver Version: 531.79       CUDA Version: 12.1     |\n",
      "|-----------------------------------------+----------------------+----------------------+\n",
      "| GPU  Name                      TCC/WDDM | Bus-Id        Disp.A | Volatile Uncorr. ECC |\n",
      "| Fan  Temp  Perf            Pwr:Usage/Cap|         Memory-Usage | GPU-Util  Compute M. |\n",
      "|                                         |                      |               MIG M. |\n",
      "|=========================================+======================+======================|\n",
      "|   0  NVIDIA GeForce RTX 2060       WDDM | 00000000:01:00.0  On |                  N/A |\n",
      "| N/A   54C    P8                8W /  N/A|    647MiB /  6144MiB |      2%      Default |\n",
      "|                                         |                      |                  N/A |\n",
      "+-----------------------------------------+----------------------+----------------------+\n",
      "                                                                                         \n",
      "+---------------------------------------------------------------------------------------+\n",
      "| Processes:                                                                            |\n",
      "|  GPU   GI   CI        PID   Type   Process name                            GPU Memory |\n",
      "|        ID   ID                                                             Usage      |\n",
      "|=======================================================================================|\n",
      "|    0   N/A  N/A      2460    C+G   ...ekyb3d8bbwe\\PhoneExperienceHost.exe    N/A      |\n",
      "|    0   N/A  N/A     11276    C+G   C:\\Windows\\explorer.exe                   N/A      |\n",
      "|    0   N/A  N/A     11356    C+G   ...tionsPlus\\logioptionsplus_agent.exe    N/A      |\n",
      "|    0   N/A  N/A     12800    C+G   ...nt.CBS_cw5n1h2txyewy\\SearchHost.exe    N/A      |\n",
      "|    0   N/A  N/A     12824    C+G   ...2txyewy\\StartMenuExperienceHost.exe    N/A      |\n",
      "|    0   N/A  N/A     15052    C+G   ...siveControlPanel\\SystemSettings.exe    N/A      |\n",
      "|    0   N/A  N/A     16096    C+G   ....5.46.0_x64__htrsf667h5kn2\\AWCC.exe    N/A      |\n",
      "|    0   N/A  N/A     16368    C+G   ...Programs\\Microsoft VS Code\\Code.exe    N/A      |\n",
      "|    0   N/A  N/A     17692    C+G   ...cal\\Microsoft\\OneDrive\\OneDrive.exe    N/A      |\n",
      "|    0   N/A  N/A     18284    C+G   ...oogle\\Chrome\\Application\\chrome.exe    N/A      |\n",
      "|    0   N/A  N/A     19288    C+G   ...60.0_x86__zpdnekdrzrea0\\Spotify.exe    N/A      |\n",
      "|    0   N/A  N/A     19704    C+G   ...\\Local\\slack\\app-4.32.122\\slack.exe    N/A      |\n",
      "+---------------------------------------------------------------------------------------+\n"
     ]
    }
   ],
   "source": [
    "!nvidia-smi"
   ]
  },
  {
   "cell_type": "code",
   "execution_count": 9,
   "metadata": {
    "colab": {
     "base_uri": "https://localhost:8080/"
    },
    "id": "KSBOZOzST2MK",
    "outputId": "149f908b-fbd6-4919-b254-6d091ffb16ba"
   },
   "outputs": [
    {
     "name": "stdout",
     "output_type": "stream",
     "text": [
      "2.10.1\n",
      "[PhysicalDevice(name='/physical_device:CPU:0', device_type='CPU'), PhysicalDevice(name='/physical_device:GPU:0', device_type='GPU')]\n"
     ]
    }
   ],
   "source": [
    "print(tf.__version__)\n",
    "print(tf.config.list_physical_devices())"
   ]
  },
  {
   "cell_type": "markdown",
   "metadata": {
    "id": "_Gkm8YAwT5wM"
   },
   "source": [
    "## Get some data"
   ]
  },
  {
   "cell_type": "code",
   "execution_count": 8,
   "metadata": {
    "colab": {
     "base_uri": "https://localhost:8080/",
     "height": 452
    },
    "id": "QSsBkKyfT9PA",
    "outputId": "6ed3265b-e6cd-419c-fc4f-b7bf82955045"
   },
   "outputs": [
    {
     "data": {
      "text/plain": [
       "<matplotlib.collections.PathCollection at 0x21a7d2bb100>"
      ]
     },
     "execution_count": 8,
     "metadata": {},
     "output_type": "execute_result"
    },
    {
     "data": {
      "image/png": "[encoded data removed]",
      "text/plain": [
       "<Figure size 640x480 with 1 Axes>"
      ]
     },
     "metadata": {},
     "output_type": "display_data"
    }
   ],
   "source": [
    "import numpy as np\n",
    "import matplotlib.pyplot as plt\n",
    "\n",
    "X = np.array([-7.,-4.,-1.,2.,5.,8.,11.,14.])\n",
    "y = np.array([3.,6.,9.,12.,15.,18.,21.,24.])\n",
    "plt.scatter(X,y)"
   ]
  },
  {
   "cell_type": "code",
   "execution_count": 9,
   "metadata": {
    "colab": {
     "base_uri": "https://localhost:8080/"
    },
    "id": "2XldZfzvUVc7",
    "outputId": "4e5e79ee-017d-41a7-8b39-95db9acc554e"
   },
   "outputs": [
    {
     "data": {
      "text/plain": [
       "array([ 3.,  6.,  9., 12., 15., 18., 21., 24.])"
      ]
     },
     "execution_count": 9,
     "metadata": {},
     "output_type": "execute_result"
    }
   ],
   "source": [
    "X +10"
   ]
  },
  {
   "cell_type": "markdown",
   "metadata": {
    "id": "Yg9LMFLSUgmw"
   },
   "source": [
    "## Input and output shapes"
   ]
  },
  {
   "cell_type": "code",
   "execution_count": 10,
   "metadata": {
    "id": "NmxMhlXcUrj4"
   },
   "outputs": [],
   "source": [
    "# Demo tensor\n",
    "house_info= tf.constant(['bedroom','bathroom','garage'])\n",
    "house_price = tf.constant([939700])"
   ]
  },
  {
   "cell_type": "code",
   "execution_count": 11,
   "metadata": {
    "id": "fP8qaD07VCeD"
   },
   "outputs": [],
   "source": [
    "input_shape = X[0].shape"
   ]
  },
  {
   "cell_type": "code",
   "execution_count": 12,
   "metadata": {
    "id": "QN4PiJZmVFq-"
   },
   "outputs": [],
   "source": [
    "output_shape = y[0].shape"
   ]
  },
  {
   "cell_type": "code",
   "execution_count": 13,
   "metadata": {
    "colab": {
     "base_uri": "https://localhost:8080/"
    },
    "id": "6Z-7w5DLVHe4",
    "outputId": "1f56a784-2782-48f7-d85c-734bb2445471"
   },
   "outputs": [
    {
     "data": {
      "text/plain": [
       "((), ())"
      ]
     },
     "execution_count": 13,
     "metadata": {},
     "output_type": "execute_result"
    }
   ],
   "source": [
    "input_shape, output_shape"
   ]
  },
  {
   "cell_type": "code",
   "execution_count": 14,
   "metadata": {
    "colab": {
     "base_uri": "https://localhost:8080/"
    },
    "id": "rrzKGqfdVMAx",
    "outputId": "a67db1f4-0b74-4ec2-b394-6028b933e252"
   },
   "outputs": [
    {
     "data": {
      "text/plain": [
       "(-7.0, 3.0)"
      ]
     },
     "execution_count": 14,
     "metadata": {},
     "output_type": "execute_result"
    }
   ],
   "source": [
    "X[0], y[0]"
   ]
  },
  {
   "cell_type": "code",
   "execution_count": 15,
   "metadata": {
    "colab": {
     "base_uri": "https://localhost:8080/"
    },
    "id": "RSNW-34wVOg_",
    "outputId": "dcdda0a4-3186-456b-97c3-66564158204b"
   },
   "outputs": [
    {
     "data": {
      "text/plain": [
       "0"
      ]
     },
     "execution_count": 15,
     "metadata": {},
     "output_type": "execute_result"
    }
   ],
   "source": [
    "X[0].ndim"
   ]
  },
  {
   "cell_type": "code",
   "execution_count": 16,
   "metadata": {
    "colab": {
     "base_uri": "https://localhost:8080/"
    },
    "id": "GBfYfr0IVeEu",
    "outputId": "e983d6df-3dc0-455e-b473-a87eb9cb8507"
   },
   "outputs": [
    {
     "data": {
      "text/plain": [
       "(<tf.Tensor: shape=(8,), dtype=float32, numpy=array([-7., -4., -1.,  2.,  5.,  8., 11., 14.], dtype=float32)>,\n",
       " <tf.Tensor: shape=(8,), dtype=float32, numpy=array([ 3.,  6.,  9., 12., 15., 18., 21., 24.], dtype=float32)>)"
      ]
     },
     "execution_count": 16,
     "metadata": {},
     "output_type": "execute_result"
    }
   ],
   "source": [
    "X = tf.cast(tf.constant(X), dtype=tf.float32)\n",
    "y = tf.cast(tf.constant(y), dtype=tf.float32)\n",
    "\n",
    "X,y"
   ]
  },
  {
   "cell_type": "code",
   "execution_count": 17,
   "metadata": {
    "colab": {
     "base_uri": "https://localhost:8080/"
    },
    "id": "9NUWwCgcV66W",
    "outputId": "04b2cdbd-d327-46fc-9fa0-5da58979d8f8"
   },
   "outputs": [
    {
     "data": {
      "text/plain": [
       "TensorShape([])"
      ]
     },
     "execution_count": 17,
     "metadata": {},
     "output_type": "execute_result"
    }
   ],
   "source": [
    "X[0].shape"
   ]
  },
  {
   "cell_type": "markdown",
   "metadata": {
    "id": "tObywZiyWBfD"
   },
   "source": [
    "## Steps in modelling with Tensorflow"
   ]
  },
  {
   "cell_type": "code",
   "execution_count": 18,
   "metadata": {
    "id": "6869GSRrWOXT"
   },
   "outputs": [],
   "source": [
    "tf.random.set_seed(42)\n",
    "model = tf.keras.Sequential()\n",
    "model.add(tf.keras.layers.Dense(1))\n"
   ]
  },
  {
   "cell_type": "code",
   "execution_count": 19,
   "metadata": {
    "id": "7sK6T--TXEQi"
   },
   "outputs": [],
   "source": [
    "model.compile(loss=tf.keras.losses.mae, optimizer=tf.keras.optimizers.SGD(), metrics=['mae'])"
   ]
  },
  {
   "cell_type": "code",
   "execution_count": 20,
   "metadata": {
    "colab": {
     "base_uri": "https://localhost:8080/"
    },
    "id": "gzkk3DlvX3ec",
    "outputId": "c662aefe-0a71-4c75-b631-716f477337ee"
   },
   "outputs": [
    {
     "name": "stdout",
     "output_type": "stream",
     "text": [
      "Epoch 1/5\n",
      "1/1 [==============================] - 3s 3s/step - loss: 16.6465 - mae: 16.6465\n",
      "Epoch 2/5\n",
      "1/1 [==============================] - 0s 0s/step - loss: 16.3653 - mae: 16.3653\n",
      "Epoch 3/5\n",
      "1/1 [==============================] - 0s 11ms/step - loss: 16.0840 - mae: 16.0840\n",
      "Epoch 4/5\n",
      "1/1 [==============================] - 0s 4ms/step - loss: 15.8028 - mae: 15.8028\n",
      "Epoch 5/5\n",
      "1/1 [==============================] - 0s 4ms/step - loss: 15.5215 - mae: 15.5215\n"
     ]
    },
    {
     "data": {
      "text/plain": [
       "<keras.callbacks.History at 0x21a0d695a20>"
      ]
     },
     "execution_count": 20,
     "metadata": {},
     "output_type": "execute_result"
    }
   ],
   "source": [
    "model.fit(tf.expand_dims(X,axis=-1),y, epochs=5)"
   ]
  },
  {
   "cell_type": "code",
   "execution_count": 21,
   "metadata": {
    "colab": {
     "base_uri": "https://localhost:8080/"
    },
    "id": "5wFxpZv0ZP3a",
    "outputId": "e145293d-2273-4d21-8b19-51fbc2d72eab"
   },
   "outputs": [
    {
     "name": "stdout",
     "output_type": "stream",
     "text": [
      "1/1 [==============================] - 0s 80ms/step\n"
     ]
    },
    {
     "data": {
      "text/plain": [
       "array([[-8.1173525]], dtype=float32)"
      ]
     },
     "execution_count": 21,
     "metadata": {},
     "output_type": "execute_result"
    }
   ],
   "source": [
    "y_pred=model.predict([17.0])\n",
    "y_pred"
   ]
  },
  {
   "cell_type": "markdown",
   "metadata": {
    "id": "FbQ-rg8rZWbb"
   },
   "source": [
    " ## Improving the model"
   ]
  },
  {
   "cell_type": "code",
   "execution_count": 22,
   "metadata": {
    "id": "bbYpG2ggbU0W"
   },
   "outputs": [],
   "source": [
    "model = tf.keras.Sequential()\n",
    "model.add(tf.keras.layers.Dense(1))"
   ]
  },
  {
   "cell_type": "code",
   "execution_count": 23,
   "metadata": {
    "id": "byIHSbfAbUBi"
   },
   "outputs": [],
   "source": [
    "model.compile(loss=tf.keras.losses.mae, optimizer=tf.keras.optimizers.SGD(), metrics=['mae'])"
   ]
  },
  {
   "cell_type": "code",
   "execution_count": 24,
   "metadata": {
    "colab": {
     "base_uri": "https://localhost:8080/"
    },
    "id": "cTOYvPC7aUgn",
    "outputId": "6a4c7532-701b-44df-cb8b-79a8df42114b"
   },
   "outputs": [
    {
     "name": "stdout",
     "output_type": "stream",
     "text": [
      "Epoch 1/100\n",
      "1/1 [==============================] - 0s 235ms/step - loss: 10.1415 - mae: 10.1415\n",
      "Epoch 2/100\n",
      "1/1 [==============================] - 0s 4ms/step - loss: 10.0090 - mae: 10.0090\n",
      "Epoch 3/100\n",
      "1/1 [==============================] - 0s 4ms/step - loss: 9.8765 - mae: 9.8765\n",
      "Epoch 4/100\n",
      "1/1 [==============================] - 0s 3ms/step - loss: 9.7440 - mae: 9.7440\n",
      "Epoch 5/100\n",
      "1/1 [==============================] - 0s 4ms/step - loss: 9.6115 - mae: 9.6115\n",
      "Epoch 6/100\n",
      "1/1 [==============================] - 0s 4ms/step - loss: 9.4790 - mae: 9.4790\n",
      "Epoch 7/100\n",
      "1/1 [==============================] - 0s 3ms/step - loss: 9.3465 - mae: 9.3465\n",
      "Epoch 8/100\n",
      "1/1 [==============================] - 0s 5ms/step - loss: 9.2140 - mae: 9.2140\n",
      "Epoch 9/100\n",
      "1/1 [==============================] - 0s 4ms/step - loss: 9.0815 - mae: 9.0815\n",
      "Epoch 10/100\n",
      "1/1 [==============================] - 0s 3ms/step - loss: 8.9490 - mae: 8.9490\n",
      "Epoch 11/100\n",
      "1/1 [==============================] - 0s 4ms/step - loss: 8.8165 - mae: 8.8165\n",
      "Epoch 12/100\n",
      "1/1 [==============================] - 0s 5ms/step - loss: 8.6840 - mae: 8.6840\n",
      "Epoch 13/100\n",
      "1/1 [==============================] - 0s 5ms/step - loss: 8.5515 - mae: 8.5515\n",
      "Epoch 14/100\n",
      "1/1 [==============================] - 0s 4ms/step - loss: 8.4190 - mae: 8.4190\n",
      "Epoch 15/100\n",
      "1/1 [==============================] - 0s 4ms/step - loss: 8.2865 - mae: 8.2865\n",
      "Epoch 16/100\n",
      "1/1 [==============================] - 0s 4ms/step - loss: 8.1540 - mae: 8.1540\n",
      "Epoch 17/100\n",
      "1/1 [==============================] - 0s 4ms/step - loss: 8.0215 - mae: 8.0215\n",
      "Epoch 18/100\n",
      "1/1 [==============================] - 0s 4ms/step - loss: 7.8890 - mae: 7.8890\n",
      "Epoch 19/100\n",
      "1/1 [==============================] - 0s 4ms/step - loss: 7.7565 - mae: 7.7565\n",
      "Epoch 20/100\n",
      "1/1 [==============================] - 0s 4ms/step - loss: 7.6240 - mae: 7.6240\n",
      "Epoch 21/100\n",
      "1/1 [==============================] - 0s 4ms/step - loss: 7.4915 - mae: 7.4915\n",
      "Epoch 22/100\n",
      "1/1 [==============================] - 0s 4ms/step - loss: 7.3590 - mae: 7.3590\n",
      "Epoch 23/100\n",
      "1/1 [==============================] - 0s 5ms/step - loss: 7.3350 - mae: 7.3350\n",
      "Epoch 24/100\n",
      "1/1 [==============================] - 0s 3ms/step - loss: 7.3294 - mae: 7.3294\n",
      "Epoch 25/100\n",
      "1/1 [==============================] - 0s 3ms/step - loss: 7.3238 - mae: 7.3238\n",
      "Epoch 26/100\n",
      "1/1 [==============================] - 0s 4ms/step - loss: 7.3181 - mae: 7.3181\n",
      "Epoch 27/100\n",
      "1/1 [==============================] - 0s 3ms/step - loss: 7.3125 - mae: 7.3125\n",
      "Epoch 28/100\n",
      "1/1 [==============================] - 0s 4ms/step - loss: 7.3069 - mae: 7.3069\n",
      "Epoch 29/100\n",
      "1/1 [==============================] - 0s 4ms/step - loss: 7.3013 - mae: 7.3013\n",
      "Epoch 30/100\n",
      "1/1 [==============================] - 0s 4ms/step - loss: 7.2956 - mae: 7.2956\n",
      "Epoch 31/100\n",
      "1/1 [==============================] - 0s 3ms/step - loss: 7.2900 - mae: 7.2900\n",
      "Epoch 32/100\n",
      "1/1 [==============================] - 0s 5ms/step - loss: 7.2844 - mae: 7.2844\n",
      "Epoch 33/100\n",
      "1/1 [==============================] - 0s 5ms/step - loss: 7.2788 - mae: 7.2788\n",
      "Epoch 34/100\n",
      "1/1 [==============================] - 0s 3ms/step - loss: 7.2731 - mae: 7.2731\n",
      "Epoch 35/100\n",
      "1/1 [==============================] - 0s 4ms/step - loss: 7.2675 - mae: 7.2675\n",
      "Epoch 36/100\n",
      "1/1 [==============================] - 0s 5ms/step - loss: 7.2619 - mae: 7.2619\n",
      "Epoch 37/100\n",
      "1/1 [==============================] - 0s 4ms/step - loss: 7.2563 - mae: 7.2563\n",
      "Epoch 38/100\n",
      "1/1 [==============================] - 0s 5ms/step - loss: 7.2506 - mae: 7.2506\n",
      "Epoch 39/100\n",
      "1/1 [==============================] - 0s 4ms/step - loss: 7.2450 - mae: 7.2450\n",
      "Epoch 40/100\n",
      "1/1 [==============================] - 0s 4ms/step - loss: 7.2394 - mae: 7.2394\n",
      "Epoch 41/100\n",
      "1/1 [==============================] - 0s 4ms/step - loss: 7.2338 - mae: 7.2338\n",
      "Epoch 42/100\n",
      "1/1 [==============================] - 0s 5ms/step - loss: 7.2281 - mae: 7.2281\n",
      "Epoch 43/100\n",
      "1/1 [==============================] - 0s 5ms/step - loss: 7.2225 - mae: 7.2225\n",
      "Epoch 44/100\n",
      "1/1 [==============================] - 0s 3ms/step - loss: 7.2169 - mae: 7.2169\n",
      "Epoch 45/100\n",
      "1/1 [==============================] - 0s 4ms/step - loss: 7.2113 - mae: 7.2113\n",
      "Epoch 46/100\n",
      "1/1 [==============================] - 0s 4ms/step - loss: 7.2056 - mae: 7.2056\n",
      "Epoch 47/100\n",
      "1/1 [==============================] - 0s 3ms/step - loss: 7.2000 - mae: 7.2000\n",
      "Epoch 48/100\n",
      "1/1 [==============================] - 0s 5ms/step - loss: 7.1944 - mae: 7.1944\n",
      "Epoch 49/100\n",
      "1/1 [==============================] - 0s 4ms/step - loss: 7.1887 - mae: 7.1887\n",
      "Epoch 50/100\n",
      "1/1 [==============================] - 0s 4ms/step - loss: 7.1831 - mae: 7.1831\n",
      "Epoch 51/100\n",
      "1/1 [==============================] - 0s 4ms/step - loss: 7.1775 - mae: 7.1775\n",
      "Epoch 52/100\n",
      "1/1 [==============================] - 0s 4ms/step - loss: 7.1719 - mae: 7.1719\n",
      "Epoch 53/100\n",
      "1/1 [==============================] - 0s 4ms/step - loss: 7.1663 - mae: 7.1663\n",
      "Epoch 54/100\n",
      "1/1 [==============================] - 0s 3ms/step - loss: 7.1606 - mae: 7.1606\n",
      "Epoch 55/100\n",
      "1/1 [==============================] - 0s 5ms/step - loss: 7.1550 - mae: 7.1550\n",
      "Epoch 56/100\n",
      "1/1 [==============================] - 0s 4ms/step - loss: 7.1494 - mae: 7.1494\n",
      "Epoch 57/100\n",
      "1/1 [==============================] - 0s 4ms/step - loss: 7.1438 - mae: 7.1438\n",
      "Epoch 58/100\n",
      "1/1 [==============================] - 0s 4ms/step - loss: 7.1381 - mae: 7.1381\n",
      "Epoch 59/100\n",
      "1/1 [==============================] - 0s 4ms/step - loss: 7.1325 - mae: 7.1325\n",
      "Epoch 60/100\n",
      "1/1 [==============================] - 0s 5ms/step - loss: 7.1269 - mae: 7.1269\n",
      "Epoch 61/100\n",
      "1/1 [==============================] - 0s 4ms/step - loss: 7.1213 - mae: 7.1213\n",
      "Epoch 62/100\n",
      "1/1 [==============================] - 0s 4ms/step - loss: 7.1156 - mae: 7.1156\n",
      "Epoch 63/100\n",
      "1/1 [==============================] - 0s 3ms/step - loss: 7.1100 - mae: 7.1100\n",
      "Epoch 64/100\n",
      "1/1 [==============================] - 0s 4ms/step - loss: 7.1044 - mae: 7.1044\n",
      "Epoch 65/100\n",
      "1/1 [==============================] - 0s 5ms/step - loss: 7.0988 - mae: 7.0988\n",
      "Epoch 66/100\n",
      "1/1 [==============================] - 0s 4ms/step - loss: 7.0931 - mae: 7.0931\n",
      "Epoch 67/100\n",
      "1/1 [==============================] - 0s 4ms/step - loss: 7.0875 - mae: 7.0875\n",
      "Epoch 68/100\n",
      "1/1 [==============================] - 0s 5ms/step - loss: 7.0819 - mae: 7.0819\n",
      "Epoch 69/100\n",
      "1/1 [==============================] - 0s 4ms/step - loss: 7.0763 - mae: 7.0763\n",
      "Epoch 70/100\n",
      "1/1 [==============================] - 0s 4ms/step - loss: 7.0706 - mae: 7.0706\n",
      "Epoch 71/100\n",
      "1/1 [==============================] - 0s 3ms/step - loss: 7.0650 - mae: 7.0650\n",
      "Epoch 72/100\n",
      "1/1 [==============================] - 0s 4ms/step - loss: 7.0594 - mae: 7.0594\n",
      "Epoch 73/100\n",
      "1/1 [==============================] - 0s 3ms/step - loss: 7.0538 - mae: 7.0538\n",
      "Epoch 74/100\n",
      "1/1 [==============================] - 0s 4ms/step - loss: 7.0481 - mae: 7.0481\n",
      "Epoch 75/100\n",
      "1/1 [==============================] - 0s 4ms/step - loss: 7.0425 - mae: 7.0425\n",
      "Epoch 76/100\n",
      "1/1 [==============================] - 0s 4ms/step - loss: 7.0369 - mae: 7.0369\n",
      "Epoch 77/100\n",
      "1/1 [==============================] - 0s 4ms/step - loss: 7.0312 - mae: 7.0312\n",
      "Epoch 78/100\n",
      "1/1 [==============================] - 0s 4ms/step - loss: 7.0256 - mae: 7.0256\n",
      "Epoch 79/100\n",
      "1/1 [==============================] - 0s 4ms/step - loss: 7.0200 - mae: 7.0200\n",
      "Epoch 80/100\n",
      "1/1 [==============================] - 0s 4ms/step - loss: 7.0144 - mae: 7.0144\n",
      "Epoch 81/100\n",
      "1/1 [==============================] - 0s 3ms/step - loss: 7.0087 - mae: 7.0087\n",
      "Epoch 82/100\n",
      "1/1 [==============================] - 0s 3ms/step - loss: 7.0031 - mae: 7.0031\n",
      "Epoch 83/100\n",
      "1/1 [==============================] - 0s 3ms/step - loss: 6.9975 - mae: 6.9975\n",
      "Epoch 84/100\n",
      "1/1 [==============================] - 0s 3ms/step - loss: 6.9919 - mae: 6.9919\n",
      "Epoch 85/100\n",
      "1/1 [==============================] - 0s 3ms/step - loss: 6.9863 - mae: 6.9863\n",
      "Epoch 86/100\n",
      "1/1 [==============================] - 0s 4ms/step - loss: 6.9806 - mae: 6.9806\n",
      "Epoch 87/100\n",
      "1/1 [==============================] - 0s 3ms/step - loss: 6.9750 - mae: 6.9750\n",
      "Epoch 88/100\n",
      "1/1 [==============================] - 0s 4ms/step - loss: 6.9694 - mae: 6.9694\n",
      "Epoch 89/100\n",
      "1/1 [==============================] - 0s 3ms/step - loss: 6.9638 - mae: 6.9638\n",
      "Epoch 90/100\n",
      "1/1 [==============================] - 0s 4ms/step - loss: 6.9581 - mae: 6.9581\n",
      "Epoch 91/100\n",
      "1/1 [==============================] - 0s 3ms/step - loss: 6.9525 - mae: 6.9525\n",
      "Epoch 92/100\n",
      "1/1 [==============================] - 0s 4ms/step - loss: 6.9469 - mae: 6.9469\n",
      "Epoch 93/100\n",
      "1/1 [==============================] - 0s 5ms/step - loss: 6.9413 - mae: 6.9413\n",
      "Epoch 94/100\n",
      "1/1 [==============================] - 0s 3ms/step - loss: 6.9356 - mae: 6.9356\n",
      "Epoch 95/100\n",
      "1/1 [==============================] - 0s 4ms/step - loss: 6.9300 - mae: 6.9300\n",
      "Epoch 96/100\n",
      "1/1 [==============================] - 0s 4ms/step - loss: 6.9244 - mae: 6.9244\n",
      "Epoch 97/100\n",
      "1/1 [==============================] - 0s 4ms/step - loss: 6.9188 - mae: 6.9188\n",
      "Epoch 98/100\n",
      "1/1 [==============================] - 0s 3ms/step - loss: 6.9131 - mae: 6.9131\n",
      "Epoch 99/100\n",
      "1/1 [==============================] - 0s 3ms/step - loss: 6.9075 - mae: 6.9075\n",
      "Epoch 100/100\n",
      "1/1 [==============================] - 0s 4ms/step - loss: 6.9019 - mae: 6.9019\n"
     ]
    },
    {
     "data": {
      "text/plain": [
       "<keras.callbacks.History at 0x21b8af44eb0>"
      ]
     },
     "execution_count": 24,
     "metadata": {},
     "output_type": "execute_result"
    }
   ],
   "source": [
    "model.fit(tf.expand_dims(X,axis=-1),y, epochs=100)"
   ]
  },
  {
   "cell_type": "code",
   "execution_count": 25,
   "metadata": {
    "colab": {
     "base_uri": "https://localhost:8080/"
    },
    "id": "HbFIiS9tb-9v",
    "outputId": "c50adc51-8556-4631-d722-7fa6647e91e2"
   },
   "outputs": [
    {
     "data": {
      "text/plain": [
       "(<tf.Tensor: shape=(8,), dtype=float32, numpy=array([-7., -4., -1.,  2.,  5.,  8., 11., 14.], dtype=float32)>,\n",
       " <tf.Tensor: shape=(8,), dtype=float32, numpy=array([ 3.,  6.,  9., 12., 15., 18., 21., 24.], dtype=float32)>)"
      ]
     },
     "execution_count": 25,
     "metadata": {},
     "output_type": "execute_result"
    }
   ],
   "source": [
    "X,y"
   ]
  },
  {
   "cell_type": "code",
   "execution_count": 26,
   "metadata": {
    "colab": {
     "base_uri": "https://localhost:8080/"
    },
    "id": "U_JhlQ4fcAR6",
    "outputId": "3a735db0-79be-4803-ed8c-4014e6dc8413"
   },
   "outputs": [
    {
     "name": "stdout",
     "output_type": "stream",
     "text": [
      "1/1 [==============================] - 0s 56ms/step\n"
     ]
    },
    {
     "data": {
      "text/plain": [
       "array([[30.207912]], dtype=float32)"
      ]
     },
     "execution_count": 26,
     "metadata": {},
     "output_type": "execute_result"
    }
   ],
   "source": [
    "model.predict([17.0])"
   ]
  },
  {
   "cell_type": "code",
   "execution_count": 27,
   "metadata": {
    "colab": {
     "base_uri": "https://localhost:8080/"
    },
    "id": "dAJ9RulmcDrN",
    "outputId": "89ab96e0-7452-49c0-da8c-227e7b8d040f"
   },
   "outputs": [
    {
     "name": "stdout",
     "output_type": "stream",
     "text": [
      "Epoch 1/100\n",
      "1/1 [==============================] - 0s 260ms/step - loss: 9.5264 - mae: 9.5264\n",
      "Epoch 2/100\n",
      "1/1 [==============================] - 0s 6ms/step - loss: 8.6264 - mae: 8.6264\n",
      "Epoch 3/100\n",
      "1/1 [==============================] - 0s 4ms/step - loss: 7.7264 - mae: 7.7264\n",
      "Epoch 4/100\n",
      "1/1 [==============================] - 0s 5ms/step - loss: 7.0500 - mae: 7.0500\n",
      "Epoch 5/100\n",
      "1/1 [==============================] - 0s 8ms/step - loss: 7.0744 - mae: 7.0744\n",
      "Epoch 6/100\n",
      "1/1 [==============================] - 0s 5ms/step - loss: 7.2027 - mae: 7.2027\n",
      "Epoch 7/100\n",
      "1/1 [==============================] - 0s 4ms/step - loss: 7.1785 - mae: 7.1785\n",
      "Epoch 8/100\n",
      "1/1 [==============================] - 0s 0s/step - loss: 7.0441 - mae: 7.0441\n",
      "Epoch 9/100\n",
      "1/1 [==============================] - 0s 3ms/step - loss: 6.8267 - mae: 6.8267\n",
      "Epoch 10/100\n",
      "1/1 [==============================] - 0s 11ms/step - loss: 6.5448 - mae: 6.5448\n",
      "Epoch 11/100\n",
      "1/1 [==============================] - 0s 5ms/step - loss: 6.2115 - mae: 6.2115\n",
      "Epoch 12/100\n",
      "1/1 [==============================] - 0s 7ms/step - loss: 5.9631 - mae: 5.9631\n",
      "Epoch 13/100\n",
      "1/1 [==============================] - 0s 5ms/step - loss: 5.8295 - mae: 5.8295\n",
      "Epoch 14/100\n",
      "1/1 [==============================] - 0s 4ms/step - loss: 5.8489 - mae: 5.8489\n",
      "Epoch 15/100\n",
      "1/1 [==============================] - 0s 4ms/step - loss: 5.7944 - mae: 5.7944\n",
      "Epoch 16/100\n",
      "1/1 [==============================] - 0s 4ms/step - loss: 5.6034 - mae: 5.6034\n",
      "Epoch 17/100\n",
      "1/1 [==============================] - 0s 0s/step - loss: 5.3009 - mae: 5.3009\n",
      "Epoch 18/100\n",
      "1/1 [==============================] - 0s 0s/step - loss: 5.1070 - mae: 5.1070\n",
      "Epoch 19/100\n",
      "1/1 [==============================] - 0s 5ms/step - loss: 4.9566 - mae: 4.9566\n",
      "Epoch 20/100\n",
      "1/1 [==============================] - 0s 0s/step - loss: 4.9635 - mae: 4.9635\n",
      "Epoch 21/100\n",
      "1/1 [==============================] - 0s 2ms/step - loss: 4.9136 - mae: 4.9136\n",
      "Epoch 22/100\n",
      "1/1 [==============================] - 0s 6ms/step - loss: 4.7978 - mae: 4.7978\n",
      "Epoch 23/100\n",
      "1/1 [==============================] - 0s 5ms/step - loss: 4.6244 - mae: 4.6244\n",
      "Epoch 24/100\n",
      "1/1 [==============================] - 0s 5ms/step - loss: 4.4004 - mae: 4.4004\n",
      "Epoch 25/100\n",
      "1/1 [==============================] - 0s 4ms/step - loss: 4.1318 - mae: 4.1318\n",
      "Epoch 26/100\n",
      "1/1 [==============================] - 0s 4ms/step - loss: 3.9742 - mae: 3.9742\n",
      "Epoch 27/100\n",
      "1/1 [==============================] - 0s 1ms/step - loss: 3.8791 - mae: 3.8791\n",
      "Epoch 28/100\n",
      "1/1 [==============================] - 0s 3ms/step - loss: 3.8202 - mae: 3.8202\n",
      "Epoch 29/100\n",
      "1/1 [==============================] - 0s 3ms/step - loss: 3.6456 - mae: 3.6456\n",
      "Epoch 30/100\n",
      "1/1 [==============================] - 0s 4ms/step - loss: 3.4058 - mae: 3.4058\n",
      "Epoch 31/100\n",
      "1/1 [==============================] - 0s 0s/step - loss: 3.2572 - mae: 3.2572\n",
      "Epoch 32/100\n",
      "1/1 [==============================] - 0s 4ms/step - loss: 3.1085 - mae: 3.1085\n",
      "Epoch 33/100\n",
      "1/1 [==============================] - 0s 4ms/step - loss: 3.0439 - mae: 3.0439\n",
      "Epoch 34/100\n",
      "1/1 [==============================] - 0s 3ms/step - loss: 2.9289 - mae: 2.9289\n",
      "Epoch 35/100\n",
      "1/1 [==============================] - 0s 5ms/step - loss: 2.7590 - mae: 2.7590\n",
      "Epoch 36/100\n",
      "1/1 [==============================] - 0s 9ms/step - loss: 2.5401 - mae: 2.5401\n",
      "Epoch 37/100\n",
      "1/1 [==============================] - 0s 5ms/step - loss: 2.3996 - mae: 2.3996\n",
      "Epoch 38/100\n",
      "1/1 [==============================] - 0s 4ms/step - loss: 2.3530 - mae: 2.3530\n",
      "Epoch 39/100\n",
      "1/1 [==============================] - 0s 4ms/step - loss: 2.2453 - mae: 2.2453\n",
      "Epoch 40/100\n",
      "1/1 [==============================] - 0s 7ms/step - loss: 2.0287 - mae: 2.0287\n",
      "Epoch 41/100\n",
      "1/1 [==============================] - 0s 5ms/step - loss: 1.8214 - mae: 1.8214\n",
      "Epoch 42/100\n",
      "1/1 [==============================] - 0s 5ms/step - loss: 1.7526 - mae: 1.7526\n",
      "Epoch 43/100\n",
      "1/1 [==============================] - 0s 0s/step - loss: 1.6683 - mae: 1.6683\n",
      "Epoch 44/100\n",
      "1/1 [==============================] - 0s 11ms/step - loss: 1.5276 - mae: 1.5276\n",
      "Epoch 45/100\n",
      "1/1 [==============================] - 0s 0s/step - loss: 1.3362 - mae: 1.3362\n",
      "Epoch 46/100\n",
      "1/1 [==============================] - 0s 11ms/step - loss: 1.1053 - mae: 1.1053\n",
      "Epoch 47/100\n",
      "1/1 [==============================] - 0s 3ms/step - loss: 0.9970 - mae: 0.9970\n",
      "Epoch 48/100\n",
      "1/1 [==============================] - 0s 5ms/step - loss: 0.8633 - mae: 0.8633\n",
      "Epoch 49/100\n",
      "1/1 [==============================] - 0s 5ms/step - loss: 0.6760 - mae: 0.6760\n",
      "Epoch 50/100\n",
      "1/1 [==============================] - 0s 4ms/step - loss: 0.6017 - mae: 0.6017\n",
      "Epoch 51/100\n",
      "1/1 [==============================] - 0s 4ms/step - loss: 0.4340 - mae: 0.4340\n",
      "Epoch 52/100\n",
      "1/1 [==============================] - 0s 3ms/step - loss: 0.2662 - mae: 0.2662\n",
      "Epoch 53/100\n",
      "1/1 [==============================] - 0s 3ms/step - loss: 0.1234 - mae: 0.1234\n",
      "Epoch 54/100\n",
      "1/1 [==============================] - 0s 5ms/step - loss: 0.1521 - mae: 0.1521\n",
      "Epoch 55/100\n",
      "1/1 [==============================] - 0s 4ms/step - loss: 0.1716 - mae: 0.1716\n",
      "Epoch 56/100\n",
      "1/1 [==============================] - 0s 4ms/step - loss: 0.3920 - mae: 0.3920\n",
      "Epoch 57/100\n",
      "1/1 [==============================] - 0s 4ms/step - loss: 0.4860 - mae: 0.4860\n",
      "Epoch 58/100\n",
      "1/1 [==============================] - 0s 0s/step - loss: 0.4245 - mae: 0.4245\n",
      "Epoch 59/100\n",
      "1/1 [==============================] - 0s 14ms/step - loss: 0.4995 - mae: 0.4995\n",
      "Epoch 60/100\n",
      "1/1 [==============================] - 0s 4ms/step - loss: 0.5601 - mae: 0.5601\n",
      "Epoch 61/100\n",
      "1/1 [==============================] - 0s 4ms/step - loss: 0.5048 - mae: 0.5048\n",
      "Epoch 62/100\n",
      "1/1 [==============================] - 0s 4ms/step - loss: 0.4808 - mae: 0.4808\n",
      "Epoch 63/100\n",
      "1/1 [==============================] - 0s 3ms/step - loss: 0.5350 - mae: 0.5350\n",
      "Epoch 64/100\n",
      "1/1 [==============================] - 0s 4ms/step - loss: 0.4398 - mae: 0.4398\n",
      "Epoch 65/100\n",
      "1/1 [==============================] - 0s 8ms/step - loss: 0.3975 - mae: 0.3975\n",
      "Epoch 66/100\n",
      "1/1 [==============================] - 0s 4ms/step - loss: 0.3992 - mae: 0.3992\n",
      "Epoch 67/100\n",
      "1/1 [==============================] - 0s 6ms/step - loss: 0.2940 - mae: 0.2940\n",
      "Epoch 68/100\n",
      "1/1 [==============================] - 0s 4ms/step - loss: 0.2072 - mae: 0.2072\n",
      "Epoch 69/100\n",
      "1/1 [==============================] - 0s 4ms/step - loss: 0.1606 - mae: 0.1606\n",
      "Epoch 70/100\n",
      "1/1 [==============================] - 0s 4ms/step - loss: 0.1108 - mae: 0.1108\n",
      "Epoch 71/100\n",
      "1/1 [==============================] - 0s 4ms/step - loss: 0.0858 - mae: 0.0858\n",
      "Epoch 72/100\n",
      "1/1 [==============================] - 0s 1ms/step - loss: 0.2060 - mae: 0.2060\n",
      "Epoch 73/100\n",
      "1/1 [==============================] - 0s 9ms/step - loss: 0.2678 - mae: 0.2678\n",
      "Epoch 74/100\n",
      "1/1 [==============================] - 0s 3ms/step - loss: 0.2213 - mae: 0.2213\n",
      "Epoch 75/100\n",
      "1/1 [==============================] - 0s 5ms/step - loss: 0.1743 - mae: 0.1743\n",
      "Epoch 76/100\n",
      "1/1 [==============================] - 0s 3ms/step - loss: 0.1819 - mae: 0.1819\n",
      "Epoch 77/100\n",
      "1/1 [==============================] - 0s 5ms/step - loss: 0.1377 - mae: 0.1377\n",
      "Epoch 78/100\n",
      "1/1 [==============================] - 0s 4ms/step - loss: 0.1237 - mae: 0.1237\n",
      "Epoch 79/100\n",
      "1/1 [==============================] - 0s 3ms/step - loss: 0.0656 - mae: 0.0656\n",
      "Epoch 80/100\n",
      "1/1 [==============================] - 0s 0s/step - loss: 0.0404 - mae: 0.0404\n",
      "Epoch 81/100\n",
      "1/1 [==============================] - 0s 0s/step - loss: 0.1219 - mae: 0.1219\n",
      "Epoch 82/100\n",
      "1/1 [==============================] - 0s 4ms/step - loss: 0.0947 - mae: 0.0947\n",
      "Epoch 83/100\n",
      "1/1 [==============================] - 0s 4ms/step - loss: 0.1951 - mae: 0.1951\n",
      "Epoch 84/100\n",
      "1/1 [==============================] - 0s 3ms/step - loss: 0.1615 - mae: 0.1615\n",
      "Epoch 85/100\n",
      "1/1 [==============================] - 0s 4ms/step - loss: 0.1143 - mae: 0.1143\n",
      "Epoch 86/100\n",
      "1/1 [==============================] - 0s 3ms/step - loss: 0.1267 - mae: 0.1267\n",
      "Epoch 87/100\n",
      "1/1 [==============================] - 0s 0s/step - loss: 0.0811 - mae: 0.0811\n",
      "Epoch 88/100\n",
      "1/1 [==============================] - 0s 11ms/step - loss: 0.0362 - mae: 0.0362\n",
      "Epoch 89/100\n",
      "1/1 [==============================] - 0s 4ms/step - loss: 0.2028 - mae: 0.2028\n",
      "Epoch 90/100\n",
      "1/1 [==============================] - 0s 5ms/step - loss: 0.1850 - mae: 0.1850\n",
      "Epoch 91/100\n",
      "1/1 [==============================] - 0s 3ms/step - loss: 0.0752 - mae: 0.0752\n",
      "Epoch 92/100\n",
      "1/1 [==============================] - 0s 4ms/step - loss: 0.1476 - mae: 0.1476\n",
      "Epoch 93/100\n",
      "1/1 [==============================] - 0s 4ms/step - loss: 0.0171 - mae: 0.0171\n",
      "Epoch 94/100\n",
      "1/1 [==============================] - 0s 8ms/step - loss: 0.2391 - mae: 0.2391\n",
      "Epoch 95/100\n",
      "1/1 [==============================] - 0s 0s/step - loss: 0.2547 - mae: 0.2547\n",
      "Epoch 96/100\n",
      "1/1 [==============================] - 0s 11ms/step - loss: 0.0941 - mae: 0.0941\n",
      "Epoch 97/100\n",
      "1/1 [==============================] - 0s 4ms/step - loss: 0.2638 - mae: 0.2638\n",
      "Epoch 98/100\n",
      "1/1 [==============================] - 0s 5ms/step - loss: 0.3219 - mae: 0.3219\n",
      "Epoch 99/100\n",
      "1/1 [==============================] - 0s 3ms/step - loss: 0.1623 - mae: 0.1623\n",
      "Epoch 100/100\n",
      "1/1 [==============================] - 0s 4ms/step - loss: 0.1881 - mae: 0.1881\n"
     ]
    },
    {
     "data": {
      "text/plain": [
       "<keras.callbacks.History at 0x21b8b0243a0>"
      ]
     },
     "execution_count": 27,
     "metadata": {},
     "output_type": "execute_result"
    }
   ],
   "source": [
    "model = tf.keras.Sequential()\n",
    "model.add(tf.keras.layers.Dense(1))\n",
    "model.compile(loss=tf.keras.losses.mae, optimizer=tf.keras.optimizers.Adam(learning_rate=0.2), metrics=['mae'])\n",
    "model.fit(tf.expand_dims(X,axis=-1),y, epochs=100)"
   ]
  },
  {
   "cell_type": "code",
   "execution_count": 28,
   "metadata": {
    "colab": {
     "base_uri": "https://localhost:8080/"
    },
    "id": "JZONudI6dtRT",
    "outputId": "3f6e8497-e8da-4514-a0f1-5c4b0f1dd7b1"
   },
   "outputs": [
    {
     "name": "stdout",
     "output_type": "stream",
     "text": [
      "1/1 [==============================] - 0s 56ms/step\n"
     ]
    },
    {
     "data": {
      "text/plain": [
       "array([[27.74136]], dtype=float32)"
      ]
     },
     "execution_count": 28,
     "metadata": {},
     "output_type": "execute_result"
    }
   ],
   "source": [
    "model.predict([17.0])"
   ]
  },
  {
   "cell_type": "code",
   "execution_count": 29,
   "metadata": {
    "colab": {
     "base_uri": "https://localhost:8080/"
    },
    "id": "MtUP0nE2cyAz",
    "outputId": "d6fa77df-3192-4ce6-a60b-dfa28449d47c"
   },
   "outputs": [
    {
     "name": "stdout",
     "output_type": "stream",
     "text": [
      "Epoch 1/100\n",
      "1/1 [==============================] - 0s 316ms/step - loss: 12.2293 - mae: 12.2293\n",
      "Epoch 2/100\n",
      "1/1 [==============================] - 0s 0s/step - loss: 11.4665 - mae: 11.4665\n",
      "Epoch 3/100\n",
      "1/1 [==============================] - 0s 13ms/step - loss: 10.6980 - mae: 10.6980\n",
      "Epoch 4/100\n",
      "1/1 [==============================] - 0s 5ms/step - loss: 9.9218 - mae: 9.9218\n",
      "Epoch 5/100\n",
      "1/1 [==============================] - 0s 6ms/step - loss: 9.1345 - mae: 9.1345\n",
      "Epoch 6/100\n",
      "1/1 [==============================] - 0s 4ms/step - loss: 8.3328 - mae: 8.3328\n",
      "Epoch 7/100\n",
      "1/1 [==============================] - 0s 4ms/step - loss: 7.5141 - mae: 7.5141\n",
      "Epoch 8/100\n",
      "1/1 [==============================] - 0s 5ms/step - loss: 6.8942 - mae: 6.8942\n",
      "Epoch 9/100\n",
      "1/1 [==============================] - 0s 5ms/step - loss: 7.0122 - mae: 7.0122\n",
      "Epoch 10/100\n",
      "1/1 [==============================] - 0s 6ms/step - loss: 7.2917 - mae: 7.2917\n",
      "Epoch 11/100\n",
      "1/1 [==============================] - 0s 5ms/step - loss: 7.4391 - mae: 7.4391\n",
      "Epoch 12/100\n",
      "1/1 [==============================] - 0s 6ms/step - loss: 7.5705 - mae: 7.5705\n",
      "Epoch 13/100\n",
      "1/1 [==============================] - 0s 5ms/step - loss: 7.4601 - mae: 7.4601\n",
      "Epoch 14/100\n",
      "1/1 [==============================] - 0s 5ms/step - loss: 7.1826 - mae: 7.1826\n",
      "Epoch 15/100\n",
      "1/1 [==============================] - 0s 4ms/step - loss: 6.9472 - mae: 6.9472\n",
      "Epoch 16/100\n",
      "1/1 [==============================] - 0s 5ms/step - loss: 6.6809 - mae: 6.6809\n",
      "Epoch 17/100\n",
      "1/1 [==============================] - 0s 6ms/step - loss: 6.3901 - mae: 6.3901\n",
      "Epoch 18/100\n",
      "1/1 [==============================] - 0s 5ms/step - loss: 6.1539 - mae: 6.1539\n",
      "Epoch 19/100\n",
      "1/1 [==============================] - 0s 5ms/step - loss: 6.0941 - mae: 6.0941\n",
      "Epoch 20/100\n",
      "1/1 [==============================] - 0s 4ms/step - loss: 6.0985 - mae: 6.0985\n",
      "Epoch 21/100\n",
      "1/1 [==============================] - 0s 4ms/step - loss: 6.1483 - mae: 6.1483\n",
      "Epoch 22/100\n",
      "1/1 [==============================] - 0s 7ms/step - loss: 6.0838 - mae: 6.0838\n",
      "Epoch 23/100\n",
      "1/1 [==============================] - 0s 4ms/step - loss: 5.9200 - mae: 5.9200\n",
      "Epoch 24/100\n",
      "1/1 [==============================] - 0s 5ms/step - loss: 5.6797 - mae: 5.6797\n",
      "Epoch 25/100\n",
      "1/1 [==============================] - 0s 6ms/step - loss: 5.5753 - mae: 5.5753\n",
      "Epoch 26/100\n",
      "1/1 [==============================] - 0s 5ms/step - loss: 5.4678 - mae: 5.4678\n",
      "Epoch 27/100\n",
      "1/1 [==============================] - 0s 5ms/step - loss: 5.3569 - mae: 5.3569\n",
      "Epoch 28/100\n",
      "1/1 [==============================] - 0s 6ms/step - loss: 5.3232 - mae: 5.3232\n",
      "Epoch 29/100\n",
      "1/1 [==============================] - 0s 5ms/step - loss: 5.2710 - mae: 5.2710\n",
      "Epoch 30/100\n",
      "1/1 [==============================] - 0s 5ms/step - loss: 5.1689 - mae: 5.1689\n",
      "Epoch 31/100\n",
      "1/1 [==============================] - 0s 4ms/step - loss: 5.0216 - mae: 5.0216\n",
      "Epoch 32/100\n",
      "1/1 [==============================] - 0s 5ms/step - loss: 4.8333 - mae: 4.8333\n",
      "Epoch 33/100\n",
      "1/1 [==============================] - 0s 7ms/step - loss: 4.7298 - mae: 4.7298\n",
      "Epoch 34/100\n",
      "1/1 [==============================] - 0s 5ms/step - loss: 4.6271 - mae: 4.6271\n",
      "Epoch 35/100\n",
      "1/1 [==============================] - 0s 4ms/step - loss: 4.5172 - mae: 4.5172\n",
      "Epoch 36/100\n",
      "1/1 [==============================] - 0s 7ms/step - loss: 4.5053 - mae: 4.5053\n",
      "Epoch 37/100\n",
      "1/1 [==============================] - 0s 4ms/step - loss: 4.3587 - mae: 4.3587\n",
      "Epoch 38/100\n",
      "1/1 [==============================] - 0s 4ms/step - loss: 4.1153 - mae: 4.1153\n",
      "Epoch 39/100\n",
      "1/1 [==============================] - 0s 4ms/step - loss: 3.9583 - mae: 3.9583\n",
      "Epoch 40/100\n",
      "1/1 [==============================] - 0s 4ms/step - loss: 3.7945 - mae: 3.7945\n",
      "Epoch 41/100\n",
      "1/1 [==============================] - 0s 5ms/step - loss: 3.6764 - mae: 3.6764\n",
      "Epoch 42/100\n",
      "1/1 [==============================] - 0s 8ms/step - loss: 3.5543 - mae: 3.5543\n",
      "Epoch 43/100\n",
      "1/1 [==============================] - 0s 9ms/step - loss: 3.3732 - mae: 3.3732\n",
      "Epoch 44/100\n",
      "1/1 [==============================] - 0s 5ms/step - loss: 3.1369 - mae: 3.1369\n",
      "Epoch 45/100\n",
      "1/1 [==============================] - 0s 4ms/step - loss: 2.9748 - mae: 2.9748\n",
      "Epoch 46/100\n",
      "1/1 [==============================] - 0s 7ms/step - loss: 2.8486 - mae: 2.8486\n",
      "Epoch 47/100\n",
      "1/1 [==============================] - 0s 5ms/step - loss: 2.6629 - mae: 2.6629\n",
      "Epoch 48/100\n",
      "1/1 [==============================] - 0s 5ms/step - loss: 2.3984 - mae: 2.3984\n",
      "Epoch 49/100\n",
      "1/1 [==============================] - 0s 4ms/step - loss: 2.1806 - mae: 2.1806\n",
      "Epoch 50/100\n",
      "1/1 [==============================] - 0s 5ms/step - loss: 2.0020 - mae: 2.0020\n",
      "Epoch 51/100\n",
      "1/1 [==============================] - 0s 4ms/step - loss: 1.7545 - mae: 1.7545\n",
      "Epoch 52/100\n",
      "1/1 [==============================] - 0s 8ms/step - loss: 1.5189 - mae: 1.5189\n",
      "Epoch 53/100\n",
      "1/1 [==============================] - 0s 5ms/step - loss: 1.3671 - mae: 1.3671\n",
      "Epoch 54/100\n",
      "1/1 [==============================] - 0s 5ms/step - loss: 1.0673 - mae: 1.0673\n",
      "Epoch 55/100\n",
      "1/1 [==============================] - 0s 5ms/step - loss: 0.8240 - mae: 0.8240\n",
      "Epoch 56/100\n",
      "1/1 [==============================] - 0s 5ms/step - loss: 0.6985 - mae: 0.6985\n",
      "Epoch 57/100\n",
      "1/1 [==============================] - 0s 3ms/step - loss: 0.3584 - mae: 0.3584\n",
      "Epoch 58/100\n",
      "1/1 [==============================] - 0s 5ms/step - loss: 0.3149 - mae: 0.3149\n",
      "Epoch 59/100\n",
      "1/1 [==============================] - 0s 4ms/step - loss: 0.4661 - mae: 0.4661\n",
      "Epoch 60/100\n",
      "1/1 [==============================] - 0s 6ms/step - loss: 0.4621 - mae: 0.4621\n",
      "Epoch 61/100\n",
      "1/1 [==============================] - 0s 7ms/step - loss: 0.7706 - mae: 0.7706\n",
      "Epoch 62/100\n",
      "1/1 [==============================] - 0s 5ms/step - loss: 0.8396 - mae: 0.8396\n",
      "Epoch 63/100\n",
      "1/1 [==============================] - 0s 4ms/step - loss: 0.7012 - mae: 0.7012\n",
      "Epoch 64/100\n",
      "1/1 [==============================] - 0s 5ms/step - loss: 0.7449 - mae: 0.7449\n",
      "Epoch 65/100\n",
      "1/1 [==============================] - 0s 5ms/step - loss: 0.7695 - mae: 0.7695\n",
      "Epoch 66/100\n",
      "1/1 [==============================] - 0s 3ms/step - loss: 0.6010 - mae: 0.6010\n",
      "Epoch 67/100\n",
      "1/1 [==============================] - 0s 7ms/step - loss: 0.5576 - mae: 0.5576\n",
      "Epoch 68/100\n",
      "1/1 [==============================] - 0s 3ms/step - loss: 0.4562 - mae: 0.4562\n",
      "Epoch 69/100\n",
      "1/1 [==============================] - 0s 5ms/step - loss: 0.2149 - mae: 0.2149\n",
      "Epoch 70/100\n",
      "1/1 [==============================] - 0s 5ms/step - loss: 0.1232 - mae: 0.1232\n",
      "Epoch 71/100\n",
      "1/1 [==============================] - 0s 8ms/step - loss: 0.2154 - mae: 0.2154\n",
      "Epoch 72/100\n",
      "1/1 [==============================] - 0s 6ms/step - loss: 0.2447 - mae: 0.2447\n",
      "Epoch 73/100\n",
      "1/1 [==============================] - 0s 7ms/step - loss: 0.3711 - mae: 0.3711\n",
      "Epoch 74/100\n",
      "1/1 [==============================] - 0s 4ms/step - loss: 0.3841 - mae: 0.3841\n",
      "Epoch 75/100\n",
      "1/1 [==============================] - 0s 4ms/step - loss: 0.4116 - mae: 0.4116\n",
      "Epoch 76/100\n",
      "1/1 [==============================] - 0s 6ms/step - loss: 0.3942 - mae: 0.3942\n",
      "Epoch 77/100\n",
      "1/1 [==============================] - 0s 4ms/step - loss: 0.3189 - mae: 0.3189\n",
      "Epoch 78/100\n",
      "1/1 [==============================] - 0s 4ms/step - loss: 0.2501 - mae: 0.2501\n",
      "Epoch 79/100\n",
      "1/1 [==============================] - 0s 5ms/step - loss: 0.2381 - mae: 0.2381\n",
      "Epoch 80/100\n",
      "1/1 [==============================] - 0s 4ms/step - loss: 0.0863 - mae: 0.0863\n",
      "Epoch 81/100\n",
      "1/1 [==============================] - 0s 4ms/step - loss: 0.3346 - mae: 0.3346\n",
      "Epoch 82/100\n",
      "1/1 [==============================] - 0s 4ms/step - loss: 0.3907 - mae: 0.3907\n",
      "Epoch 83/100\n",
      "1/1 [==============================] - 0s 5ms/step - loss: 0.2272 - mae: 0.2272\n",
      "Epoch 84/100\n",
      "1/1 [==============================] - 0s 5ms/step - loss: 0.4311 - mae: 0.4311\n",
      "Epoch 85/100\n",
      "1/1 [==============================] - 0s 4ms/step - loss: 0.4938 - mae: 0.4938\n",
      "Epoch 86/100\n",
      "1/1 [==============================] - 0s 4ms/step - loss: 0.3865 - mae: 0.3865\n",
      "Epoch 87/100\n",
      "1/1 [==============================] - 0s 4ms/step - loss: 0.1302 - mae: 0.1302\n",
      "Epoch 88/100\n",
      "1/1 [==============================] - 0s 5ms/step - loss: 0.4616 - mae: 0.4616\n",
      "Epoch 89/100\n",
      "1/1 [==============================] - 0s 5ms/step - loss: 0.5524 - mae: 0.5524\n",
      "Epoch 90/100\n",
      "1/1 [==============================] - 0s 8ms/step - loss: 0.3731 - mae: 0.3731\n",
      "Epoch 91/100\n",
      "1/1 [==============================] - 0s 4ms/step - loss: 0.2089 - mae: 0.2089\n",
      "Epoch 92/100\n",
      "1/1 [==============================] - 0s 5ms/step - loss: 0.3723 - mae: 0.3723\n",
      "Epoch 93/100\n",
      "1/1 [==============================] - 0s 4ms/step - loss: 0.3070 - mae: 0.3070\n",
      "Epoch 94/100\n",
      "1/1 [==============================] - 0s 4ms/step - loss: 0.2736 - mae: 0.2736\n",
      "Epoch 95/100\n",
      "1/1 [==============================] - 0s 5ms/step - loss: 0.2723 - mae: 0.2723\n",
      "Epoch 96/100\n",
      "1/1 [==============================] - 0s 4ms/step - loss: 0.1251 - mae: 0.1251\n",
      "Epoch 97/100\n",
      "1/1 [==============================] - 0s 4ms/step - loss: 0.2770 - mae: 0.2770\n",
      "Epoch 98/100\n",
      "1/1 [==============================] - 0s 6ms/step - loss: 0.2542 - mae: 0.2542\n",
      "Epoch 99/100\n",
      "1/1 [==============================] - 0s 5ms/step - loss: 0.1555 - mae: 0.1555\n",
      "Epoch 100/100\n",
      "1/1 [==============================] - 0s 4ms/step - loss: 0.3101 - mae: 0.3101\n"
     ]
    },
    {
     "data": {
      "text/plain": [
       "<keras.callbacks.History at 0x21b9d646a40>"
      ]
     },
     "execution_count": 29,
     "metadata": {},
     "output_type": "execute_result"
    }
   ],
   "source": [
    "model = tf.keras.Sequential()\n",
    "model.add(tf.keras.layers.Dense(50,activation=None))\n",
    "model.add(tf.keras.layers.Dense(1))\n",
    "\n",
    "model.compile(loss='mae', optimizer=tf.keras.optimizers.Adam(learning_rate=0.01), metrics=['mae'])\n",
    "model.fit(tf.expand_dims(X,axis=-1),y, epochs=100)"
   ]
  },
  {
   "cell_type": "code",
   "execution_count": 30,
   "metadata": {
    "colab": {
     "base_uri": "https://localhost:8080/"
    },
    "id": "D3ReRmPBdf46",
    "outputId": "e4a1c104-4e8c-4bae-ff11-05129c339191"
   },
   "outputs": [
    {
     "name": "stdout",
     "output_type": "stream",
     "text": [
      "1/1 [==============================] - 0s 56ms/step\n"
     ]
    },
    {
     "data": {
      "text/plain": [
       "array([[26.61028]], dtype=float32)"
      ]
     },
     "execution_count": 30,
     "metadata": {},
     "output_type": "execute_result"
    }
   ],
   "source": [
    "model.predict([17.0])"
   ]
  },
  {
   "cell_type": "code",
   "execution_count": 31,
   "metadata": {
    "id": "SWDI-4iXfwwm"
   },
   "outputs": [],
   "source": [
    "X = tf.range(-100,100,4)\n",
    "y = X+10"
   ]
  },
  {
   "cell_type": "code",
   "execution_count": 32,
   "metadata": {
    "colab": {
     "base_uri": "https://localhost:8080/",
     "height": 447
    },
    "id": "zUC6JyGdf1Ad",
    "outputId": "4b09ad1b-52ec-4ae8-d9b2-b2d4998d4cb4"
   },
   "outputs": [
    {
     "data": {
      "text/plain": [
       "<matplotlib.collections.PathCollection at 0x21a7e338d60>"
      ]
     },
     "execution_count": 32,
     "metadata": {},
     "output_type": "execute_result"
    },
    {
     "data": {
      "image/png": "[encoded data removed]",
      "text/plain": [
       "<Figure size 640x480 with 1 Axes>"
      ]
     },
     "metadata": {},
     "output_type": "display_data"
    }
   ],
   "source": [
    "plt.scatter(X,y)"
   ]
  },
  {
   "cell_type": "code",
   "execution_count": 33,
   "metadata": {
    "id": "yZxDqB2xf1d0"
   },
   "outputs": [],
   "source": [
    "X_train = X[:40]\n",
    "y_train = y[:40]\n",
    "\n",
    "X_test = X[40:]\n",
    "y_test = y[40:]\n",
    "\n",
    "\n"
   ]
  },
  {
   "cell_type": "code",
   "execution_count": 34,
   "metadata": {
    "colab": {
     "base_uri": "https://localhost:8080/",
     "height": 599
    },
    "id": "oWCxE5cpwdMb",
    "outputId": "76b59d6a-4bcc-488a-b9c5-345d7b77b4ab"
   },
   "outputs": [
    {
     "data": {
      "image/png": "[encoded data removed]",
      "text/plain": [
       "<Figure size 1000x700 with 1 Axes>"
      ]
     },
     "metadata": {},
     "output_type": "display_data"
    }
   ],
   "source": [
    "plt.figure(figsize=(10,7))\n",
    "plt.scatter(X_train,y_train, c='b', label ='Training Data')\n",
    "plt.scatter(X_test,y_test, c='g', label ='Testing Data')\n",
    "plt.legend();"
   ]
  },
  {
   "cell_type": "code",
   "execution_count": 35,
   "metadata": {
    "id": "VnHLUHmNysx_"
   },
   "outputs": [],
   "source": [
    "tf.random.set_seed(42)\n",
    "model = tf.keras.Sequential([\n",
    "tf.keras.layers.Dense(10, input_shape=[1], name='input'),\n",
    "tf.keras.layers.Dense(1, name='output')\n",
    "    \n",
    "], name= 'linear')\n",
    "\n",
    "model.compile(loss='mae', optimizer=tf.keras.optimizers.Adam(learning_rate=0.1), metrics=['mae'])"
   ]
  },
  {
   "cell_type": "code",
   "execution_count": 36,
   "metadata": {
    "colab": {
     "base_uri": "https://localhost:8080/"
    },
    "id": "MeWcWySPzWvI",
    "outputId": "3864af50-7010-4e80-ec66-70f5e6e9f3aa"
   },
   "outputs": [
    {
     "name": "stdout",
     "output_type": "stream",
     "text": [
      "Model: \"linear\"\n",
      "_________________________________________________________________\n",
      " Layer (type)                Output Shape              Param #   \n",
      "=================================================================\n",
      " input (Dense)               (None, 10)                20        \n",
      "                                                                 \n",
      " output (Dense)              (None, 1)                 11        \n",
      "                                                                 \n",
      "=================================================================\n",
      "Total params: 31\n",
      "Trainable params: 31\n",
      "Non-trainable params: 0\n",
      "_________________________________________________________________\n"
     ]
    }
   ],
   "source": [
    "model.summary()"
   ]
  },
  {
   "cell_type": "code",
   "execution_count": 37,
   "metadata": {
    "colab": {
     "base_uri": "https://localhost:8080/"
    },
    "id": "cHRyX3qrzXsI",
    "outputId": "663127be-ddf3-4752-c665-4b81ae2c912d"
   },
   "outputs": [
    {
     "name": "stdout",
     "output_type": "stream",
     "text": [
      "Epoch 1/100\n",
      "2/2 [==============================] - 0s 10ms/step - loss: 20.7888 - mae: 20.7888\n",
      "Epoch 2/100\n",
      "2/2 [==============================] - 0s 4ms/step - loss: 18.6843 - mae: 18.6843\n",
      "Epoch 3/100\n",
      "2/2 [==============================] - 0s 0s/step - loss: 12.7502 - mae: 12.7502\n",
      "Epoch 4/100\n",
      "2/2 [==============================] - 0s 13ms/step - loss: 14.9426 - mae: 14.9426\n",
      "Epoch 5/100\n",
      "2/2 [==============================] - 0s 8ms/step - loss: 8.7170 - mae: 8.7170\n",
      "Epoch 6/100\n",
      "2/2 [==============================] - 0s 6ms/step - loss: 9.8811 - mae: 9.8811\n",
      "Epoch 7/100\n",
      "2/2 [==============================] - 0s 4ms/step - loss: 6.1891 - mae: 6.1891\n",
      "Epoch 8/100\n",
      "2/2 [==============================] - 0s 15ms/step - loss: 7.2444 - mae: 7.2444\n",
      "Epoch 9/100\n",
      "2/2 [==============================] - 0s 1ms/step - loss: 4.1788 - mae: 4.1788\n",
      "Epoch 10/100\n",
      "2/2 [==============================] - 0s 7ms/step - loss: 5.5782 - mae: 5.5782\n",
      "Epoch 11/100\n",
      "2/2 [==============================] - 0s 8ms/step - loss: 2.9651 - mae: 2.9651\n",
      "Epoch 12/100\n",
      "2/2 [==============================] - 0s 0s/step - loss: 3.4884 - mae: 3.4884\n",
      "Epoch 13/100\n",
      "2/2 [==============================] - 0s 0s/step - loss: 1.8339 - mae: 1.8339\n",
      "Epoch 14/100\n",
      "2/2 [==============================] - 0s 553us/step - loss: 0.3301 - mae: 0.3301\n",
      "Epoch 15/100\n",
      "2/2 [==============================] - 0s 7ms/step - loss: 1.6007 - mae: 1.6007\n",
      "Epoch 16/100\n",
      "2/2 [==============================] - 0s 0s/step - loss: 2.9392 - mae: 2.9392\n",
      "Epoch 17/100\n",
      "2/2 [==============================] - 0s 7ms/step - loss: 1.5517 - mae: 1.5517\n",
      "Epoch 18/100\n",
      "2/2 [==============================] - 0s 6ms/step - loss: 2.2371 - mae: 2.2371\n",
      "Epoch 19/100\n",
      "2/2 [==============================] - 0s 828us/step - loss: 1.8103 - mae: 1.8103\n",
      "Epoch 20/100\n",
      "2/2 [==============================] - 0s 19ms/step - loss: 1.9056 - mae: 1.9056\n",
      "Epoch 21/100\n",
      "2/2 [==============================] - 0s 8ms/step - loss: 0.9591 - mae: 0.9591\n",
      "Epoch 22/100\n",
      "2/2 [==============================] - 0s 7ms/step - loss: 1.0237 - mae: 1.0237\n",
      "Epoch 23/100\n",
      "2/2 [==============================] - 0s 6ms/step - loss: 1.3241 - mae: 1.3241\n",
      "Epoch 24/100\n",
      "2/2 [==============================] - 0s 7ms/step - loss: 0.9739 - mae: 0.9739\n",
      "Epoch 25/100\n",
      "2/2 [==============================] - 0s 2ms/step - loss: 2.3541 - mae: 2.3541\n",
      "Epoch 26/100\n",
      "2/2 [==============================] - 0s 7ms/step - loss: 1.6924 - mae: 1.6924\n",
      "Epoch 27/100\n",
      "2/2 [==============================] - 0s 7ms/step - loss: 4.4712 - mae: 4.4712\n",
      "Epoch 28/100\n",
      "2/2 [==============================] - 0s 8ms/step - loss: 0.9672 - mae: 0.9672\n",
      "Epoch 29/100\n",
      "2/2 [==============================] - 0s 2ms/step - loss: 1.4069 - mae: 1.4069\n",
      "Epoch 30/100\n",
      "2/2 [==============================] - 0s 1ms/step - loss: 3.7617 - mae: 3.7617\n",
      "Epoch 31/100\n",
      "2/2 [==============================] - 0s 0s/step - loss: 1.3588 - mae: 1.3588\n",
      "Epoch 32/100\n",
      "2/2 [==============================] - 0s 623us/step - loss: 1.4190 - mae: 1.4190\n",
      "Epoch 33/100\n",
      "2/2 [==============================] - 0s 5ms/step - loss: 1.8660 - mae: 1.8660\n",
      "Epoch 34/100\n",
      "2/2 [==============================] - 0s 12ms/step - loss: 3.0764 - mae: 3.0764\n",
      "Epoch 35/100\n",
      "2/2 [==============================] - 0s 16ms/step - loss: 1.8114 - mae: 1.8114\n",
      "Epoch 36/100\n",
      "2/2 [==============================] - 0s 8ms/step - loss: 0.9539 - mae: 0.9539\n",
      "Epoch 37/100\n",
      "2/2 [==============================] - 0s 16ms/step - loss: 2.1966 - mae: 2.1966\n",
      "Epoch 38/100\n",
      "2/2 [==============================] - 0s 16ms/step - loss: 0.8830 - mae: 0.8830\n",
      "Epoch 39/100\n",
      "2/2 [==============================] - 0s 6ms/step - loss: 1.4023 - mae: 1.4023\n",
      "Epoch 40/100\n",
      "2/2 [==============================] - 0s 7ms/step - loss: 0.8716 - mae: 0.8716\n",
      "Epoch 41/100\n",
      "2/2 [==============================] - 0s 5ms/step - loss: 1.3786 - mae: 1.3786\n",
      "Epoch 42/100\n",
      "2/2 [==============================] - 0s 16ms/step - loss: 1.9489 - mae: 1.9489\n",
      "Epoch 43/100\n",
      "2/2 [==============================] - 0s 5ms/step - loss: 2.6597 - mae: 2.6597\n",
      "Epoch 44/100\n",
      "2/2 [==============================] - 0s 5ms/step - loss: 1.7120 - mae: 1.7120\n",
      "Epoch 45/100\n",
      "2/2 [==============================] - 0s 8ms/step - loss: 1.9215 - mae: 1.9215\n",
      "Epoch 46/100\n",
      "2/2 [==============================] - 0s 7ms/step - loss: 2.4079 - mae: 2.4079\n",
      "Epoch 47/100\n",
      "2/2 [==============================] - 0s 6ms/step - loss: 1.6378 - mae: 1.6378\n",
      "Epoch 48/100\n",
      "2/2 [==============================] - 0s 6ms/step - loss: 2.9041 - mae: 2.9041\n",
      "Epoch 49/100\n",
      "2/2 [==============================] - 0s 7ms/step - loss: 0.9784 - mae: 0.9784\n",
      "Epoch 50/100\n",
      "2/2 [==============================] - 0s 0s/step - loss: 0.2228 - mae: 0.2228\n",
      "Epoch 51/100\n",
      "2/2 [==============================] - 0s 20ms/step - loss: 0.8523 - mae: 0.8523\n",
      "Epoch 52/100\n",
      "2/2 [==============================] - 0s 847us/step - loss: 2.5869 - mae: 2.5869\n",
      "Epoch 53/100\n",
      "2/2 [==============================] - 0s 0s/step - loss: 1.5443 - mae: 1.5443\n",
      "Epoch 54/100\n",
      "2/2 [==============================] - 0s 0s/step - loss: 2.0813 - mae: 2.0813\n",
      "Epoch 55/100\n",
      "2/2 [==============================] - 0s 16ms/step - loss: 2.4644 - mae: 2.4644\n",
      "Epoch 56/100\n",
      "2/2 [==============================] - 0s 0s/step - loss: 1.6282 - mae: 1.6282\n",
      "Epoch 57/100\n",
      "2/2 [==============================] - 0s 3ms/step - loss: 2.3032 - mae: 2.3032\n",
      "Epoch 58/100\n",
      "2/2 [==============================] - 0s 13ms/step - loss: 1.6787 - mae: 1.6787\n",
      "Epoch 59/100\n",
      "2/2 [==============================] - 0s 0s/step - loss: 1.3440 - mae: 1.3440\n",
      "Epoch 60/100\n",
      "2/2 [==============================] - 0s 16ms/step - loss: 3.3723 - mae: 3.3723\n",
      "Epoch 61/100\n",
      "2/2 [==============================] - 0s 0s/step - loss: 1.1677 - mae: 1.1677\n",
      "Epoch 62/100\n",
      "2/2 [==============================] - 0s 0s/step - loss: 2.0800 - mae: 2.0800\n",
      "Epoch 63/100\n",
      "2/2 [==============================] - 0s 0s/step - loss: 3.2297 - mae: 3.2297\n",
      "Epoch 64/100\n",
      "2/2 [==============================] - 0s 0s/step - loss: 2.6158 - mae: 2.6158\n",
      "Epoch 65/100\n",
      "2/2 [==============================] - 0s 16ms/step - loss: 3.5517 - mae: 3.5517\n",
      "Epoch 66/100\n",
      "2/2 [==============================] - 0s 0s/step - loss: 3.5277 - mae: 3.5277\n",
      "Epoch 67/100\n",
      "2/2 [==============================] - 0s 4ms/step - loss: 2.8042 - mae: 2.8042\n",
      "Epoch 68/100\n",
      "2/2 [==============================] - 0s 1ms/step - loss: 2.6117 - mae: 2.6117\n",
      "Epoch 69/100\n",
      "2/2 [==============================] - 0s 12ms/step - loss: 3.3521 - mae: 3.3521\n",
      "Epoch 70/100\n",
      "2/2 [==============================] - 0s 0s/step - loss: 2.6518 - mae: 2.6518\n",
      "Epoch 71/100\n",
      "2/2 [==============================] - 0s 0s/step - loss: 4.6764 - mae: 4.6764\n",
      "Epoch 72/100\n",
      "2/2 [==============================] - 0s 1ms/step - loss: 3.2634 - mae: 3.2634\n",
      "Epoch 73/100\n",
      "2/2 [==============================] - 0s 14ms/step - loss: 3.9302 - mae: 3.9302\n",
      "Epoch 74/100\n",
      "2/2 [==============================] - 0s 4ms/step - loss: 2.5302 - mae: 2.5302\n",
      "Epoch 75/100\n",
      "2/2 [==============================] - 0s 3ms/step - loss: 2.9686 - mae: 2.9686\n",
      "Epoch 76/100\n",
      "2/2 [==============================] - 0s 3ms/step - loss: 1.3319 - mae: 1.3319\n",
      "Epoch 77/100\n",
      "2/2 [==============================] - 0s 4ms/step - loss: 0.7703 - mae: 0.7703\n",
      "Epoch 78/100\n",
      "2/2 [==============================] - 0s 9ms/step - loss: 0.4708 - mae: 0.4708\n",
      "Epoch 79/100\n",
      "2/2 [==============================] - 0s 8ms/step - loss: 0.4514 - mae: 0.4514\n",
      "Epoch 80/100\n",
      "2/2 [==============================] - 0s 4ms/step - loss: 0.9997 - mae: 0.9997\n",
      "Epoch 81/100\n",
      "2/2 [==============================] - 0s 3ms/step - loss: 2.7482 - mae: 2.7482\n",
      "Epoch 82/100\n",
      "2/2 [==============================] - 0s 6ms/step - loss: 1.5964 - mae: 1.5964\n",
      "Epoch 83/100\n",
      "2/2 [==============================] - 0s 4ms/step - loss: 6.1583 - mae: 6.1583\n",
      "Epoch 84/100\n",
      "2/2 [==============================] - 0s 3ms/step - loss: 2.4367 - mae: 2.4367\n",
      "Epoch 85/100\n",
      "2/2 [==============================] - 0s 5ms/step - loss: 1.8699 - mae: 1.8699\n",
      "Epoch 86/100\n",
      "2/2 [==============================] - 0s 0s/step - loss: 1.3249 - mae: 1.3249\n",
      "Epoch 87/100\n",
      "2/2 [==============================] - 0s 1ms/step - loss: 1.0386 - mae: 1.0386\n",
      "Epoch 88/100\n",
      "2/2 [==============================] - 0s 3ms/step - loss: 3.1074 - mae: 3.1074\n",
      "Epoch 89/100\n",
      "2/2 [==============================] - 0s 4ms/step - loss: 2.2207 - mae: 2.2207\n",
      "Epoch 90/100\n",
      "2/2 [==============================] - 0s 3ms/step - loss: 1.7099 - mae: 1.7099\n",
      "Epoch 91/100\n",
      "2/2 [==============================] - 0s 0s/step - loss: 3.9562 - mae: 3.9562\n",
      "Epoch 92/100\n",
      "2/2 [==============================] - 0s 3ms/step - loss: 1.7171 - mae: 1.7171\n",
      "Epoch 93/100\n",
      "2/2 [==============================] - 0s 3ms/step - loss: 6.2604 - mae: 6.2604\n",
      "Epoch 94/100\n",
      "2/2 [==============================] - 0s 4ms/step - loss: 3.2964 - mae: 3.2964\n",
      "Epoch 95/100\n",
      "2/2 [==============================] - 0s 3ms/step - loss: 4.4359 - mae: 4.4359\n",
      "Epoch 96/100\n",
      "2/2 [==============================] - 0s 3ms/step - loss: 4.9641 - mae: 4.9641\n",
      "Epoch 97/100\n",
      "2/2 [==============================] - 0s 0s/step - loss: 2.0531 - mae: 2.0531\n",
      "Epoch 98/100\n",
      "2/2 [==============================] - 0s 3ms/step - loss: 1.9265 - mae: 1.9265\n",
      "Epoch 99/100\n",
      "2/2 [==============================] - 0s 4ms/step - loss: 0.9642 - mae: 0.9642\n",
      "Epoch 100/100\n",
      "2/2 [==============================] - 0s 0s/step - loss: 0.7549 - mae: 0.7549\n"
     ]
    },
    {
     "data": {
      "text/plain": [
       "<keras.callbacks.History at 0x21ba60148e0>"
      ]
     },
     "execution_count": 37,
     "metadata": {},
     "output_type": "execute_result"
    }
   ],
   "source": [
    "model.fit(tf.expand_dims(X,axis=-1),y, epochs=100, verbose=1)"
   ]
  },
  {
   "cell_type": "code",
   "execution_count": 38,
   "metadata": {
    "id": "Q7WkZ8G21Nfz"
   },
   "outputs": [],
   "source": [
    "from tensorflow.keras.utils import plot_model"
   ]
  },
  {
   "cell_type": "code",
   "execution_count": 39,
   "metadata": {
    "colab": {
     "base_uri": "https://localhost:8080/",
     "height": 312
    },
    "id": "lBZ5T6W72Buk",
    "outputId": "97b6a946-501d-4fad-c3e1-af35d279e4e0"
   },
   "outputs": [
    {
     "name": "stdout",
     "output_type": "stream",
     "text": [
      "You must install pydot (`pip install pydot`) and install graphviz (see instructions at https://graphviz.gitlab.io/download/) for plot_model to work.\n"
     ]
    }
   ],
   "source": [
    "plot_model(model,show_shapes=True)"
   ]
  },
  {
   "cell_type": "markdown",
   "metadata": {
    "id": "LVHcs0GpM04L"
   },
   "source": [
    "## Visualize model predictions"
   ]
  },
  {
   "cell_type": "code",
   "execution_count": 40,
   "metadata": {
    "colab": {
     "base_uri": "https://localhost:8080/"
    },
    "id": "8hU8q3PGM3kU",
    "outputId": "481ec5b0-3754-473d-9329-0ca4c09fd871"
   },
   "outputs": [
    {
     "name": "stdout",
     "output_type": "stream",
     "text": [
      "WARNING:tensorflow:5 out of the last 5 calls to <function Model.make_predict_function.<locals>.predict_function at 0x0000021BA5EA4040> triggered tf.function retracing. Tracing is expensive and the excessive number of tracings could be due to (1) creating @tf.function repeatedly in a loop, (2) passing tensors with different shapes, (3) passing Python objects instead of tensors. For (1), please define your @tf.function outside of the loop. For (2), @tf.function has reduce_retracing=True option that can avoid unnecessary retracing. For (3), please refer to https://www.tensorflow.org/guide/function#controlling_retracing and https://www.tensorflow.org/api_docs/python/tf/function for  more details.\n",
      "1/1 [==============================] - 0s 45ms/step\n"
     ]
    },
    {
     "data": {
      "text/plain": [
       "array([[ 69.86978 ],\n",
       "       [ 73.854034],\n",
       "       [ 77.83829 ],\n",
       "       [ 81.822556],\n",
       "       [ 85.8068  ],\n",
       "       [ 89.79106 ],\n",
       "       [ 93.775314],\n",
       "       [ 97.75957 ],\n",
       "       [101.74382 ],\n",
       "       [105.72809 ]], dtype=float32)"
      ]
     },
     "execution_count": 40,
     "metadata": {},
     "output_type": "execute_result"
    }
   ],
   "source": [
    "y_pred = model.predict(X_test)\n",
    "y_pred"
   ]
  },
  {
   "cell_type": "code",
   "execution_count": 41,
   "metadata": {
    "colab": {
     "base_uri": "https://localhost:8080/"
    },
    "id": "5DDpbsw6ThBt",
    "outputId": "506f6585-2e6f-45c7-fc59-eb6a5a05c2ad"
   },
   "outputs": [
    {
     "data": {
      "text/plain": [
       "<tf.Tensor: shape=(10,), dtype=int32, numpy=array([ 70,  74,  78,  82,  86,  90,  94,  98, 102, 106])>"
      ]
     },
     "execution_count": 41,
     "metadata": {},
     "output_type": "execute_result"
    }
   ],
   "source": [
    "y_test"
   ]
  },
  {
   "cell_type": "code",
   "execution_count": 42,
   "metadata": {
    "id": "8G_wYTbSNbfe"
   },
   "outputs": [],
   "source": [
    "def plot_predictions(train_data=X_train, train_labels=y_train,test_data=X_test,test_labels=y_test,predictions=y_pred):\n",
    "    \n",
    "    \"\"\"\n",
    "    Plots training data, test data and compares to true data.\n",
    "    \"\"\"\n",
    "\n",
    "    plt.figure(figsize=(10,7))\n",
    "    plt.scatter(train_data,train_labels, c='b', label='Training Data')\n",
    "    plt.scatter(test_data,test_labels, c='g', label='Testing Data')\n",
    "    plt.scatter(test_data,predictions, c='r', label='Predictions')\n",
    "    plt.legend();"
   ]
  },
  {
   "cell_type": "code",
   "execution_count": 43,
   "metadata": {
    "colab": {
     "base_uri": "https://localhost:8080/",
     "height": 599
    },
    "id": "-uCKDj8OOWlg",
    "outputId": "192f273d-6254-44e6-d277-3700329df6d7"
   },
   "outputs": [
    {
     "data": {
      "image/png": "[encoded data removed]",
      "text/plain": [
       "<Figure size 1000x700 with 1 Axes>"
      ]
     },
     "metadata": {},
     "output_type": "display_data"
    }
   ],
   "source": [
    "plot_predictions()"
   ]
  },
  {
   "cell_type": "markdown",
   "metadata": {
    "id": "0s9y9pW0OrRG"
   },
   "source": [
    "## Evaluation Metrics"
   ]
  },
  {
   "cell_type": "code",
   "execution_count": 44,
   "metadata": {
    "colab": {
     "base_uri": "https://localhost:8080/"
    },
    "id": "_fUAncwnQOb4",
    "outputId": "f7d9c80b-4c21-423a-d1c7-f662c6c4ca8a"
   },
   "outputs": [
    {
     "name": "stdout",
     "output_type": "stream",
     "text": [
      "1/1 [==============================] - 0s 124ms/step - loss: 0.2011 - mae: 0.2011\n"
     ]
    },
    {
     "data": {
      "text/plain": [
       "[0.20106887817382812, 0.20106887817382812]"
      ]
     },
     "execution_count": 44,
     "metadata": {},
     "output_type": "execute_result"
    }
   ],
   "source": [
    "model.evaluate(X_test,y_test)"
   ]
  },
  {
   "cell_type": "code",
   "execution_count": 45,
   "metadata": {
    "id": "gGQ6hE9WRXIA"
   },
   "outputs": [],
   "source": [
    "y_pred=tf.squeeze(tf.constant(y_pred))"
   ]
  },
  {
   "cell_type": "code",
   "execution_count": 46,
   "metadata": {
    "colab": {
     "base_uri": "https://localhost:8080/"
    },
    "id": "WsUKet2zRnSq",
    "outputId": "cceb1dc3-8313-4675-cab5-7a9be6f3d02b"
   },
   "outputs": [
    {
     "data": {
      "text/plain": [
       "<tf.Tensor: shape=(10,), dtype=float32, numpy=\n",
       "array([ 69.86978 ,  73.854034,  77.83829 ,  81.822556,  85.8068  ,\n",
       "        89.79106 ,  93.775314,  97.75957 , 101.74382 , 105.72809 ],\n",
       "      dtype=float32)>"
      ]
     },
     "execution_count": 46,
     "metadata": {},
     "output_type": "execute_result"
    }
   ],
   "source": [
    "y_pred"
   ]
  },
  {
   "cell_type": "code",
   "execution_count": 47,
   "metadata": {
    "id": "h2FITInOSVBR"
   },
   "outputs": [],
   "source": [
    "y_test = tf.cast(y_test, dtype=tf.float32)"
   ]
  },
  {
   "cell_type": "code",
   "execution_count": 48,
   "metadata": {
    "colab": {
     "base_uri": "https://localhost:8080/"
    },
    "id": "agGRKoK_SIsk",
    "outputId": "af83d27b-a6a0-4d54-b30b-a67fc2df3678"
   },
   "outputs": [
    {
     "data": {
      "text/plain": [
       "<tf.Tensor: shape=(), dtype=float32, numpy=0.20106888>"
      ]
     },
     "execution_count": 48,
     "metadata": {},
     "output_type": "execute_result"
    }
   ],
   "source": [
    "tf.reduce_sum(abs(y_pred-y_test))/10."
   ]
  },
  {
   "cell_type": "code",
   "execution_count": 49,
   "metadata": {
    "colab": {
     "base_uri": "https://localhost:8080/"
    },
    "id": "_xzQWbMLRe6h",
    "outputId": "3838644e-9b3d-4e42-acde-52adea698ca4"
   },
   "outputs": [
    {
     "data": {
      "text/plain": [
       "TensorShape([10])"
      ]
     },
     "execution_count": 49,
     "metadata": {},
     "output_type": "execute_result"
    }
   ],
   "source": [
    "y_test.shape"
   ]
  },
  {
   "cell_type": "code",
   "execution_count": 50,
   "metadata": {
    "colab": {
     "base_uri": "https://localhost:8080/"
    },
    "id": "-QOPV-YAQ44u",
    "outputId": "2f08a199-031b-4406-89ef-ca7ee4fde52e"
   },
   "outputs": [
    {
     "data": {
      "text/plain": [
       "<tf.Tensor: shape=(), dtype=float32, numpy=0.20106888>"
      ]
     },
     "execution_count": 50,
     "metadata": {},
     "output_type": "execute_result"
    }
   ],
   "source": [
    "tf.metrics.mean_absolute_error(y_test,y_pred)"
   ]
  },
  {
   "cell_type": "code",
   "execution_count": 51,
   "metadata": {
    "colab": {
     "base_uri": "https://localhost:8080/"
    },
    "id": "RgOScSUvSpRr",
    "outputId": "271264bb-e788-4e0d-d044-a8c9af10218a"
   },
   "outputs": [
    {
     "data": {
      "text/plain": [
       "<tf.Tensor: shape=(), dtype=float32, numpy=0.042473715>"
      ]
     },
     "execution_count": 51,
     "metadata": {},
     "output_type": "execute_result"
    }
   ],
   "source": [
    "tf.metrics.mean_squared_error(y_test,y_pred)"
   ]
  },
  {
   "cell_type": "code",
   "execution_count": 52,
   "metadata": {
    "id": "F7KYN9jTTDLU"
   },
   "outputs": [],
   "source": [
    "def mae(y_true, y_pred):\n",
    "  return tf.metrics.mean_absolute_error(y_true=y_true,y_pred=y_pred)"
   ]
  },
  {
   "cell_type": "code",
   "execution_count": 53,
   "metadata": {
    "id": "H-SibJsXTTBQ"
   },
   "outputs": [],
   "source": [
    "def mse(y_true, y_pred):\n",
    "  return tf.metrics.mean_squared_error(y_true=y_true,y_pred=y_pred)"
   ]
  },
  {
   "cell_type": "code",
   "execution_count": 54,
   "metadata": {
    "colab": {
     "base_uri": "https://localhost:8080/"
    },
    "id": "MuZ4miAnTWgB",
    "outputId": "a6ace0b8-7344-4e7a-d9ed-8867150e0515"
   },
   "outputs": [
    {
     "data": {
      "text/plain": [
       "(<tf.Tensor: shape=(40,), dtype=int32, numpy=\n",
       " array([-100,  -96,  -92,  -88,  -84,  -80,  -76,  -72,  -68,  -64,  -60,\n",
       "         -56,  -52,  -48,  -44,  -40,  -36,  -32,  -28,  -24,  -20,  -16,\n",
       "         -12,   -8,   -4,    0,    4,    8,   12,   16,   20,   24,   28,\n",
       "          32,   36,   40,   44,   48,   52,   56])>,\n",
       " <tf.Tensor: shape=(40,), dtype=int32, numpy=\n",
       " array([-90, -86, -82, -78, -74, -70, -66, -62, -58, -54, -50, -46, -42,\n",
       "        -38, -34, -30, -26, -22, -18, -14, -10,  -6,  -2,   2,   6,  10,\n",
       "         14,  18,  22,  26,  30,  34,  38,  42,  46,  50,  54,  58,  62,\n",
       "         66])>)"
      ]
     },
     "execution_count": 54,
     "metadata": {},
     "output_type": "execute_result"
    }
   ],
   "source": [
    "X_train, y_train"
   ]
  },
  {
   "cell_type": "markdown",
   "metadata": {
    "id": "szcCu2CKT7hY"
   },
   "source": [
    "## `model_1`"
   ]
  },
  {
   "cell_type": "code",
   "execution_count": 55,
   "metadata": {
    "id": "2AWBErLRUFVe"
   },
   "outputs": [],
   "source": [
    "tf.random.set_seed(42)"
   ]
  },
  {
   "cell_type": "code",
   "execution_count": 56,
   "metadata": {
    "colab": {
     "base_uri": "https://localhost:8080/"
    },
    "id": "gFuxhvufUHT5",
    "outputId": "af6bd97f-efbb-4c1c-fa36-65d43756b4aa"
   },
   "outputs": [
    {
     "name": "stdout",
     "output_type": "stream",
     "text": [
      "Epoch 1/100\n",
      "2/2 [==============================] - 0s 4ms/step - loss: 15.3705 - mae: 15.3705\n",
      "Epoch 2/100\n",
      "2/2 [==============================] - 0s 4ms/step - loss: 11.2634 - mae: 11.2634\n",
      "Epoch 3/100\n",
      "2/2 [==============================] - 0s 4ms/step - loss: 11.0819 - mae: 11.0819\n",
      "Epoch 4/100\n",
      "2/2 [==============================] - 0s 4ms/step - loss: 9.3138 - mae: 9.3138\n",
      "Epoch 5/100\n",
      "2/2 [==============================] - 0s 5ms/step - loss: 10.1848 - mae: 10.1848\n",
      "Epoch 6/100\n",
      "2/2 [==============================] - 0s 3ms/step - loss: 9.4453 - mae: 9.4453\n",
      "Epoch 7/100\n",
      "2/2 [==============================] - 0s 5ms/step - loss: 8.5828 - mae: 8.5828\n",
      "Epoch 8/100\n",
      "2/2 [==============================] - 0s 5ms/step - loss: 9.0447 - mae: 9.0447\n",
      "Epoch 9/100\n",
      "2/2 [==============================] - 0s 3ms/step - loss: 18.7838 - mae: 18.7838\n",
      "Epoch 10/100\n",
      "2/2 [==============================] - 0s 4ms/step - loss: 10.1317 - mae: 10.1317\n",
      "Epoch 11/100\n",
      "2/2 [==============================] - 0s 3ms/step - loss: 8.4045 - mae: 8.4045\n",
      "Epoch 12/100\n",
      "2/2 [==============================] - 0s 5ms/step - loss: 10.6778 - mae: 10.6778\n",
      "Epoch 13/100\n",
      "2/2 [==============================] - 0s 5ms/step - loss: 9.8029 - mae: 9.8029\n",
      "Epoch 14/100\n",
      "2/2 [==============================] - 0s 4ms/step - loss: 16.0445 - mae: 16.0445\n",
      "Epoch 15/100\n",
      "2/2 [==============================] - 0s 2ms/step - loss: 11.3794 - mae: 11.3794\n",
      "Epoch 16/100\n",
      "2/2 [==============================] - 0s 4ms/step - loss: 8.5470 - mae: 8.5470\n",
      "Epoch 17/100\n",
      "2/2 [==============================] - 0s 4ms/step - loss: 13.6529 - mae: 13.6529\n",
      "Epoch 18/100\n",
      "2/2 [==============================] - 0s 5ms/step - loss: 11.4857 - mae: 11.4857\n",
      "Epoch 19/100\n",
      "2/2 [==============================] - 0s 2ms/step - loss: 17.8863 - mae: 17.8863\n",
      "Epoch 20/100\n",
      "2/2 [==============================] - 0s 4ms/step - loss: 15.0212 - mae: 15.0212\n",
      "Epoch 21/100\n",
      "2/2 [==============================] - 0s 4ms/step - loss: 10.8882 - mae: 10.8882\n",
      "Epoch 22/100\n",
      "2/2 [==============================] - 0s 4ms/step - loss: 8.6442 - mae: 8.6442\n",
      "Epoch 23/100\n",
      "2/2 [==============================] - 0s 4ms/step - loss: 9.6747 - mae: 9.6747\n",
      "Epoch 24/100\n",
      "2/2 [==============================] - 0s 6ms/step - loss: 8.5766 - mae: 8.5766\n",
      "Epoch 25/100\n",
      "2/2 [==============================] - 0s 4ms/step - loss: 11.5729 - mae: 11.5729\n",
      "Epoch 26/100\n",
      "2/2 [==============================] - 0s 3ms/step - loss: 15.1574 - mae: 15.1574\n",
      "Epoch 27/100\n",
      "2/2 [==============================] - 0s 4ms/step - loss: 12.0449 - mae: 12.0449\n",
      "Epoch 28/100\n",
      "2/2 [==============================] - 0s 4ms/step - loss: 13.3365 - mae: 13.3365\n",
      "Epoch 29/100\n",
      "2/2 [==============================] - 0s 4ms/step - loss: 9.5969 - mae: 9.5969\n",
      "Epoch 30/100\n",
      "2/2 [==============================] - 0s 4ms/step - loss: 17.1176 - mae: 17.1176\n",
      "Epoch 31/100\n",
      "2/2 [==============================] - 0s 11ms/step - loss: 22.9358 - mae: 22.9358\n",
      "Epoch 32/100\n",
      "2/2 [==============================] - 0s 5ms/step - loss: 7.9127 - mae: 7.9127\n",
      "Epoch 33/100\n",
      "2/2 [==============================] - 0s 4ms/step - loss: 14.0917 - mae: 14.0917\n",
      "Epoch 34/100\n",
      "2/2 [==============================] - 0s 0s/step - loss: 12.3273 - mae: 12.3273\n",
      "Epoch 35/100\n",
      "2/2 [==============================] - 0s 5ms/step - loss: 8.2727 - mae: 8.2727\n",
      "Epoch 36/100\n",
      "2/2 [==============================] - 0s 7ms/step - loss: 10.5035 - mae: 10.5035\n",
      "Epoch 37/100\n",
      "2/2 [==============================] - 0s 4ms/step - loss: 10.1437 - mae: 10.1437\n",
      "Epoch 38/100\n",
      "2/2 [==============================] - 0s 6ms/step - loss: 11.3532 - mae: 11.3532\n",
      "Epoch 39/100\n",
      "2/2 [==============================] - 0s 4ms/step - loss: 14.7143 - mae: 14.7143\n",
      "Epoch 40/100\n",
      "2/2 [==============================] - 0s 3ms/step - loss: 12.8449 - mae: 12.8449\n",
      "Epoch 41/100\n",
      "2/2 [==============================] - 0s 5ms/step - loss: 9.2298 - mae: 9.2298\n",
      "Epoch 42/100\n",
      "2/2 [==============================] - 0s 8ms/step - loss: 11.0276 - mae: 11.0276\n",
      "Epoch 43/100\n",
      "2/2 [==============================] - 0s 12ms/step - loss: 8.3356 - mae: 8.3356\n",
      "Epoch 44/100\n",
      "2/2 [==============================] - 0s 4ms/step - loss: 13.0922 - mae: 13.0922\n",
      "Epoch 45/100\n",
      "2/2 [==============================] - 0s 0s/step - loss: 13.6302 - mae: 13.6302\n",
      "Epoch 46/100\n",
      "2/2 [==============================] - 0s 18ms/step - loss: 8.2579 - mae: 8.2579\n",
      "Epoch 47/100\n",
      "2/2 [==============================] - 0s 4ms/step - loss: 8.7406 - mae: 8.7406\n",
      "Epoch 48/100\n",
      "2/2 [==============================] - 0s 4ms/step - loss: 10.0472 - mae: 10.0472\n",
      "Epoch 49/100\n",
      "2/2 [==============================] - 0s 5ms/step - loss: 8.5261 - mae: 8.5261\n",
      "Epoch 50/100\n",
      "2/2 [==============================] - 0s 4ms/step - loss: 9.0357 - mae: 9.0357\n",
      "Epoch 51/100\n",
      "2/2 [==============================] - 0s 4ms/step - loss: 9.3791 - mae: 9.3791\n",
      "Epoch 52/100\n",
      "2/2 [==============================] - 0s 5ms/step - loss: 14.0633 - mae: 14.0633\n",
      "Epoch 53/100\n",
      "2/2 [==============================] - 0s 4ms/step - loss: 15.3900 - mae: 15.3900\n",
      "Epoch 54/100\n",
      "2/2 [==============================] - 0s 6ms/step - loss: 10.8995 - mae: 10.8995\n",
      "Epoch 55/100\n",
      "2/2 [==============================] - 0s 6ms/step - loss: 15.4217 - mae: 15.4217\n",
      "Epoch 56/100\n",
      "2/2 [==============================] - 0s 4ms/step - loss: 9.1159 - mae: 9.1159\n",
      "Epoch 57/100\n",
      "2/2 [==============================] - 0s 3ms/step - loss: 9.6985 - mae: 9.6985\n",
      "Epoch 58/100\n",
      "2/2 [==============================] - 0s 1ms/step - loss: 9.0032 - mae: 9.0032\n",
      "Epoch 59/100\n",
      "2/2 [==============================] - 0s 13ms/step - loss: 10.2392 - mae: 10.2392\n",
      "Epoch 60/100\n",
      "2/2 [==============================] - 0s 7ms/step - loss: 8.1646 - mae: 8.1646\n",
      "Epoch 61/100\n",
      "2/2 [==============================] - 0s 4ms/step - loss: 10.0310 - mae: 10.0310\n",
      "Epoch 62/100\n",
      "2/2 [==============================] - 0s 5ms/step - loss: 7.0344 - mae: 7.0344\n",
      "Epoch 63/100\n",
      "2/2 [==============================] - 0s 2ms/step - loss: 12.6696 - mae: 12.6696\n",
      "Epoch 64/100\n",
      "2/2 [==============================] - 0s 4ms/step - loss: 12.6128 - mae: 12.6128\n",
      "Epoch 65/100\n",
      "2/2 [==============================] - 0s 5ms/step - loss: 9.4366 - mae: 9.4366\n",
      "Epoch 66/100\n",
      "2/2 [==============================] - 0s 8ms/step - loss: 11.5014 - mae: 11.5014\n",
      "Epoch 67/100\n",
      "2/2 [==============================] - 0s 7ms/step - loss: 8.0373 - mae: 8.0373\n",
      "Epoch 68/100\n",
      "2/2 [==============================] - 0s 7ms/step - loss: 8.5648 - mae: 8.5648\n",
      "Epoch 69/100\n",
      "2/2 [==============================] - 0s 7ms/step - loss: 12.2603 - mae: 12.2603\n",
      "Epoch 70/100\n",
      "2/2 [==============================] - 0s 6ms/step - loss: 8.9574 - mae: 8.9574\n",
      "Epoch 71/100\n",
      "2/2 [==============================] - 0s 7ms/step - loss: 9.9333 - mae: 9.9333\n",
      "Epoch 72/100\n",
      "2/2 [==============================] - 0s 7ms/step - loss: 9.9709 - mae: 9.9709\n",
      "Epoch 73/100\n",
      "2/2 [==============================] - 0s 4ms/step - loss: 12.4443 - mae: 12.4443\n",
      "Epoch 74/100\n",
      "2/2 [==============================] - 0s 4ms/step - loss: 10.5595 - mae: 10.5595\n",
      "Epoch 75/100\n",
      "2/2 [==============================] - 0s 3ms/step - loss: 9.6306 - mae: 9.6306\n",
      "Epoch 76/100\n",
      "2/2 [==============================] - 0s 4ms/step - loss: 11.0982 - mae: 11.0982\n",
      "Epoch 77/100\n",
      "2/2 [==============================] - 0s 1ms/step - loss: 8.2790 - mae: 8.2790\n",
      "Epoch 78/100\n",
      "2/2 [==============================] - 0s 3ms/step - loss: 8.9727 - mae: 8.9727\n",
      "Epoch 79/100\n",
      "2/2 [==============================] - 0s 3ms/step - loss: 19.7693 - mae: 19.7693\n",
      "Epoch 80/100\n",
      "2/2 [==============================] - 0s 7ms/step - loss: 17.8283 - mae: 17.8283\n",
      "Epoch 81/100\n",
      "2/2 [==============================] - 0s 403us/step - loss: 7.0681 - mae: 7.0681\n",
      "Epoch 82/100\n",
      "2/2 [==============================] - 0s 3ms/step - loss: 10.4092 - mae: 10.4092\n",
      "Epoch 83/100\n",
      "2/2 [==============================] - 0s 3ms/step - loss: 9.8342 - mae: 9.8342\n",
      "Epoch 84/100\n",
      "2/2 [==============================] - 0s 4ms/step - loss: 7.9283 - mae: 7.9283\n",
      "Epoch 85/100\n",
      "2/2 [==============================] - 0s 3ms/step - loss: 9.4350 - mae: 9.4350\n",
      "Epoch 86/100\n",
      "2/2 [==============================] - 0s 3ms/step - loss: 9.4808 - mae: 9.4808\n",
      "Epoch 87/100\n",
      "2/2 [==============================] - 0s 4ms/step - loss: 11.4229 - mae: 11.4229\n",
      "Epoch 88/100\n",
      "2/2 [==============================] - 0s 5ms/step - loss: 9.9211 - mae: 9.9211\n",
      "Epoch 89/100\n",
      "2/2 [==============================] - 0s 2ms/step - loss: 7.2465 - mae: 7.2465\n",
      "Epoch 90/100\n",
      "2/2 [==============================] - 0s 4ms/step - loss: 12.6792 - mae: 12.6792\n",
      "Epoch 91/100\n",
      "2/2 [==============================] - 0s 4ms/step - loss: 7.3024 - mae: 7.3024\n",
      "Epoch 92/100\n",
      "2/2 [==============================] - 0s 5ms/step - loss: 7.6647 - mae: 7.6647\n",
      "Epoch 93/100\n",
      "2/2 [==============================] - 0s 4ms/step - loss: 7.1131 - mae: 7.1131\n",
      "Epoch 94/100\n",
      "2/2 [==============================] - 0s 3ms/step - loss: 12.5280 - mae: 12.5280\n",
      "Epoch 95/100\n",
      "2/2 [==============================] - 0s 3ms/step - loss: 9.9036 - mae: 9.9036\n",
      "Epoch 96/100\n",
      "2/2 [==============================] - 0s 4ms/step - loss: 9.1404 - mae: 9.1404\n",
      "Epoch 97/100\n",
      "2/2 [==============================] - 0s 3ms/step - loss: 12.0944 - mae: 12.0944\n",
      "Epoch 98/100\n",
      "2/2 [==============================] - 0s 3ms/step - loss: 9.0500 - mae: 9.0500\n",
      "Epoch 99/100\n",
      "2/2 [==============================] - 0s 7ms/step - loss: 8.4964 - mae: 8.4964\n",
      "Epoch 100/100\n",
      "2/2 [==============================] - 0s 3ms/step - loss: 14.4761 - mae: 14.4761\n"
     ]
    },
    {
     "data": {
      "text/plain": [
       "<keras.callbacks.History at 0x21ba6562ad0>"
      ]
     },
     "execution_count": 56,
     "metadata": {},
     "output_type": "execute_result"
    }
   ],
   "source": [
    "model_1 = tf.keras.Sequential([\n",
    "    tf.keras.layers.Dense(1)\n",
    "])\n",
    "\n",
    "model_1.compile(loss=tf.keras.losses.mae,optimizer=tf.keras.optimizers.SGD(), metrics=['mae'])\n",
    "model_1.fit(tf.expand_dims(X_train,axis=-1), y_train, epochs=100)"
   ]
  },
  {
   "cell_type": "markdown",
   "metadata": {
    "id": "gLMzmLr7U-J2"
   },
   "source": [
    "# Prediction plot"
   ]
  },
  {
   "cell_type": "code",
   "execution_count": 57,
   "metadata": {
    "colab": {
     "base_uri": "https://localhost:8080/"
    },
    "id": "B0brx9f-VBDy",
    "outputId": "cc78518b-bb9c-4fb3-ca5a-45af427c04a8"
   },
   "outputs": [
    {
     "name": "stdout",
     "output_type": "stream",
     "text": [
      "WARNING:tensorflow:6 out of the last 6 calls to <function Model.make_predict_function.<locals>.predict_function at 0x0000021BA6551B40> triggered tf.function retracing. Tracing is expensive and the excessive number of tracings could be due to (1) creating @tf.function repeatedly in a loop, (2) passing tensors with different shapes, (3) passing Python objects instead of tensors. For (1), please define your @tf.function outside of the loop. For (2), @tf.function has reduce_retracing=True option that can avoid unnecessary retracing. For (3), please refer to https://www.tensorflow.org/guide/function#controlling_retracing and https://www.tensorflow.org/api_docs/python/tf/function for  more details.\n",
      "1/1 [==============================] - 0s 42ms/step\n"
     ]
    }
   ],
   "source": [
    "y_pred_1 = model_1.predict(y_test)"
   ]
  },
  {
   "cell_type": "code",
   "execution_count": 58,
   "metadata": {
    "colab": {
     "base_uri": "https://localhost:8080/",
     "height": 599
    },
    "id": "CC4767aDVFNQ",
    "outputId": "fb5f8e9e-bee4-4b69-94bd-e62cb7702e33"
   },
   "outputs": [
    {
     "data": {
      "image/png": "[encoded data removed]",
      "text/plain": [
       "<Figure size 1000x700 with 1 Axes>"
      ]
     },
     "metadata": {},
     "output_type": "display_data"
    }
   ],
   "source": [
    "plot_predictions(predictions = y_pred_1)"
   ]
  },
  {
   "cell_type": "markdown",
   "metadata": {
    "id": "ukQO3v2rVRtG"
   },
   "source": [
    "## Eval metrics"
   ]
  },
  {
   "cell_type": "code",
   "execution_count": 59,
   "metadata": {
    "colab": {
     "base_uri": "https://localhost:8080/"
    },
    "id": "g507jZYgVUwp",
    "outputId": "c49b96be-e755-4364-852a-bd92da6235d7"
   },
   "outputs": [
    {
     "data": {
      "text/plain": [
       "(<tf.Tensor: shape=(), dtype=float32, numpy=23.345417>,\n",
       " <tf.Tensor: shape=(), dtype=float32, numpy=555.36664>)"
      ]
     },
     "execution_count": 59,
     "metadata": {},
     "output_type": "execute_result"
    }
   ],
   "source": [
    "mae_1=mae(y_test,tf.squeeze(y_pred_1))\n",
    "mse_1=mse(y_test,tf.squeeze(y_pred_1))\n",
    "mae_1,mse_1"
   ]
  },
  {
   "cell_type": "markdown",
   "metadata": {
    "id": "ES9om983V33m"
   },
   "source": [
    "## Model 2"
   ]
  },
  {
   "cell_type": "code",
   "execution_count": 60,
   "metadata": {
    "id": "zLmltkagW8Fh"
   },
   "outputs": [],
   "source": [
    "tf.random.set_seed(42)"
   ]
  },
  {
   "cell_type": "code",
   "execution_count": 61,
   "metadata": {
    "colab": {
     "base_uri": "https://localhost:8080/"
    },
    "id": "ZHUYW_k8V52W",
    "outputId": "ee85afc7-ef0f-4786-c652-f0027d9b7796"
   },
   "outputs": [
    {
     "name": "stdout",
     "output_type": "stream",
     "text": [
      "Epoch 1/100\n",
      "2/2 [==============================] - 0s 4ms/step - loss: 27.4748 - mse: 1112.1920\n",
      "Epoch 2/100\n",
      "2/2 [==============================] - 0s 4ms/step - loss: 25.3498 - mse: 826.3032\n",
      "Epoch 3/100\n",
      "2/2 [==============================] - 0s 4ms/step - loss: 30.1411 - mse: 1373.2634\n",
      "Epoch 4/100\n",
      "2/2 [==============================] - 0s 4ms/step - loss: 29.5650 - mse: 1300.2849\n",
      "Epoch 5/100\n",
      "2/2 [==============================] - 0s 4ms/step - loss: 15.1153 - mse: 289.5473\n",
      "Epoch 6/100\n",
      "2/2 [==============================] - 0s 3ms/step - loss: 12.0088 - mse: 174.8484\n",
      "Epoch 7/100\n",
      "2/2 [==============================] - 0s 4ms/step - loss: 11.3150 - mse: 154.8201\n",
      "Epoch 8/100\n",
      "2/2 [==============================] - 0s 3ms/step - loss: 11.1364 - mse: 166.2249\n",
      "Epoch 9/100\n",
      "2/2 [==============================] - 0s 4ms/step - loss: 41.0058 - mse: 2664.8364\n",
      "Epoch 10/100\n",
      "2/2 [==============================] - 0s 5ms/step - loss: 28.3304 - mse: 1132.3213\n",
      "Epoch 11/100\n",
      "2/2 [==============================] - 0s 4ms/step - loss: 10.2495 - mse: 149.9834\n",
      "Epoch 12/100\n",
      "2/2 [==============================] - 0s 6ms/step - loss: 25.1466 - mse: 882.0507\n",
      "Epoch 13/100\n",
      "2/2 [==============================] - 0s 4ms/step - loss: 17.6386 - mse: 431.5565\n",
      "Epoch 14/100\n",
      "2/2 [==============================] - 0s 4ms/step - loss: 23.8152 - mse: 870.7723\n",
      "Epoch 15/100\n",
      "2/2 [==============================] - 0s 4ms/step - loss: 15.8482 - mse: 342.2556\n",
      "Epoch 16/100\n",
      "2/2 [==============================] - 0s 3ms/step - loss: 10.4673 - mse: 125.1513\n",
      "Epoch 17/100\n",
      "2/2 [==============================] - 0s 3ms/step - loss: 19.7736 - mse: 533.0983\n",
      "Epoch 18/100\n",
      "2/2 [==============================] - 0s 4ms/step - loss: 13.3804 - mse: 281.3094\n",
      "Epoch 19/100\n",
      "2/2 [==============================] - 0s 3ms/step - loss: 16.4026 - mse: 431.6310\n",
      "Epoch 20/100\n",
      "2/2 [==============================] - 0s 5ms/step - loss: 8.2508 - mse: 93.4706\n",
      "Epoch 21/100\n",
      "2/2 [==============================] - 0s 4ms/step - loss: 14.4527 - mse: 289.4200\n",
      "Epoch 22/100\n",
      "2/2 [==============================] - 0s 4ms/step - loss: 12.8697 - mse: 246.5524\n",
      "Epoch 23/100\n",
      "2/2 [==============================] - 0s 6ms/step - loss: 15.5042 - mse: 315.5472\n",
      "Epoch 24/100\n",
      "2/2 [==============================] - 0s 6ms/step - loss: 15.2946 - mse: 316.7904\n",
      "Epoch 25/100\n",
      "2/2 [==============================] - 0s 2ms/step - loss: 14.3594 - mse: 273.0579\n",
      "Epoch 26/100\n",
      "2/2 [==============================] - 0s 3ms/step - loss: 19.3795 - mse: 569.8327\n",
      "Epoch 27/100\n",
      "2/2 [==============================] - 0s 3ms/step - loss: 11.4380 - mse: 167.6805\n",
      "Epoch 28/100\n",
      "2/2 [==============================] - 0s 3ms/step - loss: 28.9861 - mse: 1365.2087\n",
      "Epoch 29/100\n",
      "2/2 [==============================] - 0s 5ms/step - loss: 9.2533 - mse: 94.8513\n",
      "Epoch 30/100\n",
      "2/2 [==============================] - 0s 5ms/step - loss: 29.7439 - mse: 1599.9330\n",
      "Epoch 31/100\n",
      "2/2 [==============================] - 0s 4ms/step - loss: 53.9590 - mse: 5215.3784\n",
      "Epoch 32/100\n",
      "2/2 [==============================] - 0s 5ms/step - loss: 9.5515 - mse: 101.0165\n",
      "Epoch 33/100\n",
      "2/2 [==============================] - 0s 4ms/step - loss: 12.1395 - mse: 179.4480\n",
      "Epoch 34/100\n",
      "2/2 [==============================] - 0s 4ms/step - loss: 23.7893 - mse: 857.0521\n",
      "Epoch 35/100\n",
      "2/2 [==============================] - 0s 6ms/step - loss: 12.6417 - mse: 242.0483\n",
      "Epoch 36/100\n",
      "2/2 [==============================] - 0s 2ms/step - loss: 21.5743 - mse: 663.8002\n",
      "Epoch 37/100\n",
      "2/2 [==============================] - 0s 4ms/step - loss: 11.3448 - mse: 149.3158\n",
      "Epoch 38/100\n",
      "2/2 [==============================] - 0s 4ms/step - loss: 13.4021 - mse: 266.0098\n",
      "Epoch 39/100\n",
      "2/2 [==============================] - 0s 5ms/step - loss: 10.7615 - mse: 137.6539\n",
      "Epoch 40/100\n",
      "2/2 [==============================] - 0s 5ms/step - loss: 16.5049 - mse: 395.5721\n",
      "Epoch 41/100\n",
      "2/2 [==============================] - 0s 4ms/step - loss: 10.9290 - mse: 180.0962\n",
      "Epoch 42/100\n",
      "2/2 [==============================] - 0s 4ms/step - loss: 9.2675 - mse: 115.5988\n",
      "Epoch 43/100\n",
      "2/2 [==============================] - 0s 5ms/step - loss: 9.5846 - mse: 111.5997\n",
      "Epoch 44/100\n",
      "2/2 [==============================] - 0s 3ms/step - loss: 27.8469 - mse: 1242.6830\n",
      "Epoch 45/100\n",
      "2/2 [==============================] - 0s 4ms/step - loss: 11.2484 - mse: 145.8015\n",
      "Epoch 46/100\n",
      "2/2 [==============================] - 0s 3ms/step - loss: 13.8213 - mse: 279.1459\n",
      "Epoch 47/100\n",
      "2/2 [==============================] - 0s 6ms/step - loss: 11.9365 - mse: 212.2047\n",
      "Epoch 48/100\n",
      "2/2 [==============================] - 0s 3ms/step - loss: 16.9798 - mse: 390.4474\n",
      "Epoch 49/100\n",
      "2/2 [==============================] - 0s 4ms/step - loss: 9.7611 - mse: 104.5037\n",
      "Epoch 50/100\n",
      "2/2 [==============================] - 0s 4ms/step - loss: 14.1409 - mse: 279.0512\n",
      "Epoch 51/100\n",
      "2/2 [==============================] - 0s 7ms/step - loss: 11.7279 - mse: 160.6922\n",
      "Epoch 52/100\n",
      "2/2 [==============================] - 0s 4ms/step - loss: 31.3097 - mse: 1702.5457\n",
      "Epoch 53/100\n",
      "2/2 [==============================] - 0s 3ms/step - loss: 14.6922 - mse: 319.4255\n",
      "Epoch 54/100\n",
      "2/2 [==============================] - 0s 5ms/step - loss: 24.5555 - mse: 906.8530\n",
      "Epoch 55/100\n",
      "2/2 [==============================] - 0s 5ms/step - loss: 23.8340 - mse: 853.7377\n",
      "Epoch 56/100\n",
      "2/2 [==============================] - 0s 600us/step - loss: 11.1033 - mse: 171.1062\n",
      "Epoch 57/100\n",
      "2/2 [==============================] - 0s 4ms/step - loss: 13.0347 - mse: 210.3158\n",
      "Epoch 58/100\n",
      "2/2 [==============================] - 0s 3ms/step - loss: 9.7673 - mse: 105.3512\n",
      "Epoch 59/100\n",
      "2/2 [==============================] - 0s 3ms/step - loss: 13.2093 - mse: 243.7891\n",
      "Epoch 60/100\n",
      "2/2 [==============================] - 0s 1ms/step - loss: 10.8175 - mse: 137.3070\n",
      "Epoch 61/100\n",
      "2/2 [==============================] - 0s 4ms/step - loss: 13.3909 - mse: 236.9081\n",
      "Epoch 62/100\n",
      "2/2 [==============================] - 0s 3ms/step - loss: 17.3350 - mse: 458.1133\n",
      "Epoch 63/100\n",
      "2/2 [==============================] - 0s 3ms/step - loss: 9.1281 - mse: 87.6855\n",
      "Epoch 64/100\n",
      "2/2 [==============================] - 0s 4ms/step - loss: 17.9579 - mse: 467.8799\n",
      "Epoch 65/100\n",
      "2/2 [==============================] - 0s 0s/step - loss: 10.6130 - mse: 138.1847\n",
      "Epoch 66/100\n",
      "2/2 [==============================] - 0s 4ms/step - loss: 21.4785 - mse: 682.4824\n",
      "Epoch 67/100\n",
      "2/2 [==============================] - 0s 6ms/step - loss: 10.6243 - mse: 132.4420\n",
      "Epoch 68/100\n",
      "2/2 [==============================] - 0s 624us/step - loss: 14.8630 - mse: 335.5631\n",
      "Epoch 69/100\n",
      "2/2 [==============================] - 0s 5ms/step - loss: 10.7703 - mse: 134.3048\n",
      "Epoch 70/100\n",
      "2/2 [==============================] - 0s 5ms/step - loss: 12.8719 - mse: 211.2512\n",
      "Epoch 71/100\n",
      "2/2 [==============================] - 0s 4ms/step - loss: 13.2929 - mse: 241.1409\n",
      "Epoch 72/100\n",
      "2/2 [==============================] - 0s 5ms/step - loss: 20.1468 - mse: 577.4613\n",
      "Epoch 73/100\n",
      "2/2 [==============================] - 0s 4ms/step - loss: 9.7349 - mse: 149.7248\n",
      "Epoch 74/100\n",
      "2/2 [==============================] - 0s 0s/step - loss: 27.4568 - mse: 1200.1892\n",
      "Epoch 75/100\n",
      "2/2 [==============================] - 0s 10ms/step - loss: 10.0213 - mse: 145.8759\n",
      "Epoch 76/100\n",
      "2/2 [==============================] - 0s 0s/step - loss: 12.9413 - mse: 208.8283\n",
      "Epoch 77/100\n",
      "2/2 [==============================] - 0s 0s/step - loss: 17.9459 - mse: 502.2558\n",
      "Epoch 78/100\n",
      "2/2 [==============================] - 0s 10ms/step - loss: 8.9611 - mse: 88.0676\n",
      "Epoch 79/100\n",
      "2/2 [==============================] - 0s 9ms/step - loss: 28.7967 - mse: 1310.6857\n",
      "Epoch 80/100\n",
      "2/2 [==============================] - 0s 0s/step - loss: 31.1470 - mse: 1541.3726\n",
      "Epoch 81/100\n",
      "2/2 [==============================] - 0s 0s/step - loss: 13.5697 - mse: 259.3285\n",
      "Epoch 82/100\n",
      "2/2 [==============================] - 0s 7ms/step - loss: 15.8674 - mse: 346.3109\n",
      "Epoch 83/100\n",
      "2/2 [==============================] - 0s 8ms/step - loss: 9.1297 - mse: 92.7400\n",
      "Epoch 84/100\n",
      "2/2 [==============================] - 0s 0s/step - loss: 8.2032 - mse: 108.4499\n",
      "Epoch 85/100\n",
      "2/2 [==============================] - 0s 0s/step - loss: 18.8786 - mse: 555.2701\n",
      "Epoch 86/100\n",
      "2/2 [==============================] - 0s 9ms/step - loss: 21.9694 - mse: 691.2015\n",
      "Epoch 87/100\n",
      "2/2 [==============================] - 0s 6ms/step - loss: 11.2103 - mse: 150.6026\n",
      "Epoch 88/100\n",
      "2/2 [==============================] - 0s 0s/step - loss: 25.9282 - mse: 958.3709\n",
      "Epoch 89/100\n",
      "2/2 [==============================] - 0s 506us/step - loss: 9.5181 - mse: 132.2503\n",
      "Epoch 90/100\n",
      "2/2 [==============================] - 0s 6ms/step - loss: 18.2409 - mse: 477.3203\n",
      "Epoch 91/100\n",
      "2/2 [==============================] - 0s 12ms/step - loss: 10.3215 - mse: 166.6354\n",
      "Epoch 92/100\n",
      "2/2 [==============================] - 0s 13ms/step - loss: 17.4927 - mse: 417.9638\n",
      "Epoch 93/100\n",
      "2/2 [==============================] - 0s 7ms/step - loss: 6.8236 - mse: 64.5893\n",
      "Epoch 94/100\n",
      "2/2 [==============================] - 0s 10ms/step - loss: 17.6569 - mse: 474.6737\n",
      "Epoch 95/100\n",
      "2/2 [==============================] - 0s 10ms/step - loss: 17.3722 - mse: 419.0576\n",
      "Epoch 96/100\n",
      "2/2 [==============================] - 0s 10ms/step - loss: 11.5392 - mse: 209.2410\n",
      "Epoch 97/100\n",
      "2/2 [==============================] - 0s 4ms/step - loss: 18.3118 - mse: 454.4901\n",
      "Epoch 98/100\n",
      "2/2 [==============================] - 0s 0s/step - loss: 9.7550 - mse: 177.8179\n",
      "Epoch 99/100\n",
      "2/2 [==============================] - 0s 3ms/step - loss: 16.9424 - mse: 450.0981\n",
      "Epoch 100/100\n",
      "2/2 [==============================] - 0s 3ms/step - loss: 17.8142 - mse: 468.5057\n"
     ]
    },
    {
     "data": {
      "text/plain": [
       "<keras.callbacks.History at 0x21ba60f6e30>"
      ]
     },
     "execution_count": 61,
     "metadata": {},
     "output_type": "execute_result"
    }
   ],
   "source": [
    "model_2 = tf.keras.Sequential([\n",
    "    tf.keras.layers.Dense(10),\n",
    "    tf.keras.layers.Dense(1)\n",
    "])\n",
    "\n",
    "model_2.compile(loss=tf.keras.losses.mae,optimizer=tf.keras.optimizers.SGD(), metrics=['mse'])\n",
    "model_2.fit(tf.expand_dims(X_train, axis=-1), y_train, epochs=100)"
   ]
  },
  {
   "cell_type": "code",
   "execution_count": 62,
   "metadata": {
    "colab": {
     "base_uri": "https://localhost:8080/"
    },
    "id": "EcRQyBswWm9K",
    "outputId": "67b66e0e-b15b-4b95-c026-c533e21ed13e"
   },
   "outputs": [
    {
     "name": "stdout",
     "output_type": "stream",
     "text": [
      "1/1 [==============================] - 0s 45ms/step\n"
     ]
    }
   ],
   "source": [
    "y_pred_2 = model_2.predict(X_test)"
   ]
  },
  {
   "cell_type": "code",
   "execution_count": 63,
   "metadata": {
    "colab": {
     "base_uri": "https://localhost:8080/",
     "height": 599
    },
    "id": "W4o5dPJ_WtWG",
    "outputId": "c8de9350-2ac1-4058-c243-f9857cbbccc0"
   },
   "outputs": [
    {
     "data": {
      "image/png": "[encoded data removed]",
      "text/plain": [
       "<Figure size 1000x700 with 1 Axes>"
      ]
     },
     "metadata": {},
     "output_type": "display_data"
    }
   ],
   "source": [
    "plot_predictions(predictions = y_pred_2)"
   ]
  },
  {
   "cell_type": "code",
   "execution_count": 64,
   "metadata": {
    "colab": {
     "base_uri": "https://localhost:8080/"
    },
    "id": "HfBYd37pW4_j",
    "outputId": "7e00b305-83a6-4fd0-c5c6-93f80b3c7e14"
   },
   "outputs": [
    {
     "data": {
      "text/plain": [
       "(<tf.Tensor: shape=(), dtype=float32, numpy=43.084347>,\n",
       " <tf.Tensor: shape=(), dtype=float32, numpy=1882.1276>)"
      ]
     },
     "execution_count": 64,
     "metadata": {},
     "output_type": "execute_result"
    }
   ],
   "source": [
    "mae_2=mae(y_test,tf.squeeze(y_pred_2))\n",
    "mse_2=mse(y_test,tf.squeeze(y_pred_2))\n",
    "mae_2,mse_2"
   ]
  },
  {
   "cell_type": "code",
   "execution_count": 65,
   "metadata": {
    "id": "8xLdcof7XHXH"
   },
   "outputs": [],
   "source": [
    "tf.random.set_seed(42)"
   ]
  },
  {
   "cell_type": "code",
   "execution_count": 66,
   "metadata": {
    "colab": {
     "base_uri": "https://localhost:8080/"
    },
    "id": "ePCY8eCDXLMy",
    "outputId": "5356cf58-0559-4eb2-a6fb-44a75d9c3403"
   },
   "outputs": [
    {
     "name": "stdout",
     "output_type": "stream",
     "text": [
      "Epoch 1/500\n",
      "2/2 [==============================] - 0s 8ms/step - loss: 39.1368 - mae: 39.1368\n",
      "Epoch 2/500\n",
      "2/2 [==============================] - 0s 5ms/step - loss: 27.4726 - mae: 27.4726\n",
      "Epoch 3/500\n",
      "2/2 [==============================] - 0s 0s/step - loss: 32.6915 - mae: 32.6915\n",
      "Epoch 4/500\n",
      "2/2 [==============================] - 0s 13ms/step - loss: 27.1690 - mae: 27.1690\n",
      "Epoch 5/500\n",
      "2/2 [==============================] - 0s 3ms/step - loss: 14.8380 - mae: 14.8380\n",
      "Epoch 6/500\n",
      "2/2 [==============================] - 0s 5ms/step - loss: 11.8096 - mae: 11.8096\n",
      "Epoch 7/500\n",
      "2/2 [==============================] - 0s 0s/step - loss: 11.1470 - mae: 11.1470\n",
      "Epoch 8/500\n",
      "2/2 [==============================] - 0s 7ms/step - loss: 11.0887 - mae: 11.0887\n",
      "Epoch 9/500\n",
      "2/2 [==============================] - 0s 4ms/step - loss: 40.3684 - mae: 40.3684\n",
      "Epoch 10/500\n",
      "2/2 [==============================] - 0s 0s/step - loss: 27.7747 - mae: 27.7747\n",
      "Epoch 11/500\n",
      "2/2 [==============================] - 0s 4ms/step - loss: 10.2485 - mae: 10.2485\n",
      "Epoch 12/500\n",
      "2/2 [==============================] - 0s 4ms/step - loss: 25.3235 - mae: 25.3235\n",
      "Epoch 13/500\n",
      "2/2 [==============================] - 0s 4ms/step - loss: 16.9479 - mae: 16.9479\n",
      "Epoch 14/500\n",
      "2/2 [==============================] - 0s 4ms/step - loss: 25.8458 - mae: 25.8458\n",
      "Epoch 15/500\n",
      "2/2 [==============================] - 0s 3ms/step - loss: 17.6745 - mae: 17.6745\n",
      "Epoch 16/500\n",
      "2/2 [==============================] - 0s 6ms/step - loss: 10.0778 - mae: 10.0778\n",
      "Epoch 17/500\n",
      "2/2 [==============================] - 0s 4ms/step - loss: 18.6762 - mae: 18.6762\n",
      "Epoch 18/500\n",
      "2/2 [==============================] - 0s 5ms/step - loss: 11.7955 - mae: 11.7955\n",
      "Epoch 19/500\n",
      "2/2 [==============================] - 0s 5ms/step - loss: 16.5162 - mae: 16.5162\n",
      "Epoch 20/500\n",
      "2/2 [==============================] - 0s 8ms/step - loss: 8.2370 - mae: 8.2370\n",
      "Epoch 21/500\n",
      "2/2 [==============================] - 0s 4ms/step - loss: 14.4078 - mae: 14.4078\n",
      "Epoch 22/500\n",
      "2/2 [==============================] - 0s 4ms/step - loss: 12.8214 - mae: 12.8214\n",
      "Epoch 23/500\n",
      "2/2 [==============================] - 0s 3ms/step - loss: 15.4592 - mae: 15.4592\n",
      "Epoch 24/500\n",
      "2/2 [==============================] - 0s 4ms/step - loss: 15.2485 - mae: 15.2485\n",
      "Epoch 25/500\n",
      "2/2 [==============================] - 0s 3ms/step - loss: 14.3275 - mae: 14.3275\n",
      "Epoch 26/500\n",
      "2/2 [==============================] - 0s 1ms/step - loss: 19.3227 - mae: 19.3227\n",
      "Epoch 27/500\n",
      "2/2 [==============================] - 0s 0s/step - loss: 11.4626 - mae: 11.4626\n",
      "Epoch 28/500\n",
      "2/2 [==============================] - 0s 3ms/step - loss: 29.1689 - mae: 29.1689\n",
      "Epoch 29/500\n",
      "2/2 [==============================] - 0s 4ms/step - loss: 9.2506 - mae: 9.2506\n",
      "Epoch 30/500\n",
      "2/2 [==============================] - 0s 3ms/step - loss: 29.8888 - mae: 29.8888\n",
      "Epoch 31/500\n",
      "2/2 [==============================] - 0s 4ms/step - loss: 54.2422 - mae: 54.2422\n",
      "Epoch 32/500\n",
      "2/2 [==============================] - 0s 3ms/step - loss: 9.5814 - mae: 9.5814\n",
      "Epoch 33/500\n",
      "2/2 [==============================] - 0s 0s/step - loss: 12.1750 - mae: 12.1750\n",
      "Epoch 34/500\n",
      "2/2 [==============================] - 0s 0s/step - loss: 23.9567 - mae: 23.9567\n",
      "Epoch 35/500\n",
      "2/2 [==============================] - 0s 4ms/step - loss: 12.6140 - mae: 12.6140\n",
      "Epoch 36/500\n",
      "2/2 [==============================] - 0s 0s/step - loss: 21.5156 - mae: 21.5156\n",
      "Epoch 37/500\n",
      "2/2 [==============================] - 0s 3ms/step - loss: 11.3893 - mae: 11.3893\n",
      "Epoch 38/500\n",
      "2/2 [==============================] - 0s 3ms/step - loss: 13.4816 - mae: 13.4816\n",
      "Epoch 39/500\n",
      "2/2 [==============================] - 0s 3ms/step - loss: 10.7981 - mae: 10.7981\n",
      "Epoch 40/500\n",
      "2/2 [==============================] - 0s 4ms/step - loss: 16.6250 - mae: 16.6250\n",
      "Epoch 41/500\n",
      "2/2 [==============================] - 0s 10ms/step - loss: 10.9852 - mae: 10.9852\n",
      "Epoch 42/500\n",
      "2/2 [==============================] - 0s 3ms/step - loss: 9.3093 - mae: 9.3093\n",
      "Epoch 43/500\n",
      "2/2 [==============================] - 0s 4ms/step - loss: 9.5949 - mae: 9.5949\n",
      "Epoch 44/500\n",
      "2/2 [==============================] - 0s 3ms/step - loss: 28.0376 - mae: 28.0376\n",
      "Epoch 45/500\n",
      "2/2 [==============================] - 0s 3ms/step - loss: 11.2951 - mae: 11.2951\n",
      "Epoch 46/500\n",
      "2/2 [==============================] - 0s 3ms/step - loss: 14.0966 - mae: 14.0966\n",
      "Epoch 47/500\n",
      "2/2 [==============================] - 0s 1ms/step - loss: 13.4917 - mae: 13.4917\n",
      "Epoch 48/500\n",
      "2/2 [==============================] - 0s 3ms/step - loss: 17.3235 - mae: 17.3235\n",
      "Epoch 49/500\n",
      "2/2 [==============================] - 0s 3ms/step - loss: 9.5244 - mae: 9.5244\n",
      "Epoch 50/500\n",
      "2/2 [==============================] - 0s 3ms/step - loss: 13.7225 - mae: 13.7225\n",
      "Epoch 51/500\n",
      "2/2 [==============================] - 0s 548us/step - loss: 11.5654 - mae: 11.5654\n",
      "Epoch 52/500\n",
      "2/2 [==============================] - 0s 4ms/step - loss: 30.2699 - mae: 30.2699\n",
      "Epoch 53/500\n",
      "2/2 [==============================] - 0s 3ms/step - loss: 14.2347 - mae: 14.2347\n",
      "Epoch 54/500\n",
      "2/2 [==============================] - 0s 3ms/step - loss: 23.5321 - mae: 23.5321\n",
      "Epoch 55/500\n",
      "2/2 [==============================] - 0s 4ms/step - loss: 24.4438 - mae: 24.4438\n",
      "Epoch 56/500\n",
      "2/2 [==============================] - 0s 2ms/step - loss: 11.2960 - mae: 11.2960\n",
      "Epoch 57/500\n",
      "2/2 [==============================] - 0s 10ms/step - loss: 13.2971 - mae: 13.2971\n",
      "Epoch 58/500\n",
      "2/2 [==============================] - 0s 3ms/step - loss: 9.9134 - mae: 9.9134\n",
      "Epoch 59/500\n",
      "2/2 [==============================] - 0s 3ms/step - loss: 13.8313 - mae: 13.8313\n",
      "Epoch 60/500\n",
      "2/2 [==============================] - 0s 3ms/step - loss: 9.9559 - mae: 9.9559\n",
      "Epoch 61/500\n",
      "2/2 [==============================] - 0s 0s/step - loss: 14.8861 - mae: 14.8861\n",
      "Epoch 62/500\n",
      "2/2 [==============================] - 0s 12ms/step - loss: 11.8724 - mae: 11.8724\n",
      "Epoch 63/500\n",
      "2/2 [==============================] - 0s 4ms/step - loss: 10.2583 - mae: 10.2583\n",
      "Epoch 64/500\n",
      "2/2 [==============================] - 0s 0s/step - loss: 23.7371 - mae: 23.7371\n",
      "Epoch 65/500\n",
      "2/2 [==============================] - 0s 8ms/step - loss: 10.4330 - mae: 10.4330\n",
      "Epoch 66/500\n",
      "2/2 [==============================] - 0s 3ms/step - loss: 20.7994 - mae: 20.7994\n",
      "Epoch 67/500\n",
      "2/2 [==============================] - 0s 4ms/step - loss: 10.4017 - mae: 10.4017\n",
      "Epoch 68/500\n",
      "2/2 [==============================] - 0s 3ms/step - loss: 14.0813 - mae: 14.0813\n",
      "Epoch 69/500\n",
      "2/2 [==============================] - 0s 4ms/step - loss: 10.4631 - mae: 10.4631\n",
      "Epoch 70/500\n",
      "2/2 [==============================] - 0s 3ms/step - loss: 12.5276 - mae: 12.5276\n",
      "Epoch 71/500\n",
      "2/2 [==============================] - 0s 4ms/step - loss: 12.9576 - mae: 12.9576\n",
      "Epoch 72/500\n",
      "2/2 [==============================] - 0s 4ms/step - loss: 19.2262 - mae: 19.2262\n",
      "Epoch 73/500\n",
      "2/2 [==============================] - 0s 3ms/step - loss: 11.0954 - mae: 11.0954\n",
      "Epoch 74/500\n",
      "2/2 [==============================] - 0s 3ms/step - loss: 21.2960 - mae: 21.2960\n",
      "Epoch 75/500\n",
      "2/2 [==============================] - 0s 0s/step - loss: 9.4165 - mae: 9.4165\n",
      "Epoch 76/500\n",
      "2/2 [==============================] - 0s 15ms/step - loss: 12.2314 - mae: 12.2314\n",
      "Epoch 77/500\n",
      "2/2 [==============================] - 0s 0s/step - loss: 16.2088 - mae: 16.2088\n",
      "Epoch 78/500\n",
      "2/2 [==============================] - 0s 3ms/step - loss: 8.9922 - mae: 8.9922\n",
      "Epoch 79/500\n",
      "2/2 [==============================] - 0s 0s/step - loss: 23.4309 - mae: 23.4309\n",
      "Epoch 80/500\n",
      "2/2 [==============================] - 0s 6ms/step - loss: 26.0988 - mae: 26.0988\n",
      "Epoch 81/500\n",
      "2/2 [==============================] - 0s 4ms/step - loss: 11.3639 - mae: 11.3639\n",
      "Epoch 82/500\n",
      "2/2 [==============================] - 0s 3ms/step - loss: 12.4882 - mae: 12.4882\n",
      "Epoch 83/500\n",
      "2/2 [==============================] - 0s 4ms/step - loss: 17.1702 - mae: 17.1702\n",
      "Epoch 84/500\n",
      "2/2 [==============================] - 0s 0s/step - loss: 6.5711 - mae: 6.5711\n",
      "Epoch 85/500\n",
      "2/2 [==============================] - 0s 4ms/step - loss: 20.3079 - mae: 20.3079\n",
      "Epoch 86/500\n",
      "2/2 [==============================] - 0s 5ms/step - loss: 10.1498 - mae: 10.1498\n",
      "Epoch 87/500\n",
      "2/2 [==============================] - 0s 3ms/step - loss: 24.3648 - mae: 24.3648\n",
      "Epoch 88/500\n",
      "2/2 [==============================] - 0s 3ms/step - loss: 19.0295 - mae: 19.0295\n",
      "Epoch 89/500\n",
      "2/2 [==============================] - 0s 3ms/step - loss: 7.1444 - mae: 7.1444\n",
      "Epoch 90/500\n",
      "2/2 [==============================] - 0s 3ms/step - loss: 18.2364 - mae: 18.2364\n",
      "Epoch 91/500\n",
      "2/2 [==============================] - 0s 0s/step - loss: 13.2842 - mae: 13.2842\n",
      "Epoch 92/500\n",
      "2/2 [==============================] - 0s 3ms/step - loss: 14.8255 - mae: 14.8255\n",
      "Epoch 93/500\n",
      "2/2 [==============================] - 0s 4ms/step - loss: 11.6205 - mae: 11.6205\n",
      "Epoch 94/500\n",
      "2/2 [==============================] - 0s 4ms/step - loss: 16.1775 - mae: 16.1775\n",
      "Epoch 95/500\n",
      "2/2 [==============================] - 0s 3ms/step - loss: 15.5184 - mae: 15.5184\n",
      "Epoch 96/500\n",
      "2/2 [==============================] - 0s 3ms/step - loss: 15.0486 - mae: 15.0486\n",
      "Epoch 97/500\n",
      "2/2 [==============================] - 0s 4ms/step - loss: 10.8769 - mae: 10.8769\n",
      "Epoch 98/500\n",
      "2/2 [==============================] - 0s 2ms/step - loss: 14.3360 - mae: 14.3360\n",
      "Epoch 99/500\n",
      "2/2 [==============================] - 0s 3ms/step - loss: 13.3593 - mae: 13.3593\n",
      "Epoch 100/500\n",
      "2/2 [==============================] - 0s 3ms/step - loss: 19.9632 - mae: 19.9632\n",
      "Epoch 101/500\n",
      "2/2 [==============================] - 0s 3ms/step - loss: 22.5880 - mae: 22.5880\n",
      "Epoch 102/500\n",
      "2/2 [==============================] - 0s 0s/step - loss: 11.2880 - mae: 11.2880\n",
      "Epoch 103/500\n",
      "2/2 [==============================] - 0s 3ms/step - loss: 9.3531 - mae: 9.3531\n",
      "Epoch 104/500\n",
      "2/2 [==============================] - 0s 3ms/step - loss: 25.2381 - mae: 25.2381\n",
      "Epoch 105/500\n",
      "2/2 [==============================] - 0s 3ms/step - loss: 12.4498 - mae: 12.4498\n",
      "Epoch 106/500\n",
      "2/2 [==============================] - 0s 3ms/step - loss: 9.3935 - mae: 9.3935\n",
      "Epoch 107/500\n",
      "2/2 [==============================] - 0s 0s/step - loss: 23.2684 - mae: 23.2684\n",
      "Epoch 108/500\n",
      "2/2 [==============================] - 0s 3ms/step - loss: 8.2753 - mae: 8.2753\n",
      "Epoch 109/500\n",
      "2/2 [==============================] - 0s 3ms/step - loss: 14.0696 - mae: 14.0696\n",
      "Epoch 110/500\n",
      "2/2 [==============================] - 0s 0s/step - loss: 10.6070 - mae: 10.6070\n",
      "Epoch 111/500\n",
      "2/2 [==============================] - 0s 4ms/step - loss: 16.9152 - mae: 16.9152\n",
      "Epoch 112/500\n",
      "2/2 [==============================] - 0s 3ms/step - loss: 8.2659 - mae: 8.2659\n",
      "Epoch 113/500\n",
      "2/2 [==============================] - 0s 5ms/step - loss: 19.7438 - mae: 19.7438\n",
      "Epoch 114/500\n",
      "2/2 [==============================] - 0s 4ms/step - loss: 17.4414 - mae: 17.4414\n",
      "Epoch 115/500\n",
      "2/2 [==============================] - 0s 9ms/step - loss: 11.2353 - mae: 11.2353\n",
      "Epoch 116/500\n",
      "2/2 [==============================] - 0s 7ms/step - loss: 23.6351 - mae: 23.6351\n",
      "Epoch 117/500\n",
      "2/2 [==============================] - 0s 8ms/step - loss: 9.7413 - mae: 9.7413\n",
      "Epoch 118/500\n",
      "2/2 [==============================] - 0s 7ms/step - loss: 10.8278 - mae: 10.8278\n",
      "Epoch 119/500\n",
      "2/2 [==============================] - 0s 5ms/step - loss: 8.0812 - mae: 8.0812\n",
      "Epoch 120/500\n",
      "2/2 [==============================] - 0s 5ms/step - loss: 30.0216 - mae: 30.0216\n",
      "Epoch 121/500\n",
      "2/2 [==============================] - 0s 0s/step - loss: 8.1112 - mae: 8.1112\n",
      "Epoch 122/500\n",
      "2/2 [==============================] - 0s 4ms/step - loss: 28.5694 - mae: 28.5694\n",
      "Epoch 123/500\n",
      "2/2 [==============================] - 0s 3ms/step - loss: 33.2213 - mae: 33.2213\n",
      "Epoch 124/500\n",
      "2/2 [==============================] - 0s 6ms/step - loss: 19.8775 - mae: 19.8775\n",
      "Epoch 125/500\n",
      "2/2 [==============================] - 0s 5ms/step - loss: 7.6836 - mae: 7.6836\n",
      "Epoch 126/500\n",
      "2/2 [==============================] - 0s 4ms/step - loss: 17.1348 - mae: 17.1348\n",
      "Epoch 127/500\n",
      "2/2 [==============================] - 0s 5ms/step - loss: 7.5160 - mae: 7.5160\n",
      "Epoch 128/500\n",
      "2/2 [==============================] - 0s 3ms/step - loss: 18.1237 - mae: 18.1237\n",
      "Epoch 129/500\n",
      "2/2 [==============================] - 0s 6ms/step - loss: 8.7843 - mae: 8.7843\n",
      "Epoch 130/500\n",
      "2/2 [==============================] - 0s 3ms/step - loss: 22.5268 - mae: 22.5268\n",
      "Epoch 131/500\n",
      "2/2 [==============================] - 0s 3ms/step - loss: 9.8140 - mae: 9.8140\n",
      "Epoch 132/500\n",
      "2/2 [==============================] - 0s 0s/step - loss: 18.4400 - mae: 18.4400\n",
      "Epoch 133/500\n",
      "2/2 [==============================] - 0s 13ms/step - loss: 7.6227 - mae: 7.6227\n",
      "Epoch 134/500\n",
      "2/2 [==============================] - 0s 3ms/step - loss: 18.6972 - mae: 18.6972\n",
      "Epoch 135/500\n",
      "2/2 [==============================] - 0s 4ms/step - loss: 10.5947 - mae: 10.5947\n",
      "Epoch 136/500\n",
      "2/2 [==============================] - 0s 0s/step - loss: 18.3625 - mae: 18.3625\n",
      "Epoch 137/500\n",
      "2/2 [==============================] - 0s 4ms/step - loss: 23.2904 - mae: 23.2904\n",
      "Epoch 138/500\n",
      "2/2 [==============================] - 0s 6ms/step - loss: 9.1986 - mae: 9.1986\n",
      "Epoch 139/500\n",
      "2/2 [==============================] - 0s 5ms/step - loss: 8.9615 - mae: 8.9615\n",
      "Epoch 140/500\n",
      "2/2 [==============================] - 0s 3ms/step - loss: 16.5473 - mae: 16.5473\n",
      "Epoch 141/500\n",
      "2/2 [==============================] - 0s 0s/step - loss: 8.4468 - mae: 8.4468\n",
      "Epoch 142/500\n",
      "2/2 [==============================] - 0s 15ms/step - loss: 37.0494 - mae: 37.0494\n",
      "Epoch 143/500\n",
      "2/2 [==============================] - 0s 4ms/step - loss: 25.6746 - mae: 25.6746\n",
      "Epoch 144/500\n",
      "2/2 [==============================] - 0s 0s/step - loss: 9.5535 - mae: 9.5535\n",
      "Epoch 145/500\n",
      "2/2 [==============================] - 0s 3ms/step - loss: 26.5897 - mae: 26.5897\n",
      "Epoch 146/500\n",
      "2/2 [==============================] - 0s 4ms/step - loss: 8.7738 - mae: 8.7738\n",
      "Epoch 147/500\n",
      "2/2 [==============================] - 0s 0s/step - loss: 15.6171 - mae: 15.6171\n",
      "Epoch 148/500\n",
      "2/2 [==============================] - 0s 3ms/step - loss: 18.2997 - mae: 18.2997\n",
      "Epoch 149/500\n",
      "2/2 [==============================] - 0s 7ms/step - loss: 8.2285 - mae: 8.2285\n",
      "Epoch 150/500\n",
      "2/2 [==============================] - 0s 4ms/step - loss: 7.5199 - mae: 7.5199\n",
      "Epoch 151/500\n",
      "2/2 [==============================] - 0s 4ms/step - loss: 18.3545 - mae: 18.3545\n",
      "Epoch 152/500\n",
      "2/2 [==============================] - 0s 3ms/step - loss: 10.3124 - mae: 10.3124\n",
      "Epoch 153/500\n",
      "2/2 [==============================] - 0s 5ms/step - loss: 29.6494 - mae: 29.6494\n",
      "Epoch 154/500\n",
      "2/2 [==============================] - 0s 8ms/step - loss: 10.5669 - mae: 10.5669\n",
      "Epoch 155/500\n",
      "2/2 [==============================] - 0s 4ms/step - loss: 15.4634 - mae: 15.4634\n",
      "Epoch 156/500\n",
      "2/2 [==============================] - 0s 4ms/step - loss: 17.0309 - mae: 17.0309\n",
      "Epoch 157/500\n",
      "2/2 [==============================] - 0s 4ms/step - loss: 32.7937 - mae: 32.7937\n",
      "Epoch 158/500\n",
      "2/2 [==============================] - 0s 3ms/step - loss: 10.7177 - mae: 10.7177\n",
      "Epoch 159/500\n",
      "2/2 [==============================] - 0s 7ms/step - loss: 8.9201 - mae: 8.9201\n",
      "Epoch 160/500\n",
      "2/2 [==============================] - 0s 3ms/step - loss: 22.0998 - mae: 22.0998\n",
      "Epoch 161/500\n",
      "2/2 [==============================] - 0s 5ms/step - loss: 11.7128 - mae: 11.7128\n",
      "Epoch 162/500\n",
      "2/2 [==============================] - 0s 4ms/step - loss: 21.5360 - mae: 21.5360\n",
      "Epoch 163/500\n",
      "2/2 [==============================] - 0s 6ms/step - loss: 19.2155 - mae: 19.2155\n",
      "Epoch 164/500\n",
      "2/2 [==============================] - 0s 7ms/step - loss: 11.0077 - mae: 11.0077\n",
      "Epoch 165/500\n",
      "2/2 [==============================] - 0s 5ms/step - loss: 9.6355 - mae: 9.6355\n",
      "Epoch 166/500\n",
      "2/2 [==============================] - 0s 5ms/step - loss: 21.6207 - mae: 21.6207\n",
      "Epoch 167/500\n",
      "2/2 [==============================] - 0s 0s/step - loss: 26.2149 - mae: 26.2149\n",
      "Epoch 168/500\n",
      "2/2 [==============================] - 0s 5ms/step - loss: 9.8590 - mae: 9.8590\n",
      "Epoch 169/500\n",
      "2/2 [==============================] - 0s 4ms/step - loss: 22.4786 - mae: 22.4786\n",
      "Epoch 170/500\n",
      "2/2 [==============================] - 0s 3ms/step - loss: 10.1740 - mae: 10.1740\n",
      "Epoch 171/500\n",
      "2/2 [==============================] - 0s 0s/step - loss: 18.0883 - mae: 18.0883\n",
      "Epoch 172/500\n",
      "2/2 [==============================] - 0s 3ms/step - loss: 28.7390 - mae: 28.7390\n",
      "Epoch 173/500\n",
      "2/2 [==============================] - 0s 7ms/step - loss: 16.4562 - mae: 16.4562\n",
      "Epoch 174/500\n",
      "2/2 [==============================] - 0s 0s/step - loss: 11.2295 - mae: 11.2295\n",
      "Epoch 175/500\n",
      "2/2 [==============================] - 0s 0s/step - loss: 27.6111 - mae: 27.6111\n",
      "Epoch 176/500\n",
      "2/2 [==============================] - 0s 0s/step - loss: 8.2574 - mae: 8.2574\n",
      "Epoch 177/500\n",
      "2/2 [==============================] - 0s 1ms/step - loss: 9.2550 - mae: 9.2550\n",
      "Epoch 178/500\n",
      "2/2 [==============================] - 0s 10ms/step - loss: 18.0514 - mae: 18.0514\n",
      "Epoch 179/500\n",
      "2/2 [==============================] - 0s 0s/step - loss: 10.6473 - mae: 10.6473\n",
      "Epoch 180/500\n",
      "2/2 [==============================] - 0s 6ms/step - loss: 7.9007 - mae: 7.9007\n",
      "Epoch 181/500\n",
      "2/2 [==============================] - 0s 0s/step - loss: 17.3139 - mae: 17.3139\n",
      "Epoch 182/500\n",
      "2/2 [==============================] - 0s 2ms/step - loss: 10.9867 - mae: 10.9867\n",
      "Epoch 183/500\n",
      "2/2 [==============================] - 0s 0s/step - loss: 11.6641 - mae: 11.6641\n",
      "Epoch 184/500\n",
      "2/2 [==============================] - 0s 2ms/step - loss: 30.2458 - mae: 30.2458\n",
      "Epoch 185/500\n",
      "2/2 [==============================] - 0s 11ms/step - loss: 8.1942 - mae: 8.1942\n",
      "Epoch 186/500\n",
      "2/2 [==============================] - 0s 0s/step - loss: 18.6942 - mae: 18.6942\n",
      "Epoch 187/500\n",
      "2/2 [==============================] - 0s 0s/step - loss: 8.7802 - mae: 8.7802\n",
      "Epoch 188/500\n",
      "2/2 [==============================] - 0s 10ms/step - loss: 23.6762 - mae: 23.6762\n",
      "Epoch 189/500\n",
      "2/2 [==============================] - 0s 10ms/step - loss: 9.4004 - mae: 9.4004\n",
      "Epoch 190/500\n",
      "2/2 [==============================] - 0s 12ms/step - loss: 17.1505 - mae: 17.1505\n",
      "Epoch 191/500\n",
      "2/2 [==============================] - 0s 9ms/step - loss: 8.5769 - mae: 8.5769\n",
      "Epoch 192/500\n",
      "2/2 [==============================] - 0s 3ms/step - loss: 15.1678 - mae: 15.1678\n",
      "Epoch 193/500\n",
      "2/2 [==============================] - 0s 3ms/step - loss: 30.0043 - mae: 30.0043\n",
      "Epoch 194/500\n",
      "2/2 [==============================] - 0s 10ms/step - loss: 9.6143 - mae: 9.6143\n",
      "Epoch 195/500\n",
      "2/2 [==============================] - 0s 0s/step - loss: 12.0018 - mae: 12.0018\n",
      "Epoch 196/500\n",
      "2/2 [==============================] - 0s 7ms/step - loss: 23.3520 - mae: 23.3520\n",
      "Epoch 197/500\n",
      "2/2 [==============================] - 0s 5ms/step - loss: 18.1401 - mae: 18.1401\n",
      "Epoch 198/500\n",
      "2/2 [==============================] - 0s 10ms/step - loss: 10.8246 - mae: 10.8246\n",
      "Epoch 199/500\n",
      "2/2 [==============================] - 0s 11ms/step - loss: 22.4272 - mae: 22.4272\n",
      "Epoch 200/500\n",
      "2/2 [==============================] - 0s 10ms/step - loss: 17.0759 - mae: 17.0759\n",
      "Epoch 201/500\n",
      "2/2 [==============================] - 0s 0s/step - loss: 7.3902 - mae: 7.3902\n",
      "Epoch 202/500\n",
      "2/2 [==============================] - 0s 0s/step - loss: 26.0999 - mae: 26.0999\n",
      "Epoch 203/500\n",
      "2/2 [==============================] - 0s 3ms/step - loss: 13.3757 - mae: 13.3757\n",
      "Epoch 204/500\n",
      "2/2 [==============================] - 0s 3ms/step - loss: 18.4279 - mae: 18.4279\n",
      "Epoch 205/500\n",
      "2/2 [==============================] - 0s 4ms/step - loss: 9.2339 - mae: 9.2339\n",
      "Epoch 206/500\n",
      "2/2 [==============================] - 0s 2ms/step - loss: 10.3253 - mae: 10.3253\n",
      "Epoch 207/500\n",
      "2/2 [==============================] - 0s 0s/step - loss: 20.6664 - mae: 20.6664\n",
      "Epoch 208/500\n",
      "2/2 [==============================] - 0s 0s/step - loss: 16.1642 - mae: 16.1642\n",
      "Epoch 209/500\n",
      "2/2 [==============================] - 0s 0s/step - loss: 14.0708 - mae: 14.0708\n",
      "Epoch 210/500\n",
      "2/2 [==============================] - 0s 0s/step - loss: 18.9511 - mae: 18.9511\n",
      "Epoch 211/500\n",
      "2/2 [==============================] - 0s 10ms/step - loss: 10.2074 - mae: 10.2074\n",
      "Epoch 212/500\n",
      "2/2 [==============================] - 0s 4ms/step - loss: 19.5497 - mae: 19.5497\n",
      "Epoch 213/500\n",
      "2/2 [==============================] - 0s 12ms/step - loss: 14.7283 - mae: 14.7283\n",
      "Epoch 214/500\n",
      "2/2 [==============================] - 0s 10ms/step - loss: 14.3914 - mae: 14.3914\n",
      "Epoch 215/500\n",
      "2/2 [==============================] - 0s 12ms/step - loss: 22.8885 - mae: 22.8885\n",
      "Epoch 216/500\n",
      "2/2 [==============================] - 0s 6ms/step - loss: 14.3609 - mae: 14.3609\n",
      "Epoch 217/500\n",
      "2/2 [==============================] - 0s 7ms/step - loss: 9.1398 - mae: 9.1398\n",
      "Epoch 218/500\n",
      "2/2 [==============================] - 0s 5ms/step - loss: 11.9383 - mae: 11.9383\n",
      "Epoch 219/500\n",
      "2/2 [==============================] - 0s 10ms/step - loss: 6.7680 - mae: 6.7680\n",
      "Epoch 220/500\n",
      "2/2 [==============================] - 0s 0s/step - loss: 7.1283 - mae: 7.1283\n",
      "Epoch 221/500\n",
      "2/2 [==============================] - 0s 0s/step - loss: 38.3682 - mae: 38.3682\n",
      "Epoch 222/500\n",
      "2/2 [==============================] - 0s 743us/step - loss: 38.3681 - mae: 38.3681\n",
      "Epoch 223/500\n",
      "2/2 [==============================] - 0s 7ms/step - loss: 5.5110 - mae: 5.5110\n",
      "Epoch 224/500\n",
      "2/2 [==============================] - 0s 0s/step - loss: 15.0338 - mae: 15.0338\n",
      "Epoch 225/500\n",
      "2/2 [==============================] - 0s 0s/step - loss: 17.0975 - mae: 17.0975\n",
      "Epoch 226/500\n",
      "2/2 [==============================] - 0s 13ms/step - loss: 16.2800 - mae: 16.2800\n",
      "Epoch 227/500\n",
      "2/2 [==============================] - 0s 7ms/step - loss: 16.6278 - mae: 16.6278\n",
      "Epoch 228/500\n",
      "2/2 [==============================] - 0s 4ms/step - loss: 10.0317 - mae: 10.0317\n",
      "Epoch 229/500\n",
      "2/2 [==============================] - 0s 10ms/step - loss: 17.9526 - mae: 17.9526\n",
      "Epoch 230/500\n",
      "2/2 [==============================] - 0s 0s/step - loss: 15.5549 - mae: 15.5549\n",
      "Epoch 231/500\n",
      "2/2 [==============================] - 0s 0s/step - loss: 21.0518 - mae: 21.0518\n",
      "Epoch 232/500\n",
      "2/2 [==============================] - 0s 5ms/step - loss: 25.6335 - mae: 25.6335\n",
      "Epoch 233/500\n",
      "2/2 [==============================] - 0s 0s/step - loss: 16.6064 - mae: 16.6064\n",
      "Epoch 234/500\n",
      "2/2 [==============================] - 0s 0s/step - loss: 7.3896 - mae: 7.3896\n",
      "Epoch 235/500\n",
      "2/2 [==============================] - 0s 0s/step - loss: 17.2444 - mae: 17.2444\n",
      "Epoch 236/500\n",
      "2/2 [==============================] - 0s 4ms/step - loss: 7.2587 - mae: 7.2587\n",
      "Epoch 237/500\n",
      "2/2 [==============================] - 0s 0s/step - loss: 9.3690 - mae: 9.3690\n",
      "Epoch 238/500\n",
      "2/2 [==============================] - 0s 0s/step - loss: 8.2059 - mae: 8.2059\n",
      "Epoch 239/500\n",
      "2/2 [==============================] - 0s 10ms/step - loss: 17.2543 - mae: 17.2543\n",
      "Epoch 240/500\n",
      "2/2 [==============================] - 0s 10ms/step - loss: 8.9877 - mae: 8.9877\n",
      "Epoch 241/500\n",
      "2/2 [==============================] - 0s 8ms/step - loss: 13.3258 - mae: 13.3258\n",
      "Epoch 242/500\n",
      "2/2 [==============================] - 0s 3ms/step - loss: 8.8885 - mae: 8.8885\n",
      "Epoch 243/500\n",
      "2/2 [==============================] - 0s 3ms/step - loss: 18.9931 - mae: 18.9931\n",
      "Epoch 244/500\n",
      "2/2 [==============================] - 0s 3ms/step - loss: 14.0269 - mae: 14.0269\n",
      "Epoch 245/500\n",
      "2/2 [==============================] - 0s 3ms/step - loss: 14.6581 - mae: 14.6581\n",
      "Epoch 246/500\n",
      "2/2 [==============================] - 0s 4ms/step - loss: 15.7943 - mae: 15.7943\n",
      "Epoch 247/500\n",
      "2/2 [==============================] - 0s 3ms/step - loss: 17.6666 - mae: 17.6666\n",
      "Epoch 248/500\n",
      "2/2 [==============================] - 0s 3ms/step - loss: 13.2252 - mae: 13.2252\n",
      "Epoch 249/500\n",
      "2/2 [==============================] - 0s 0s/step - loss: 14.5110 - mae: 14.5110\n",
      "Epoch 250/500\n",
      "2/2 [==============================] - 0s 4ms/step - loss: 23.2205 - mae: 23.2205\n",
      "Epoch 251/500\n",
      "2/2 [==============================] - 0s 0s/step - loss: 9.3531 - mae: 9.3531\n",
      "Epoch 252/500\n",
      "2/2 [==============================] - 0s 0s/step - loss: 36.7016 - mae: 36.7016\n",
      "Epoch 253/500\n",
      "2/2 [==============================] - 0s 16ms/step - loss: 21.8681 - mae: 21.8681\n",
      "Epoch 254/500\n",
      "2/2 [==============================] - 0s 10ms/step - loss: 7.3307 - mae: 7.3307\n",
      "Epoch 255/500\n",
      "2/2 [==============================] - 0s 4ms/step - loss: 24.7312 - mae: 24.7312\n",
      "Epoch 256/500\n",
      "2/2 [==============================] - 0s 2ms/step - loss: 12.4649 - mae: 12.4649\n",
      "Epoch 257/500\n",
      "2/2 [==============================] - 0s 0s/step - loss: 10.6204 - mae: 10.6204\n",
      "Epoch 258/500\n",
      "2/2 [==============================] - 0s 0s/step - loss: 14.2389 - mae: 14.2389\n",
      "Epoch 259/500\n",
      "2/2 [==============================] - 0s 6ms/step - loss: 11.2888 - mae: 11.2888\n",
      "Epoch 260/500\n",
      "2/2 [==============================] - 0s 10ms/step - loss: 31.6542 - mae: 31.6542\n",
      "Epoch 261/500\n",
      "2/2 [==============================] - 0s 0s/step - loss: 11.2201 - mae: 11.2201\n",
      "Epoch 262/500\n",
      "2/2 [==============================] - 0s 6ms/step - loss: 10.0703 - mae: 10.0703\n",
      "Epoch 263/500\n",
      "2/2 [==============================] - 0s 0s/step - loss: 8.9751 - mae: 8.9751\n",
      "Epoch 264/500\n",
      "2/2 [==============================] - 0s 2ms/step - loss: 21.5225 - mae: 21.5225\n",
      "Epoch 265/500\n",
      "2/2 [==============================] - 0s 8ms/step - loss: 11.4475 - mae: 11.4475\n",
      "Epoch 266/500\n",
      "2/2 [==============================] - 0s 10ms/step - loss: 13.2864 - mae: 13.2864\n",
      "Epoch 267/500\n",
      "2/2 [==============================] - 0s 0s/step - loss: 11.0847 - mae: 11.0847\n",
      "Epoch 268/500\n",
      "2/2 [==============================] - 0s 5ms/step - loss: 19.1506 - mae: 19.1506\n",
      "Epoch 269/500\n",
      "2/2 [==============================] - 0s 3ms/step - loss: 40.7274 - mae: 40.7274\n",
      "Epoch 270/500\n",
      "2/2 [==============================] - 0s 4ms/step - loss: 12.9477 - mae: 12.9477\n",
      "Epoch 271/500\n",
      "2/2 [==============================] - 0s 3ms/step - loss: 14.7655 - mae: 14.7655\n",
      "Epoch 272/500\n",
      "2/2 [==============================] - 0s 3ms/step - loss: 28.5076 - mae: 28.5076\n",
      "Epoch 273/500\n",
      "2/2 [==============================] - 0s 0s/step - loss: 7.3870 - mae: 7.3870\n",
      "Epoch 274/500\n",
      "2/2 [==============================] - 0s 0s/step - loss: 6.3682 - mae: 6.3682\n",
      "Epoch 275/500\n",
      "2/2 [==============================] - 0s 0s/step - loss: 36.9156 - mae: 36.9156\n",
      "Epoch 276/500\n",
      "2/2 [==============================] - 0s 100us/step - loss: 8.3043 - mae: 8.3043\n",
      "Epoch 277/500\n",
      "2/2 [==============================] - 0s 10ms/step - loss: 27.7316 - mae: 27.7316\n",
      "Epoch 278/500\n",
      "2/2 [==============================] - 0s 0s/step - loss: 10.6819 - mae: 10.6819\n",
      "Epoch 279/500\n",
      "2/2 [==============================] - 0s 0s/step - loss: 16.1111 - mae: 16.1111\n",
      "Epoch 280/500\n",
      "2/2 [==============================] - 0s 0s/step - loss: 21.2336 - mae: 21.2336\n",
      "Epoch 281/500\n",
      "2/2 [==============================] - 0s 6ms/step - loss: 23.7977 - mae: 23.7977\n",
      "Epoch 282/500\n",
      "2/2 [==============================] - 0s 7ms/step - loss: 8.2768 - mae: 8.2768\n",
      "Epoch 283/500\n",
      "2/2 [==============================] - 0s 13ms/step - loss: 8.4560 - mae: 8.4560\n",
      "Epoch 284/500\n",
      "2/2 [==============================] - 0s 5ms/step - loss: 26.6309 - mae: 26.6309\n",
      "Epoch 285/500\n",
      "2/2 [==============================] - 0s 10ms/step - loss: 14.2346 - mae: 14.2346\n",
      "Epoch 286/500\n",
      "2/2 [==============================] - 0s 4ms/step - loss: 5.2716 - mae: 5.2716\n",
      "Epoch 287/500\n",
      "2/2 [==============================] - 0s 5ms/step - loss: 20.8182 - mae: 20.8182\n",
      "Epoch 288/500\n",
      "2/2 [==============================] - 0s 11ms/step - loss: 27.6168 - mae: 27.6168\n",
      "Epoch 289/500\n",
      "2/2 [==============================] - 0s 5ms/step - loss: 10.4364 - mae: 10.4364\n",
      "Epoch 290/500\n",
      "2/2 [==============================] - 0s 4ms/step - loss: 16.3088 - mae: 16.3088\n",
      "Epoch 291/500\n",
      "2/2 [==============================] - 0s 7ms/step - loss: 16.4964 - mae: 16.4964\n",
      "Epoch 292/500\n",
      "2/2 [==============================] - 0s 6ms/step - loss: 7.4360 - mae: 7.4360\n",
      "Epoch 293/500\n",
      "2/2 [==============================] - 0s 6ms/step - loss: 16.5488 - mae: 16.5488\n",
      "Epoch 294/500\n",
      "2/2 [==============================] - 0s 4ms/step - loss: 25.3335 - mae: 25.3335\n",
      "Epoch 295/500\n",
      "2/2 [==============================] - 0s 4ms/step - loss: 14.5835 - mae: 14.5835\n",
      "Epoch 296/500\n",
      "2/2 [==============================] - 0s 3ms/step - loss: 4.6770 - mae: 4.6770\n",
      "Epoch 297/500\n",
      "2/2 [==============================] - 0s 6ms/step - loss: 7.2903 - mae: 7.2903\n",
      "Epoch 298/500\n",
      "2/2 [==============================] - 0s 6ms/step - loss: 19.6172 - mae: 19.6172\n",
      "Epoch 299/500\n",
      "2/2 [==============================] - 0s 5ms/step - loss: 6.6253 - mae: 6.6253\n",
      "Epoch 300/500\n",
      "2/2 [==============================] - 0s 5ms/step - loss: 22.0651 - mae: 22.0651\n",
      "Epoch 301/500\n",
      "2/2 [==============================] - 0s 4ms/step - loss: 9.1440 - mae: 9.1440\n",
      "Epoch 302/500\n",
      "2/2 [==============================] - 0s 4ms/step - loss: 11.1998 - mae: 11.1998\n",
      "Epoch 303/500\n",
      "2/2 [==============================] - 0s 4ms/step - loss: 9.3459 - mae: 9.3459\n",
      "Epoch 304/500\n",
      "2/2 [==============================] - 0s 4ms/step - loss: 23.7158 - mae: 23.7158\n",
      "Epoch 305/500\n",
      "2/2 [==============================] - 0s 0s/step - loss: 7.9289 - mae: 7.9289\n",
      "Epoch 306/500\n",
      "2/2 [==============================] - 0s 0s/step - loss: 23.7674 - mae: 23.7674\n",
      "Epoch 307/500\n",
      "2/2 [==============================] - 0s 0s/step - loss: 5.8876 - mae: 5.8876\n",
      "Epoch 308/500\n",
      "2/2 [==============================] - 0s 0s/step - loss: 21.3206 - mae: 21.3206\n",
      "Epoch 309/500\n",
      "2/2 [==============================] - 0s 6ms/step - loss: 18.4183 - mae: 18.4183\n",
      "Epoch 310/500\n",
      "2/2 [==============================] - 0s 0s/step - loss: 4.5018 - mae: 4.5018\n",
      "Epoch 311/500\n",
      "2/2 [==============================] - 0s 0s/step - loss: 6.5125 - mae: 6.5125\n",
      "Epoch 312/500\n",
      "2/2 [==============================] - 0s 8ms/step - loss: 35.4593 - mae: 35.4593\n",
      "Epoch 313/500\n",
      "2/2 [==============================] - 0s 0s/step - loss: 28.9367 - mae: 28.9367\n",
      "Epoch 314/500\n",
      "2/2 [==============================] - 0s 0s/step - loss: 11.1928 - mae: 11.1928\n",
      "Epoch 315/500\n",
      "2/2 [==============================] - 0s 0s/step - loss: 23.5495 - mae: 23.5495\n",
      "Epoch 316/500\n",
      "2/2 [==============================] - 0s 0s/step - loss: 14.4306 - mae: 14.4306\n",
      "Epoch 317/500\n",
      "2/2 [==============================] - 0s 0s/step - loss: 19.9801 - mae: 19.9801\n",
      "Epoch 318/500\n",
      "2/2 [==============================] - 0s 5ms/step - loss: 8.0019 - mae: 8.0019\n",
      "Epoch 319/500\n",
      "2/2 [==============================] - 0s 11ms/step - loss: 18.1149 - mae: 18.1149\n",
      "Epoch 320/500\n",
      "2/2 [==============================] - 0s 9ms/step - loss: 10.6442 - mae: 10.6442\n",
      "Epoch 321/500\n",
      "2/2 [==============================] - 0s 7ms/step - loss: 7.0286 - mae: 7.0286\n",
      "Epoch 322/500\n",
      "2/2 [==============================] - 0s 0s/step - loss: 8.6722 - mae: 8.6722\n",
      "Epoch 323/500\n",
      "2/2 [==============================] - 0s 0s/step - loss: 18.3360 - mae: 18.3360\n",
      "Epoch 324/500\n",
      "2/2 [==============================] - 0s 0s/step - loss: 6.3080 - mae: 6.3080\n",
      "Epoch 325/500\n",
      "2/2 [==============================] - 0s 0s/step - loss: 14.6161 - mae: 14.6161\n",
      "Epoch 326/500\n",
      "2/2 [==============================] - 0s 10ms/step - loss: 6.9904 - mae: 6.9904\n",
      "Epoch 327/500\n",
      "2/2 [==============================] - 0s 4ms/step - loss: 17.6301 - mae: 17.6301\n",
      "Epoch 328/500\n",
      "2/2 [==============================] - 0s 3ms/step - loss: 14.3724 - mae: 14.3724\n",
      "Epoch 329/500\n",
      "2/2 [==============================] - 0s 0s/step - loss: 17.6837 - mae: 17.6837\n",
      "Epoch 330/500\n",
      "2/2 [==============================] - 0s 5ms/step - loss: 6.7819 - mae: 6.7819\n",
      "Epoch 331/500\n",
      "2/2 [==============================] - 0s 0s/step - loss: 19.7480 - mae: 19.7480\n",
      "Epoch 332/500\n",
      "2/2 [==============================] - 0s 11ms/step - loss: 10.5522 - mae: 10.5522\n",
      "Epoch 333/500\n",
      "2/2 [==============================] - 0s 5ms/step - loss: 16.3463 - mae: 16.3463\n",
      "Epoch 334/500\n",
      "2/2 [==============================] - 0s 0s/step - loss: 9.7154 - mae: 9.7154\n",
      "Epoch 335/500\n",
      "2/2 [==============================] - 0s 3ms/step - loss: 13.0554 - mae: 13.0554\n",
      "Epoch 336/500\n",
      "2/2 [==============================] - 0s 0s/step - loss: 32.4918 - mae: 32.4918\n",
      "Epoch 337/500\n",
      "2/2 [==============================] - 0s 0s/step - loss: 11.0362 - mae: 11.0362\n",
      "Epoch 338/500\n",
      "2/2 [==============================] - 0s 0s/step - loss: 19.9479 - mae: 19.9479\n",
      "Epoch 339/500\n",
      "2/2 [==============================] - 0s 0s/step - loss: 34.3323 - mae: 34.3323\n",
      "Epoch 340/500\n",
      "2/2 [==============================] - 0s 0s/step - loss: 9.2821 - mae: 9.2821\n",
      "Epoch 341/500\n",
      "2/2 [==============================] - 0s 6ms/step - loss: 17.2995 - mae: 17.2995\n",
      "Epoch 342/500\n",
      "2/2 [==============================] - 0s 5ms/step - loss: 14.9121 - mae: 14.9121\n",
      "Epoch 343/500\n",
      "2/2 [==============================] - 0s 1ms/step - loss: 10.3173 - mae: 10.3173\n",
      "Epoch 344/500\n",
      "2/2 [==============================] - 0s 9ms/step - loss: 9.9360 - mae: 9.9360\n",
      "Epoch 345/500\n",
      "2/2 [==============================] - 0s 10ms/step - loss: 30.8999 - mae: 30.8999\n",
      "Epoch 346/500\n",
      "2/2 [==============================] - 0s 10ms/step - loss: 10.6265 - mae: 10.6265\n",
      "Epoch 347/500\n",
      "2/2 [==============================] - 0s 4ms/step - loss: 25.5370 - mae: 25.5370\n",
      "Epoch 348/500\n",
      "2/2 [==============================] - 0s 5ms/step - loss: 13.3518 - mae: 13.3518\n",
      "Epoch 349/500\n",
      "2/2 [==============================] - 0s 3ms/step - loss: 13.0088 - mae: 13.0088\n",
      "Epoch 350/500\n",
      "2/2 [==============================] - 0s 0s/step - loss: 15.3899 - mae: 15.3899\n",
      "Epoch 351/500\n",
      "2/2 [==============================] - 0s 5ms/step - loss: 32.8602 - mae: 32.8602\n",
      "Epoch 352/500\n",
      "2/2 [==============================] - 0s 0s/step - loss: 13.9414 - mae: 13.9414\n",
      "Epoch 353/500\n",
      "2/2 [==============================] - 0s 4ms/step - loss: 15.9303 - mae: 15.9303\n",
      "Epoch 354/500\n",
      "2/2 [==============================] - 0s 0s/step - loss: 19.1081 - mae: 19.1081\n",
      "Epoch 355/500\n",
      "2/2 [==============================] - 0s 0s/step - loss: 34.0679 - mae: 34.0679\n",
      "Epoch 356/500\n",
      "2/2 [==============================] - 0s 6ms/step - loss: 7.6875 - mae: 7.6875\n",
      "Epoch 357/500\n",
      "2/2 [==============================] - 0s 0s/step - loss: 25.1803 - mae: 25.1803\n",
      "Epoch 358/500\n",
      "2/2 [==============================] - 0s 0s/step - loss: 22.6317 - mae: 22.6317\n",
      "Epoch 359/500\n",
      "2/2 [==============================] - 0s 8ms/step - loss: 8.8972 - mae: 8.8972\n",
      "Epoch 360/500\n",
      "2/2 [==============================] - 0s 0s/step - loss: 21.4974 - mae: 21.4974\n",
      "Epoch 361/500\n",
      "2/2 [==============================] - 0s 4ms/step - loss: 20.5517 - mae: 20.5517\n",
      "Epoch 362/500\n",
      "2/2 [==============================] - 0s 0s/step - loss: 7.0750 - mae: 7.0750\n",
      "Epoch 363/500\n",
      "2/2 [==============================] - 0s 10ms/step - loss: 25.7489 - mae: 25.7489\n",
      "Epoch 364/500\n",
      "2/2 [==============================] - 0s 0s/step - loss: 32.1424 - mae: 32.1424\n",
      "Epoch 365/500\n",
      "2/2 [==============================] - 0s 0s/step - loss: 9.9948 - mae: 9.9948\n",
      "Epoch 366/500\n",
      "2/2 [==============================] - 0s 10ms/step - loss: 9.6880 - mae: 9.6880\n",
      "Epoch 367/500\n",
      "2/2 [==============================] - 0s 5ms/step - loss: 30.4372 - mae: 30.4372\n",
      "Epoch 368/500\n",
      "2/2 [==============================] - 0s 0s/step - loss: 10.5317 - mae: 10.5317\n",
      "Epoch 369/500\n",
      "2/2 [==============================] - 0s 0s/step - loss: 15.0200 - mae: 15.0200\n",
      "Epoch 370/500\n",
      "2/2 [==============================] - 0s 0s/step - loss: 14.6786 - mae: 14.6786\n",
      "Epoch 371/500\n",
      "2/2 [==============================] - 0s 5ms/step - loss: 23.4064 - mae: 23.4064\n",
      "Epoch 372/500\n",
      "2/2 [==============================] - 0s 8ms/step - loss: 13.0412 - mae: 13.0412\n",
      "Epoch 373/500\n",
      "2/2 [==============================] - 0s 7ms/step - loss: 9.2103 - mae: 9.2103\n",
      "Epoch 374/500\n",
      "2/2 [==============================] - 0s 8ms/step - loss: 9.7065 - mae: 9.7065\n",
      "Epoch 375/500\n",
      "2/2 [==============================] - 0s 3ms/step - loss: 13.0394 - mae: 13.0394\n",
      "Epoch 376/500\n",
      "2/2 [==============================] - 0s 3ms/step - loss: 14.9220 - mae: 14.9220\n",
      "Epoch 377/500\n",
      "2/2 [==============================] - 0s 13ms/step - loss: 14.8310 - mae: 14.8310\n",
      "Epoch 378/500\n",
      "2/2 [==============================] - 0s 6ms/step - loss: 16.3038 - mae: 16.3038\n",
      "Epoch 379/500\n",
      "2/2 [==============================] - 0s 4ms/step - loss: 20.8888 - mae: 20.8888\n",
      "Epoch 380/500\n",
      "2/2 [==============================] - 0s 4ms/step - loss: 33.3640 - mae: 33.3640\n",
      "Epoch 381/500\n",
      "2/2 [==============================] - 0s 5ms/step - loss: 8.1939 - mae: 8.1939\n",
      "Epoch 382/500\n",
      "2/2 [==============================] - 0s 5ms/step - loss: 12.9890 - mae: 12.9890\n",
      "Epoch 383/500\n",
      "2/2 [==============================] - 0s 4ms/step - loss: 8.4670 - mae: 8.4670\n",
      "Epoch 384/500\n",
      "2/2 [==============================] - 0s 4ms/step - loss: 7.0893 - mae: 7.0893\n",
      "Epoch 385/500\n",
      "2/2 [==============================] - 0s 8ms/step - loss: 10.9776 - mae: 10.9776\n",
      "Epoch 386/500\n",
      "2/2 [==============================] - 0s 5ms/step - loss: 19.8365 - mae: 19.8365\n",
      "Epoch 387/500\n",
      "2/2 [==============================] - 0s 8ms/step - loss: 24.6977 - mae: 24.6977\n",
      "Epoch 388/500\n",
      "2/2 [==============================] - 0s 7ms/step - loss: 8.6878 - mae: 8.6878\n",
      "Epoch 389/500\n",
      "2/2 [==============================] - 0s 4ms/step - loss: 5.9441 - mae: 5.9441\n",
      "Epoch 390/500\n",
      "2/2 [==============================] - 0s 7ms/step - loss: 24.2602 - mae: 24.2602\n",
      "Epoch 391/500\n",
      "2/2 [==============================] - 0s 6ms/step - loss: 5.9649 - mae: 5.9649\n",
      "Epoch 392/500\n",
      "2/2 [==============================] - 0s 6ms/step - loss: 16.0517 - mae: 16.0517\n",
      "Epoch 393/500\n",
      "2/2 [==============================] - 0s 4ms/step - loss: 6.4785 - mae: 6.4785\n",
      "Epoch 394/500\n",
      "2/2 [==============================] - 0s 6ms/step - loss: 12.4920 - mae: 12.4920\n",
      "Epoch 395/500\n",
      "2/2 [==============================] - 0s 5ms/step - loss: 12.3646 - mae: 12.3646\n",
      "Epoch 396/500\n",
      "2/2 [==============================] - 0s 5ms/step - loss: 7.3303 - mae: 7.3303\n",
      "Epoch 397/500\n",
      "2/2 [==============================] - 0s 4ms/step - loss: 7.5893 - mae: 7.5893\n",
      "Epoch 398/500\n",
      "2/2 [==============================] - 0s 4ms/step - loss: 20.2605 - mae: 20.2605\n",
      "Epoch 399/500\n",
      "2/2 [==============================] - 0s 3ms/step - loss: 5.9104 - mae: 5.9104\n",
      "Epoch 400/500\n",
      "2/2 [==============================] - 0s 6ms/step - loss: 24.6472 - mae: 24.6472\n",
      "Epoch 401/500\n",
      "2/2 [==============================] - 0s 5ms/step - loss: 13.1135 - mae: 13.1135\n",
      "Epoch 402/500\n",
      "2/2 [==============================] - 0s 3ms/step - loss: 8.3416 - mae: 8.3416\n",
      "Epoch 403/500\n",
      "2/2 [==============================] - 0s 3ms/step - loss: 9.8314 - mae: 9.8314\n",
      "Epoch 404/500\n",
      "2/2 [==============================] - 0s 4ms/step - loss: 12.5683 - mae: 12.5683\n",
      "Epoch 405/500\n",
      "2/2 [==============================] - 0s 7ms/step - loss: 8.7699 - mae: 8.7699\n",
      "Epoch 406/500\n",
      "2/2 [==============================] - 0s 6ms/step - loss: 21.6360 - mae: 21.6360\n",
      "Epoch 407/500\n",
      "2/2 [==============================] - 0s 4ms/step - loss: 20.3657 - mae: 20.3657\n",
      "Epoch 408/500\n",
      "2/2 [==============================] - 0s 3ms/step - loss: 10.3661 - mae: 10.3661\n",
      "Epoch 409/500\n",
      "2/2 [==============================] - 0s 5ms/step - loss: 9.3661 - mae: 9.3661\n",
      "Epoch 410/500\n",
      "2/2 [==============================] - 0s 3ms/step - loss: 13.3885 - mae: 13.3885\n",
      "Epoch 411/500\n",
      "2/2 [==============================] - 0s 3ms/step - loss: 15.8489 - mae: 15.8489\n",
      "Epoch 412/500\n",
      "2/2 [==============================] - 0s 5ms/step - loss: 23.5507 - mae: 23.5507\n",
      "Epoch 413/500\n",
      "2/2 [==============================] - 0s 3ms/step - loss: 16.4195 - mae: 16.4195\n",
      "Epoch 414/500\n",
      "2/2 [==============================] - 0s 7ms/step - loss: 4.9250 - mae: 4.9250\n",
      "Epoch 415/500\n",
      "2/2 [==============================] - 0s 4ms/step - loss: 13.9699 - mae: 13.9699\n",
      "Epoch 416/500\n",
      "2/2 [==============================] - 0s 4ms/step - loss: 28.9570 - mae: 28.9570\n",
      "Epoch 417/500\n",
      "2/2 [==============================] - 0s 5ms/step - loss: 5.9694 - mae: 5.9694\n",
      "Epoch 418/500\n",
      "2/2 [==============================] - 0s 4ms/step - loss: 12.4791 - mae: 12.4791\n",
      "Epoch 419/500\n",
      "2/2 [==============================] - 0s 3ms/step - loss: 11.4724 - mae: 11.4724\n",
      "Epoch 420/500\n",
      "2/2 [==============================] - 0s 4ms/step - loss: 23.8424 - mae: 23.8424\n",
      "Epoch 421/500\n",
      "2/2 [==============================] - 0s 3ms/step - loss: 19.7790 - mae: 19.7790\n",
      "Epoch 422/500\n",
      "2/2 [==============================] - 0s 5ms/step - loss: 4.0190 - mae: 4.0190\n",
      "Epoch 423/500\n",
      "2/2 [==============================] - 0s 4ms/step - loss: 34.5163 - mae: 34.5163\n",
      "Epoch 424/500\n",
      "2/2 [==============================] - 0s 4ms/step - loss: 13.0198 - mae: 13.0198\n",
      "Epoch 425/500\n",
      "2/2 [==============================] - 0s 3ms/step - loss: 6.9405 - mae: 6.9405\n",
      "Epoch 426/500\n",
      "2/2 [==============================] - 0s 5ms/step - loss: 19.4472 - mae: 19.4472\n",
      "Epoch 427/500\n",
      "2/2 [==============================] - 0s 4ms/step - loss: 4.4518 - mae: 4.4518\n",
      "Epoch 428/500\n",
      "2/2 [==============================] - 0s 3ms/step - loss: 20.6196 - mae: 20.6196\n",
      "Epoch 429/500\n",
      "2/2 [==============================] - 0s 3ms/step - loss: 15.2178 - mae: 15.2178\n",
      "Epoch 430/500\n",
      "2/2 [==============================] - 0s 5ms/step - loss: 11.2948 - mae: 11.2948\n",
      "Epoch 431/500\n",
      "2/2 [==============================] - 0s 6ms/step - loss: 10.1926 - mae: 10.1926\n",
      "Epoch 432/500\n",
      "2/2 [==============================] - 0s 4ms/step - loss: 13.7810 - mae: 13.7810\n",
      "Epoch 433/500\n",
      "2/2 [==============================] - 0s 4ms/step - loss: 12.0004 - mae: 12.0004\n",
      "Epoch 434/500\n",
      "2/2 [==============================] - 0s 4ms/step - loss: 30.5546 - mae: 30.5546\n",
      "Epoch 435/500\n",
      "2/2 [==============================] - 0s 4ms/step - loss: 11.1511 - mae: 11.1511\n",
      "Epoch 436/500\n",
      "2/2 [==============================] - 0s 4ms/step - loss: 28.6497 - mae: 28.6497\n",
      "Epoch 437/500\n",
      "2/2 [==============================] - 0s 5ms/step - loss: 7.4932 - mae: 7.4932\n",
      "Epoch 438/500\n",
      "2/2 [==============================] - 0s 4ms/step - loss: 12.9141 - mae: 12.9141\n",
      "Epoch 439/500\n",
      "2/2 [==============================] - 0s 6ms/step - loss: 34.1614 - mae: 34.1614\n",
      "Epoch 440/500\n",
      "2/2 [==============================] - 0s 3ms/step - loss: 15.8237 - mae: 15.8237\n",
      "Epoch 441/500\n",
      "2/2 [==============================] - 0s 3ms/step - loss: 18.4714 - mae: 18.4714\n",
      "Epoch 442/500\n",
      "2/2 [==============================] - 0s 4ms/step - loss: 26.7572 - mae: 26.7572\n",
      "Epoch 443/500\n",
      "2/2 [==============================] - 0s 6ms/step - loss: 9.7963 - mae: 9.7963\n",
      "Epoch 444/500\n",
      "2/2 [==============================] - 0s 5ms/step - loss: 8.6712 - mae: 8.6712\n",
      "Epoch 445/500\n",
      "2/2 [==============================] - 0s 5ms/step - loss: 14.0996 - mae: 14.0996\n",
      "Epoch 446/500\n",
      "2/2 [==============================] - 0s 3ms/step - loss: 16.8091 - mae: 16.8091\n",
      "Epoch 447/500\n",
      "2/2 [==============================] - 0s 3ms/step - loss: 6.7249 - mae: 6.7249\n",
      "Epoch 448/500\n",
      "2/2 [==============================] - 0s 5ms/step - loss: 6.7627 - mae: 6.7627\n",
      "Epoch 449/500\n",
      "2/2 [==============================] - 0s 3ms/step - loss: 15.6482 - mae: 15.6482\n",
      "Epoch 450/500\n",
      "2/2 [==============================] - 0s 4ms/step - loss: 16.6075 - mae: 16.6075\n",
      "Epoch 451/500\n",
      "2/2 [==============================] - 0s 3ms/step - loss: 14.2268 - mae: 14.2268\n",
      "Epoch 452/500\n",
      "2/2 [==============================] - 0s 5ms/step - loss: 30.4859 - mae: 30.4859\n",
      "Epoch 453/500\n",
      "2/2 [==============================] - 0s 4ms/step - loss: 5.1637 - mae: 5.1637\n",
      "Epoch 454/500\n",
      "2/2 [==============================] - 0s 4ms/step - loss: 30.0881 - mae: 30.0881\n",
      "Epoch 455/500\n",
      "2/2 [==============================] - 0s 5ms/step - loss: 4.8442 - mae: 4.8442\n",
      "Epoch 456/500\n",
      "2/2 [==============================] - 0s 5ms/step - loss: 13.8888 - mae: 13.8888\n",
      "Epoch 457/500\n",
      "2/2 [==============================] - 0s 4ms/step - loss: 16.9623 - mae: 16.9623\n",
      "Epoch 458/500\n",
      "2/2 [==============================] - 0s 4ms/step - loss: 13.5844 - mae: 13.5844\n",
      "Epoch 459/500\n",
      "2/2 [==============================] - 0s 4ms/step - loss: 25.0513 - mae: 25.0513\n",
      "Epoch 460/500\n",
      "2/2 [==============================] - 0s 5ms/step - loss: 17.3057 - mae: 17.3057\n",
      "Epoch 461/500\n",
      "2/2 [==============================] - 0s 4ms/step - loss: 11.0925 - mae: 11.0925\n",
      "Epoch 462/500\n",
      "2/2 [==============================] - 0s 2ms/step - loss: 12.9502 - mae: 12.9502\n",
      "Epoch 463/500\n",
      "2/2 [==============================] - 0s 4ms/step - loss: 28.8025 - mae: 28.8025\n",
      "Epoch 464/500\n",
      "2/2 [==============================] - 0s 6ms/step - loss: 7.5846 - mae: 7.5846\n",
      "Epoch 465/500\n",
      "2/2 [==============================] - 0s 3ms/step - loss: 15.8252 - mae: 15.8252\n",
      "Epoch 466/500\n",
      "2/2 [==============================] - 0s 4ms/step - loss: 8.7870 - mae: 8.7870\n",
      "Epoch 467/500\n",
      "2/2 [==============================] - 0s 3ms/step - loss: 22.1762 - mae: 22.1762\n",
      "Epoch 468/500\n",
      "2/2 [==============================] - 0s 6ms/step - loss: 22.4769 - mae: 22.4769\n",
      "Epoch 469/500\n",
      "2/2 [==============================] - 0s 3ms/step - loss: 19.8556 - mae: 19.8556\n",
      "Epoch 470/500\n",
      "2/2 [==============================] - 0s 3ms/step - loss: 7.5112 - mae: 7.5112\n",
      "Epoch 471/500\n",
      "2/2 [==============================] - 0s 4ms/step - loss: 27.6656 - mae: 27.6656\n",
      "Epoch 472/500\n",
      "2/2 [==============================] - 0s 5ms/step - loss: 12.1286 - mae: 12.1286\n",
      "Epoch 473/500\n",
      "2/2 [==============================] - 0s 7ms/step - loss: 14.5585 - mae: 14.5585\n",
      "Epoch 474/500\n",
      "2/2 [==============================] - 0s 7ms/step - loss: 18.3082 - mae: 18.3082\n",
      "Epoch 475/500\n",
      "2/2 [==============================] - 0s 6ms/step - loss: 10.5563 - mae: 10.5563\n",
      "Epoch 476/500\n",
      "2/2 [==============================] - 0s 3ms/step - loss: 12.3092 - mae: 12.3092\n",
      "Epoch 477/500\n",
      "2/2 [==============================] - 0s 5ms/step - loss: 28.0000 - mae: 28.0000\n",
      "Epoch 478/500\n",
      "2/2 [==============================] - 0s 4ms/step - loss: 8.2733 - mae: 8.2733\n",
      "Epoch 479/500\n",
      "2/2 [==============================] - 0s 3ms/step - loss: 10.6770 - mae: 10.6770\n",
      "Epoch 480/500\n",
      "2/2 [==============================] - 0s 3ms/step - loss: 17.8642 - mae: 17.8642\n",
      "Epoch 481/500\n",
      "2/2 [==============================] - 0s 3ms/step - loss: 15.7791 - mae: 15.7791\n",
      "Epoch 482/500\n",
      "2/2 [==============================] - 0s 3ms/step - loss: 21.2395 - mae: 21.2395\n",
      "Epoch 483/500\n",
      "2/2 [==============================] - 0s 3ms/step - loss: 25.5920 - mae: 25.5920\n",
      "Epoch 484/500\n",
      "2/2 [==============================] - 0s 4ms/step - loss: 24.1927 - mae: 24.1927\n",
      "Epoch 485/500\n",
      "2/2 [==============================] - 0s 3ms/step - loss: 5.7894 - mae: 5.7894\n",
      "Epoch 486/500\n",
      "2/2 [==============================] - 0s 4ms/step - loss: 20.2374 - mae: 20.2374\n",
      "Epoch 487/500\n",
      "2/2 [==============================] - 0s 3ms/step - loss: 14.0155 - mae: 14.0155\n",
      "Epoch 488/500\n",
      "2/2 [==============================] - 0s 4ms/step - loss: 30.5626 - mae: 30.5626\n",
      "Epoch 489/500\n",
      "2/2 [==============================] - 0s 4ms/step - loss: 11.8590 - mae: 11.8590\n",
      "Epoch 490/500\n",
      "2/2 [==============================] - 0s 3ms/step - loss: 12.5112 - mae: 12.5112\n",
      "Epoch 491/500\n",
      "2/2 [==============================] - 0s 3ms/step - loss: 23.7581 - mae: 23.7581\n",
      "Epoch 492/500\n",
      "2/2 [==============================] - 0s 3ms/step - loss: 20.1859 - mae: 20.1859\n",
      "Epoch 493/500\n",
      "2/2 [==============================] - 0s 4ms/step - loss: 4.8990 - mae: 4.8990\n",
      "Epoch 494/500\n",
      "2/2 [==============================] - 0s 3ms/step - loss: 12.5019 - mae: 12.5019\n",
      "Epoch 495/500\n",
      "2/2 [==============================] - 0s 4ms/step - loss: 13.4930 - mae: 13.4930\n",
      "Epoch 496/500\n",
      "2/2 [==============================] - 0s 3ms/step - loss: 12.7531 - mae: 12.7531\n",
      "Epoch 497/500\n",
      "2/2 [==============================] - 0s 3ms/step - loss: 17.7608 - mae: 17.7608\n",
      "Epoch 498/500\n",
      "2/2 [==============================] - 0s 4ms/step - loss: 23.2359 - mae: 23.2359\n",
      "Epoch 499/500\n",
      "2/2 [==============================] - 0s 3ms/step - loss: 9.0094 - mae: 9.0094\n",
      "Epoch 500/500\n",
      "2/2 [==============================] - 0s 3ms/step - loss: 14.3894 - mae: 14.3894\n"
     ]
    },
    {
     "data": {
      "text/plain": [
       "<keras.callbacks.History at 0x21ba621eb60>"
      ]
     },
     "execution_count": 66,
     "metadata": {},
     "output_type": "execute_result"
    }
   ],
   "source": [
    "model_3 = tf.keras.Sequential([\n",
    "    tf.keras.layers.Dense(10),\n",
    "    tf.keras.layers.Dense(1)\n",
    "])\n",
    "\n",
    "model_3.compile(loss=tf.keras.losses.mae,optimizer=tf.keras.optimizers.SGD(), metrics=['mae'])\n",
    "model_3.fit(tf.expand_dims(X_train, axis=-1), y_train, epochs=500)"
   ]
  },
  {
   "cell_type": "code",
   "execution_count": 67,
   "metadata": {
    "colab": {
     "base_uri": "https://localhost:8080/",
     "height": 616
    },
    "id": "2w7I0MIsXch5",
    "outputId": "a7909a04-6031-43bf-cd85-dfbc56058404"
   },
   "outputs": [
    {
     "name": "stdout",
     "output_type": "stream",
     "text": [
      "1/1 [==============================] - 0s 43ms/step\n"
     ]
    },
    {
     "data": {
      "image/png": "[encoded data removed]",
      "text/plain": [
       "<Figure size 1000x700 with 1 Axes>"
      ]
     },
     "metadata": {},
     "output_type": "display_data"
    }
   ],
   "source": [
    "y_pred_3 = model_3.predict(y_pred)\n",
    "plot_predictions(predictions=y_pred_3)"
   ]
  },
  {
   "cell_type": "code",
   "execution_count": 68,
   "metadata": {
    "colab": {
     "base_uri": "https://localhost:8080/"
    },
    "id": "47CdqfzBX-Vt",
    "outputId": "b62f5b36-86dc-433c-d5c7-5edd36be5f6d"
   },
   "outputs": [
    {
     "data": {
      "text/plain": [
       "(<tf.Tensor: shape=(), dtype=float32, numpy=66.12251>,\n",
       " <tf.Tensor: shape=(), dtype=float32, numpy=4456.664>)"
      ]
     },
     "execution_count": 68,
     "metadata": {},
     "output_type": "execute_result"
    }
   ],
   "source": [
    "mae_3=mae(y_test,tf.squeeze(y_pred_3))\n",
    "mse_3=mse(y_test,tf.squeeze(y_pred_3))\n",
    "mae_3,mse_3"
   ]
  },
  {
   "cell_type": "markdown",
   "metadata": {
    "id": "xGDcMu9OYI5r"
   },
   "source": [
    "## Compare models"
   ]
  },
  {
   "cell_type": "code",
   "execution_count": 69,
   "metadata": {
    "id": "lJ2CBlltYLb4"
   },
   "outputs": [],
   "source": [
    "import pandas as pd\n",
    "model_results = [[\"model_1\", mae_1.numpy(),mse_1.numpy()],\n",
    "                 [\"model_2\", mae_2.numpy(),mse_2.numpy()],\n",
    "                 [\"model_3\", mae_3.numpy(),mse_3.numpy()]]"
   ]
  },
  {
   "cell_type": "code",
   "execution_count": 70,
   "metadata": {
    "colab": {
     "base_uri": "https://localhost:8080/",
     "height": 143
    },
    "id": "psu6RSEOYfXu",
    "outputId": "24ca96c5-247b-4e0e-c524-2eb21f091ce8"
   },
   "outputs": [
    {
     "data": {
      "text/html": [
       "<div>\n",
       "<style scoped>\n",
       "    .dataframe tbody tr th:only-of-type {\n",
       "        vertical-align: middle;\n",
       "    }\n",
       "\n",
       "    .dataframe tbody tr th {\n",
       "        vertical-align: top;\n",
       "    }\n",
       "\n",
       "    .dataframe thead th {\n",
       "        text-align: right;\n",
       "    }\n",
       "</style>\n",
       "<table border=\"1\" class=\"dataframe\">\n",
       "  <thead>\n",
       "    <tr style=\"text-align: right;\">\n",
       "      <th></th>\n",
       "      <th>model</th>\n",
       "      <th>mae</th>\n",
       "      <th>mse</th>\n",
       "    </tr>\n",
       "  </thead>\n",
       "  <tbody>\n",
       "    <tr>\n",
       "      <th>0</th>\n",
       "      <td>model_1</td>\n",
       "      <td>23.345417</td>\n",
       "      <td>555.366638</td>\n",
       "    </tr>\n",
       "    <tr>\n",
       "      <th>1</th>\n",
       "      <td>model_2</td>\n",
       "      <td>43.084347</td>\n",
       "      <td>1882.127563</td>\n",
       "    </tr>\n",
       "    <tr>\n",
       "      <th>2</th>\n",
       "      <td>model_3</td>\n",
       "      <td>66.122513</td>\n",
       "      <td>4456.664062</td>\n",
       "    </tr>\n",
       "  </tbody>\n",
       "</table>\n",
       "</div>"
      ],
      "text/plain": [
       "     model        mae          mse\n",
       "0  model_1  23.345417   555.366638\n",
       "1  model_2  43.084347  1882.127563\n",
       "2  model_3  66.122513  4456.664062"
      ]
     },
     "execution_count": 70,
     "metadata": {},
     "output_type": "execute_result"
    }
   ],
   "source": [
    "all_results = pd.DataFrame(model_results, columns=['model','mae','mse'])\n",
    "all_results"
   ]
  },
  {
   "cell_type": "code",
   "execution_count": 71,
   "metadata": {
    "colab": {
     "base_uri": "https://localhost:8080/"
    },
    "id": "z-aPlMDsY9oU",
    "outputId": "47f1e976-dd70-4a87-ab7f-4df899eeebb4"
   },
   "outputs": [
    {
     "name": "stdout",
     "output_type": "stream",
     "text": [
      "Model: \"sequential_5\"\n",
      "_________________________________________________________________\n",
      " Layer (type)                Output Shape              Param #   \n",
      "=================================================================\n",
      " dense_6 (Dense)             (None, 10)                20        \n",
      "                                                                 \n",
      " dense_7 (Dense)             (None, 1)                 11        \n",
      "                                                                 \n",
      "=================================================================\n",
      "Total params: 31\n",
      "Trainable params: 31\n",
      "Non-trainable params: 0\n",
      "_________________________________________________________________\n"
     ]
    }
   ],
   "source": [
    "model_2.summary()"
   ]
  },
  {
   "cell_type": "code",
   "execution_count": 72,
   "metadata": {
    "colab": {
     "base_uri": "https://localhost:8080/"
    },
    "id": "AZiQB3-Ha34V",
    "outputId": "98ce68d5-5147-45c1-923d-fdf95acd7834"
   },
   "outputs": [
    {
     "name": "stdout",
     "output_type": "stream",
     "text": [
      "INFO:tensorflow:Assets written to: best_model\\assets\n"
     ]
    }
   ],
   "source": [
    "model_2.save(\"best_model\")"
   ]
  },
  {
   "cell_type": "code",
   "execution_count": 73,
   "metadata": {
    "id": "3wYRcJfQbGFj"
   },
   "outputs": [],
   "source": [
    "model_2.save('best_model.h5')"
   ]
  },
  {
   "cell_type": "code",
   "execution_count": 74,
   "metadata": {
    "id": "fTwIP7uPb0YO"
   },
   "outputs": [
    {
     "ename": "OSError",
     "evalue": "No file or directory found at /content/best_model",
     "output_type": "error",
     "traceback": [
      "\u001b[1;31m---------------------------------------------------------------------------\u001b[0m",
      "\u001b[1;31mOSError\u001b[0m                                   Traceback (most recent call last)",
      "Cell \u001b[1;32mIn[74], line 1\u001b[0m\n\u001b[1;32m----> 1\u001b[0m loaded_model \u001b[38;5;241m=\u001b[39m \u001b[43mtf\u001b[49m\u001b[38;5;241;43m.\u001b[39;49m\u001b[43mkeras\u001b[49m\u001b[38;5;241;43m.\u001b[39;49m\u001b[43mmodels\u001b[49m\u001b[38;5;241;43m.\u001b[39;49m\u001b[43mload_model\u001b[49m\u001b[43m(\u001b[49m\u001b[38;5;124;43m'\u001b[39;49m\u001b[38;5;124;43m/content/best_model\u001b[39;49m\u001b[38;5;124;43m'\u001b[39;49m\u001b[43m)\u001b[49m\n",
      "File \u001b[1;32m~\\miniconda3\\envs\\tensorflow\\lib\\site-packages\\keras\\utils\\traceback_utils.py:70\u001b[0m, in \u001b[0;36mfilter_traceback.<locals>.error_handler\u001b[1;34m(*args, **kwargs)\u001b[0m\n\u001b[0;32m     67\u001b[0m     filtered_tb \u001b[38;5;241m=\u001b[39m _process_traceback_frames(e\u001b[38;5;241m.\u001b[39m__traceback__)\n\u001b[0;32m     68\u001b[0m     \u001b[38;5;66;03m# To get the full stack trace, call:\u001b[39;00m\n\u001b[0;32m     69\u001b[0m     \u001b[38;5;66;03m# `tf.debugging.disable_traceback_filtering()`\u001b[39;00m\n\u001b[1;32m---> 70\u001b[0m     \u001b[38;5;28;01mraise\u001b[39;00m e\u001b[38;5;241m.\u001b[39mwith_traceback(filtered_tb) \u001b[38;5;28;01mfrom\u001b[39;00m \u001b[38;5;28;01mNone\u001b[39;00m\n\u001b[0;32m     71\u001b[0m \u001b[38;5;28;01mfinally\u001b[39;00m:\n\u001b[0;32m     72\u001b[0m     \u001b[38;5;28;01mdel\u001b[39;00m filtered_tb\n",
      "File \u001b[1;32m~\\miniconda3\\envs\\tensorflow\\lib\\site-packages\\keras\\saving\\save.py:226\u001b[0m, in \u001b[0;36mload_model\u001b[1;34m(filepath, custom_objects, compile, options)\u001b[0m\n\u001b[0;32m    224\u001b[0m \u001b[38;5;28;01mif\u001b[39;00m \u001b[38;5;28misinstance\u001b[39m(filepath_str, \u001b[38;5;28mstr\u001b[39m):\n\u001b[0;32m    225\u001b[0m     \u001b[38;5;28;01mif\u001b[39;00m \u001b[38;5;129;01mnot\u001b[39;00m tf\u001b[38;5;241m.\u001b[39mio\u001b[38;5;241m.\u001b[39mgfile\u001b[38;5;241m.\u001b[39mexists(filepath_str):\n\u001b[1;32m--> 226\u001b[0m         \u001b[38;5;28;01mraise\u001b[39;00m \u001b[38;5;167;01mIOError\u001b[39;00m(\n\u001b[0;32m    227\u001b[0m             \u001b[38;5;124mf\u001b[39m\u001b[38;5;124m\"\u001b[39m\u001b[38;5;124mNo file or directory found at \u001b[39m\u001b[38;5;132;01m{\u001b[39;00mfilepath_str\u001b[38;5;132;01m}\u001b[39;00m\u001b[38;5;124m\"\u001b[39m\n\u001b[0;32m    228\u001b[0m         )\n\u001b[0;32m    230\u001b[0m     \u001b[38;5;28;01mif\u001b[39;00m tf\u001b[38;5;241m.\u001b[39mio\u001b[38;5;241m.\u001b[39mgfile\u001b[38;5;241m.\u001b[39misdir(filepath_str):\n\u001b[0;32m    231\u001b[0m         \u001b[38;5;28;01mreturn\u001b[39;00m saved_model_load\u001b[38;5;241m.\u001b[39mload(\n\u001b[0;32m    232\u001b[0m             filepath_str, \u001b[38;5;28mcompile\u001b[39m, options\n\u001b[0;32m    233\u001b[0m         )\n",
      "\u001b[1;31mOSError\u001b[0m: No file or directory found at /content/best_model"
     ]
    }
   ],
   "source": [
    "loaded_model = tf.keras.models.load_model('/content/best_model')"
   ]
  },
  {
   "cell_type": "code",
   "execution_count": null,
   "metadata": {
    "colab": {
     "base_uri": "https://localhost:8080/"
    },
    "id": "IidEZ9hLcDvo",
    "outputId": "470cb9bb-953d-40ff-c447-5a635d7ccddd"
   },
   "outputs": [],
   "source": [
    "loaded_model.summary()"
   ]
  },
  {
   "cell_type": "markdown",
   "metadata": {
    "id": "tJNasP5McF19"
   },
   "source": [
    "## Medical cost dataset"
   ]
  },
  {
   "cell_type": "code",
   "execution_count": null,
   "metadata": {
    "id": "4qmQ6lkgjHKu"
   },
   "outputs": [],
   "source": [
    "import tensorflow as tf\n",
    "import pandas as pd\n",
    "import matplotlib.pyplot as plt\n",
    "from sklearn.model_selection import train_test_split"
   ]
  },
  {
   "cell_type": "code",
   "execution_count": null,
   "metadata": {
    "colab": {
     "base_uri": "https://localhost:8080/",
     "height": 424
    },
    "id": "IlHZvcpjjlQb",
    "outputId": "d2e70039-d458-40ad-d68a-dd2e8b4f2730"
   },
   "outputs": [],
   "source": [
    "insurance = pd.read_csv('https://raw.githubusercontent.com/stedy/Machine-Learning-with-R-datasets/master/insurance.csv')\n",
    "insurance"
   ]
  },
  {
   "cell_type": "code",
   "execution_count": null,
   "metadata": {
    "colab": {
     "base_uri": "https://localhost:8080/",
     "height": 206
    },
    "id": "neqVjhnrkZ7R",
    "outputId": "94ce54a9-4bc9-46c5-b514-788ae19d7eed"
   },
   "outputs": [],
   "source": [
    "insurance_one_hot = pd.get_dummies(insurance)\n",
    "insurance_one_hot.head()"
   ]
  },
  {
   "cell_type": "code",
   "execution_count": null,
   "metadata": {
    "colab": {
     "base_uri": "https://localhost:8080/",
     "height": 424
    },
    "id": "YCvlAVrClpLr",
    "outputId": "ba19a5fb-2ff7-4c1c-c008-e18d776dbbe8"
   },
   "outputs": [],
   "source": [
    "X = insurance_one_hot.drop('charges', axis = 1 )\n",
    "X"
   ]
  },
  {
   "cell_type": "code",
   "execution_count": null,
   "metadata": {
    "colab": {
     "base_uri": "https://localhost:8080/"
    },
    "id": "1gSP4PmnlQ-V",
    "outputId": "7289ba03-3ec9-4d4d-8cb8-e627e353d389"
   },
   "outputs": [],
   "source": [
    "y = insurance_one_hot.charges\n",
    "y"
   ]
  },
  {
   "cell_type": "code",
   "execution_count": null,
   "metadata": {
    "colab": {
     "base_uri": "https://localhost:8080/"
    },
    "id": "ie1bID7blbFR",
    "outputId": "1aa7f0c2-f3d7-4966-c930-2cbecbcac618"
   },
   "outputs": [],
   "source": [
    "X_train, X_test, y_train, y_test = train_test_split(X,y, test_size=0.20, random_state=42  )\n",
    "len(X), len(X_train), len(X_test)"
   ]
  },
  {
   "cell_type": "code",
   "execution_count": null,
   "metadata": {
    "colab": {
     "base_uri": "https://localhost:8080/"
    },
    "id": "RmqnOHl2m1eN",
    "outputId": "07f82b83-a6e8-48b4-e75a-d8f11eb8a973"
   },
   "outputs": [],
   "source": [
    "tf.random.set_seed(42)\n",
    "\n",
    "insurance_model = tf.keras.Sequential([\n",
    "tf.keras.layers.Dense(10),    \n",
    "tf.keras.layers.Dense(1)    \n",
    "])\n",
    "\n",
    "insurance_model.compile(loss=tf.keras.losses.mae, optimizer=tf.keras.optimizers.SGD(), metrics = ['mae'])\n",
    "insurance_model.fit(X_train, y_train, epochs=100)"
   ]
  },
  {
   "cell_type": "code",
   "execution_count": null,
   "metadata": {
    "colab": {
     "base_uri": "https://localhost:8080/"
    },
    "id": "cvKCxyQBnpP_",
    "outputId": "694ec5c5-5a7b-4ad5-9066-48ae32dc4677"
   },
   "outputs": [],
   "source": [
    "insurance_model.evaluate(X_test, y_test)"
   ]
  },
  {
   "cell_type": "code",
   "execution_count": null,
   "metadata": {
    "colab": {
     "base_uri": "https://localhost:8080/"
    },
    "id": "AGh1rw_vn2px",
    "outputId": "0ef5c539-c764-4ded-cf02-4108c1ca31ea"
   },
   "outputs": [],
   "source": [
    "y_train.median(), y_train.mean()"
   ]
  },
  {
   "cell_type": "markdown",
   "metadata": {
    "id": "MPqbQVc-oaOn"
   },
   "source": [
    "## Add extra layer"
   ]
  },
  {
   "cell_type": "code",
   "execution_count": null,
   "metadata": {
    "colab": {
     "base_uri": "https://localhost:8080/"
    },
    "id": "m2kQEbCPn8ul",
    "outputId": "a98489f7-0796-4d1b-c829-d3271e82d165"
   },
   "outputs": [],
   "source": [
    "tf.random.set_seed(42)\n",
    "\n",
    "insurance_model_2 = tf.keras.Sequential([\n",
    "tf.keras.layers.Dense(100),    \n",
    "tf.keras.layers.Dense(10),    \n",
    "tf.keras.layers.Dense(1)    \n",
    "])\n",
    "\n",
    "insurance_model_2.compile(loss=tf.keras.losses.mae, optimizer=tf.keras.optimizers.Adam(), metrics = ['mae'])\n",
    "insurance_model_2.fit(X_train, y_train, epochs=100)"
   ]
  },
  {
   "cell_type": "code",
   "execution_count": null,
   "metadata": {
    "colab": {
     "base_uri": "https://localhost:8080/"
    },
    "id": "rKwfftKkop8m",
    "outputId": "ca9cd292-53c0-4b10-b2f8-40e6a6bbe773"
   },
   "outputs": [],
   "source": [
    "insurance_model_2.evaluate(X_test,y_test)"
   ]
  },
  {
   "cell_type": "code",
   "execution_count": null,
   "metadata": {
    "colab": {
     "base_uri": "https://localhost:8080/"
    },
    "id": "L7epoHSNpri9",
    "outputId": "a251062c-530b-4f11-a8de-8b51a7f8372f"
   },
   "outputs": [],
   "source": [
    "tf.random.set_seed(42)\n",
    "\n",
    "insurance_model_3 = tf.keras.Sequential([\n",
    "tf.keras.layers.Dense(100),    \n",
    "tf.keras.layers.Dense(10),    \n",
    "tf.keras.layers.Dense(1)    \n",
    "])\n",
    "\n",
    "insurance_model_3.compile(loss=tf.keras.losses.mae, optimizer=tf.keras.optimizers.Adam(), metrics = ['mae'])\n",
    "history = insurance_model_3.fit(X_train, y_train, epochs=200)"
   ]
  },
  {
   "cell_type": "code",
   "execution_count": null,
   "metadata": {
    "colab": {
     "base_uri": "https://localhost:8080/"
    },
    "id": "7uHJQC4rqBle",
    "outputId": "2a97ee06-dcae-454c-a3c7-043ecaacaad8"
   },
   "outputs": [],
   "source": [
    "insurance_model_3.evaluate(X_test,y_test)"
   ]
  },
  {
   "cell_type": "code",
   "execution_count": null,
   "metadata": {
    "colab": {
     "base_uri": "https://localhost:8080/",
     "height": 447
    },
    "id": "oYwZd3AvqLPS",
    "outputId": "8a439138-41e8-49ca-fb77-d5684de1262e"
   },
   "outputs": [],
   "source": [
    "pd.DataFrame(history.history).plot()"
   ]
  },
  {
   "cell_type": "markdown",
   "metadata": {
    "id": "BjHJqXRxSPvt"
   },
   "source": [
    "## Normalization and standardization"
   ]
  },
  {
   "cell_type": "code",
   "execution_count": null,
   "metadata": {
    "colab": {
     "base_uri": "https://localhost:8080/",
     "height": 424
    },
    "id": "c7Gsq2IRS7SG",
    "outputId": "79f75bcb-f0be-4a03-b395-922212718ec5"
   },
   "outputs": [],
   "source": [
    "X"
   ]
  },
  {
   "cell_type": "code",
   "execution_count": null,
   "metadata": {
    "colab": {
     "base_uri": "https://localhost:8080/",
     "height": 447
    },
    "id": "zifamdzzS-sP",
    "outputId": "94a1d980-6f3b-4f53-dd17-9e47aa41bd4c"
   },
   "outputs": [],
   "source": [
    "X[\"age\"].plot(kind='hist')"
   ]
  },
  {
   "cell_type": "code",
   "execution_count": null,
   "metadata": {
    "colab": {
     "base_uri": "https://localhost:8080/",
     "height": 447
    },
    "id": "V65M_j0rTHgV",
    "outputId": "92210556-eab2-4ed2-86df-2ff950966ed0"
   },
   "outputs": [],
   "source": [
    "X['bmi'].plot(kind='hist')"
   ]
  },
  {
   "cell_type": "code",
   "execution_count": null,
   "metadata": {
    "colab": {
     "base_uri": "https://localhost:8080/"
    },
    "id": "XpvzGFZTTMdR",
    "outputId": "fb061e2e-00d0-4771-de75-56973a6a80cb"
   },
   "outputs": [],
   "source": [
    "X[\"children\"].value_counts()"
   ]
  },
  {
   "cell_type": "code",
   "execution_count": null,
   "metadata": {
    "id": "IfiMB77lTQKe"
   },
   "outputs": [],
   "source": [
    "from sklearn.compose import make_column_transformer\n",
    "from sklearn.preprocessing import MinMaxScaler, OneHotEncoder\n",
    "from sklearn.model_selection import train_test_split\n",
    "ct = make_column_transformer(\n",
    "    (MinMaxScaler(),['age','bmi','children']),\n",
    "    (OneHotEncoder(handle_unknown=\"ignore\"), ['sex','smoker','region']))                         \n",
    "\n",
    "X = insurance.drop('charges',axis=1)\n",
    "y = insurance.charges\n",
    "\n",
    "X_train, X_test, y_train, y_test = train_test_split(X,y, test_size=0.2, random_state=42)\n",
    "\n",
    "ct.fit(X_train)\n",
    "\n",
    "X_train_normal = ct.transform(X_train)\n",
    "X_test_normal = ct.transform(X_test)"
   ]
  },
  {
   "cell_type": "code",
   "execution_count": null,
   "metadata": {
    "colab": {
     "base_uri": "https://localhost:8080/"
    },
    "id": "CdWlnCQXUeET",
    "outputId": "2d787cef-5954-4e39-c596-14fcf312140a"
   },
   "outputs": [],
   "source": [
    "X_train_normal[0]"
   ]
  },
  {
   "cell_type": "code",
   "execution_count": null,
   "metadata": {
    "colab": {
     "base_uri": "https://localhost:8080/"
    },
    "id": "Zqaj-RElWNcO",
    "outputId": "6091b4dc-f9e9-4f1a-edfe-9d6a3171c517"
   },
   "outputs": [],
   "source": [
    "X_train.shape, X_train_normal.shape"
   ]
  },
  {
   "cell_type": "code",
   "execution_count": null,
   "metadata": {
    "colab": {
     "base_uri": "https://localhost:8080/"
    },
    "id": "IT6qIQzQWmbV",
    "outputId": "ccaf1c8c-d140-4671-9990-1caf37eb5469"
   },
   "outputs": [],
   "source": [
    "tf.random.set_seed(42)\n",
    "\n",
    "insurance_model_normal = tf.keras.Sequential([\n",
    "tf.keras.layers.Dense(100),    \n",
    "tf.keras.layers.Dense(10),    \n",
    "tf.keras.layers.Dense(1)    \n",
    "])\n",
    "\n",
    "insurance_model_normal.compile(loss=tf.keras.losses.mae, optimizer=tf.keras.optimizers.Adam(), metrics = ['mae'])\n",
    "history = insurance_model_normal.fit(X_train_normal, y_train, epochs=100)"
   ]
  },
  {
   "cell_type": "code",
   "execution_count": null,
   "metadata": {
    "colab": {
     "base_uri": "https://localhost:8080/"
    },
    "id": "QZcXJBNaXILZ",
    "outputId": "a7eaa41a-3676-4d3f-beec-db469e7d3501"
   },
   "outputs": [],
   "source": [
    "insurance_model_normal.evaluate(X_test_normal, y_test)"
   ]
  },
  {
   "cell_type": "code",
   "execution_count": null,
   "metadata": {
    "id": "XZFRVE3sXNVF"
   },
   "outputs": [],
   "source": []
  }
 ],
 "metadata": {
  "colab": {
   "authorship_tag": "ABX9TyO6J+p3yaaYnYicU/wiCr06",
   "include_colab_link": true,
   "provenance": []
  },
  "kernelspec": {
   "display_name": "Python 3.10 (tensorflow)",
   "language": "python",
   "name": "tensorflow"
  },
  "language_info": {
   "codemirror_mode": {
    "name": "ipython",
    "version": 3
   },
   "file_extension": ".py",
   "mimetype": "text/x-python",
   "name": "python",
   "nbconvert_exporter": "python",
   "pygments_lexer": "ipython3",
   "version": "3.10.11"
  }
 },
 "nbformat": 4,
 "nbformat_minor": 4
}
