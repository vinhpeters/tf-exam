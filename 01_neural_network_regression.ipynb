{
  "nbformat": 4,
  "nbformat_minor": 0,
  "metadata": {
    "colab": {
      "provenance": [],
      "authorship_tag": "ABX9TyMBmQRlebNNrkrhk+0b/PQO",
      "include_colab_link": true
    },
    "kernelspec": {
      "name": "python3",
      "display_name": "Python 3"
    },
    "language_info": {
      "name": "python"
    }
  },
  "cells": [
    {
      "cell_type": "markdown",
      "metadata": {
        "id": "view-in-github",
        "colab_type": "text"
      },
      "source": [
        "<a href=\"https://colab.research.google.com/github/vinhpeters/tf-exam/blob/main/01_neural_network_regression.ipynb\" target=\"_parent\"><img src=\"https://colab.research.google.com/assets/colab-badge.svg\" alt=\"Open In Colab\"/></a>"
      ]
    },
    {
      "cell_type": "markdown",
      "source": [
        "# Intro to regression "
      ],
      "metadata": {
        "id": "Tyf8grB7OePp"
      }
    },
    {
      "cell_type": "code",
      "source": [
        "import tensorflow as tf"
      ],
      "metadata": {
        "id": "3j2Pv_VFTlhO"
      },
      "execution_count": 2,
      "outputs": []
    },
    {
      "cell_type": "code",
      "source": [
        "print(tf.__version__)"
      ],
      "metadata": {
        "colab": {
          "base_uri": "https://localhost:8080/"
        },
        "id": "KSBOZOzST2MK",
        "outputId": "bd0d6b40-8f63-42db-b7fd-d486916c47f6"
      },
      "execution_count": 3,
      "outputs": [
        {
          "output_type": "stream",
          "name": "stdout",
          "text": [
            "2.11.0\n"
          ]
        }
      ]
    },
    {
      "cell_type": "markdown",
      "source": [
        "## Get some data"
      ],
      "metadata": {
        "id": "_Gkm8YAwT5wM"
      }
    },
    {
      "cell_type": "code",
      "source": [
        "import numpy as np\n",
        "import matplotlib.pyplot as plt\n",
        "\n",
        "X = np.array([-7.,-4.,-1.,2.,5.,8.,11.,14.])\n",
        "y = np.array([3.,6.,9.,12.,15.,18.,21.,24.])\n",
        "plt.scatter(X,y)"
      ],
      "metadata": {
        "colab": {
          "base_uri": "https://localhost:8080/",
          "height": 452
        },
        "id": "QSsBkKyfT9PA",
        "outputId": "637d3488-4715-4063-ce3f-1c307f442efe"
      },
      "execution_count": 4,
      "outputs": [
        {
          "output_type": "execute_result",
          "data": {
            "text/plain": [
              "<matplotlib.collections.PathCollection at 0x7feed136e5b0>"
            ]
          },
          "metadata": {},
          "execution_count": 4
        },
        {
          "output_type": "display_data",
          "data": {
            "text/plain": [
              "<Figure size 640x480 with 1 Axes>"
            ],
            "image/png": "[encoded data removed]"
          },
          "metadata": {}
        }
      ]
    },
    {
      "cell_type": "code",
      "source": [
        "X +10"
      ],
      "metadata": {
        "colab": {
          "base_uri": "https://localhost:8080/"
        },
        "id": "2XldZfzvUVc7",
        "outputId": "32f87247-e88c-406c-a9c8-add6b9c82c87"
      },
      "execution_count": 5,
      "outputs": [
        {
          "output_type": "execute_result",
          "data": {
            "text/plain": [
              "array([ 3.,  6.,  9., 12., 15., 18., 21., 24.])"
            ]
          },
          "metadata": {},
          "execution_count": 5
        }
      ]
    },
    {
      "cell_type": "markdown",
      "source": [
        "## Input and output shapes"
      ],
      "metadata": {
        "id": "Yg9LMFLSUgmw"
      }
    },
    {
      "cell_type": "code",
      "source": [
        "# Demo tensor\n",
        "house_info= tf.constant(['bedroom','bathroom','garage'])\n",
        "house_price = tf.constant([939700])"
      ],
      "metadata": {
        "id": "NmxMhlXcUrj4"
      },
      "execution_count": 6,
      "outputs": []
    },
    {
      "cell_type": "code",
      "source": [
        "input_shape = X[0].shape"
      ],
      "metadata": {
        "id": "fP8qaD07VCeD"
      },
      "execution_count": 7,
      "outputs": []
    },
    {
      "cell_type": "code",
      "source": [
        "output_shape = y[0].shape"
      ],
      "metadata": {
        "id": "QN4PiJZmVFq-"
      },
      "execution_count": 8,
      "outputs": []
    },
    {
      "cell_type": "code",
      "source": [
        "input_shape, output_shape"
      ],
      "metadata": {
        "colab": {
          "base_uri": "https://localhost:8080/"
        },
        "id": "6Z-7w5DLVHe4",
        "outputId": "532802d6-5c26-469c-ce83-6d1ac635e5ff"
      },
      "execution_count": 9,
      "outputs": [
        {
          "output_type": "execute_result",
          "data": {
            "text/plain": [
              "((), ())"
            ]
          },
          "metadata": {},
          "execution_count": 9
        }
      ]
    },
    {
      "cell_type": "code",
      "source": [
        "X[0], y[0]"
      ],
      "metadata": {
        "colab": {
          "base_uri": "https://localhost:8080/"
        },
        "id": "rrzKGqfdVMAx",
        "outputId": "4ee7cb88-24b0-4e66-e0a8-f6088a5fc2c4"
      },
      "execution_count": 10,
      "outputs": [
        {
          "output_type": "execute_result",
          "data": {
            "text/plain": [
              "(-7.0, 3.0)"
            ]
          },
          "metadata": {},
          "execution_count": 10
        }
      ]
    },
    {
      "cell_type": "code",
      "source": [
        "X[0].ndim"
      ],
      "metadata": {
        "colab": {
          "base_uri": "https://localhost:8080/"
        },
        "id": "RSNW-34wVOg_",
        "outputId": "2d8757b3-5e76-49f1-da8a-2ad176239fc2"
      },
      "execution_count": 11,
      "outputs": [
        {
          "output_type": "execute_result",
          "data": {
            "text/plain": [
              "0"
            ]
          },
          "metadata": {},
          "execution_count": 11
        }
      ]
    },
    {
      "cell_type": "code",
      "source": [
        "X = tf.cast(tf.constant(X), dtype=tf.float32)\n",
        "y = tf.cast(tf.constant(y), dtype=tf.float32)\n",
        "\n",
        "X,y"
      ],
      "metadata": {
        "colab": {
          "base_uri": "https://localhost:8080/"
        },
        "id": "GBfYfr0IVeEu",
        "outputId": "98a19a9e-54f0-41c8-cc72-c17c11213704"
      },
      "execution_count": 12,
      "outputs": [
        {
          "output_type": "execute_result",
          "data": {
            "text/plain": [
              "(<tf.Tensor: shape=(8,), dtype=float32, numpy=array([-7., -4., -1.,  2.,  5.,  8., 11., 14.], dtype=float32)>,\n",
              " <tf.Tensor: shape=(8,), dtype=float32, numpy=array([ 3.,  6.,  9., 12., 15., 18., 21., 24.], dtype=float32)>)"
            ]
          },
          "metadata": {},
          "execution_count": 12
        }
      ]
    },
    {
      "cell_type": "code",
      "source": [
        "X[0].shape"
      ],
      "metadata": {
        "colab": {
          "base_uri": "https://localhost:8080/"
        },
        "id": "9NUWwCgcV66W",
        "outputId": "2b2f0b69-f26c-4eb2-945b-47df6fcd351c"
      },
      "execution_count": 13,
      "outputs": [
        {
          "output_type": "execute_result",
          "data": {
            "text/plain": [
              "TensorShape([])"
            ]
          },
          "metadata": {},
          "execution_count": 13
        }
      ]
    },
    {
      "cell_type": "markdown",
      "source": [
        "## Steps in modelling with Tensorflow"
      ],
      "metadata": {
        "id": "tObywZiyWBfD"
      }
    },
    {
      "cell_type": "code",
      "source": [
        "tf.random.set_seed(42)\n",
        "model = tf.keras.Sequential()\n",
        "model.add(tf.keras.layers.Dense(1))\n"
      ],
      "metadata": {
        "id": "6869GSRrWOXT"
      },
      "execution_count": 14,
      "outputs": []
    },
    {
      "cell_type": "code",
      "source": [
        "model.compile(loss=tf.keras.losses.mae, optimizer=tf.keras.optimizers.SGD(), metrics=['mae'])"
      ],
      "metadata": {
        "id": "7sK6T--TXEQi"
      },
      "execution_count": 15,
      "outputs": []
    },
    {
      "cell_type": "code",
      "source": [
        "model.fit(tf.expand_dims(X,axis=-1),y, epochs=5)"
      ],
      "metadata": {
        "colab": {
          "base_uri": "https://localhost:8080/"
        },
        "id": "gzkk3DlvX3ec",
        "outputId": "fb8f9cfd-b060-406e-ac93-b86cb1e74c83"
      },
      "execution_count": 16,
      "outputs": [
        {
          "output_type": "stream",
          "name": "stdout",
          "text": [
            "Epoch 1/5\n",
            "1/1 [==============================] - 1s 1s/step - loss: 19.7525 - mae: 19.7525\n",
            "Epoch 2/5\n",
            "1/1 [==============================] - 0s 39ms/step - loss: 19.4712 - mae: 19.4712\n",
            "Epoch 3/5\n",
            "1/1 [==============================] - 0s 21ms/step - loss: 19.1900 - mae: 19.1900\n",
            "Epoch 4/5\n",
            "1/1 [==============================] - 0s 45ms/step - loss: 18.9087 - mae: 18.9087\n",
            "Epoch 5/5\n",
            "1/1 [==============================] - 0s 61ms/step - loss: 18.6275 - mae: 18.6275\n"
          ]
        },
        {
          "output_type": "execute_result",
          "data": {
            "text/plain": [
              "<keras.callbacks.History at 0x7feec9c1f610>"
            ]
          },
          "metadata": {},
          "execution_count": 16
        }
      ]
    },
    {
      "cell_type": "code",
      "source": [
        "y_pred=model.predict([17.0])\n",
        "y_pred"
      ],
      "metadata": {
        "colab": {
          "base_uri": "https://localhost:8080/"
        },
        "id": "5wFxpZv0ZP3a",
        "outputId": "bd5aefc1-c00a-45c9-da90-0b6f5d520e08"
      },
      "execution_count": 17,
      "outputs": [
        {
          "output_type": "stream",
          "name": "stdout",
          "text": [
            "1/1 [==============================] - 0s 440ms/step\n"
          ]
        },
        {
          "output_type": "execute_result",
          "data": {
            "text/plain": [
              "array([[-18.174753]], dtype=float32)"
            ]
          },
          "metadata": {},
          "execution_count": 17
        }
      ]
    },
    {
      "cell_type": "markdown",
      "source": [
        " ## Improving the model"
      ],
      "metadata": {
        "id": "FbQ-rg8rZWbb"
      }
    },
    {
      "cell_type": "code",
      "source": [
        "model = tf.keras.Sequential()\n",
        "model.add(tf.keras.layers.Dense(1))"
      ],
      "metadata": {
        "id": "bbYpG2ggbU0W"
      },
      "execution_count": 18,
      "outputs": []
    },
    {
      "cell_type": "code",
      "source": [
        "model.compile(loss=tf.keras.losses.mae, optimizer=tf.keras.optimizers.SGD(), metrics=['mae'])"
      ],
      "metadata": {
        "id": "byIHSbfAbUBi"
      },
      "execution_count": 19,
      "outputs": []
    },
    {
      "cell_type": "code",
      "source": [
        "model.fit(tf.expand_dims(X,axis=-1),y, epochs=100)"
      ],
      "metadata": {
        "colab": {
          "base_uri": "https://localhost:8080/"
        },
        "id": "cTOYvPC7aUgn",
        "outputId": "a0e87270-a6e4-4375-8011-2016fda049ed"
      },
      "execution_count": 20,
      "outputs": [
        {
          "output_type": "stream",
          "name": "stdout",
          "text": [
            "Epoch 1/100\n",
            "1/1 [==============================] - 2s 2s/step - loss: 10.0783 - mae: 10.0783\n",
            "Epoch 2/100\n",
            "1/1 [==============================] - 0s 14ms/step - loss: 9.9458 - mae: 9.9458\n",
            "Epoch 3/100\n",
            "1/1 [==============================] - 0s 18ms/step - loss: 9.8133 - mae: 9.8133\n",
            "Epoch 4/100\n",
            "1/1 [==============================] - 0s 11ms/step - loss: 9.6808 - mae: 9.6808\n",
            "Epoch 5/100\n",
            "1/1 [==============================] - 0s 10ms/step - loss: 9.5483 - mae: 9.5483\n",
            "Epoch 6/100\n",
            "1/1 [==============================] - 0s 15ms/step - loss: 9.4158 - mae: 9.4158\n",
            "Epoch 7/100\n",
            "1/1 [==============================] - 0s 29ms/step - loss: 9.2833 - mae: 9.2833\n",
            "Epoch 8/100\n",
            "1/1 [==============================] - 0s 20ms/step - loss: 9.1508 - mae: 9.1508\n",
            "Epoch 9/100\n",
            "1/1 [==============================] - 0s 27ms/step - loss: 9.0183 - mae: 9.0183\n",
            "Epoch 10/100\n",
            "1/1 [==============================] - 0s 62ms/step - loss: 8.8858 - mae: 8.8858\n",
            "Epoch 11/100\n",
            "1/1 [==============================] - 0s 20ms/step - loss: 8.7533 - mae: 8.7533\n",
            "Epoch 12/100\n",
            "1/1 [==============================] - 0s 15ms/step - loss: 8.6208 - mae: 8.6208\n",
            "Epoch 13/100\n",
            "1/1 [==============================] - 0s 22ms/step - loss: 8.4883 - mae: 8.4883\n",
            "Epoch 14/100\n",
            "1/1 [==============================] - 0s 72ms/step - loss: 8.3558 - mae: 8.3558\n",
            "Epoch 15/100\n",
            "1/1 [==============================] - 0s 52ms/step - loss: 8.2233 - mae: 8.2233\n",
            "Epoch 16/100\n",
            "1/1 [==============================] - 0s 40ms/step - loss: 8.0908 - mae: 8.0908\n",
            "Epoch 17/100\n",
            "1/1 [==============================] - 0s 33ms/step - loss: 7.9583 - mae: 7.9583\n",
            "Epoch 18/100\n",
            "1/1 [==============================] - 0s 109ms/step - loss: 7.8258 - mae: 7.8258\n",
            "Epoch 19/100\n",
            "1/1 [==============================] - 0s 67ms/step - loss: 7.6933 - mae: 7.6933\n",
            "Epoch 20/100\n",
            "1/1 [==============================] - 0s 101ms/step - loss: 7.5608 - mae: 7.5608\n",
            "Epoch 21/100\n",
            "1/1 [==============================] - 0s 29ms/step - loss: 7.4283 - mae: 7.4283\n",
            "Epoch 22/100\n",
            "1/1 [==============================] - 0s 28ms/step - loss: 7.3425 - mae: 7.3425\n",
            "Epoch 23/100\n",
            "1/1 [==============================] - 0s 25ms/step - loss: 7.3369 - mae: 7.3369\n",
            "Epoch 24/100\n",
            "1/1 [==============================] - 0s 25ms/step - loss: 7.3313 - mae: 7.3313\n",
            "Epoch 25/100\n",
            "1/1 [==============================] - 0s 23ms/step - loss: 7.3256 - mae: 7.3256\n",
            "Epoch 26/100\n",
            "1/1 [==============================] - 0s 32ms/step - loss: 7.3200 - mae: 7.3200\n",
            "Epoch 27/100\n",
            "1/1 [==============================] - 0s 25ms/step - loss: 7.3144 - mae: 7.3144\n",
            "Epoch 28/100\n",
            "1/1 [==============================] - 0s 83ms/step - loss: 7.3088 - mae: 7.3088\n",
            "Epoch 29/100\n",
            "1/1 [==============================] - 0s 34ms/step - loss: 7.3031 - mae: 7.3031\n",
            "Epoch 30/100\n",
            "1/1 [==============================] - 0s 45ms/step - loss: 7.2975 - mae: 7.2975\n",
            "Epoch 31/100\n",
            "1/1 [==============================] - 0s 48ms/step - loss: 7.2919 - mae: 7.2919\n",
            "Epoch 32/100\n",
            "1/1 [==============================] - 0s 72ms/step - loss: 7.2862 - mae: 7.2862\n",
            "Epoch 33/100\n",
            "1/1 [==============================] - 0s 43ms/step - loss: 7.2806 - mae: 7.2806\n",
            "Epoch 34/100\n",
            "1/1 [==============================] - 0s 22ms/step - loss: 7.2750 - mae: 7.2750\n",
            "Epoch 35/100\n",
            "1/1 [==============================] - 0s 79ms/step - loss: 7.2694 - mae: 7.2694\n",
            "Epoch 36/100\n",
            "1/1 [==============================] - 0s 69ms/step - loss: 7.2638 - mae: 7.2638\n",
            "Epoch 37/100\n",
            "1/1 [==============================] - 0s 65ms/step - loss: 7.2581 - mae: 7.2581\n",
            "Epoch 38/100\n",
            "1/1 [==============================] - 0s 49ms/step - loss: 7.2525 - mae: 7.2525\n",
            "Epoch 39/100\n",
            "1/1 [==============================] - 0s 47ms/step - loss: 7.2469 - mae: 7.2469\n",
            "Epoch 40/100\n",
            "1/1 [==============================] - 0s 47ms/step - loss: 7.2412 - mae: 7.2412\n",
            "Epoch 41/100\n",
            "1/1 [==============================] - 0s 43ms/step - loss: 7.2356 - mae: 7.2356\n",
            "Epoch 42/100\n",
            "1/1 [==============================] - 0s 136ms/step - loss: 7.2300 - mae: 7.2300\n",
            "Epoch 43/100\n",
            "1/1 [==============================] - 0s 133ms/step - loss: 7.2244 - mae: 7.2244\n",
            "Epoch 44/100\n",
            "1/1 [==============================] - 0s 86ms/step - loss: 7.2188 - mae: 7.2188\n",
            "Epoch 45/100\n",
            "1/1 [==============================] - 0s 47ms/step - loss: 7.2131 - mae: 7.2131\n",
            "Epoch 46/100\n",
            "1/1 [==============================] - 0s 10ms/step - loss: 7.2075 - mae: 7.2075\n",
            "Epoch 47/100\n",
            "1/1 [==============================] - 0s 52ms/step - loss: 7.2019 - mae: 7.2019\n",
            "Epoch 48/100\n",
            "1/1 [==============================] - 0s 59ms/step - loss: 7.1962 - mae: 7.1962\n",
            "Epoch 49/100\n",
            "1/1 [==============================] - 0s 55ms/step - loss: 7.1906 - mae: 7.1906\n",
            "Epoch 50/100\n",
            "1/1 [==============================] - 0s 49ms/step - loss: 7.1850 - mae: 7.1850\n",
            "Epoch 51/100\n",
            "1/1 [==============================] - 0s 52ms/step - loss: 7.1794 - mae: 7.1794\n",
            "Epoch 52/100\n",
            "1/1 [==============================] - 0s 70ms/step - loss: 7.1737 - mae: 7.1737\n",
            "Epoch 53/100\n",
            "1/1 [==============================] - 0s 52ms/step - loss: 7.1681 - mae: 7.1681\n",
            "Epoch 54/100\n",
            "1/1 [==============================] - 0s 77ms/step - loss: 7.1625 - mae: 7.1625\n",
            "Epoch 55/100\n",
            "1/1 [==============================] - 0s 62ms/step - loss: 7.1569 - mae: 7.1569\n",
            "Epoch 56/100\n",
            "1/1 [==============================] - 0s 59ms/step - loss: 7.1512 - mae: 7.1512\n",
            "Epoch 57/100\n",
            "1/1 [==============================] - 0s 44ms/step - loss: 7.1456 - mae: 7.1456\n",
            "Epoch 58/100\n",
            "1/1 [==============================] - 0s 77ms/step - loss: 7.1400 - mae: 7.1400\n",
            "Epoch 59/100\n",
            "1/1 [==============================] - 0s 60ms/step - loss: 7.1344 - mae: 7.1344\n",
            "Epoch 60/100\n",
            "1/1 [==============================] - 0s 75ms/step - loss: 7.1287 - mae: 7.1287\n",
            "Epoch 61/100\n",
            "1/1 [==============================] - 0s 101ms/step - loss: 7.1231 - mae: 7.1231\n",
            "Epoch 62/100\n",
            "1/1 [==============================] - 0s 46ms/step - loss: 7.1175 - mae: 7.1175\n",
            "Epoch 63/100\n",
            "1/1 [==============================] - 0s 44ms/step - loss: 7.1119 - mae: 7.1119\n",
            "Epoch 64/100\n",
            "1/1 [==============================] - 0s 55ms/step - loss: 7.1062 - mae: 7.1062\n",
            "Epoch 65/100\n",
            "1/1 [==============================] - 0s 39ms/step - loss: 7.1006 - mae: 7.1006\n",
            "Epoch 66/100\n",
            "1/1 [==============================] - 0s 34ms/step - loss: 7.0950 - mae: 7.0950\n",
            "Epoch 67/100\n",
            "1/1 [==============================] - 0s 40ms/step - loss: 7.0894 - mae: 7.0894\n",
            "Epoch 68/100\n",
            "1/1 [==============================] - 0s 47ms/step - loss: 7.0837 - mae: 7.0837\n",
            "Epoch 69/100\n",
            "1/1 [==============================] - 0s 28ms/step - loss: 7.0781 - mae: 7.0781\n",
            "Epoch 70/100\n",
            "1/1 [==============================] - 0s 24ms/step - loss: 7.0725 - mae: 7.0725\n",
            "Epoch 71/100\n",
            "1/1 [==============================] - 0s 47ms/step - loss: 7.0669 - mae: 7.0669\n",
            "Epoch 72/100\n",
            "1/1 [==============================] - 0s 32ms/step - loss: 7.0612 - mae: 7.0612\n",
            "Epoch 73/100\n",
            "1/1 [==============================] - 0s 66ms/step - loss: 7.0556 - mae: 7.0556\n",
            "Epoch 74/100\n",
            "1/1 [==============================] - 0s 55ms/step - loss: 7.0500 - mae: 7.0500\n",
            "Epoch 75/100\n",
            "1/1 [==============================] - 0s 41ms/step - loss: 7.0444 - mae: 7.0444\n",
            "Epoch 76/100\n",
            "1/1 [==============================] - 0s 26ms/step - loss: 7.0387 - mae: 7.0387\n",
            "Epoch 77/100\n",
            "1/1 [==============================] - 0s 27ms/step - loss: 7.0331 - mae: 7.0331\n",
            "Epoch 78/100\n",
            "1/1 [==============================] - 0s 27ms/step - loss: 7.0275 - mae: 7.0275\n",
            "Epoch 79/100\n",
            "1/1 [==============================] - 0s 25ms/step - loss: 7.0219 - mae: 7.0219\n",
            "Epoch 80/100\n",
            "1/1 [==============================] - 0s 42ms/step - loss: 7.0163 - mae: 7.0163\n",
            "Epoch 81/100\n",
            "1/1 [==============================] - 0s 26ms/step - loss: 7.0106 - mae: 7.0106\n",
            "Epoch 82/100\n",
            "1/1 [==============================] - 0s 22ms/step - loss: 7.0050 - mae: 7.0050\n",
            "Epoch 83/100\n",
            "1/1 [==============================] - 0s 13ms/step - loss: 6.9994 - mae: 6.9994\n",
            "Epoch 84/100\n",
            "1/1 [==============================] - 0s 21ms/step - loss: 6.9938 - mae: 6.9938\n",
            "Epoch 85/100\n",
            "1/1 [==============================] - 0s 20ms/step - loss: 6.9881 - mae: 6.9881\n",
            "Epoch 86/100\n",
            "1/1 [==============================] - 0s 55ms/step - loss: 6.9825 - mae: 6.9825\n",
            "Epoch 87/100\n",
            "1/1 [==============================] - 0s 26ms/step - loss: 6.9769 - mae: 6.9769\n",
            "Epoch 88/100\n",
            "1/1 [==============================] - 0s 23ms/step - loss: 6.9713 - mae: 6.9713\n",
            "Epoch 89/100\n",
            "1/1 [==============================] - 0s 32ms/step - loss: 6.9656 - mae: 6.9656\n",
            "Epoch 90/100\n",
            "1/1 [==============================] - 0s 63ms/step - loss: 6.9600 - mae: 6.9600\n",
            "Epoch 91/100\n",
            "1/1 [==============================] - 0s 14ms/step - loss: 6.9544 - mae: 6.9544\n",
            "Epoch 92/100\n",
            "1/1 [==============================] - 0s 25ms/step - loss: 6.9488 - mae: 6.9488\n",
            "Epoch 93/100\n",
            "1/1 [==============================] - 0s 23ms/step - loss: 6.9431 - mae: 6.9431\n",
            "Epoch 94/100\n",
            "1/1 [==============================] - 0s 41ms/step - loss: 6.9375 - mae: 6.9375\n",
            "Epoch 95/100\n",
            "1/1 [==============================] - 0s 39ms/step - loss: 6.9319 - mae: 6.9319\n",
            "Epoch 96/100\n",
            "1/1 [==============================] - 0s 46ms/step - loss: 6.9263 - mae: 6.9263\n",
            "Epoch 97/100\n",
            "1/1 [==============================] - 0s 29ms/step - loss: 6.9206 - mae: 6.9206\n",
            "Epoch 98/100\n",
            "1/1 [==============================] - 0s 39ms/step - loss: 6.9150 - mae: 6.9150\n",
            "Epoch 99/100\n",
            "1/1 [==============================] - 0s 13ms/step - loss: 6.9094 - mae: 6.9094\n",
            "Epoch 100/100\n",
            "1/1 [==============================] - 0s 11ms/step - loss: 6.9038 - mae: 6.9038\n"
          ]
        },
        {
          "output_type": "execute_result",
          "data": {
            "text/plain": [
              "<keras.callbacks.History at 0x7feeca536550>"
            ]
          },
          "metadata": {},
          "execution_count": 20
        }
      ]
    },
    {
      "cell_type": "code",
      "source": [
        "X,y"
      ],
      "metadata": {
        "colab": {
          "base_uri": "https://localhost:8080/"
        },
        "id": "HbFIiS9tb-9v",
        "outputId": "97ea45ab-4080-4d99-db91-49a3319f29d3"
      },
      "execution_count": 21,
      "outputs": [
        {
          "output_type": "execute_result",
          "data": {
            "text/plain": [
              "(<tf.Tensor: shape=(8,), dtype=float32, numpy=array([-7., -4., -1.,  2.,  5.,  8., 11., 14.], dtype=float32)>,\n",
              " <tf.Tensor: shape=(8,), dtype=float32, numpy=array([ 3.,  6.,  9., 12., 15., 18., 21., 24.], dtype=float32)>)"
            ]
          },
          "metadata": {},
          "execution_count": 21
        }
      ]
    },
    {
      "cell_type": "code",
      "source": [
        "model.predict([17.0])"
      ],
      "metadata": {
        "colab": {
          "base_uri": "https://localhost:8080/"
        },
        "id": "U_JhlQ4fcAR6",
        "outputId": "f548193c-22e3-4e5e-9db3-d96cf47ed236"
      },
      "execution_count": 22,
      "outputs": [
        {
          "output_type": "stream",
          "name": "stdout",
          "text": [
            "1/1 [==============================] - 0s 187ms/step\n"
          ]
        },
        {
          "output_type": "execute_result",
          "data": {
            "text/plain": [
              "array([[29.917389]], dtype=float32)"
            ]
          },
          "metadata": {},
          "execution_count": 22
        }
      ]
    },
    {
      "cell_type": "code",
      "source": [
        "model = tf.keras.Sequential()\n",
        "model.add(tf.keras.layers.Dense(1))\n",
        "model.compile(loss=tf.keras.losses.mae, optimizer=tf.keras.optimizers.Adam(learning_rate=0.2), metrics=['mae'])\n",
        "model.fit(tf.expand_dims(X,axis=-1),y, epochs=100)"
      ],
      "metadata": {
        "colab": {
          "base_uri": "https://localhost:8080/"
        },
        "id": "dAJ9RulmcDrN",
        "outputId": "1e3a3166-bea2-454f-bf54-48e7421ad8a8"
      },
      "execution_count": 23,
      "outputs": [
        {
          "output_type": "stream",
          "name": "stdout",
          "text": [
            "Epoch 1/100\n",
            "1/1 [==============================] - 2s 2s/step - loss: 14.9380 - mae: 14.9380\n",
            "Epoch 2/100\n",
            "1/1 [==============================] - 0s 16ms/step - loss: 14.0380 - mae: 14.0380\n",
            "Epoch 3/100\n",
            "1/1 [==============================] - 0s 15ms/step - loss: 13.1381 - mae: 13.1381\n",
            "Epoch 4/100\n",
            "1/1 [==============================] - 0s 16ms/step - loss: 12.2381 - mae: 12.2381\n",
            "Epoch 5/100\n",
            "1/1 [==============================] - 0s 12ms/step - loss: 11.3381 - mae: 11.3381\n",
            "Epoch 6/100\n",
            "1/1 [==============================] - 0s 18ms/step - loss: 10.4381 - mae: 10.4381\n",
            "Epoch 7/100\n",
            "1/1 [==============================] - 0s 18ms/step - loss: 9.5381 - mae: 9.5381\n",
            "Epoch 8/100\n",
            "1/1 [==============================] - 0s 9ms/step - loss: 8.6381 - mae: 8.6381\n",
            "Epoch 9/100\n",
            "1/1 [==============================] - 0s 14ms/step - loss: 7.7381 - mae: 7.7381\n",
            "Epoch 10/100\n",
            "1/1 [==============================] - 0s 28ms/step - loss: 6.8381 - mae: 6.8381\n",
            "Epoch 11/100\n",
            "1/1 [==============================] - 0s 36ms/step - loss: 6.0000 - mae: 6.0000\n",
            "Epoch 12/100\n",
            "1/1 [==============================] - 0s 10ms/step - loss: 6.0146 - mae: 6.0146\n",
            "Epoch 13/100\n",
            "1/1 [==============================] - 0s 10ms/step - loss: 6.2859 - mae: 6.2859\n",
            "Epoch 14/100\n",
            "1/1 [==============================] - 0s 16ms/step - loss: 6.5856 - mae: 6.5856\n",
            "Epoch 15/100\n",
            "1/1 [==============================] - 0s 14ms/step - loss: 6.7430 - mae: 6.7430\n",
            "Epoch 16/100\n",
            "1/1 [==============================] - 0s 18ms/step - loss: 6.7092 - mae: 6.7092\n",
            "Epoch 17/100\n",
            "1/1 [==============================] - 0s 24ms/step - loss: 6.5220 - mae: 6.5220\n",
            "Epoch 18/100\n",
            "1/1 [==============================] - 0s 23ms/step - loss: 6.2094 - mae: 6.2094\n",
            "Epoch 19/100\n",
            "1/1 [==============================] - 0s 18ms/step - loss: 5.7931 - mae: 5.7931\n",
            "Epoch 20/100\n",
            "1/1 [==============================] - 0s 15ms/step - loss: 5.3782 - mae: 5.3782\n",
            "Epoch 21/100\n",
            "1/1 [==============================] - 0s 58ms/step - loss: 5.0204 - mae: 5.0204\n",
            "Epoch 22/100\n",
            "1/1 [==============================] - 0s 30ms/step - loss: 4.6826 - mae: 4.6826\n",
            "Epoch 23/100\n",
            "1/1 [==============================] - 0s 38ms/step - loss: 4.5742 - mae: 4.5742\n",
            "Epoch 24/100\n",
            "1/1 [==============================] - 0s 34ms/step - loss: 4.6854 - mae: 4.6854\n",
            "Epoch 25/100\n",
            "1/1 [==============================] - 0s 49ms/step - loss: 4.7372 - mae: 4.7372\n",
            "Epoch 26/100\n",
            "1/1 [==============================] - 0s 26ms/step - loss: 4.6831 - mae: 4.6831\n",
            "Epoch 27/100\n",
            "1/1 [==============================] - 0s 23ms/step - loss: 4.5354 - mae: 4.5354\n",
            "Epoch 28/100\n",
            "1/1 [==============================] - 0s 39ms/step - loss: 4.3049 - mae: 4.3049\n",
            "Epoch 29/100\n",
            "1/1 [==============================] - 0s 30ms/step - loss: 4.0008 - mae: 4.0008\n",
            "Epoch 30/100\n",
            "1/1 [==============================] - 0s 13ms/step - loss: 3.6599 - mae: 3.6599\n",
            "Epoch 31/100\n",
            "1/1 [==============================] - 0s 15ms/step - loss: 3.5158 - mae: 3.5158\n",
            "Epoch 32/100\n",
            "1/1 [==============================] - 0s 30ms/step - loss: 3.4706 - mae: 3.4706\n",
            "Epoch 33/100\n",
            "1/1 [==============================] - 0s 20ms/step - loss: 3.4352 - mae: 3.4352\n",
            "Epoch 34/100\n",
            "1/1 [==============================] - 0s 18ms/step - loss: 3.3501 - mae: 3.3501\n",
            "Epoch 35/100\n",
            "1/1 [==============================] - 0s 20ms/step - loss: 3.2201 - mae: 3.2201\n",
            "Epoch 36/100\n",
            "1/1 [==============================] - 0s 15ms/step - loss: 3.0497 - mae: 3.0497\n",
            "Epoch 37/100\n",
            "1/1 [==============================] - 0s 32ms/step - loss: 2.8425 - mae: 2.8425\n",
            "Epoch 38/100\n",
            "1/1 [==============================] - 0s 37ms/step - loss: 2.6021 - mae: 2.6021\n",
            "Epoch 39/100\n",
            "1/1 [==============================] - 0s 32ms/step - loss: 2.4526 - mae: 2.4526\n",
            "Epoch 40/100\n",
            "1/1 [==============================] - 0s 48ms/step - loss: 2.4322 - mae: 2.4322\n",
            "Epoch 41/100\n",
            "1/1 [==============================] - 0s 29ms/step - loss: 2.3741 - mae: 2.3741\n",
            "Epoch 42/100\n",
            "1/1 [==============================] - 0s 30ms/step - loss: 2.2208 - mae: 2.2208\n",
            "Epoch 43/100\n",
            "1/1 [==============================] - 0s 34ms/step - loss: 1.9826 - mae: 1.9826\n",
            "Epoch 44/100\n",
            "1/1 [==============================] - 0s 24ms/step - loss: 1.7666 - mae: 1.7666\n",
            "Epoch 45/100\n",
            "1/1 [==============================] - 0s 16ms/step - loss: 1.7050 - mae: 1.7050\n",
            "Epoch 46/100\n",
            "1/1 [==============================] - 0s 56ms/step - loss: 1.6396 - mae: 1.6396\n",
            "Epoch 47/100\n",
            "1/1 [==============================] - 0s 73ms/step - loss: 1.5405 - mae: 1.5405\n",
            "Epoch 48/100\n",
            "1/1 [==============================] - 0s 48ms/step - loss: 1.3404 - mae: 1.3404\n",
            "Epoch 49/100\n",
            "1/1 [==============================] - 0s 42ms/step - loss: 1.1188 - mae: 1.1188\n",
            "Epoch 50/100\n",
            "1/1 [==============================] - 0s 32ms/step - loss: 0.9835 - mae: 0.9835\n",
            "Epoch 51/100\n",
            "1/1 [==============================] - 0s 27ms/step - loss: 0.9255 - mae: 0.9255\n",
            "Epoch 52/100\n",
            "1/1 [==============================] - 0s 20ms/step - loss: 0.7725 - mae: 0.7725\n",
            "Epoch 53/100\n",
            "1/1 [==============================] - 0s 30ms/step - loss: 0.5431 - mae: 0.5431\n",
            "Epoch 54/100\n",
            "1/1 [==============================] - 0s 19ms/step - loss: 0.4502 - mae: 0.4502\n",
            "Epoch 55/100\n",
            "1/1 [==============================] - 0s 14ms/step - loss: 0.3758 - mae: 0.3758\n",
            "Epoch 56/100\n",
            "1/1 [==============================] - 0s 22ms/step - loss: 0.1681 - mae: 0.1681\n",
            "Epoch 57/100\n",
            "1/1 [==============================] - 0s 20ms/step - loss: 0.2197 - mae: 0.2197\n",
            "Epoch 58/100\n",
            "1/1 [==============================] - 0s 25ms/step - loss: 0.2833 - mae: 0.2833\n",
            "Epoch 59/100\n",
            "1/1 [==============================] - 0s 26ms/step - loss: 0.2177 - mae: 0.2177\n",
            "Epoch 60/100\n",
            "1/1 [==============================] - 0s 59ms/step - loss: 0.3852 - mae: 0.3852\n",
            "Epoch 61/100\n",
            "1/1 [==============================] - 0s 36ms/step - loss: 0.4479 - mae: 0.4479\n",
            "Epoch 62/100\n",
            "1/1 [==============================] - 0s 19ms/step - loss: 0.4054 - mae: 0.4054\n",
            "Epoch 63/100\n",
            "1/1 [==============================] - 0s 38ms/step - loss: 0.4518 - mae: 0.4518\n",
            "Epoch 64/100\n",
            "1/1 [==============================] - 0s 32ms/step - loss: 0.4920 - mae: 0.4920\n",
            "Epoch 65/100\n",
            "1/1 [==============================] - 0s 17ms/step - loss: 0.4059 - mae: 0.4059\n",
            "Epoch 66/100\n",
            "1/1 [==============================] - 0s 22ms/step - loss: 0.3949 - mae: 0.3949\n",
            "Epoch 67/100\n",
            "1/1 [==============================] - 0s 29ms/step - loss: 0.3848 - mae: 0.3848\n",
            "Epoch 68/100\n",
            "1/1 [==============================] - 0s 35ms/step - loss: 0.2784 - mae: 0.2784\n",
            "Epoch 69/100\n",
            "1/1 [==============================] - 0s 52ms/step - loss: 0.3288 - mae: 0.3288\n",
            "Epoch 70/100\n",
            "1/1 [==============================] - 0s 28ms/step - loss: 0.3265 - mae: 0.3265\n",
            "Epoch 71/100\n",
            "1/1 [==============================] - 0s 21ms/step - loss: 0.1244 - mae: 0.1244\n",
            "Epoch 72/100\n",
            "1/1 [==============================] - 0s 33ms/step - loss: 0.2516 - mae: 0.2516\n",
            "Epoch 73/100\n",
            "1/1 [==============================] - 0s 21ms/step - loss: 0.3361 - mae: 0.3361\n",
            "Epoch 74/100\n",
            "1/1 [==============================] - 0s 40ms/step - loss: 0.1935 - mae: 0.1935\n",
            "Epoch 75/100\n",
            "1/1 [==============================] - 0s 76ms/step - loss: 0.2680 - mae: 0.2680\n",
            "Epoch 76/100\n",
            "1/1 [==============================] - 0s 82ms/step - loss: 0.4234 - mae: 0.4234\n",
            "Epoch 77/100\n",
            "1/1 [==============================] - 0s 45ms/step - loss: 0.4143 - mae: 0.4143\n",
            "Epoch 78/100\n",
            "1/1 [==============================] - 0s 33ms/step - loss: 0.2866 - mae: 0.2866\n",
            "Epoch 79/100\n",
            "1/1 [==============================] - 0s 24ms/step - loss: 0.2245 - mae: 0.2245\n",
            "Epoch 80/100\n",
            "1/1 [==============================] - 0s 36ms/step - loss: 0.3171 - mae: 0.3171\n",
            "Epoch 81/100\n",
            "1/1 [==============================] - 0s 24ms/step - loss: 0.2178 - mae: 0.2178\n",
            "Epoch 82/100\n",
            "1/1 [==============================] - 0s 23ms/step - loss: 0.1472 - mae: 0.1472\n",
            "Epoch 83/100\n",
            "1/1 [==============================] - 0s 23ms/step - loss: 0.2353 - mae: 0.2353\n",
            "Epoch 84/100\n",
            "1/1 [==============================] - 0s 41ms/step - loss: 0.1376 - mae: 0.1376\n",
            "Epoch 85/100\n",
            "1/1 [==============================] - 0s 20ms/step - loss: 0.1732 - mae: 0.1732\n",
            "Epoch 86/100\n",
            "1/1 [==============================] - 0s 31ms/step - loss: 0.2402 - mae: 0.2402\n",
            "Epoch 87/100\n",
            "1/1 [==============================] - 0s 20ms/step - loss: 0.1545 - mae: 0.1545\n",
            "Epoch 88/100\n",
            "1/1 [==============================] - 0s 34ms/step - loss: 0.2137 - mae: 0.2137\n",
            "Epoch 89/100\n",
            "1/1 [==============================] - 0s 20ms/step - loss: 0.2489 - mae: 0.2489\n",
            "Epoch 90/100\n",
            "1/1 [==============================] - 0s 9ms/step - loss: 0.1125 - mae: 0.1125\n",
            "Epoch 91/100\n",
            "1/1 [==============================] - 0s 20ms/step - loss: 0.2360 - mae: 0.2360\n",
            "Epoch 92/100\n",
            "1/1 [==============================] - 0s 19ms/step - loss: 0.3132 - mae: 0.3132\n",
            "Epoch 93/100\n",
            "1/1 [==============================] - 0s 22ms/step - loss: 0.1848 - mae: 0.1848\n",
            "Epoch 94/100\n",
            "1/1 [==============================] - 0s 14ms/step - loss: 0.1294 - mae: 0.1294\n",
            "Epoch 95/100\n",
            "1/1 [==============================] - 0s 17ms/step - loss: 0.2059 - mae: 0.2059\n",
            "Epoch 96/100\n",
            "1/1 [==============================] - 0s 38ms/step - loss: 0.0968 - mae: 0.0968\n",
            "Epoch 97/100\n",
            "1/1 [==============================] - 0s 21ms/step - loss: 0.1690 - mae: 0.1690\n",
            "Epoch 98/100\n",
            "1/1 [==============================] - 0s 20ms/step - loss: 0.1938 - mae: 0.1938\n",
            "Epoch 99/100\n",
            "1/1 [==============================] - 0s 28ms/step - loss: 0.0390 - mae: 0.0390\n",
            "Epoch 100/100\n",
            "1/1 [==============================] - 0s 21ms/step - loss: 0.1426 - mae: 0.1426\n"
          ]
        },
        {
          "output_type": "execute_result",
          "data": {
            "text/plain": [
              "<keras.callbacks.History at 0x7feeca487b50>"
            ]
          },
          "metadata": {},
          "execution_count": 23
        }
      ]
    },
    {
      "cell_type": "code",
      "source": [
        "model.predict([17.0])"
      ],
      "metadata": {
        "colab": {
          "base_uri": "https://localhost:8080/"
        },
        "id": "JZONudI6dtRT",
        "outputId": "1d1a4cce-a755-4dfe-fba3-04463cff402a"
      },
      "execution_count": 24,
      "outputs": [
        {
          "output_type": "stream",
          "name": "stdout",
          "text": [
            "1/1 [==============================] - 0s 357ms/step\n"
          ]
        },
        {
          "output_type": "execute_result",
          "data": {
            "text/plain": [
              "array([[26.780905]], dtype=float32)"
            ]
          },
          "metadata": {},
          "execution_count": 24
        }
      ]
    },
    {
      "cell_type": "code",
      "source": [
        "model = tf.keras.Sequential()\n",
        "model.add(tf.keras.layers.Dense(50,activation=None))\n",
        "model.add(tf.keras.layers.Dense(1))\n",
        "\n",
        "model.compile(loss='mae', optimizer=tf.keras.optimizers.Adam(learning_rate=0.01), metrics=['mae'])\n",
        "model.fit(tf.expand_dims(X,axis=-1),y, epochs=100)"
      ],
      "metadata": {
        "colab": {
          "base_uri": "https://localhost:8080/"
        },
        "id": "MtUP0nE2cyAz",
        "outputId": "ca76dbb0-959c-4b71-9f8a-8f40f7406cc5"
      },
      "execution_count": 25,
      "outputs": [
        {
          "output_type": "stream",
          "name": "stdout",
          "text": [
            "Epoch 1/100\n",
            "1/1 [==============================] - 2s 2s/step - loss: 12.6486 - mae: 12.6486\n",
            "Epoch 2/100\n",
            "1/1 [==============================] - 0s 14ms/step - loss: 11.9311 - mae: 11.9311\n",
            "Epoch 3/100\n",
            "1/1 [==============================] - 0s 20ms/step - loss: 11.2055 - mae: 11.2055\n",
            "Epoch 4/100\n",
            "1/1 [==============================] - 0s 17ms/step - loss: 10.4691 - mae: 10.4691\n",
            "Epoch 5/100\n",
            "1/1 [==============================] - 0s 17ms/step - loss: 9.7188 - mae: 9.7188\n",
            "Epoch 6/100\n",
            "1/1 [==============================] - 0s 16ms/step - loss: 8.9516 - mae: 8.9516\n",
            "Epoch 7/100\n",
            "1/1 [==============================] - 0s 20ms/step - loss: 8.1643 - mae: 8.1643\n",
            "Epoch 8/100\n",
            "1/1 [==============================] - 0s 13ms/step - loss: 7.3542 - mae: 7.3542\n",
            "Epoch 9/100\n",
            "1/1 [==============================] - 0s 13ms/step - loss: 6.8352 - mae: 6.8352\n",
            "Epoch 10/100\n",
            "1/1 [==============================] - 0s 23ms/step - loss: 7.0389 - mae: 7.0389\n",
            "Epoch 11/100\n",
            "1/1 [==============================] - 0s 19ms/step - loss: 7.3311 - mae: 7.3311\n",
            "Epoch 12/100\n",
            "1/1 [==============================] - 0s 15ms/step - loss: 7.5827 - mae: 7.5827\n",
            "Epoch 13/100\n",
            "1/1 [==============================] - 0s 21ms/step - loss: 7.6411 - mae: 7.6411\n",
            "Epoch 14/100\n",
            "1/1 [==============================] - 0s 15ms/step - loss: 7.4865 - mae: 7.4865\n",
            "Epoch 15/100\n",
            "1/1 [==============================] - 0s 30ms/step - loss: 7.1760 - mae: 7.1760\n",
            "Epoch 16/100\n",
            "1/1 [==============================] - 0s 42ms/step - loss: 6.8901 - mae: 6.8901\n",
            "Epoch 17/100\n",
            "1/1 [==============================] - 0s 30ms/step - loss: 6.5989 - mae: 6.5989\n",
            "Epoch 18/100\n",
            "1/1 [==============================] - 0s 19ms/step - loss: 6.2925 - mae: 6.2925\n",
            "Epoch 19/100\n",
            "1/1 [==============================] - 0s 16ms/step - loss: 6.1513 - mae: 6.1513\n",
            "Epoch 20/100\n",
            "1/1 [==============================] - 0s 18ms/step - loss: 6.1015 - mae: 6.1015\n",
            "Epoch 21/100\n",
            "1/1 [==============================] - 0s 10ms/step - loss: 6.2827 - mae: 6.2827\n",
            "Epoch 22/100\n",
            "1/1 [==============================] - 0s 12ms/step - loss: 6.3658 - mae: 6.3658\n",
            "Epoch 23/100\n",
            "1/1 [==============================] - 0s 36ms/step - loss: 6.3399 - mae: 6.3399\n",
            "Epoch 24/100\n",
            "1/1 [==============================] - 0s 12ms/step - loss: 6.2189 - mae: 6.2189\n",
            "Epoch 25/100\n",
            "1/1 [==============================] - 0s 15ms/step - loss: 6.0129 - mae: 6.0129\n",
            "Epoch 26/100\n",
            "1/1 [==============================] - 0s 13ms/step - loss: 5.7295 - mae: 5.7295\n",
            "Epoch 27/100\n",
            "1/1 [==============================] - 0s 15ms/step - loss: 5.5206 - mae: 5.5206\n",
            "Epoch 28/100\n",
            "1/1 [==============================] - 0s 18ms/step - loss: 5.4071 - mae: 5.4071\n",
            "Epoch 29/100\n",
            "1/1 [==============================] - 0s 14ms/step - loss: 5.3883 - mae: 5.3883\n",
            "Epoch 30/100\n",
            "1/1 [==============================] - 0s 16ms/step - loss: 5.4029 - mae: 5.4029\n",
            "Epoch 31/100\n",
            "1/1 [==============================] - 0s 12ms/step - loss: 5.3675 - mae: 5.3675\n",
            "Epoch 32/100\n",
            "1/1 [==============================] - 0s 12ms/step - loss: 5.2862 - mae: 5.2862\n",
            "Epoch 33/100\n",
            "1/1 [==============================] - 0s 20ms/step - loss: 5.1629 - mae: 5.1629\n",
            "Epoch 34/100\n",
            "1/1 [==============================] - 0s 27ms/step - loss: 5.0012 - mae: 5.0012\n",
            "Epoch 35/100\n",
            "1/1 [==============================] - 0s 12ms/step - loss: 4.8047 - mae: 4.8047\n",
            "Epoch 36/100\n",
            "1/1 [==============================] - 0s 12ms/step - loss: 4.5905 - mae: 4.5905\n",
            "Epoch 37/100\n",
            "1/1 [==============================] - 0s 16ms/step - loss: 4.4928 - mae: 4.4928\n",
            "Epoch 38/100\n",
            "1/1 [==============================] - 0s 46ms/step - loss: 4.3875 - mae: 4.3875\n",
            "Epoch 39/100\n",
            "1/1 [==============================] - 0s 49ms/step - loss: 4.2797 - mae: 4.2797\n",
            "Epoch 40/100\n",
            "1/1 [==============================] - 0s 38ms/step - loss: 4.1510 - mae: 4.1510\n",
            "Epoch 41/100\n",
            "1/1 [==============================] - 0s 37ms/step - loss: 3.9958 - mae: 3.9958\n",
            "Epoch 42/100\n",
            "1/1 [==============================] - 0s 52ms/step - loss: 3.8413 - mae: 3.8413\n",
            "Epoch 43/100\n",
            "1/1 [==============================] - 0s 44ms/step - loss: 3.6798 - mae: 3.6798\n",
            "Epoch 44/100\n",
            "1/1 [==============================] - 0s 43ms/step - loss: 3.5815 - mae: 3.5815\n",
            "Epoch 45/100\n",
            "1/1 [==============================] - 0s 30ms/step - loss: 3.4548 - mae: 3.4548\n",
            "Epoch 46/100\n",
            "1/1 [==============================] - 0s 27ms/step - loss: 3.2747 - mae: 3.2747\n",
            "Epoch 47/100\n",
            "1/1 [==============================] - 0s 26ms/step - loss: 3.0444 - mae: 3.0444\n",
            "Epoch 48/100\n",
            "1/1 [==============================] - 0s 33ms/step - loss: 2.8693 - mae: 2.8693\n",
            "Epoch 49/100\n",
            "1/1 [==============================] - 0s 18ms/step - loss: 2.7145 - mae: 2.7145\n",
            "Epoch 50/100\n",
            "1/1 [==============================] - 0s 19ms/step - loss: 2.5292 - mae: 2.5292\n",
            "Epoch 51/100\n",
            "1/1 [==============================] - 0s 24ms/step - loss: 2.2964 - mae: 2.2964\n",
            "Epoch 52/100\n",
            "1/1 [==============================] - 0s 27ms/step - loss: 2.1005 - mae: 2.1005\n",
            "Epoch 53/100\n",
            "1/1 [==============================] - 0s 22ms/step - loss: 1.9230 - mae: 1.9230\n",
            "Epoch 54/100\n",
            "1/1 [==============================] - 0s 24ms/step - loss: 1.6815 - mae: 1.6815\n",
            "Epoch 55/100\n",
            "1/1 [==============================] - 0s 16ms/step - loss: 1.4206 - mae: 1.4206\n",
            "Epoch 56/100\n",
            "1/1 [==============================] - 0s 24ms/step - loss: 1.2228 - mae: 1.2228\n",
            "Epoch 57/100\n",
            "1/1 [==============================] - 0s 29ms/step - loss: 0.9370 - mae: 0.9370\n",
            "Epoch 58/100\n",
            "1/1 [==============================] - 0s 34ms/step - loss: 0.6791 - mae: 0.6791\n",
            "Epoch 59/100\n",
            "1/1 [==============================] - 0s 35ms/step - loss: 0.4055 - mae: 0.4055\n",
            "Epoch 60/100\n",
            "1/1 [==============================] - 0s 17ms/step - loss: 0.1275 - mae: 0.1275\n",
            "Epoch 61/100\n",
            "1/1 [==============================] - 0s 18ms/step - loss: 0.1640 - mae: 0.1640\n",
            "Epoch 62/100\n",
            "1/1 [==============================] - 0s 14ms/step - loss: 0.3889 - mae: 0.3889\n",
            "Epoch 63/100\n",
            "1/1 [==============================] - 0s 13ms/step - loss: 0.5712 - mae: 0.5712\n",
            "Epoch 64/100\n",
            "1/1 [==============================] - 0s 14ms/step - loss: 0.6747 - mae: 0.6747\n",
            "Epoch 65/100\n",
            "1/1 [==============================] - 0s 15ms/step - loss: 0.7849 - mae: 0.7849\n",
            "Epoch 66/100\n",
            "1/1 [==============================] - 0s 18ms/step - loss: 0.7682 - mae: 0.7682\n",
            "Epoch 67/100\n",
            "1/1 [==============================] - 0s 13ms/step - loss: 0.7595 - mae: 0.7595\n",
            "Epoch 68/100\n",
            "1/1 [==============================] - 0s 24ms/step - loss: 0.6826 - mae: 0.6826\n",
            "Epoch 69/100\n",
            "1/1 [==============================] - 0s 22ms/step - loss: 0.6512 - mae: 0.6512\n",
            "Epoch 70/100\n",
            "1/1 [==============================] - 0s 16ms/step - loss: 0.4965 - mae: 0.4965\n",
            "Epoch 71/100\n",
            "1/1 [==============================] - 0s 19ms/step - loss: 0.3738 - mae: 0.3738\n",
            "Epoch 72/100\n",
            "1/1 [==============================] - 0s 17ms/step - loss: 0.2388 - mae: 0.2388\n",
            "Epoch 73/100\n",
            "1/1 [==============================] - 0s 19ms/step - loss: 0.0953 - mae: 0.0953\n",
            "Epoch 74/100\n",
            "1/1 [==============================] - 0s 27ms/step - loss: 0.2351 - mae: 0.2351\n",
            "Epoch 75/100\n",
            "1/1 [==============================] - 0s 15ms/step - loss: 0.2515 - mae: 0.2515\n",
            "Epoch 76/100\n",
            "1/1 [==============================] - 0s 23ms/step - loss: 0.3770 - mae: 0.3770\n",
            "Epoch 77/100\n",
            "1/1 [==============================] - 0s 35ms/step - loss: 0.3874 - mae: 0.3874\n",
            "Epoch 78/100\n",
            "1/1 [==============================] - 0s 29ms/step - loss: 0.3971 - mae: 0.3971\n",
            "Epoch 79/100\n",
            "1/1 [==============================] - 0s 12ms/step - loss: 0.4036 - mae: 0.4036\n",
            "Epoch 80/100\n",
            "1/1 [==============================] - 0s 28ms/step - loss: 0.3276 - mae: 0.3276\n",
            "Epoch 81/100\n",
            "1/1 [==============================] - 0s 41ms/step - loss: 0.2539 - mae: 0.2539\n",
            "Epoch 82/100\n",
            "1/1 [==============================] - 0s 25ms/step - loss: 0.1612 - mae: 0.1612\n",
            "Epoch 83/100\n",
            "1/1 [==============================] - 0s 27ms/step - loss: 0.1245 - mae: 0.1245\n",
            "Epoch 84/100\n",
            "1/1 [==============================] - 0s 28ms/step - loss: 0.1293 - mae: 0.1293\n",
            "Epoch 85/100\n",
            "1/1 [==============================] - 0s 34ms/step - loss: 0.1670 - mae: 0.1670\n",
            "Epoch 86/100\n",
            "1/1 [==============================] - 0s 29ms/step - loss: 0.3434 - mae: 0.3434\n",
            "Epoch 87/100\n",
            "1/1 [==============================] - 0s 17ms/step - loss: 0.2801 - mae: 0.2801\n",
            "Epoch 88/100\n",
            "1/1 [==============================] - 0s 17ms/step - loss: 0.2745 - mae: 0.2745\n",
            "Epoch 89/100\n",
            "1/1 [==============================] - 0s 21ms/step - loss: 0.2684 - mae: 0.2684\n",
            "Epoch 90/100\n",
            "1/1 [==============================] - 0s 17ms/step - loss: 0.0852 - mae: 0.0852\n",
            "Epoch 91/100\n",
            "1/1 [==============================] - 0s 22ms/step - loss: 0.3590 - mae: 0.3590\n",
            "Epoch 92/100\n",
            "1/1 [==============================] - 0s 16ms/step - loss: 0.3584 - mae: 0.3584\n",
            "Epoch 93/100\n",
            "1/1 [==============================] - 0s 22ms/step - loss: 0.1941 - mae: 0.1941\n",
            "Epoch 94/100\n",
            "1/1 [==============================] - 0s 15ms/step - loss: 0.4976 - mae: 0.4976\n",
            "Epoch 95/100\n",
            "1/1 [==============================] - 0s 17ms/step - loss: 0.6178 - mae: 0.6178\n",
            "Epoch 96/100\n",
            "1/1 [==============================] - 0s 18ms/step - loss: 0.4163 - mae: 0.4163\n",
            "Epoch 97/100\n",
            "1/1 [==============================] - 0s 25ms/step - loss: 0.2567 - mae: 0.2567\n",
            "Epoch 98/100\n",
            "1/1 [==============================] - 0s 66ms/step - loss: 0.3822 - mae: 0.3822\n",
            "Epoch 99/100\n",
            "1/1 [==============================] - 0s 15ms/step - loss: 0.3008 - mae: 0.3008\n",
            "Epoch 100/100\n",
            "1/1 [==============================] - 0s 19ms/step - loss: 0.0819 - mae: 0.0819\n"
          ]
        },
        {
          "output_type": "execute_result",
          "data": {
            "text/plain": [
              "<keras.callbacks.History at 0x7feeca371370>"
            ]
          },
          "metadata": {},
          "execution_count": 25
        }
      ]
    },
    {
      "cell_type": "code",
      "source": [
        "model.predict([17.0])"
      ],
      "metadata": {
        "colab": {
          "base_uri": "https://localhost:8080/"
        },
        "id": "D3ReRmPBdf46",
        "outputId": "da7b466f-326c-41d4-d76a-ae0db733f4db"
      },
      "execution_count": 26,
      "outputs": [
        {
          "output_type": "stream",
          "name": "stdout",
          "text": [
            "1/1 [==============================] - 0s 200ms/step\n"
          ]
        },
        {
          "output_type": "execute_result",
          "data": {
            "text/plain": [
              "array([[27.25321]], dtype=float32)"
            ]
          },
          "metadata": {},
          "execution_count": 26
        }
      ]
    },
    {
      "cell_type": "code",
      "source": [
        "X = tf.range(-100,100,4)\n",
        "y = X+10"
      ],
      "metadata": {
        "id": "SWDI-4iXfwwm"
      },
      "execution_count": 27,
      "outputs": []
    },
    {
      "cell_type": "code",
      "source": [
        "plt.scatter(X,y)"
      ],
      "metadata": {
        "colab": {
          "base_uri": "https://localhost:8080/",
          "height": 447
        },
        "id": "zUC6JyGdf1Ad",
        "outputId": "d692eb67-8935-44ae-fbab-72ed06d4a9c7"
      },
      "execution_count": 28,
      "outputs": [
        {
          "output_type": "execute_result",
          "data": {
            "text/plain": [
              "<matplotlib.collections.PathCollection at 0x7feeca27b6d0>"
            ]
          },
          "metadata": {},
          "execution_count": 28
        },
        {
          "output_type": "display_data",
          "data": {
            "text/plain": [
              "<Figure size 640x480 with 1 Axes>"
            ],
            "image/png": "[encoded data removed]"
          },
          "metadata": {}
        }
      ]
    },
    {
      "cell_type": "code",
      "source": [
        "X_train = X[:40]\n",
        "y_train = y[:40]\n",
        "\n",
        "X_test = X[40:]\n",
        "y_test = y[40:]\n",
        "\n",
        "\n"
      ],
      "metadata": {
        "id": "yZxDqB2xf1d0"
      },
      "execution_count": 29,
      "outputs": []
    },
    {
      "cell_type": "code",
      "source": [
        "plt.figure(figsize=(10,7))\n",
        "plt.scatter(X_train,y_train, c='b', label ='Training Data')\n",
        "plt.scatter(X_test,y_test, c='g', label ='Testing Data')\n",
        "plt.legend();"
      ],
      "metadata": {
        "colab": {
          "base_uri": "https://localhost:8080/",
          "height": 599
        },
        "id": "oWCxE5cpwdMb",
        "outputId": "839a3b70-6767-4432-a27e-8dd7e95c8697"
      },
      "execution_count": 34,
      "outputs": [
        {
          "output_type": "display_data",
          "data": {
            "text/plain": [
              "<Figure size 1000x700 with 1 Axes>"
            ],
            "image/png": "[encoded data removed]"
          },
          "metadata": {}
        }
      ]
    },
    {
      "cell_type": "code",
      "source": [
        "tf.random.set_seed(42)\n",
        "model = tf.keras.Sequential([\n",
        "tf.keras.layers.Dense(10, input_shape=[1], name='input'),\n",
        "tf.keras.layers.Dense(1, name='output')\n",
        "    \n",
        "], name= 'linear')\n",
        "\n",
        "model.compile(loss='mae', optimizer=tf.keras.optimizers.SGD(), metrics=['mae'])"
      ],
      "metadata": {
        "id": "VnHLUHmNysx_"
      },
      "execution_count": 54,
      "outputs": []
    },
    {
      "cell_type": "code",
      "source": [
        "model.summary()"
      ],
      "metadata": {
        "colab": {
          "base_uri": "https://localhost:8080/"
        },
        "id": "MeWcWySPzWvI",
        "outputId": "9940381d-3785-445a-a8ce-5570d3a9cbc9"
      },
      "execution_count": 55,
      "outputs": [
        {
          "output_type": "stream",
          "name": "stdout",
          "text": [
            "Model: \"linear\"\n",
            "_________________________________________________________________\n",
            " Layer (type)                Output Shape              Param #   \n",
            "=================================================================\n",
            " input (Dense)               (None, 10)                20        \n",
            "                                                                 \n",
            " output (Dense)              (None, 1)                 11        \n",
            "                                                                 \n",
            "=================================================================\n",
            "Total params: 31\n",
            "Trainable params: 31\n",
            "Non-trainable params: 0\n",
            "_________________________________________________________________\n"
          ]
        }
      ]
    },
    {
      "cell_type": "code",
      "source": [
        "model.fit(tf.expand_dims(X,axis=-1),y, epochs=100, verbose=0)"
      ],
      "metadata": {
        "colab": {
          "base_uri": "https://localhost:8080/"
        },
        "id": "cHRyX3qrzXsI",
        "outputId": "bd2bddca-010c-4e13-922d-f1e81f51c491"
      },
      "execution_count": 41,
      "outputs": [
        {
          "output_type": "execute_result",
          "data": {
            "text/plain": [
              "<keras.callbacks.History at 0x7feec9b14a60>"
            ]
          },
          "metadata": {},
          "execution_count": 41
        }
      ]
    },
    {
      "cell_type": "code",
      "source": [
        "from tensorflow.keras.utils import plot_model"
      ],
      "metadata": {
        "id": "Q7WkZ8G21Nfz"
      },
      "execution_count": 52,
      "outputs": []
    },
    {
      "cell_type": "code",
      "source": [
        "plot_model(model,show_shapes=True)"
      ],
      "metadata": {
        "colab": {
          "base_uri": "https://localhost:8080/",
          "height": 312
        },
        "id": "lBZ5T6W72Buk",
        "outputId": "cc5dd9a9-f965-4dad-ee4b-f860f7091941"
      },
      "execution_count": 56,
      "outputs": [
        {
          "output_type": "execute_result",
          "data": {
            "image/png": "[encoded data removed]",
            "text/plain": [
              "<IPython.core.display.Image object>"
            ]
          },
          "metadata": {},
          "execution_count": 56
        }
      ]
    }
  ]
}