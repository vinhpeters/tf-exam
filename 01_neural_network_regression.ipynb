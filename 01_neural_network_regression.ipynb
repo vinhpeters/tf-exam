{
  "nbformat": 4,
  "nbformat_minor": 0,
  "metadata": {
    "colab": {
      "provenance": [],
      "authorship_tag": "ABX9TyO6J+p3yaaYnYicU/wiCr06",
      "include_colab_link": true
    },
    "kernelspec": {
      "name": "python3",
      "display_name": "Python 3"
    },
    "language_info": {
      "name": "python"
    }
  },
  "cells": [
    {
      "cell_type": "markdown",
      "metadata": {
        "id": "view-in-github",
        "colab_type": "text"
      },
      "source": [
        "<a href=\"https://colab.research.google.com/github/vinhpeters/tf-exam/blob/main/01_neural_network_regression.ipynb\" target=\"_parent\"><img src=\"https://colab.research.google.com/assets/colab-badge.svg\" alt=\"Open In Colab\"/></a>"
      ]
    },
    {
      "cell_type": "markdown",
      "source": [
        "# Intro to regression "
      ],
      "metadata": {
        "id": "Tyf8grB7OePp"
      }
    },
    {
      "cell_type": "code",
      "source": [
        "import tensorflow as tf"
      ],
      "metadata": {
        "id": "3j2Pv_VFTlhO"
      },
      "execution_count": 1,
      "outputs": []
    },
    {
      "cell_type": "code",
      "source": [
        "print(tf.__version__)"
      ],
      "metadata": {
        "colab": {
          "base_uri": "https://localhost:8080/"
        },
        "id": "KSBOZOzST2MK",
        "outputId": "149f908b-fbd6-4919-b254-6d091ffb16ba"
      },
      "execution_count": 2,
      "outputs": [
        {
          "output_type": "stream",
          "name": "stdout",
          "text": [
            "2.12.0\n"
          ]
        }
      ]
    },
    {
      "cell_type": "markdown",
      "source": [
        "## Get some data"
      ],
      "metadata": {
        "id": "_Gkm8YAwT5wM"
      }
    },
    {
      "cell_type": "code",
      "source": [
        "import numpy as np\n",
        "import matplotlib.pyplot as plt\n",
        "\n",
        "X = np.array([-7.,-4.,-1.,2.,5.,8.,11.,14.])\n",
        "y = np.array([3.,6.,9.,12.,15.,18.,21.,24.])\n",
        "plt.scatter(X,y)"
      ],
      "metadata": {
        "colab": {
          "base_uri": "https://localhost:8080/",
          "height": 452
        },
        "id": "QSsBkKyfT9PA",
        "outputId": "6ed3265b-e6cd-419c-fc4f-b7bf82955045"
      },
      "execution_count": 3,
      "outputs": [
        {
          "output_type": "execute_result",
          "data": {
            "text/plain": [
              "<matplotlib.collections.PathCollection at 0x7f3006017a90>"
            ]
          },
          "metadata": {},
          "execution_count": 3
        },
        {
          "output_type": "display_data",
          "data": {
            "text/plain": [
              "<Figure size 640x480 with 1 Axes>"
            ],
            "image/png": "[encoded data removed]"
          },
          "metadata": {}
        }
      ]
    },
    {
      "cell_type": "code",
      "source": [
        "X +10"
      ],
      "metadata": {
        "colab": {
          "base_uri": "https://localhost:8080/"
        },
        "id": "2XldZfzvUVc7",
        "outputId": "4e5e79ee-017d-41a7-8b39-95db9acc554e"
      },
      "execution_count": 4,
      "outputs": [
        {
          "output_type": "execute_result",
          "data": {
            "text/plain": [
              "array([ 3.,  6.,  9., 12., 15., 18., 21., 24.])"
            ]
          },
          "metadata": {},
          "execution_count": 4
        }
      ]
    },
    {
      "cell_type": "markdown",
      "source": [
        "## Input and output shapes"
      ],
      "metadata": {
        "id": "Yg9LMFLSUgmw"
      }
    },
    {
      "cell_type": "code",
      "source": [
        "# Demo tensor\n",
        "house_info= tf.constant(['bedroom','bathroom','garage'])\n",
        "house_price = tf.constant([939700])"
      ],
      "metadata": {
        "id": "NmxMhlXcUrj4"
      },
      "execution_count": 5,
      "outputs": []
    },
    {
      "cell_type": "code",
      "source": [
        "input_shape = X[0].shape"
      ],
      "metadata": {
        "id": "fP8qaD07VCeD"
      },
      "execution_count": 6,
      "outputs": []
    },
    {
      "cell_type": "code",
      "source": [
        "output_shape = y[0].shape"
      ],
      "metadata": {
        "id": "QN4PiJZmVFq-"
      },
      "execution_count": 7,
      "outputs": []
    },
    {
      "cell_type": "code",
      "source": [
        "input_shape, output_shape"
      ],
      "metadata": {
        "colab": {
          "base_uri": "https://localhost:8080/"
        },
        "id": "6Z-7w5DLVHe4",
        "outputId": "1f56a784-2782-48f7-d85c-734bb2445471"
      },
      "execution_count": 8,
      "outputs": [
        {
          "output_type": "execute_result",
          "data": {
            "text/plain": [
              "((), ())"
            ]
          },
          "metadata": {},
          "execution_count": 8
        }
      ]
    },
    {
      "cell_type": "code",
      "source": [
        "X[0], y[0]"
      ],
      "metadata": {
        "colab": {
          "base_uri": "https://localhost:8080/"
        },
        "id": "rrzKGqfdVMAx",
        "outputId": "a67db1f4-0b74-4ec2-b394-6028b933e252"
      },
      "execution_count": 9,
      "outputs": [
        {
          "output_type": "execute_result",
          "data": {
            "text/plain": [
              "(-7.0, 3.0)"
            ]
          },
          "metadata": {},
          "execution_count": 9
        }
      ]
    },
    {
      "cell_type": "code",
      "source": [
        "X[0].ndim"
      ],
      "metadata": {
        "colab": {
          "base_uri": "https://localhost:8080/"
        },
        "id": "RSNW-34wVOg_",
        "outputId": "dcdda0a4-3186-456b-97c3-66564158204b"
      },
      "execution_count": 10,
      "outputs": [
        {
          "output_type": "execute_result",
          "data": {
            "text/plain": [
              "0"
            ]
          },
          "metadata": {},
          "execution_count": 10
        }
      ]
    },
    {
      "cell_type": "code",
      "source": [
        "X = tf.cast(tf.constant(X), dtype=tf.float32)\n",
        "y = tf.cast(tf.constant(y), dtype=tf.float32)\n",
        "\n",
        "X,y"
      ],
      "metadata": {
        "colab": {
          "base_uri": "https://localhost:8080/"
        },
        "id": "GBfYfr0IVeEu",
        "outputId": "e983d6df-3dc0-455e-b473-a87eb9cb8507"
      },
      "execution_count": 11,
      "outputs": [
        {
          "output_type": "execute_result",
          "data": {
            "text/plain": [
              "(<tf.Tensor: shape=(8,), dtype=float32, numpy=array([-7., -4., -1.,  2.,  5.,  8., 11., 14.], dtype=float32)>,\n",
              " <tf.Tensor: shape=(8,), dtype=float32, numpy=array([ 3.,  6.,  9., 12., 15., 18., 21., 24.], dtype=float32)>)"
            ]
          },
          "metadata": {},
          "execution_count": 11
        }
      ]
    },
    {
      "cell_type": "code",
      "source": [
        "X[0].shape"
      ],
      "metadata": {
        "colab": {
          "base_uri": "https://localhost:8080/"
        },
        "id": "9NUWwCgcV66W",
        "outputId": "04b2cdbd-d327-46fc-9fa0-5da58979d8f8"
      },
      "execution_count": 12,
      "outputs": [
        {
          "output_type": "execute_result",
          "data": {
            "text/plain": [
              "TensorShape([])"
            ]
          },
          "metadata": {},
          "execution_count": 12
        }
      ]
    },
    {
      "cell_type": "markdown",
      "source": [
        "## Steps in modelling with Tensorflow"
      ],
      "metadata": {
        "id": "tObywZiyWBfD"
      }
    },
    {
      "cell_type": "code",
      "source": [
        "tf.random.set_seed(42)\n",
        "model = tf.keras.Sequential()\n",
        "model.add(tf.keras.layers.Dense(1))\n"
      ],
      "metadata": {
        "id": "6869GSRrWOXT"
      },
      "execution_count": 13,
      "outputs": []
    },
    {
      "cell_type": "code",
      "source": [
        "model.compile(loss=tf.keras.losses.mae, optimizer=tf.keras.optimizers.SGD(), metrics=['mae'])"
      ],
      "metadata": {
        "id": "7sK6T--TXEQi"
      },
      "execution_count": 14,
      "outputs": []
    },
    {
      "cell_type": "code",
      "source": [
        "model.fit(tf.expand_dims(X,axis=-1),y, epochs=5)"
      ],
      "metadata": {
        "colab": {
          "base_uri": "https://localhost:8080/"
        },
        "id": "gzkk3DlvX3ec",
        "outputId": "c662aefe-0a71-4c75-b631-716f477337ee"
      },
      "execution_count": 15,
      "outputs": [
        {
          "output_type": "stream",
          "name": "stdout",
          "text": [
            "Epoch 1/5\n",
            "1/1 [==============================] - 2s 2s/step - loss: 18.8654 - mae: 18.8654\n",
            "Epoch 2/5\n",
            "1/1 [==============================] - 0s 52ms/step - loss: 18.5842 - mae: 18.5842\n",
            "Epoch 3/5\n",
            "1/1 [==============================] - 0s 61ms/step - loss: 18.3029 - mae: 18.3029\n",
            "Epoch 4/5\n",
            "1/1 [==============================] - 0s 43ms/step - loss: 18.0217 - mae: 18.0217\n",
            "Epoch 5/5\n",
            "1/1 [==============================] - 0s 35ms/step - loss: 17.7404 - mae: 17.7404\n"
          ]
        },
        {
          "output_type": "execute_result",
          "data": {
            "text/plain": [
              "<keras.callbacks.History at 0x7f2ffe86d3d0>"
            ]
          },
          "metadata": {},
          "execution_count": 15
        }
      ]
    },
    {
      "cell_type": "code",
      "source": [
        "y_pred=model.predict([17.0])\n",
        "y_pred"
      ],
      "metadata": {
        "colab": {
          "base_uri": "https://localhost:8080/"
        },
        "id": "5wFxpZv0ZP3a",
        "outputId": "e145293d-2273-4d21-8b19-51fbc2d72eab"
      },
      "execution_count": 16,
      "outputs": [
        {
          "output_type": "stream",
          "name": "stdout",
          "text": [
            "1/1 [==============================] - 0s 441ms/step\n"
          ]
        },
        {
          "output_type": "execute_result",
          "data": {
            "text/plain": [
              "array([[-15.302262]], dtype=float32)"
            ]
          },
          "metadata": {},
          "execution_count": 16
        }
      ]
    },
    {
      "cell_type": "markdown",
      "source": [
        " ## Improving the model"
      ],
      "metadata": {
        "id": "FbQ-rg8rZWbb"
      }
    },
    {
      "cell_type": "code",
      "source": [
        "model = tf.keras.Sequential()\n",
        "model.add(tf.keras.layers.Dense(1))"
      ],
      "metadata": {
        "id": "bbYpG2ggbU0W"
      },
      "execution_count": 17,
      "outputs": []
    },
    {
      "cell_type": "code",
      "source": [
        "model.compile(loss=tf.keras.losses.mae, optimizer=tf.keras.optimizers.SGD(), metrics=['mae'])"
      ],
      "metadata": {
        "id": "byIHSbfAbUBi"
      },
      "execution_count": 18,
      "outputs": []
    },
    {
      "cell_type": "code",
      "source": [
        "model.fit(tf.expand_dims(X,axis=-1),y, epochs=100)"
      ],
      "metadata": {
        "colab": {
          "base_uri": "https://localhost:8080/"
        },
        "id": "cTOYvPC7aUgn",
        "outputId": "6a4c7532-701b-44df-cb8b-79a8df42114b"
      },
      "execution_count": 19,
      "outputs": [
        {
          "output_type": "stream",
          "name": "stdout",
          "text": [
            "Epoch 1/100\n",
            "1/1 [==============================] - 1s 687ms/step - loss: 7.5880 - mae: 7.5880\n",
            "Epoch 2/100\n",
            "1/1 [==============================] - 0s 19ms/step - loss: 7.4925 - mae: 7.4925\n",
            "Epoch 3/100\n",
            "1/1 [==============================] - 0s 45ms/step - loss: 7.4869 - mae: 7.4869\n",
            "Epoch 4/100\n",
            "1/1 [==============================] - 0s 20ms/step - loss: 7.4812 - mae: 7.4812\n",
            "Epoch 5/100\n",
            "1/1 [==============================] - 0s 13ms/step - loss: 7.4756 - mae: 7.4756\n",
            "Epoch 6/100\n",
            "1/1 [==============================] - 0s 17ms/step - loss: 7.4700 - mae: 7.4700\n",
            "Epoch 7/100\n",
            "1/1 [==============================] - 0s 16ms/step - loss: 7.4644 - mae: 7.4644\n",
            "Epoch 8/100\n",
            "1/1 [==============================] - 0s 17ms/step - loss: 7.4587 - mae: 7.4587\n",
            "Epoch 9/100\n",
            "1/1 [==============================] - 0s 18ms/step - loss: 7.4531 - mae: 7.4531\n",
            "Epoch 10/100\n",
            "1/1 [==============================] - 0s 19ms/step - loss: 7.4475 - mae: 7.4475\n",
            "Epoch 11/100\n",
            "1/1 [==============================] - 0s 26ms/step - loss: 7.4419 - mae: 7.4419\n",
            "Epoch 12/100\n",
            "1/1 [==============================] - 0s 37ms/step - loss: 7.4363 - mae: 7.4363\n",
            "Epoch 13/100\n",
            "1/1 [==============================] - 0s 29ms/step - loss: 7.4306 - mae: 7.4306\n",
            "Epoch 14/100\n",
            "1/1 [==============================] - 0s 30ms/step - loss: 7.4250 - mae: 7.4250\n",
            "Epoch 15/100\n",
            "1/1 [==============================] - 0s 34ms/step - loss: 7.4194 - mae: 7.4194\n",
            "Epoch 16/100\n",
            "1/1 [==============================] - 0s 15ms/step - loss: 7.4137 - mae: 7.4137\n",
            "Epoch 17/100\n",
            "1/1 [==============================] - 0s 23ms/step - loss: 7.4081 - mae: 7.4081\n",
            "Epoch 18/100\n",
            "1/1 [==============================] - 0s 27ms/step - loss: 7.4025 - mae: 7.4025\n",
            "Epoch 19/100\n",
            "1/1 [==============================] - 0s 28ms/step - loss: 7.3969 - mae: 7.3969\n",
            "Epoch 20/100\n",
            "1/1 [==============================] - 0s 27ms/step - loss: 7.3912 - mae: 7.3912\n",
            "Epoch 21/100\n",
            "1/1 [==============================] - 0s 25ms/step - loss: 7.3856 - mae: 7.3856\n",
            "Epoch 22/100\n",
            "1/1 [==============================] - 0s 32ms/step - loss: 7.3800 - mae: 7.3800\n",
            "Epoch 23/100\n",
            "1/1 [==============================] - 0s 46ms/step - loss: 7.3744 - mae: 7.3744\n",
            "Epoch 24/100\n",
            "1/1 [==============================] - 0s 45ms/step - loss: 7.3688 - mae: 7.3688\n",
            "Epoch 25/100\n",
            "1/1 [==============================] - 0s 51ms/step - loss: 7.3631 - mae: 7.3631\n",
            "Epoch 26/100\n",
            "1/1 [==============================] - 0s 33ms/step - loss: 7.3575 - mae: 7.3575\n",
            "Epoch 27/100\n",
            "1/1 [==============================] - 0s 25ms/step - loss: 7.3519 - mae: 7.3519\n",
            "Epoch 28/100\n",
            "1/1 [==============================] - 0s 26ms/step - loss: 7.3462 - mae: 7.3462\n",
            "Epoch 29/100\n",
            "1/1 [==============================] - 0s 41ms/step - loss: 7.3406 - mae: 7.3406\n",
            "Epoch 30/100\n",
            "1/1 [==============================] - 0s 32ms/step - loss: 7.3350 - mae: 7.3350\n",
            "Epoch 31/100\n",
            "1/1 [==============================] - 0s 23ms/step - loss: 7.3294 - mae: 7.3294\n",
            "Epoch 32/100\n",
            "1/1 [==============================] - 0s 18ms/step - loss: 7.3238 - mae: 7.3238\n",
            "Epoch 33/100\n",
            "1/1 [==============================] - 0s 35ms/step - loss: 7.3181 - mae: 7.3181\n",
            "Epoch 34/100\n",
            "1/1 [==============================] - 0s 23ms/step - loss: 7.3125 - mae: 7.3125\n",
            "Epoch 35/100\n",
            "1/1 [==============================] - 0s 16ms/step - loss: 7.3069 - mae: 7.3069\n",
            "Epoch 36/100\n",
            "1/1 [==============================] - 0s 16ms/step - loss: 7.3012 - mae: 7.3012\n",
            "Epoch 37/100\n",
            "1/1 [==============================] - 0s 11ms/step - loss: 7.2956 - mae: 7.2956\n",
            "Epoch 38/100\n",
            "1/1 [==============================] - 0s 10ms/step - loss: 7.2900 - mae: 7.2900\n",
            "Epoch 39/100\n",
            "1/1 [==============================] - 0s 25ms/step - loss: 7.2844 - mae: 7.2844\n",
            "Epoch 40/100\n",
            "1/1 [==============================] - 0s 24ms/step - loss: 7.2787 - mae: 7.2787\n",
            "Epoch 41/100\n",
            "1/1 [==============================] - 0s 20ms/step - loss: 7.2731 - mae: 7.2731\n",
            "Epoch 42/100\n",
            "1/1 [==============================] - 0s 26ms/step - loss: 7.2675 - mae: 7.2675\n",
            "Epoch 43/100\n",
            "1/1 [==============================] - 0s 28ms/step - loss: 7.2619 - mae: 7.2619\n",
            "Epoch 44/100\n",
            "1/1 [==============================] - 0s 29ms/step - loss: 7.2563 - mae: 7.2563\n",
            "Epoch 45/100\n",
            "1/1 [==============================] - 0s 24ms/step - loss: 7.2506 - mae: 7.2506\n",
            "Epoch 46/100\n",
            "1/1 [==============================] - 0s 27ms/step - loss: 7.2450 - mae: 7.2450\n",
            "Epoch 47/100\n",
            "1/1 [==============================] - 0s 28ms/step - loss: 7.2394 - mae: 7.2394\n",
            "Epoch 48/100\n",
            "1/1 [==============================] - 0s 34ms/step - loss: 7.2337 - mae: 7.2337\n",
            "Epoch 49/100\n",
            "1/1 [==============================] - 0s 30ms/step - loss: 7.2281 - mae: 7.2281\n",
            "Epoch 50/100\n",
            "1/1 [==============================] - 0s 30ms/step - loss: 7.2225 - mae: 7.2225\n",
            "Epoch 51/100\n",
            "1/1 [==============================] - 0s 57ms/step - loss: 7.2169 - mae: 7.2169\n",
            "Epoch 52/100\n",
            "1/1 [==============================] - 0s 28ms/step - loss: 7.2113 - mae: 7.2113\n",
            "Epoch 53/100\n",
            "1/1 [==============================] - 0s 32ms/step - loss: 7.2056 - mae: 7.2056\n",
            "Epoch 54/100\n",
            "1/1 [==============================] - 0s 14ms/step - loss: 7.2000 - mae: 7.2000\n",
            "Epoch 55/100\n",
            "1/1 [==============================] - 0s 13ms/step - loss: 7.1944 - mae: 7.1944\n",
            "Epoch 56/100\n",
            "1/1 [==============================] - 0s 31ms/step - loss: 7.1888 - mae: 7.1888\n",
            "Epoch 57/100\n",
            "1/1 [==============================] - 0s 22ms/step - loss: 7.1831 - mae: 7.1831\n",
            "Epoch 58/100\n",
            "1/1 [==============================] - 0s 26ms/step - loss: 7.1775 - mae: 7.1775\n",
            "Epoch 59/100\n",
            "1/1 [==============================] - 0s 31ms/step - loss: 7.1719 - mae: 7.1719\n",
            "Epoch 60/100\n",
            "1/1 [==============================] - 0s 36ms/step - loss: 7.1662 - mae: 7.1662\n",
            "Epoch 61/100\n",
            "1/1 [==============================] - 0s 21ms/step - loss: 7.1606 - mae: 7.1606\n",
            "Epoch 62/100\n",
            "1/1 [==============================] - 0s 13ms/step - loss: 7.1550 - mae: 7.1550\n",
            "Epoch 63/100\n",
            "1/1 [==============================] - 0s 11ms/step - loss: 7.1494 - mae: 7.1494\n",
            "Epoch 64/100\n",
            "1/1 [==============================] - 0s 16ms/step - loss: 7.1438 - mae: 7.1438\n",
            "Epoch 65/100\n",
            "1/1 [==============================] - 0s 75ms/step - loss: 7.1381 - mae: 7.1381\n",
            "Epoch 66/100\n",
            "1/1 [==============================] - 0s 37ms/step - loss: 7.1325 - mae: 7.1325\n",
            "Epoch 67/100\n",
            "1/1 [==============================] - 0s 27ms/step - loss: 7.1269 - mae: 7.1269\n",
            "Epoch 68/100\n",
            "1/1 [==============================] - 0s 23ms/step - loss: 7.1213 - mae: 7.1213\n",
            "Epoch 69/100\n",
            "1/1 [==============================] - 0s 31ms/step - loss: 7.1156 - mae: 7.1156\n",
            "Epoch 70/100\n",
            "1/1 [==============================] - 0s 34ms/step - loss: 7.1100 - mae: 7.1100\n",
            "Epoch 71/100\n",
            "1/1 [==============================] - 0s 19ms/step - loss: 7.1044 - mae: 7.1044\n",
            "Epoch 72/100\n",
            "1/1 [==============================] - 0s 29ms/step - loss: 7.0988 - mae: 7.0988\n",
            "Epoch 73/100\n",
            "1/1 [==============================] - 0s 26ms/step - loss: 7.0931 - mae: 7.0931\n",
            "Epoch 74/100\n",
            "1/1 [==============================] - 0s 23ms/step - loss: 7.0875 - mae: 7.0875\n",
            "Epoch 75/100\n",
            "1/1 [==============================] - 0s 48ms/step - loss: 7.0819 - mae: 7.0819\n",
            "Epoch 76/100\n",
            "1/1 [==============================] - 0s 46ms/step - loss: 7.0763 - mae: 7.0763\n",
            "Epoch 77/100\n",
            "1/1 [==============================] - 0s 138ms/step - loss: 7.0706 - mae: 7.0706\n",
            "Epoch 78/100\n",
            "1/1 [==============================] - 0s 88ms/step - loss: 7.0650 - mae: 7.0650\n",
            "Epoch 79/100\n",
            "1/1 [==============================] - 0s 73ms/step - loss: 7.0594 - mae: 7.0594\n",
            "Epoch 80/100\n",
            "1/1 [==============================] - 0s 98ms/step - loss: 7.0538 - mae: 7.0538\n",
            "Epoch 81/100\n",
            "1/1 [==============================] - 0s 74ms/step - loss: 7.0481 - mae: 7.0481\n",
            "Epoch 82/100\n",
            "1/1 [==============================] - 0s 86ms/step - loss: 7.0425 - mae: 7.0425\n",
            "Epoch 83/100\n",
            "1/1 [==============================] - 0s 71ms/step - loss: 7.0369 - mae: 7.0369\n",
            "Epoch 84/100\n",
            "1/1 [==============================] - 0s 79ms/step - loss: 7.0312 - mae: 7.0312\n",
            "Epoch 85/100\n",
            "1/1 [==============================] - 0s 35ms/step - loss: 7.0256 - mae: 7.0256\n",
            "Epoch 86/100\n",
            "1/1 [==============================] - 0s 13ms/step - loss: 7.0200 - mae: 7.0200\n",
            "Epoch 87/100\n",
            "1/1 [==============================] - 0s 17ms/step - loss: 7.0144 - mae: 7.0144\n",
            "Epoch 88/100\n",
            "1/1 [==============================] - 0s 17ms/step - loss: 7.0088 - mae: 7.0088\n",
            "Epoch 89/100\n",
            "1/1 [==============================] - 0s 26ms/step - loss: 7.0031 - mae: 7.0031\n",
            "Epoch 90/100\n",
            "1/1 [==============================] - 0s 14ms/step - loss: 6.9975 - mae: 6.9975\n",
            "Epoch 91/100\n",
            "1/1 [==============================] - 0s 14ms/step - loss: 6.9919 - mae: 6.9919\n",
            "Epoch 92/100\n",
            "1/1 [==============================] - 0s 14ms/step - loss: 6.9862 - mae: 6.9862\n",
            "Epoch 93/100\n",
            "1/1 [==============================] - 0s 26ms/step - loss: 6.9806 - mae: 6.9806\n",
            "Epoch 94/100\n",
            "1/1 [==============================] - 0s 33ms/step - loss: 6.9750 - mae: 6.9750\n",
            "Epoch 95/100\n",
            "1/1 [==============================] - 0s 46ms/step - loss: 6.9694 - mae: 6.9694\n",
            "Epoch 96/100\n",
            "1/1 [==============================] - 0s 50ms/step - loss: 6.9638 - mae: 6.9638\n",
            "Epoch 97/100\n",
            "1/1 [==============================] - 0s 22ms/step - loss: 6.9581 - mae: 6.9581\n",
            "Epoch 98/100\n",
            "1/1 [==============================] - 0s 22ms/step - loss: 6.9525 - mae: 6.9525\n",
            "Epoch 99/100\n",
            "1/1 [==============================] - 0s 17ms/step - loss: 6.9469 - mae: 6.9469\n",
            "Epoch 100/100\n",
            "1/1 [==============================] - 0s 17ms/step - loss: 6.9413 - mae: 6.9413\n"
          ]
        },
        {
          "output_type": "execute_result",
          "data": {
            "text/plain": [
              "<keras.callbacks.History at 0x7f2ffdfe8d00>"
            ]
          },
          "metadata": {},
          "execution_count": 19
        }
      ]
    },
    {
      "cell_type": "code",
      "source": [
        "X,y"
      ],
      "metadata": {
        "colab": {
          "base_uri": "https://localhost:8080/"
        },
        "id": "HbFIiS9tb-9v",
        "outputId": "c50adc51-8556-4631-d722-7fa6647e91e2"
      },
      "execution_count": 20,
      "outputs": [
        {
          "output_type": "execute_result",
          "data": {
            "text/plain": [
              "(<tf.Tensor: shape=(8,), dtype=float32, numpy=array([-7., -4., -1.,  2.,  5.,  8., 11., 14.], dtype=float32)>,\n",
              " <tf.Tensor: shape=(8,), dtype=float32, numpy=array([ 3.,  6.,  9., 12., 15., 18., 21., 24.], dtype=float32)>)"
            ]
          },
          "metadata": {},
          "execution_count": 20
        }
      ]
    },
    {
      "cell_type": "code",
      "source": [
        "model.predict([17.0])"
      ],
      "metadata": {
        "colab": {
          "base_uri": "https://localhost:8080/"
        },
        "id": "U_JhlQ4fcAR6",
        "outputId": "3a735db0-79be-4803-ed8c-4014e6dc8413"
      },
      "execution_count": 21,
      "outputs": [
        {
          "output_type": "stream",
          "name": "stdout",
          "text": [
            "1/1 [==============================] - 0s 206ms/step\n"
          ]
        },
        {
          "output_type": "execute_result",
          "data": {
            "text/plain": [
              "array([[30.062925]], dtype=float32)"
            ]
          },
          "metadata": {},
          "execution_count": 21
        }
      ]
    },
    {
      "cell_type": "code",
      "source": [
        "model = tf.keras.Sequential()\n",
        "model.add(tf.keras.layers.Dense(1))\n",
        "model.compile(loss=tf.keras.losses.mae, optimizer=tf.keras.optimizers.Adam(learning_rate=0.2), metrics=['mae'])\n",
        "model.fit(tf.expand_dims(X,axis=-1),y, epochs=100)"
      ],
      "metadata": {
        "colab": {
          "base_uri": "https://localhost:8080/"
        },
        "id": "dAJ9RulmcDrN",
        "outputId": "89ab96e0-7452-49c0-da8c-227e7b8d040f"
      },
      "execution_count": 22,
      "outputs": [
        {
          "output_type": "stream",
          "name": "stdout",
          "text": [
            "Epoch 1/100\n",
            "1/1 [==============================] - 1s 1s/step - loss: 11.9163 - mae: 11.9163\n",
            "Epoch 2/100\n",
            "1/1 [==============================] - 0s 24ms/step - loss: 11.0163 - mae: 11.0163\n",
            "Epoch 3/100\n",
            "1/1 [==============================] - 0s 20ms/step - loss: 10.1163 - mae: 10.1163\n",
            "Epoch 4/100\n",
            "1/1 [==============================] - 0s 24ms/step - loss: 9.2163 - mae: 9.2163\n",
            "Epoch 5/100\n",
            "1/1 [==============================] - 0s 27ms/step - loss: 8.3163 - mae: 8.3163\n",
            "Epoch 6/100\n",
            "1/1 [==============================] - 0s 29ms/step - loss: 7.4163 - mae: 7.4163\n",
            "Epoch 7/100\n",
            "1/1 [==============================] - 0s 16ms/step - loss: 6.6000 - mae: 6.6000\n",
            "Epoch 8/100\n",
            "1/1 [==============================] - 0s 45ms/step - loss: 6.5763 - mae: 6.5763\n",
            "Epoch 9/100\n",
            "1/1 [==============================] - 0s 60ms/step - loss: 6.8014 - mae: 6.8014\n",
            "Epoch 10/100\n",
            "1/1 [==============================] - 0s 21ms/step - loss: 6.9023 - mae: 6.9023\n",
            "Epoch 11/100\n",
            "1/1 [==============================] - 0s 17ms/step - loss: 6.9824 - mae: 6.9824\n",
            "Epoch 12/100\n",
            "1/1 [==============================] - 0s 63ms/step - loss: 6.8655 - mae: 6.8655\n",
            "Epoch 13/100\n",
            "1/1 [==============================] - 0s 99ms/step - loss: 6.5808 - mae: 6.5808\n",
            "Epoch 14/100\n",
            "1/1 [==============================] - 0s 49ms/step - loss: 6.2607 - mae: 6.2607\n",
            "Epoch 15/100\n",
            "1/1 [==============================] - 0s 40ms/step - loss: 5.9365 - mae: 5.9365\n",
            "Epoch 16/100\n",
            "1/1 [==============================] - 0s 42ms/step - loss: 5.5853 - mae: 5.5853\n",
            "Epoch 17/100\n",
            "1/1 [==============================] - 0s 18ms/step - loss: 5.3339 - mae: 5.3339\n",
            "Epoch 18/100\n",
            "1/1 [==============================] - 0s 49ms/step - loss: 5.2139 - mae: 5.2139\n",
            "Epoch 19/100\n",
            "1/1 [==============================] - 0s 27ms/step - loss: 5.3379 - mae: 5.3379\n",
            "Epoch 20/100\n",
            "1/1 [==============================] - 0s 34ms/step - loss: 5.3513 - mae: 5.3513\n",
            "Epoch 21/100\n",
            "1/1 [==============================] - 0s 27ms/step - loss: 5.2496 - mae: 5.2496\n",
            "Epoch 22/100\n",
            "1/1 [==============================] - 0s 31ms/step - loss: 5.0482 - mae: 5.0482\n",
            "Epoch 23/100\n",
            "1/1 [==============================] - 0s 15ms/step - loss: 4.7603 - mae: 4.7603\n",
            "Epoch 24/100\n",
            "1/1 [==============================] - 0s 15ms/step - loss: 4.3969 - mae: 4.3969\n",
            "Epoch 25/100\n",
            "1/1 [==============================] - 0s 11ms/step - loss: 4.2407 - mae: 4.2407\n",
            "Epoch 26/100\n",
            "1/1 [==============================] - 0s 11ms/step - loss: 4.2165 - mae: 4.2165\n",
            "Epoch 27/100\n",
            "1/1 [==============================] - 0s 10ms/step - loss: 4.2164 - mae: 4.2164\n",
            "Epoch 28/100\n",
            "1/1 [==============================] - 0s 15ms/step - loss: 4.1586 - mae: 4.1586\n",
            "Epoch 29/100\n",
            "1/1 [==============================] - 0s 8ms/step - loss: 4.0490 - mae: 4.0490\n",
            "Epoch 30/100\n",
            "1/1 [==============================] - 0s 17ms/step - loss: 3.8929 - mae: 3.8929\n",
            "Epoch 31/100\n",
            "1/1 [==============================] - 0s 24ms/step - loss: 3.6951 - mae: 3.6951\n",
            "Epoch 32/100\n",
            "1/1 [==============================] - 0s 17ms/step - loss: 3.4596 - mae: 3.4596\n",
            "Epoch 33/100\n",
            "1/1 [==============================] - 0s 26ms/step - loss: 3.1902 - mae: 3.1902\n",
            "Epoch 34/100\n",
            "1/1 [==============================] - 0s 44ms/step - loss: 3.0122 - mae: 3.0122\n",
            "Epoch 35/100\n",
            "1/1 [==============================] - 0s 28ms/step - loss: 2.9708 - mae: 2.9708\n",
            "Epoch 36/100\n",
            "1/1 [==============================] - 0s 30ms/step - loss: 2.9321 - mae: 2.9321\n",
            "Epoch 37/100\n",
            "1/1 [==============================] - 0s 28ms/step - loss: 2.7904 - mae: 2.7904\n",
            "Epoch 38/100\n",
            "1/1 [==============================] - 0s 24ms/step - loss: 2.5575 - mae: 2.5575\n",
            "Epoch 39/100\n",
            "1/1 [==============================] - 0s 27ms/step - loss: 2.3135 - mae: 2.3135\n",
            "Epoch 40/100\n",
            "1/1 [==============================] - 0s 14ms/step - loss: 2.1869 - mae: 2.1869\n",
            "Epoch 41/100\n",
            "1/1 [==============================] - 0s 18ms/step - loss: 2.1151 - mae: 2.1151\n",
            "Epoch 42/100\n",
            "1/1 [==============================] - 0s 15ms/step - loss: 1.9931 - mae: 1.9931\n",
            "Epoch 43/100\n",
            "1/1 [==============================] - 0s 45ms/step - loss: 1.8261 - mae: 1.8261\n",
            "Epoch 44/100\n",
            "1/1 [==============================] - 0s 25ms/step - loss: 1.6182 - mae: 1.6182\n",
            "Epoch 45/100\n",
            "1/1 [==============================] - 0s 26ms/step - loss: 1.4756 - mae: 1.4756\n",
            "Epoch 46/100\n",
            "1/1 [==============================] - 0s 29ms/step - loss: 1.4740 - mae: 1.4740\n",
            "Epoch 47/100\n",
            "1/1 [==============================] - 0s 22ms/step - loss: 1.3686 - mae: 1.3686\n",
            "Epoch 48/100\n",
            "1/1 [==============================] - 0s 22ms/step - loss: 1.1668 - mae: 1.1668\n",
            "Epoch 49/100\n",
            "1/1 [==============================] - 0s 12ms/step - loss: 0.9091 - mae: 0.9091\n",
            "Epoch 50/100\n",
            "1/1 [==============================] - 0s 11ms/step - loss: 0.8325 - mae: 0.8325\n",
            "Epoch 51/100\n",
            "1/1 [==============================] - 0s 25ms/step - loss: 0.7795 - mae: 0.7795\n",
            "Epoch 52/100\n",
            "1/1 [==============================] - 0s 22ms/step - loss: 0.5960 - mae: 0.5960\n",
            "Epoch 53/100\n",
            "1/1 [==============================] - 0s 16ms/step - loss: 0.3514 - mae: 0.3514\n",
            "Epoch 54/100\n",
            "1/1 [==============================] - 0s 10ms/step - loss: 0.3515 - mae: 0.3515\n",
            "Epoch 55/100\n",
            "1/1 [==============================] - 0s 12ms/step - loss: 0.3039 - mae: 0.3039\n",
            "Epoch 56/100\n",
            "1/1 [==============================] - 0s 21ms/step - loss: 0.1222 - mae: 0.1222\n",
            "Epoch 57/100\n",
            "1/1 [==============================] - 0s 9ms/step - loss: 0.3495 - mae: 0.3495\n",
            "Epoch 58/100\n",
            "1/1 [==============================] - 0s 9ms/step - loss: 0.5289 - mae: 0.5289\n",
            "Epoch 59/100\n",
            "1/1 [==============================] - 0s 10ms/step - loss: 0.5896 - mae: 0.5896\n",
            "Epoch 60/100\n",
            "1/1 [==============================] - 0s 9ms/step - loss: 0.5423 - mae: 0.5423\n",
            "Epoch 61/100\n",
            "1/1 [==============================] - 0s 10ms/step - loss: 0.3984 - mae: 0.3984\n",
            "Epoch 62/100\n",
            "1/1 [==============================] - 0s 39ms/step - loss: 0.5690 - mae: 0.5690\n",
            "Epoch 63/100\n",
            "1/1 [==============================] - 0s 23ms/step - loss: 0.7261 - mae: 0.7261\n",
            "Epoch 64/100\n",
            "1/1 [==============================] - 0s 15ms/step - loss: 0.6582 - mae: 0.6582\n",
            "Epoch 65/100\n",
            "1/1 [==============================] - 0s 15ms/step - loss: 0.4206 - mae: 0.4206\n",
            "Epoch 66/100\n",
            "1/1 [==============================] - 0s 33ms/step - loss: 0.4421 - mae: 0.4421\n",
            "Epoch 67/100\n",
            "1/1 [==============================] - 0s 25ms/step - loss: 0.5402 - mae: 0.5402\n",
            "Epoch 68/100\n",
            "1/1 [==============================] - 0s 15ms/step - loss: 0.5550 - mae: 0.5550\n",
            "Epoch 69/100\n",
            "1/1 [==============================] - 0s 12ms/step - loss: 0.4141 - mae: 0.4141\n",
            "Epoch 70/100\n",
            "1/1 [==============================] - 0s 11ms/step - loss: 0.1533 - mae: 0.1533\n",
            "Epoch 71/100\n",
            "1/1 [==============================] - 0s 13ms/step - loss: 0.3682 - mae: 0.3682\n",
            "Epoch 72/100\n",
            "1/1 [==============================] - 0s 12ms/step - loss: 0.4951 - mae: 0.4951\n",
            "Epoch 73/100\n",
            "1/1 [==============================] - 0s 12ms/step - loss: 0.3933 - mae: 0.3933\n",
            "Epoch 74/100\n",
            "1/1 [==============================] - 0s 11ms/step - loss: 0.1818 - mae: 0.1818\n",
            "Epoch 75/100\n",
            "1/1 [==============================] - 0s 9ms/step - loss: 0.3986 - mae: 0.3986\n",
            "Epoch 76/100\n",
            "1/1 [==============================] - 0s 9ms/step - loss: 0.5611 - mae: 0.5611\n",
            "Epoch 77/100\n",
            "1/1 [==============================] - 0s 10ms/step - loss: 0.5154 - mae: 0.5154\n",
            "Epoch 78/100\n",
            "1/1 [==============================] - 0s 11ms/step - loss: 0.2916 - mae: 0.2916\n",
            "Epoch 79/100\n",
            "1/1 [==============================] - 0s 13ms/step - loss: 0.3086 - mae: 0.3086\n",
            "Epoch 80/100\n",
            "1/1 [==============================] - 0s 16ms/step - loss: 0.4296 - mae: 0.4296\n",
            "Epoch 81/100\n",
            "1/1 [==============================] - 0s 13ms/step - loss: 0.4215 - mae: 0.4215\n",
            "Epoch 82/100\n",
            "1/1 [==============================] - 0s 24ms/step - loss: 0.2564 - mae: 0.2564\n",
            "Epoch 83/100\n",
            "1/1 [==============================] - 0s 21ms/step - loss: 0.1280 - mae: 0.1280\n",
            "Epoch 84/100\n",
            "1/1 [==============================] - 0s 15ms/step - loss: 0.2136 - mae: 0.2136\n",
            "Epoch 85/100\n",
            "1/1 [==============================] - 0s 21ms/step - loss: 0.0892 - mae: 0.0892\n",
            "Epoch 86/100\n",
            "1/1 [==============================] - 0s 15ms/step - loss: 0.2366 - mae: 0.2366\n",
            "Epoch 87/100\n",
            "1/1 [==============================] - 0s 16ms/step - loss: 0.3120 - mae: 0.3120\n",
            "Epoch 88/100\n",
            "1/1 [==============================] - 0s 15ms/step - loss: 0.1891 - mae: 0.1891\n",
            "Epoch 89/100\n",
            "1/1 [==============================] - 0s 17ms/step - loss: 0.2285 - mae: 0.2285\n",
            "Epoch 90/100\n",
            "1/1 [==============================] - 0s 18ms/step - loss: 0.3500 - mae: 0.3500\n",
            "Epoch 91/100\n",
            "1/1 [==============================] - 0s 16ms/step - loss: 0.3233 - mae: 0.3233\n",
            "Epoch 92/100\n",
            "1/1 [==============================] - 0s 17ms/step - loss: 0.1613 - mae: 0.1613\n",
            "Epoch 93/100\n",
            "1/1 [==============================] - 0s 17ms/step - loss: 0.1848 - mae: 0.1848\n",
            "Epoch 94/100\n",
            "1/1 [==============================] - 0s 18ms/step - loss: 0.2370 - mae: 0.2370\n",
            "Epoch 95/100\n",
            "1/1 [==============================] - 0s 17ms/step - loss: 0.0836 - mae: 0.0836\n",
            "Epoch 96/100\n",
            "1/1 [==============================] - 0s 26ms/step - loss: 0.2552 - mae: 0.2552\n",
            "Epoch 97/100\n",
            "1/1 [==============================] - 0s 16ms/step - loss: 0.3546 - mae: 0.3546\n",
            "Epoch 98/100\n",
            "1/1 [==============================] - 0s 16ms/step - loss: 0.2477 - mae: 0.2477\n",
            "Epoch 99/100\n",
            "1/1 [==============================] - 0s 13ms/step - loss: 0.1246 - mae: 0.1246\n",
            "Epoch 100/100\n",
            "1/1 [==============================] - 0s 14ms/step - loss: 0.2051 - mae: 0.2051\n"
          ]
        },
        {
          "output_type": "execute_result",
          "data": {
            "text/plain": [
              "<keras.callbacks.History at 0x7f2fff055760>"
            ]
          },
          "metadata": {},
          "execution_count": 22
        }
      ]
    },
    {
      "cell_type": "code",
      "source": [
        "model.predict([17.0])"
      ],
      "metadata": {
        "colab": {
          "base_uri": "https://localhost:8080/"
        },
        "id": "JZONudI6dtRT",
        "outputId": "3f6e8497-e8da-4514-a0f1-5c4b0f1dd7b1"
      },
      "execution_count": 23,
      "outputs": [
        {
          "output_type": "stream",
          "name": "stdout",
          "text": [
            "1/1 [==============================] - 0s 102ms/step\n"
          ]
        },
        {
          "output_type": "execute_result",
          "data": {
            "text/plain": [
              "array([[26.61306]], dtype=float32)"
            ]
          },
          "metadata": {},
          "execution_count": 23
        }
      ]
    },
    {
      "cell_type": "code",
      "source": [
        "model = tf.keras.Sequential()\n",
        "model.add(tf.keras.layers.Dense(50,activation=None))\n",
        "model.add(tf.keras.layers.Dense(1))\n",
        "\n",
        "model.compile(loss='mae', optimizer=tf.keras.optimizers.Adam(learning_rate=0.01), metrics=['mae'])\n",
        "model.fit(tf.expand_dims(X,axis=-1),y, epochs=100)"
      ],
      "metadata": {
        "colab": {
          "base_uri": "https://localhost:8080/"
        },
        "id": "MtUP0nE2cyAz",
        "outputId": "d6fa77df-3192-4ce6-a60b-dfa28449d47c"
      },
      "execution_count": 24,
      "outputs": [
        {
          "output_type": "stream",
          "name": "stdout",
          "text": [
            "Epoch 1/100\n",
            "1/1 [==============================] - 2s 2s/step - loss: 14.7866 - mae: 14.7866\n",
            "Epoch 2/100\n",
            "1/1 [==============================] - 0s 40ms/step - loss: 14.0918 - mae: 14.0918\n",
            "Epoch 3/100\n",
            "1/1 [==============================] - 0s 27ms/step - loss: 13.4065 - mae: 13.4065\n",
            "Epoch 4/100\n",
            "1/1 [==============================] - 0s 31ms/step - loss: 12.7297 - mae: 12.7297\n",
            "Epoch 5/100\n",
            "1/1 [==============================] - 0s 15ms/step - loss: 12.0596 - mae: 12.0596\n",
            "Epoch 6/100\n",
            "1/1 [==============================] - 0s 17ms/step - loss: 11.3937 - mae: 11.3937\n",
            "Epoch 7/100\n",
            "1/1 [==============================] - 0s 33ms/step - loss: 10.7295 - mae: 10.7295\n",
            "Epoch 8/100\n",
            "1/1 [==============================] - 0s 35ms/step - loss: 10.0644 - mae: 10.0644\n",
            "Epoch 9/100\n",
            "1/1 [==============================] - 0s 25ms/step - loss: 9.3954 - mae: 9.3954\n",
            "Epoch 10/100\n",
            "1/1 [==============================] - 0s 28ms/step - loss: 8.7199 - mae: 8.7199\n",
            "Epoch 11/100\n",
            "1/1 [==============================] - 0s 24ms/step - loss: 8.0348 - mae: 8.0348\n",
            "Epoch 12/100\n",
            "1/1 [==============================] - 0s 16ms/step - loss: 7.3370 - mae: 7.3370\n",
            "Epoch 13/100\n",
            "1/1 [==============================] - 0s 21ms/step - loss: 6.6789 - mae: 6.6789\n",
            "Epoch 14/100\n",
            "1/1 [==============================] - 0s 30ms/step - loss: 6.6339 - mae: 6.6339\n",
            "Epoch 15/100\n",
            "1/1 [==============================] - 0s 35ms/step - loss: 6.9114 - mae: 6.9114\n",
            "Epoch 16/100\n",
            "1/1 [==============================] - 0s 21ms/step - loss: 7.0908 - mae: 7.0908\n",
            "Epoch 17/100\n",
            "1/1 [==============================] - 0s 31ms/step - loss: 7.1910 - mae: 7.1910\n",
            "Epoch 18/100\n",
            "1/1 [==============================] - 0s 32ms/step - loss: 7.2045 - mae: 7.2045\n",
            "Epoch 19/100\n",
            "1/1 [==============================] - 0s 20ms/step - loss: 7.0613 - mae: 7.0613\n",
            "Epoch 20/100\n",
            "1/1 [==============================] - 0s 19ms/step - loss: 6.8800 - mae: 6.8800\n",
            "Epoch 21/100\n",
            "1/1 [==============================] - 0s 21ms/step - loss: 6.6795 - mae: 6.6795\n",
            "Epoch 22/100\n",
            "1/1 [==============================] - 0s 16ms/step - loss: 6.4583 - mae: 6.4583\n",
            "Epoch 23/100\n",
            "1/1 [==============================] - 0s 10ms/step - loss: 6.2206 - mae: 6.2206\n",
            "Epoch 24/100\n",
            "1/1 [==============================] - 0s 17ms/step - loss: 6.0478 - mae: 6.0478\n",
            "Epoch 25/100\n",
            "1/1 [==============================] - 0s 30ms/step - loss: 6.0044 - mae: 6.0044\n",
            "Epoch 26/100\n",
            "1/1 [==============================] - 0s 28ms/step - loss: 5.9567 - mae: 5.9567\n",
            "Epoch 27/100\n",
            "1/1 [==============================] - 0s 38ms/step - loss: 6.0688 - mae: 6.0688\n",
            "Epoch 28/100\n",
            "1/1 [==============================] - 0s 38ms/step - loss: 6.0861 - mae: 6.0861\n",
            "Epoch 29/100\n",
            "1/1 [==============================] - 0s 30ms/step - loss: 6.0117 - mae: 6.0117\n",
            "Epoch 30/100\n",
            "1/1 [==============================] - 0s 40ms/step - loss: 5.8561 - mae: 5.8561\n",
            "Epoch 31/100\n",
            "1/1 [==============================] - 0s 24ms/step - loss: 5.6271 - mae: 5.6271\n",
            "Epoch 32/100\n",
            "1/1 [==============================] - 0s 25ms/step - loss: 5.4886 - mae: 5.4886\n",
            "Epoch 33/100\n",
            "1/1 [==============================] - 0s 25ms/step - loss: 5.3831 - mae: 5.3831\n",
            "Epoch 34/100\n",
            "1/1 [==============================] - 0s 24ms/step - loss: 5.3132 - mae: 5.3132\n",
            "Epoch 35/100\n",
            "1/1 [==============================] - 0s 21ms/step - loss: 5.3105 - mae: 5.3105\n",
            "Epoch 36/100\n",
            "1/1 [==============================] - 0s 29ms/step - loss: 5.2658 - mae: 5.2658\n",
            "Epoch 37/100\n",
            "1/1 [==============================] - 0s 21ms/step - loss: 5.1821 - mae: 5.1821\n",
            "Epoch 38/100\n",
            "1/1 [==============================] - 0s 26ms/step - loss: 5.0625 - mae: 5.0625\n",
            "Epoch 39/100\n",
            "1/1 [==============================] - 0s 15ms/step - loss: 4.9099 - mae: 4.9099\n",
            "Epoch 40/100\n",
            "1/1 [==============================] - 0s 27ms/step - loss: 4.7270 - mae: 4.7270\n",
            "Epoch 41/100\n",
            "1/1 [==============================] - 0s 46ms/step - loss: 4.6216 - mae: 4.6216\n",
            "Epoch 42/100\n",
            "1/1 [==============================] - 0s 41ms/step - loss: 4.5291 - mae: 4.5291\n",
            "Epoch 43/100\n",
            "1/1 [==============================] - 0s 37ms/step - loss: 4.4288 - mae: 4.4288\n",
            "Epoch 44/100\n",
            "1/1 [==============================] - 0s 44ms/step - loss: 4.4053 - mae: 4.4053\n",
            "Epoch 45/100\n",
            "1/1 [==============================] - 0s 45ms/step - loss: 4.2831 - mae: 4.2831\n",
            "Epoch 46/100\n",
            "1/1 [==============================] - 0s 38ms/step - loss: 4.0530 - mae: 4.0530\n",
            "Epoch 47/100\n",
            "1/1 [==============================] - 0s 48ms/step - loss: 3.8932 - mae: 3.8932\n",
            "Epoch 48/100\n",
            "1/1 [==============================] - 0s 30ms/step - loss: 3.7311 - mae: 3.7311\n",
            "Epoch 49/100\n",
            "1/1 [==============================] - 0s 40ms/step - loss: 3.6587 - mae: 3.6587\n",
            "Epoch 50/100\n",
            "1/1 [==============================] - 0s 62ms/step - loss: 3.5352 - mae: 3.5352\n",
            "Epoch 51/100\n",
            "1/1 [==============================] - 0s 29ms/step - loss: 3.3626 - mae: 3.3626\n",
            "Epoch 52/100\n",
            "1/1 [==============================] - 0s 31ms/step - loss: 3.1430 - mae: 3.1430\n",
            "Epoch 53/100\n",
            "1/1 [==============================] - 0s 39ms/step - loss: 2.9377 - mae: 2.9377\n",
            "Epoch 54/100\n",
            "1/1 [==============================] - 0s 30ms/step - loss: 2.7706 - mae: 2.7706\n",
            "Epoch 55/100\n",
            "1/1 [==============================] - 0s 28ms/step - loss: 2.6433 - mae: 2.6433\n",
            "Epoch 56/100\n",
            "1/1 [==============================] - 0s 45ms/step - loss: 2.4248 - mae: 2.4248\n",
            "Epoch 57/100\n",
            "1/1 [==============================] - 0s 51ms/step - loss: 2.1660 - mae: 2.1660\n",
            "Epoch 58/100\n",
            "1/1 [==============================] - 0s 38ms/step - loss: 1.9810 - mae: 1.9810\n",
            "Epoch 59/100\n",
            "1/1 [==============================] - 0s 40ms/step - loss: 1.8033 - mae: 1.8033\n",
            "Epoch 60/100\n",
            "1/1 [==============================] - 0s 24ms/step - loss: 1.5594 - mae: 1.5594\n",
            "Epoch 61/100\n",
            "1/1 [==============================] - 0s 38ms/step - loss: 1.2519 - mae: 1.2519\n",
            "Epoch 62/100\n",
            "1/1 [==============================] - 0s 63ms/step - loss: 1.0608 - mae: 1.0608\n",
            "Epoch 63/100\n",
            "1/1 [==============================] - 0s 50ms/step - loss: 0.8359 - mae: 0.8359\n",
            "Epoch 64/100\n",
            "1/1 [==============================] - 0s 41ms/step - loss: 0.4542 - mae: 0.4542\n",
            "Epoch 65/100\n",
            "1/1 [==============================] - 0s 41ms/step - loss: 0.3099 - mae: 0.3099\n",
            "Epoch 66/100\n",
            "1/1 [==============================] - 0s 35ms/step - loss: 0.1359 - mae: 0.1359\n",
            "Epoch 67/100\n",
            "1/1 [==============================] - 0s 18ms/step - loss: 0.5705 - mae: 0.5705\n",
            "Epoch 68/100\n",
            "1/1 [==============================] - 0s 18ms/step - loss: 0.6925 - mae: 0.6925\n",
            "Epoch 69/100\n",
            "1/1 [==============================] - 0s 22ms/step - loss: 0.6356 - mae: 0.6356\n",
            "Epoch 70/100\n",
            "1/1 [==============================] - 0s 15ms/step - loss: 0.8726 - mae: 0.8726\n",
            "Epoch 71/100\n",
            "1/1 [==============================] - 0s 16ms/step - loss: 0.9652 - mae: 0.9652\n",
            "Epoch 72/100\n",
            "1/1 [==============================] - 0s 19ms/step - loss: 0.8506 - mae: 0.8506\n",
            "Epoch 73/100\n",
            "1/1 [==============================] - 0s 18ms/step - loss: 0.6577 - mae: 0.6577\n",
            "Epoch 74/100\n",
            "1/1 [==============================] - 0s 27ms/step - loss: 0.6796 - mae: 0.6796\n",
            "Epoch 75/100\n",
            "1/1 [==============================] - 0s 21ms/step - loss: 0.5315 - mae: 0.5315\n",
            "Epoch 76/100\n",
            "1/1 [==============================] - 0s 17ms/step - loss: 0.3830 - mae: 0.3830\n",
            "Epoch 77/100\n",
            "1/1 [==============================] - 0s 41ms/step - loss: 0.2793 - mae: 0.2793\n",
            "Epoch 78/100\n",
            "1/1 [==============================] - 0s 21ms/step - loss: 0.0250 - mae: 0.0250\n",
            "Epoch 79/100\n",
            "1/1 [==============================] - 0s 17ms/step - loss: 0.1690 - mae: 0.1690\n",
            "Epoch 80/100\n",
            "1/1 [==============================] - 0s 21ms/step - loss: 0.3287 - mae: 0.3287\n",
            "Epoch 81/100\n",
            "1/1 [==============================] - 0s 19ms/step - loss: 0.3717 - mae: 0.3717\n",
            "Epoch 82/100\n",
            "1/1 [==============================] - 0s 17ms/step - loss: 0.4410 - mae: 0.4410\n",
            "Epoch 83/100\n",
            "1/1 [==============================] - 0s 19ms/step - loss: 0.4192 - mae: 0.4192\n",
            "Epoch 84/100\n",
            "1/1 [==============================] - 0s 16ms/step - loss: 0.4708 - mae: 0.4708\n",
            "Epoch 85/100\n",
            "1/1 [==============================] - 0s 18ms/step - loss: 0.4385 - mae: 0.4385\n",
            "Epoch 86/100\n",
            "1/1 [==============================] - 0s 20ms/step - loss: 0.2848 - mae: 0.2848\n",
            "Epoch 87/100\n",
            "1/1 [==============================] - 0s 20ms/step - loss: 0.2881 - mae: 0.2881\n",
            "Epoch 88/100\n",
            "1/1 [==============================] - 0s 19ms/step - loss: 0.1489 - mae: 0.1489\n",
            "Epoch 89/100\n",
            "1/1 [==============================] - 0s 21ms/step - loss: 0.1472 - mae: 0.1472\n",
            "Epoch 90/100\n",
            "1/1 [==============================] - 0s 21ms/step - loss: 0.1984 - mae: 0.1984\n",
            "Epoch 91/100\n",
            "1/1 [==============================] - 0s 26ms/step - loss: 0.2809 - mae: 0.2809\n",
            "Epoch 92/100\n",
            "1/1 [==============================] - 0s 20ms/step - loss: 0.3093 - mae: 0.3093\n",
            "Epoch 93/100\n",
            "1/1 [==============================] - 0s 16ms/step - loss: 0.2495 - mae: 0.2495\n",
            "Epoch 94/100\n",
            "1/1 [==============================] - 0s 21ms/step - loss: 0.2097 - mae: 0.2097\n",
            "Epoch 95/100\n",
            "1/1 [==============================] - 0s 24ms/step - loss: 0.2477 - mae: 0.2477\n",
            "Epoch 96/100\n",
            "1/1 [==============================] - 0s 23ms/step - loss: 0.1213 - mae: 0.1213\n",
            "Epoch 97/100\n",
            "1/1 [==============================] - 0s 20ms/step - loss: 0.2609 - mae: 0.2609\n",
            "Epoch 98/100\n",
            "1/1 [==============================] - 0s 27ms/step - loss: 0.2940 - mae: 0.2940\n",
            "Epoch 99/100\n",
            "1/1 [==============================] - 0s 22ms/step - loss: 0.1423 - mae: 0.1423\n",
            "Epoch 100/100\n",
            "1/1 [==============================] - 0s 24ms/step - loss: 0.1993 - mae: 0.1993\n"
          ]
        },
        {
          "output_type": "execute_result",
          "data": {
            "text/plain": [
              "<keras.callbacks.History at 0x7f308b02de80>"
            ]
          },
          "metadata": {},
          "execution_count": 24
        }
      ]
    },
    {
      "cell_type": "code",
      "source": [
        "model.predict([17.0])"
      ],
      "metadata": {
        "colab": {
          "base_uri": "https://localhost:8080/"
        },
        "id": "D3ReRmPBdf46",
        "outputId": "e4a1c104-4e8c-4bae-ff11-05129c339191"
      },
      "execution_count": 25,
      "outputs": [
        {
          "output_type": "stream",
          "name": "stdout",
          "text": [
            "1/1 [==============================] - 0s 205ms/step\n"
          ]
        },
        {
          "output_type": "execute_result",
          "data": {
            "text/plain": [
              "array([[27.173523]], dtype=float32)"
            ]
          },
          "metadata": {},
          "execution_count": 25
        }
      ]
    },
    {
      "cell_type": "code",
      "source": [
        "X = tf.range(-100,100,4)\n",
        "y = X+10"
      ],
      "metadata": {
        "id": "SWDI-4iXfwwm"
      },
      "execution_count": 26,
      "outputs": []
    },
    {
      "cell_type": "code",
      "source": [
        "plt.scatter(X,y)"
      ],
      "metadata": {
        "colab": {
          "base_uri": "https://localhost:8080/",
          "height": 447
        },
        "id": "zUC6JyGdf1Ad",
        "outputId": "4b09ad1b-52ec-4ae8-d9b2-b2d4998d4cb4"
      },
      "execution_count": 27,
      "outputs": [
        {
          "output_type": "execute_result",
          "data": {
            "text/plain": [
              "<matplotlib.collections.PathCollection at 0x7f2ffc5f2340>"
            ]
          },
          "metadata": {},
          "execution_count": 27
        },
        {
          "output_type": "display_data",
          "data": {
            "text/plain": [
              "<Figure size 640x480 with 1 Axes>"
            ],
            "image/png": "[encoded data removed]"
          },
          "metadata": {}
        }
      ]
    },
    {
      "cell_type": "code",
      "source": [
        "X_train = X[:40]\n",
        "y_train = y[:40]\n",
        "\n",
        "X_test = X[40:]\n",
        "y_test = y[40:]\n",
        "\n",
        "\n"
      ],
      "metadata": {
        "id": "yZxDqB2xf1d0"
      },
      "execution_count": 28,
      "outputs": []
    },
    {
      "cell_type": "code",
      "source": [
        "plt.figure(figsize=(10,7))\n",
        "plt.scatter(X_train,y_train, c='b', label ='Training Data')\n",
        "plt.scatter(X_test,y_test, c='g', label ='Testing Data')\n",
        "plt.legend();"
      ],
      "metadata": {
        "colab": {
          "base_uri": "https://localhost:8080/",
          "height": 599
        },
        "id": "oWCxE5cpwdMb",
        "outputId": "76b59d6a-4bcc-488a-b9c5-345d7b77b4ab"
      },
      "execution_count": 29,
      "outputs": [
        {
          "output_type": "display_data",
          "data": {
            "text/plain": [
              "<Figure size 1000x700 with 1 Axes>"
            ],
            "image/png": "[encoded data removed]"
          },
          "metadata": {}
        }
      ]
    },
    {
      "cell_type": "code",
      "source": [
        "tf.random.set_seed(42)\n",
        "model = tf.keras.Sequential([\n",
        "tf.keras.layers.Dense(10, input_shape=[1], name='input'),\n",
        "tf.keras.layers.Dense(1, name='output')\n",
        "    \n",
        "], name= 'linear')\n",
        "\n",
        "model.compile(loss='mae', optimizer=tf.keras.optimizers.Adam(learning_rate=0.1), metrics=['mae'])"
      ],
      "metadata": {
        "id": "VnHLUHmNysx_"
      },
      "execution_count": 30,
      "outputs": []
    },
    {
      "cell_type": "code",
      "source": [
        "model.summary()"
      ],
      "metadata": {
        "colab": {
          "base_uri": "https://localhost:8080/"
        },
        "id": "MeWcWySPzWvI",
        "outputId": "3864af50-7010-4e80-ec66-70f5e6e9f3aa"
      },
      "execution_count": 31,
      "outputs": [
        {
          "output_type": "stream",
          "name": "stdout",
          "text": [
            "Model: \"linear\"\n",
            "_________________________________________________________________\n",
            " Layer (type)                Output Shape              Param #   \n",
            "=================================================================\n",
            " input (Dense)               (None, 10)                20        \n",
            "                                                                 \n",
            " output (Dense)              (None, 1)                 11        \n",
            "                                                                 \n",
            "=================================================================\n",
            "Total params: 31\n",
            "Trainable params: 31\n",
            "Non-trainable params: 0\n",
            "_________________________________________________________________\n"
          ]
        }
      ]
    },
    {
      "cell_type": "code",
      "source": [
        "model.fit(tf.expand_dims(X,axis=-1),y, epochs=100, verbose=1)"
      ],
      "metadata": {
        "colab": {
          "base_uri": "https://localhost:8080/"
        },
        "id": "cHRyX3qrzXsI",
        "outputId": "663127be-ddf3-4752-c665-4b81ae2c912d"
      },
      "execution_count": 32,
      "outputs": [
        {
          "output_type": "stream",
          "name": "stdout",
          "text": [
            "Epoch 1/100\n",
            "2/2 [==============================] - 1s 29ms/step - loss: 19.8907 - mae: 19.8907\n",
            "Epoch 2/100\n",
            "2/2 [==============================] - 0s 10ms/step - loss: 15.7754 - mae: 15.7754\n",
            "Epoch 3/100\n",
            "2/2 [==============================] - 0s 15ms/step - loss: 12.8358 - mae: 12.8358\n",
            "Epoch 4/100\n",
            "2/2 [==============================] - 0s 11ms/step - loss: 15.2816 - mae: 15.2816\n",
            "Epoch 5/100\n",
            "2/2 [==============================] - 0s 10ms/step - loss: 8.6941 - mae: 8.6941\n",
            "Epoch 6/100\n",
            "2/2 [==============================] - 0s 10ms/step - loss: 9.3542 - mae: 9.3542\n",
            "Epoch 7/100\n",
            "2/2 [==============================] - 0s 13ms/step - loss: 6.9657 - mae: 6.9657\n",
            "Epoch 8/100\n",
            "2/2 [==============================] - 0s 12ms/step - loss: 6.3485 - mae: 6.3485\n",
            "Epoch 9/100\n",
            "2/2 [==============================] - 0s 8ms/step - loss: 6.1170 - mae: 6.1170\n",
            "Epoch 10/100\n",
            "2/2 [==============================] - 0s 8ms/step - loss: 4.5161 - mae: 4.5161\n",
            "Epoch 11/100\n",
            "2/2 [==============================] - 0s 8ms/step - loss: 4.3907 - mae: 4.3907\n",
            "Epoch 12/100\n",
            "2/2 [==============================] - 0s 9ms/step - loss: 2.8291 - mae: 2.8291\n",
            "Epoch 13/100\n",
            "2/2 [==============================] - 0s 18ms/step - loss: 2.2541 - mae: 2.2541\n",
            "Epoch 14/100\n",
            "2/2 [==============================] - 0s 8ms/step - loss: 1.7923 - mae: 1.7923\n",
            "Epoch 15/100\n",
            "2/2 [==============================] - 0s 23ms/step - loss: 3.1821 - mae: 3.1821\n",
            "Epoch 16/100\n",
            "2/2 [==============================] - 0s 17ms/step - loss: 4.7474 - mae: 4.7474\n",
            "Epoch 17/100\n",
            "2/2 [==============================] - 0s 15ms/step - loss: 2.9533 - mae: 2.9533\n",
            "Epoch 18/100\n",
            "2/2 [==============================] - 0s 8ms/step - loss: 2.6456 - mae: 2.6456\n",
            "Epoch 19/100\n",
            "2/2 [==============================] - 0s 9ms/step - loss: 1.1711 - mae: 1.1711\n",
            "Epoch 20/100\n",
            "2/2 [==============================] - 0s 21ms/step - loss: 0.8672 - mae: 0.8672\n",
            "Epoch 21/100\n",
            "2/2 [==============================] - 0s 10ms/step - loss: 2.3717 - mae: 2.3717\n",
            "Epoch 22/100\n",
            "2/2 [==============================] - 0s 10ms/step - loss: 1.4738 - mae: 1.4738\n",
            "Epoch 23/100\n",
            "2/2 [==============================] - 0s 18ms/step - loss: 4.8811 - mae: 4.8811\n",
            "Epoch 24/100\n",
            "2/2 [==============================] - 0s 13ms/step - loss: 2.0102 - mae: 2.0102\n",
            "Epoch 25/100\n",
            "2/2 [==============================] - 0s 24ms/step - loss: 4.2136 - mae: 4.2136\n",
            "Epoch 26/100\n",
            "2/2 [==============================] - 0s 16ms/step - loss: 2.0223 - mae: 2.0223\n",
            "Epoch 27/100\n",
            "2/2 [==============================] - 0s 17ms/step - loss: 4.3250 - mae: 4.3250\n",
            "Epoch 28/100\n",
            "2/2 [==============================] - 0s 11ms/step - loss: 1.9480 - mae: 1.9480\n",
            "Epoch 29/100\n",
            "2/2 [==============================] - 0s 9ms/step - loss: 2.9903 - mae: 2.9903\n",
            "Epoch 30/100\n",
            "2/2 [==============================] - 0s 9ms/step - loss: 1.4620 - mae: 1.4620\n",
            "Epoch 31/100\n",
            "2/2 [==============================] - 0s 11ms/step - loss: 1.3659 - mae: 1.3659\n",
            "Epoch 32/100\n",
            "2/2 [==============================] - 0s 10ms/step - loss: 3.4227 - mae: 3.4227\n",
            "Epoch 33/100\n",
            "2/2 [==============================] - 0s 14ms/step - loss: 1.1173 - mae: 1.1173\n",
            "Epoch 34/100\n",
            "2/2 [==============================] - 0s 9ms/step - loss: 2.6725 - mae: 2.6725\n",
            "Epoch 35/100\n",
            "2/2 [==============================] - 0s 25ms/step - loss: 1.8437 - mae: 1.8437\n",
            "Epoch 36/100\n",
            "2/2 [==============================] - 0s 10ms/step - loss: 1.4016 - mae: 1.4016\n",
            "Epoch 37/100\n",
            "2/2 [==============================] - 0s 37ms/step - loss: 1.9299 - mae: 1.9299\n",
            "Epoch 38/100\n",
            "2/2 [==============================] - 0s 12ms/step - loss: 2.0980 - mae: 2.0980\n",
            "Epoch 39/100\n",
            "2/2 [==============================] - 0s 14ms/step - loss: 1.3799 - mae: 1.3799\n",
            "Epoch 40/100\n",
            "2/2 [==============================] - 0s 13ms/step - loss: 2.1934 - mae: 2.1934\n",
            "Epoch 41/100\n",
            "2/2 [==============================] - 0s 10ms/step - loss: 1.5348 - mae: 1.5348\n",
            "Epoch 42/100\n",
            "2/2 [==============================] - 0s 9ms/step - loss: 1.2292 - mae: 1.2292\n",
            "Epoch 43/100\n",
            "2/2 [==============================] - 0s 20ms/step - loss: 2.2487 - mae: 2.2487\n",
            "Epoch 44/100\n",
            "2/2 [==============================] - 0s 9ms/step - loss: 1.5202 - mae: 1.5202\n",
            "Epoch 45/100\n",
            "2/2 [==============================] - 0s 13ms/step - loss: 1.2190 - mae: 1.2190\n",
            "Epoch 46/100\n",
            "2/2 [==============================] - 0s 18ms/step - loss: 2.9467 - mae: 2.9467\n",
            "Epoch 47/100\n",
            "2/2 [==============================] - 0s 8ms/step - loss: 0.4772 - mae: 0.4772\n",
            "Epoch 48/100\n",
            "2/2 [==============================] - 0s 9ms/step - loss: 0.2812 - mae: 0.2812\n",
            "Epoch 49/100\n",
            "2/2 [==============================] - 0s 12ms/step - loss: 1.4030 - mae: 1.4030\n",
            "Epoch 50/100\n",
            "2/2 [==============================] - 0s 14ms/step - loss: 0.9522 - mae: 0.9522\n",
            "Epoch 51/100\n",
            "2/2 [==============================] - 0s 9ms/step - loss: 0.3996 - mae: 0.3996\n",
            "Epoch 52/100\n",
            "2/2 [==============================] - 0s 8ms/step - loss: 2.1296 - mae: 2.1296\n",
            "Epoch 53/100\n",
            "2/2 [==============================] - 0s 9ms/step - loss: 1.3458 - mae: 1.3458\n",
            "Epoch 54/100\n",
            "2/2 [==============================] - 0s 8ms/step - loss: 2.5115 - mae: 2.5115\n",
            "Epoch 55/100\n",
            "2/2 [==============================] - 0s 10ms/step - loss: 1.1539 - mae: 1.1539\n",
            "Epoch 56/100\n",
            "2/2 [==============================] - 0s 8ms/step - loss: 1.1110 - mae: 1.1110\n",
            "Epoch 57/100\n",
            "2/2 [==============================] - 0s 26ms/step - loss: 2.7902 - mae: 2.7902\n",
            "Epoch 58/100\n",
            "2/2 [==============================] - 0s 28ms/step - loss: 0.7549 - mae: 0.7549\n",
            "Epoch 59/100\n",
            "2/2 [==============================] - 0s 40ms/step - loss: 0.1186 - mae: 0.1186\n",
            "Epoch 60/100\n",
            "2/2 [==============================] - 0s 9ms/step - loss: 1.2073 - mae: 1.2073\n",
            "Epoch 61/100\n",
            "2/2 [==============================] - 0s 9ms/step - loss: 1.1326 - mae: 1.1326\n",
            "Epoch 62/100\n",
            "2/2 [==============================] - 0s 8ms/step - loss: 0.3327 - mae: 0.3327\n",
            "Epoch 63/100\n",
            "2/2 [==============================] - 0s 23ms/step - loss: 1.5076 - mae: 1.5076\n",
            "Epoch 64/100\n",
            "2/2 [==============================] - 0s 8ms/step - loss: 0.5149 - mae: 0.5149\n",
            "Epoch 65/100\n",
            "2/2 [==============================] - 0s 9ms/step - loss: 1.2472 - mae: 1.2472\n",
            "Epoch 66/100\n",
            "2/2 [==============================] - 0s 8ms/step - loss: 0.5146 - mae: 0.5146\n",
            "Epoch 67/100\n",
            "2/2 [==============================] - 0s 9ms/step - loss: 1.0773 - mae: 1.0773\n",
            "Epoch 68/100\n",
            "2/2 [==============================] - 0s 10ms/step - loss: 1.2896 - mae: 1.2896\n",
            "Epoch 69/100\n",
            "2/2 [==============================] - 0s 26ms/step - loss: 0.3292 - mae: 0.3292\n",
            "Epoch 70/100\n",
            "2/2 [==============================] - 0s 13ms/step - loss: 0.9227 - mae: 0.9227\n",
            "Epoch 71/100\n",
            "2/2 [==============================] - 0s 11ms/step - loss: 1.5442 - mae: 1.5442\n",
            "Epoch 72/100\n",
            "2/2 [==============================] - 0s 10ms/step - loss: 0.3895 - mae: 0.3895\n",
            "Epoch 73/100\n",
            "2/2 [==============================] - 0s 8ms/step - loss: 0.8511 - mae: 0.8511\n",
            "Epoch 74/100\n",
            "2/2 [==============================] - 0s 12ms/step - loss: 1.4328 - mae: 1.4328\n",
            "Epoch 75/100\n",
            "2/2 [==============================] - 0s 8ms/step - loss: 0.1933 - mae: 0.1933\n",
            "Epoch 76/100\n",
            "2/2 [==============================] - 0s 8ms/step - loss: 1.6320 - mae: 1.6320\n",
            "Epoch 77/100\n",
            "2/2 [==============================] - 0s 8ms/step - loss: 0.6350 - mae: 0.6350\n",
            "Epoch 78/100\n",
            "2/2 [==============================] - 0s 8ms/step - loss: 1.1852 - mae: 1.1852\n",
            "Epoch 79/100\n",
            "2/2 [==============================] - 0s 7ms/step - loss: 1.0014 - mae: 1.0014\n",
            "Epoch 80/100\n",
            "2/2 [==============================] - 0s 7ms/step - loss: 0.5214 - mae: 0.5214\n",
            "Epoch 81/100\n",
            "2/2 [==============================] - 0s 7ms/step - loss: 0.3605 - mae: 0.3605\n",
            "Epoch 82/100\n",
            "2/2 [==============================] - 0s 8ms/step - loss: 0.4587 - mae: 0.4587\n",
            "Epoch 83/100\n",
            "2/2 [==============================] - 0s 8ms/step - loss: 0.5187 - mae: 0.5187\n",
            "Epoch 84/100\n",
            "2/2 [==============================] - 0s 7ms/step - loss: 0.8987 - mae: 0.8987\n",
            "Epoch 85/100\n",
            "2/2 [==============================] - 0s 8ms/step - loss: 2.3811 - mae: 2.3811\n",
            "Epoch 86/100\n",
            "2/2 [==============================] - 0s 8ms/step - loss: 1.8313 - mae: 1.8313\n",
            "Epoch 87/100\n",
            "2/2 [==============================] - 0s 9ms/step - loss: 1.3616 - mae: 1.3616\n",
            "Epoch 88/100\n",
            "2/2 [==============================] - 0s 8ms/step - loss: 1.3451 - mae: 1.3451\n",
            "Epoch 89/100\n",
            "2/2 [==============================] - 0s 7ms/step - loss: 1.6977 - mae: 1.6977\n",
            "Epoch 90/100\n",
            "2/2 [==============================] - 0s 10ms/step - loss: 1.2070 - mae: 1.2070\n",
            "Epoch 91/100\n",
            "2/2 [==============================] - 0s 7ms/step - loss: 3.5721 - mae: 3.5721\n",
            "Epoch 92/100\n",
            "2/2 [==============================] - 0s 9ms/step - loss: 1.5409 - mae: 1.5409\n",
            "Epoch 93/100\n",
            "2/2 [==============================] - 0s 7ms/step - loss: 4.7512 - mae: 4.7512\n",
            "Epoch 94/100\n",
            "2/2 [==============================] - 0s 7ms/step - loss: 2.1699 - mae: 2.1699\n",
            "Epoch 95/100\n",
            "2/2 [==============================] - 0s 7ms/step - loss: 5.0955 - mae: 5.0955\n",
            "Epoch 96/100\n",
            "2/2 [==============================] - 0s 7ms/step - loss: 6.0636 - mae: 6.0636\n",
            "Epoch 97/100\n",
            "2/2 [==============================] - 0s 7ms/step - loss: 2.1460 - mae: 2.1460\n",
            "Epoch 98/100\n",
            "2/2 [==============================] - 0s 7ms/step - loss: 5.4240 - mae: 5.4240\n",
            "Epoch 99/100\n",
            "2/2 [==============================] - 0s 7ms/step - loss: 2.6981 - mae: 2.6981\n",
            "Epoch 100/100\n",
            "2/2 [==============================] - 0s 7ms/step - loss: 2.5134 - mae: 2.5134\n"
          ]
        },
        {
          "output_type": "execute_result",
          "data": {
            "text/plain": [
              "<keras.callbacks.History at 0x7f2ffc244910>"
            ]
          },
          "metadata": {},
          "execution_count": 32
        }
      ]
    },
    {
      "cell_type": "code",
      "source": [
        "from tensorflow.keras.utils import plot_model"
      ],
      "metadata": {
        "id": "Q7WkZ8G21Nfz"
      },
      "execution_count": 33,
      "outputs": []
    },
    {
      "cell_type": "code",
      "source": [
        "plot_model(model,show_shapes=True)"
      ],
      "metadata": {
        "colab": {
          "base_uri": "https://localhost:8080/",
          "height": 312
        },
        "id": "lBZ5T6W72Buk",
        "outputId": "97b6a946-501d-4fad-c3e1-af35d279e4e0"
      },
      "execution_count": 34,
      "outputs": [
        {
          "output_type": "execute_result",
          "data": {
            "image/png": "[encoded data removed]",
            "text/plain": [
              "<IPython.core.display.Image object>"
            ]
          },
          "metadata": {},
          "execution_count": 34
        }
      ]
    },
    {
      "cell_type": "markdown",
      "source": [
        "## Visualize model predictions"
      ],
      "metadata": {
        "id": "LVHcs0GpM04L"
      }
    },
    {
      "cell_type": "code",
      "source": [
        "y_pred = model.predict(X_test)\n",
        "y_pred"
      ],
      "metadata": {
        "colab": {
          "base_uri": "https://localhost:8080/"
        },
        "id": "8hU8q3PGM3kU",
        "outputId": "481ec5b0-3754-473d-9329-0ca4c09fd871"
      },
      "execution_count": 35,
      "outputs": [
        {
          "output_type": "stream",
          "name": "stderr",
          "text": [
            "WARNING:tensorflow:5 out of the last 5 calls to <function Model.make_predict_function.<locals>.predict_function at 0x7f2ffe6e9c10> triggered tf.function retracing. Tracing is expensive and the excessive number of tracings could be due to (1) creating @tf.function repeatedly in a loop, (2) passing tensors with different shapes, (3) passing Python objects instead of tensors. For (1), please define your @tf.function outside of the loop. For (2), @tf.function has reduce_retracing=True option that can avoid unnecessary retracing. For (3), please refer to https://www.tensorflow.org/guide/function#controlling_retracing and https://www.tensorflow.org/api_docs/python/tf/function for  more details.\n"
          ]
        },
        {
          "output_type": "stream",
          "name": "stdout",
          "text": [
            "1/1 [==============================] - 0s 66ms/step\n"
          ]
        },
        {
          "output_type": "execute_result",
          "data": {
            "text/plain": [
              "array([[64.61856 ],\n",
              "       [68.2702  ],\n",
              "       [71.92184 ],\n",
              "       [75.57348 ],\n",
              "       [79.22511 ],\n",
              "       [82.87675 ],\n",
              "       [86.5284  ],\n",
              "       [90.18004 ],\n",
              "       [93.83167 ],\n",
              "       [97.483315]], dtype=float32)"
            ]
          },
          "metadata": {},
          "execution_count": 35
        }
      ]
    },
    {
      "cell_type": "code",
      "source": [
        "y_test"
      ],
      "metadata": {
        "colab": {
          "base_uri": "https://localhost:8080/"
        },
        "id": "5DDpbsw6ThBt",
        "outputId": "506f6585-2e6f-45c7-fc59-eb6a5a05c2ad"
      },
      "execution_count": 36,
      "outputs": [
        {
          "output_type": "execute_result",
          "data": {
            "text/plain": [
              "<tf.Tensor: shape=(10,), dtype=int32, numpy=array([ 70,  74,  78,  82,  86,  90,  94,  98, 102, 106], dtype=int32)>"
            ]
          },
          "metadata": {},
          "execution_count": 36
        }
      ]
    },
    {
      "cell_type": "code",
      "source": [
        "def plot_predictions(train_data=X_train, train_labels=y_train,test_data=X_test,test_labels=y_test,predictions=y_pred):\n",
        "    \n",
        "    \"\"\"\n",
        "    Plots training data, test data and compares to true data.\n",
        "    \"\"\"\n",
        "\n",
        "    plt.figure(figsize=(10,7))\n",
        "    plt.scatter(train_data,train_labels, c='b', label='Training Data')\n",
        "    plt.scatter(test_data,test_labels, c='g', label='Testing Data')\n",
        "    plt.scatter(test_data,predictions, c='r', label='Predictions')\n",
        "    plt.legend();"
      ],
      "metadata": {
        "id": "8G_wYTbSNbfe"
      },
      "execution_count": 37,
      "outputs": []
    },
    {
      "cell_type": "code",
      "source": [
        "plot_predictions()"
      ],
      "metadata": {
        "colab": {
          "base_uri": "https://localhost:8080/",
          "height": 599
        },
        "id": "-uCKDj8OOWlg",
        "outputId": "192f273d-6254-44e6-d277-3700329df6d7"
      },
      "execution_count": 38,
      "outputs": [
        {
          "output_type": "display_data",
          "data": {
            "text/plain": [
              "<Figure size 1000x700 with 1 Axes>"
            ],
            "image/png": "[encoded data removed]"
          },
          "metadata": {}
        }
      ]
    },
    {
      "cell_type": "markdown",
      "source": [
        "## Evaluation Metrics"
      ],
      "metadata": {
        "id": "0s9y9pW0OrRG"
      }
    },
    {
      "cell_type": "code",
      "source": [
        "model.evaluate(X_test,y_test)"
      ],
      "metadata": {
        "colab": {
          "base_uri": "https://localhost:8080/"
        },
        "id": "_fUAncwnQOb4",
        "outputId": "f7d9c80b-4c21-423a-d1c7-f662c6c4ca8a"
      },
      "execution_count": 39,
      "outputs": [
        {
          "output_type": "stream",
          "name": "stdout",
          "text": [
            "1/1 [==============================] - 0s 167ms/step - loss: 6.9491 - mae: 6.9491\n"
          ]
        },
        {
          "output_type": "execute_result",
          "data": {
            "text/plain": [
              "[6.949061393737793, 6.949061393737793]"
            ]
          },
          "metadata": {},
          "execution_count": 39
        }
      ]
    },
    {
      "cell_type": "code",
      "source": [
        "y_pred=tf.squeeze(tf.constant(y_pred))"
      ],
      "metadata": {
        "id": "gGQ6hE9WRXIA"
      },
      "execution_count": 40,
      "outputs": []
    },
    {
      "cell_type": "code",
      "source": [
        "y_pred"
      ],
      "metadata": {
        "colab": {
          "base_uri": "https://localhost:8080/"
        },
        "id": "WsUKet2zRnSq",
        "outputId": "cceb1dc3-8313-4675-cab5-7a9be6f3d02b"
      },
      "execution_count": 41,
      "outputs": [
        {
          "output_type": "execute_result",
          "data": {
            "text/plain": [
              "<tf.Tensor: shape=(10,), dtype=float32, numpy=\n",
              "array([64.61856 , 68.2702  , 71.92184 , 75.57348 , 79.22511 , 82.87675 ,\n",
              "       86.5284  , 90.18004 , 93.83167 , 97.483315], dtype=float32)>"
            ]
          },
          "metadata": {},
          "execution_count": 41
        }
      ]
    },
    {
      "cell_type": "code",
      "source": [
        "y_test = tf.cast(y_test, dtype=tf.float32)"
      ],
      "metadata": {
        "id": "h2FITInOSVBR"
      },
      "execution_count": 42,
      "outputs": []
    },
    {
      "cell_type": "code",
      "source": [
        "tf.reduce_sum(abs(y_pred-y_test))/10."
      ],
      "metadata": {
        "colab": {
          "base_uri": "https://localhost:8080/"
        },
        "id": "agGRKoK_SIsk",
        "outputId": "af83d27b-a6a0-4d54-b30b-a67fc2df3678"
      },
      "execution_count": 43,
      "outputs": [
        {
          "output_type": "execute_result",
          "data": {
            "text/plain": [
              "<tf.Tensor: shape=(), dtype=float32, numpy=6.949064>"
            ]
          },
          "metadata": {},
          "execution_count": 43
        }
      ]
    },
    {
      "cell_type": "code",
      "source": [
        "y_test.shape"
      ],
      "metadata": {
        "colab": {
          "base_uri": "https://localhost:8080/"
        },
        "id": "_xzQWbMLRe6h",
        "outputId": "3838644e-9b3d-4e42-acde-52adea698ca4"
      },
      "execution_count": 44,
      "outputs": [
        {
          "output_type": "execute_result",
          "data": {
            "text/plain": [
              "TensorShape([10])"
            ]
          },
          "metadata": {},
          "execution_count": 44
        }
      ]
    },
    {
      "cell_type": "code",
      "source": [
        "tf.metrics.mean_absolute_error(y_test,y_pred)"
      ],
      "metadata": {
        "colab": {
          "base_uri": "https://localhost:8080/"
        },
        "id": "-QOPV-YAQ44u",
        "outputId": "2f08a199-031b-4406-89ef-ca7ee4fde52e"
      },
      "execution_count": 45,
      "outputs": [
        {
          "output_type": "execute_result",
          "data": {
            "text/plain": [
              "<tf.Tensor: shape=(), dtype=float32, numpy=6.949064>"
            ]
          },
          "metadata": {},
          "execution_count": 45
        }
      ]
    },
    {
      "cell_type": "code",
      "source": [
        "tf.metrics.mean_squared_error(y_test,y_pred)"
      ],
      "metadata": {
        "colab": {
          "base_uri": "https://localhost:8080/"
        },
        "id": "RgOScSUvSpRr",
        "outputId": "271264bb-e788-4e0d-d044-a8c9af10218a"
      },
      "execution_count": 46,
      "outputs": [
        {
          "output_type": "execute_result",
          "data": {
            "text/plain": [
              "<tf.Tensor: shape=(), dtype=float32, numpy=49.29067>"
            ]
          },
          "metadata": {},
          "execution_count": 46
        }
      ]
    },
    {
      "cell_type": "code",
      "source": [
        "def mae(y_true, y_pred):\n",
        "  return tf.metrics.mean_absolute_error(y_true=y_true,y_pred=y_pred)"
      ],
      "metadata": {
        "id": "F7KYN9jTTDLU"
      },
      "execution_count": 47,
      "outputs": []
    },
    {
      "cell_type": "code",
      "source": [
        "def mse(y_true, y_pred):\n",
        "  return tf.metrics.mean_squared_error(y_true=y_true,y_pred=y_pred)"
      ],
      "metadata": {
        "id": "H-SibJsXTTBQ"
      },
      "execution_count": 48,
      "outputs": []
    },
    {
      "cell_type": "code",
      "source": [
        "X_train, y_train"
      ],
      "metadata": {
        "colab": {
          "base_uri": "https://localhost:8080/"
        },
        "id": "MuZ4miAnTWgB",
        "outputId": "a6ace0b8-7344-4e7a-d9ed-8867150e0515"
      },
      "execution_count": 49,
      "outputs": [
        {
          "output_type": "execute_result",
          "data": {
            "text/plain": [
              "(<tf.Tensor: shape=(40,), dtype=int32, numpy=\n",
              " array([-100,  -96,  -92,  -88,  -84,  -80,  -76,  -72,  -68,  -64,  -60,\n",
              "         -56,  -52,  -48,  -44,  -40,  -36,  -32,  -28,  -24,  -20,  -16,\n",
              "         -12,   -8,   -4,    0,    4,    8,   12,   16,   20,   24,   28,\n",
              "          32,   36,   40,   44,   48,   52,   56], dtype=int32)>,\n",
              " <tf.Tensor: shape=(40,), dtype=int32, numpy=\n",
              " array([-90, -86, -82, -78, -74, -70, -66, -62, -58, -54, -50, -46, -42,\n",
              "        -38, -34, -30, -26, -22, -18, -14, -10,  -6,  -2,   2,   6,  10,\n",
              "         14,  18,  22,  26,  30,  34,  38,  42,  46,  50,  54,  58,  62,\n",
              "         66], dtype=int32)>)"
            ]
          },
          "metadata": {},
          "execution_count": 49
        }
      ]
    },
    {
      "cell_type": "markdown",
      "source": [
        "## `model_1`"
      ],
      "metadata": {
        "id": "szcCu2CKT7hY"
      }
    },
    {
      "cell_type": "code",
      "source": [
        "tf.random.set_seed(42)"
      ],
      "metadata": {
        "id": "2AWBErLRUFVe"
      },
      "execution_count": 50,
      "outputs": []
    },
    {
      "cell_type": "code",
      "source": [
        "model_1 = tf.keras.Sequential([\n",
        "    tf.keras.layers.Dense(1)\n",
        "])\n",
        "\n",
        "model_1.compile(loss=tf.keras.losses.mae,optimizer=tf.keras.optimizers.SGD(), metrics=['mae'])\n",
        "model_1.fit(tf.expand_dims(X_train,axis=-1), y_train, epochs=100)"
      ],
      "metadata": {
        "colab": {
          "base_uri": "https://localhost:8080/"
        },
        "id": "gFuxhvufUHT5",
        "outputId": "af6bd97f-efbb-4c1c-fa36-65d43756b4aa"
      },
      "execution_count": 51,
      "outputs": [
        {
          "output_type": "stream",
          "name": "stdout",
          "text": [
            "Epoch 1/100\n",
            "2/2 [==============================] - 0s 11ms/step - loss: 29.1214 - mae: 29.1214\n",
            "Epoch 2/100\n",
            "2/2 [==============================] - 0s 8ms/step - loss: 8.6496 - mae: 8.6496\n",
            "Epoch 3/100\n",
            "2/2 [==============================] - 0s 10ms/step - loss: 10.9264 - mae: 10.9264\n",
            "Epoch 4/100\n",
            "2/2 [==============================] - 0s 7ms/step - loss: 9.3614 - mae: 9.3614\n",
            "Epoch 5/100\n",
            "2/2 [==============================] - 0s 8ms/step - loss: 10.2388 - mae: 10.2388\n",
            "Epoch 6/100\n",
            "2/2 [==============================] - 0s 9ms/step - loss: 9.4934 - mae: 9.4934\n",
            "Epoch 7/100\n",
            "2/2 [==============================] - 0s 10ms/step - loss: 8.6237 - mae: 8.6237\n",
            "Epoch 8/100\n",
            "2/2 [==============================] - 0s 7ms/step - loss: 9.0523 - mae: 9.0523\n",
            "Epoch 9/100\n",
            "2/2 [==============================] - 0s 8ms/step - loss: 18.8779 - mae: 18.8779\n",
            "Epoch 10/100\n",
            "2/2 [==============================] - 0s 9ms/step - loss: 10.1872 - mae: 10.1872\n",
            "Epoch 11/100\n",
            "2/2 [==============================] - 0s 11ms/step - loss: 8.4288 - mae: 8.4288\n",
            "Epoch 12/100\n",
            "2/2 [==============================] - 0s 7ms/step - loss: 10.7230 - mae: 10.7230\n",
            "Epoch 13/100\n",
            "2/2 [==============================] - 0s 7ms/step - loss: 9.8237 - mae: 9.8237\n",
            "Epoch 14/100\n",
            "2/2 [==============================] - 0s 7ms/step - loss: 16.1441 - mae: 16.1441\n",
            "Epoch 15/100\n",
            "2/2 [==============================] - 0s 7ms/step - loss: 11.3067 - mae: 11.3067\n",
            "Epoch 16/100\n",
            "2/2 [==============================] - 0s 7ms/step - loss: 8.5738 - mae: 8.5738\n",
            "Epoch 17/100\n",
            "2/2 [==============================] - 0s 7ms/step - loss: 13.7101 - mae: 13.7101\n",
            "Epoch 18/100\n",
            "2/2 [==============================] - 0s 7ms/step - loss: 11.5561 - mae: 11.5561\n",
            "Epoch 19/100\n",
            "2/2 [==============================] - 0s 7ms/step - loss: 17.8101 - mae: 17.8101\n",
            "Epoch 20/100\n",
            "2/2 [==============================] - 0s 7ms/step - loss: 14.9456 - mae: 14.9456\n",
            "Epoch 21/100\n",
            "2/2 [==============================] - 0s 7ms/step - loss: 10.8318 - mae: 10.8318\n",
            "Epoch 22/100\n",
            "2/2 [==============================] - 0s 7ms/step - loss: 8.5809 - mae: 8.5809\n",
            "Epoch 23/100\n",
            "2/2 [==============================] - 0s 7ms/step - loss: 9.7278 - mae: 9.7278\n",
            "Epoch 24/100\n",
            "2/2 [==============================] - 0s 7ms/step - loss: 10.9420 - mae: 10.9420\n",
            "Epoch 25/100\n",
            "2/2 [==============================] - 0s 8ms/step - loss: 9.1563 - mae: 9.1563\n",
            "Epoch 26/100\n",
            "2/2 [==============================] - 0s 6ms/step - loss: 13.1785 - mae: 13.1785\n",
            "Epoch 27/100\n",
            "2/2 [==============================] - 0s 9ms/step - loss: 10.6557 - mae: 10.6557\n",
            "Epoch 28/100\n",
            "2/2 [==============================] - 0s 6ms/step - loss: 12.8694 - mae: 12.8694\n",
            "Epoch 29/100\n",
            "2/2 [==============================] - 0s 7ms/step - loss: 9.5086 - mae: 9.5086\n",
            "Epoch 30/100\n",
            "2/2 [==============================] - 0s 6ms/step - loss: 16.3829 - mae: 16.3829\n",
            "Epoch 31/100\n",
            "2/2 [==============================] - 0s 7ms/step - loss: 23.6067 - mae: 23.6067\n",
            "Epoch 32/100\n",
            "2/2 [==============================] - 0s 7ms/step - loss: 7.6163 - mae: 7.6163\n",
            "Epoch 33/100\n",
            "2/2 [==============================] - 0s 7ms/step - loss: 9.3148 - mae: 9.3148\n",
            "Epoch 34/100\n",
            "2/2 [==============================] - 0s 8ms/step - loss: 13.7040 - mae: 13.7040\n",
            "Epoch 35/100\n",
            "2/2 [==============================] - 0s 8ms/step - loss: 11.1447 - mae: 11.1447\n",
            "Epoch 36/100\n",
            "2/2 [==============================] - 0s 7ms/step - loss: 13.3551 - mae: 13.3551\n",
            "Epoch 37/100\n",
            "2/2 [==============================] - 0s 7ms/step - loss: 9.4645 - mae: 9.4645\n",
            "Epoch 38/100\n",
            "2/2 [==============================] - 0s 7ms/step - loss: 10.1209 - mae: 10.1209\n",
            "Epoch 39/100\n",
            "2/2 [==============================] - 0s 7ms/step - loss: 10.1966 - mae: 10.1966\n",
            "Epoch 40/100\n",
            "2/2 [==============================] - 0s 7ms/step - loss: 10.9368 - mae: 10.9368\n",
            "Epoch 41/100\n",
            "2/2 [==============================] - 0s 9ms/step - loss: 7.9248 - mae: 7.9248\n",
            "Epoch 42/100\n",
            "2/2 [==============================] - 0s 6ms/step - loss: 10.0770 - mae: 10.0770\n",
            "Epoch 43/100\n",
            "2/2 [==============================] - 0s 6ms/step - loss: 8.6952 - mae: 8.6952\n",
            "Epoch 44/100\n",
            "2/2 [==============================] - 0s 9ms/step - loss: 12.1772 - mae: 12.1772\n",
            "Epoch 45/100\n",
            "2/2 [==============================] - 0s 7ms/step - loss: 13.8252 - mae: 13.8252\n",
            "Epoch 46/100\n",
            "2/2 [==============================] - 0s 7ms/step - loss: 8.4882 - mae: 8.4882\n",
            "Epoch 47/100\n",
            "2/2 [==============================] - 0s 6ms/step - loss: 9.1209 - mae: 9.1209\n",
            "Epoch 48/100\n",
            "2/2 [==============================] - 0s 7ms/step - loss: 10.6005 - mae: 10.6005\n",
            "Epoch 49/100\n",
            "2/2 [==============================] - 0s 8ms/step - loss: 7.7397 - mae: 7.7397\n",
            "Epoch 50/100\n",
            "2/2 [==============================] - 0s 10ms/step - loss: 9.5239 - mae: 9.5239\n",
            "Epoch 51/100\n",
            "2/2 [==============================] - 0s 7ms/step - loss: 9.1552 - mae: 9.1552\n",
            "Epoch 52/100\n",
            "2/2 [==============================] - 0s 5ms/step - loss: 16.3252 - mae: 16.3252\n",
            "Epoch 53/100\n",
            "2/2 [==============================] - 0s 7ms/step - loss: 14.1471 - mae: 14.1471\n",
            "Epoch 54/100\n",
            "2/2 [==============================] - 0s 8ms/step - loss: 21.1674 - mae: 21.1674\n",
            "Epoch 55/100\n",
            "2/2 [==============================] - 0s 8ms/step - loss: 16.3620 - mae: 16.3620\n",
            "Epoch 56/100\n",
            "2/2 [==============================] - 0s 7ms/step - loss: 10.0082 - mae: 10.0082\n",
            "Epoch 57/100\n",
            "2/2 [==============================] - 0s 7ms/step - loss: 9.9454 - mae: 9.9454\n",
            "Epoch 58/100\n",
            "2/2 [==============================] - 0s 7ms/step - loss: 9.2079 - mae: 9.2079\n",
            "Epoch 59/100\n",
            "2/2 [==============================] - 0s 7ms/step - loss: 8.4109 - mae: 8.4109\n",
            "Epoch 60/100\n",
            "2/2 [==============================] - 0s 7ms/step - loss: 9.4770 - mae: 9.4770\n",
            "Epoch 61/100\n",
            "2/2 [==============================] - 0s 7ms/step - loss: 11.4136 - mae: 11.4136\n",
            "Epoch 62/100\n",
            "2/2 [==============================] - 0s 10ms/step - loss: 11.7159 - mae: 11.7159\n",
            "Epoch 63/100\n",
            "2/2 [==============================] - 0s 8ms/step - loss: 7.0766 - mae: 7.0766\n",
            "Epoch 64/100\n",
            "2/2 [==============================] - 0s 7ms/step - loss: 16.9961 - mae: 16.9961\n",
            "Epoch 65/100\n",
            "2/2 [==============================] - 0s 9ms/step - loss: 12.4812 - mae: 12.4812\n",
            "Epoch 66/100\n",
            "2/2 [==============================] - 0s 8ms/step - loss: 13.0462 - mae: 13.0462\n",
            "Epoch 67/100\n",
            "2/2 [==============================] - 0s 7ms/step - loss: 8.0710 - mae: 8.0710\n",
            "Epoch 68/100\n",
            "2/2 [==============================] - 0s 10ms/step - loss: 10.2063 - mae: 10.2063\n",
            "Epoch 69/100\n",
            "2/2 [==============================] - 0s 8ms/step - loss: 12.3930 - mae: 12.3930\n",
            "Epoch 70/100\n",
            "2/2 [==============================] - 0s 8ms/step - loss: 9.0390 - mae: 9.0390\n",
            "Epoch 71/100\n",
            "2/2 [==============================] - 0s 10ms/step - loss: 10.0236 - mae: 10.0236\n",
            "Epoch 72/100\n",
            "2/2 [==============================] - 0s 9ms/step - loss: 10.0410 - mae: 10.0410\n",
            "Epoch 73/100\n",
            "2/2 [==============================] - 0s 11ms/step - loss: 12.5905 - mae: 12.5905\n",
            "Epoch 74/100\n",
            "2/2 [==============================] - 0s 8ms/step - loss: 10.4110 - mae: 10.4110\n",
            "Epoch 75/100\n",
            "2/2 [==============================] - 0s 8ms/step - loss: 9.7105 - mae: 9.7105\n",
            "Epoch 76/100\n",
            "2/2 [==============================] - 0s 8ms/step - loss: 11.2076 - mae: 11.2076\n",
            "Epoch 77/100\n",
            "2/2 [==============================] - 0s 8ms/step - loss: 8.3528 - mae: 8.3528\n",
            "Epoch 78/100\n",
            "2/2 [==============================] - 0s 7ms/step - loss: 9.1056 - mae: 9.1056\n",
            "Epoch 79/100\n",
            "2/2 [==============================] - 0s 8ms/step - loss: 19.5446 - mae: 19.5446\n",
            "Epoch 80/100\n",
            "2/2 [==============================] - 0s 9ms/step - loss: 14.8631 - mae: 14.8631\n",
            "Epoch 81/100\n",
            "2/2 [==============================] - 0s 9ms/step - loss: 9.0364 - mae: 9.0364\n",
            "Epoch 82/100\n",
            "2/2 [==============================] - 0s 8ms/step - loss: 12.9947 - mae: 12.9947\n",
            "Epoch 83/100\n",
            "2/2 [==============================] - 0s 6ms/step - loss: 7.9133 - mae: 7.9133\n",
            "Epoch 84/100\n",
            "2/2 [==============================] - 0s 8ms/step - loss: 7.6966 - mae: 7.6966\n",
            "Epoch 85/100\n",
            "2/2 [==============================] - 0s 8ms/step - loss: 10.0531 - mae: 10.0531\n",
            "Epoch 86/100\n",
            "2/2 [==============================] - 0s 8ms/step - loss: 9.2570 - mae: 9.2570\n",
            "Epoch 87/100\n",
            "2/2 [==============================] - 0s 8ms/step - loss: 12.0444 - mae: 12.0444\n",
            "Epoch 88/100\n",
            "2/2 [==============================] - 0s 8ms/step - loss: 10.6636 - mae: 10.6636\n",
            "Epoch 89/100\n",
            "2/2 [==============================] - 0s 8ms/step - loss: 7.2698 - mae: 7.2698\n",
            "Epoch 90/100\n",
            "2/2 [==============================] - 0s 11ms/step - loss: 12.8062 - mae: 12.8062\n",
            "Epoch 91/100\n",
            "2/2 [==============================] - 0s 8ms/step - loss: 7.4820 - mae: 7.4820\n",
            "Epoch 92/100\n",
            "2/2 [==============================] - 0s 7ms/step - loss: 6.7534 - mae: 6.7534\n",
            "Epoch 93/100\n",
            "2/2 [==============================] - 0s 7ms/step - loss: 11.9559 - mae: 11.9559\n",
            "Epoch 94/100\n",
            "2/2 [==============================] - 0s 8ms/step - loss: 8.8864 - mae: 8.8864\n",
            "Epoch 95/100\n",
            "2/2 [==============================] - 0s 8ms/step - loss: 7.7244 - mae: 7.7244\n",
            "Epoch 96/100\n",
            "2/2 [==============================] - 0s 8ms/step - loss: 6.7525 - mae: 6.7525\n",
            "Epoch 97/100\n",
            "2/2 [==============================] - 0s 9ms/step - loss: 8.6387 - mae: 8.6387\n",
            "Epoch 98/100\n",
            "2/2 [==============================] - 0s 7ms/step - loss: 9.3915 - mae: 9.3915\n",
            "Epoch 99/100\n",
            "2/2 [==============================] - 0s 7ms/step - loss: 9.1278 - mae: 9.1278\n",
            "Epoch 100/100\n",
            "2/2 [==============================] - 0s 8ms/step - loss: 10.4833 - mae: 10.4833\n"
          ]
        },
        {
          "output_type": "execute_result",
          "data": {
            "text/plain": [
              "<keras.callbacks.History at 0x7f3005ee46d0>"
            ]
          },
          "metadata": {},
          "execution_count": 51
        }
      ]
    },
    {
      "cell_type": "markdown",
      "source": [
        "# Prediction plot"
      ],
      "metadata": {
        "id": "gLMzmLr7U-J2"
      }
    },
    {
      "cell_type": "code",
      "source": [
        "y_pred_1 = model_1.predict(y_test)"
      ],
      "metadata": {
        "colab": {
          "base_uri": "https://localhost:8080/"
        },
        "id": "B0brx9f-VBDy",
        "outputId": "cc78518b-bb9c-4fb3-ca5a-45af427c04a8"
      },
      "execution_count": 52,
      "outputs": [
        {
          "output_type": "stream",
          "name": "stderr",
          "text": [
            "WARNING:tensorflow:6 out of the last 6 calls to <function Model.make_predict_function.<locals>.predict_function at 0x7f2ffe6e3dc0> triggered tf.function retracing. Tracing is expensive and the excessive number of tracings could be due to (1) creating @tf.function repeatedly in a loop, (2) passing tensors with different shapes, (3) passing Python objects instead of tensors. For (1), please define your @tf.function outside of the loop. For (2), @tf.function has reduce_retracing=True option that can avoid unnecessary retracing. For (3), please refer to https://www.tensorflow.org/guide/function#controlling_retracing and https://www.tensorflow.org/api_docs/python/tf/function for  more details.\n"
          ]
        },
        {
          "output_type": "stream",
          "name": "stdout",
          "text": [
            "1/1 [==============================] - 0s 94ms/step\n"
          ]
        }
      ]
    },
    {
      "cell_type": "code",
      "source": [
        "plot_predictions(predictions = y_pred_1)"
      ],
      "metadata": {
        "colab": {
          "base_uri": "https://localhost:8080/",
          "height": 599
        },
        "id": "CC4767aDVFNQ",
        "outputId": "fb5f8e9e-bee4-4b69-94bd-e62cb7702e33"
      },
      "execution_count": 53,
      "outputs": [
        {
          "output_type": "display_data",
          "data": {
            "text/plain": [
              "<Figure size 1000x700 with 1 Axes>"
            ],
            "image/png": "[encoded data removed]"
          },
          "metadata": {}
        }
      ]
    },
    {
      "cell_type": "markdown",
      "source": [
        "## Eval metrics"
      ],
      "metadata": {
        "id": "ukQO3v2rVRtG"
      }
    },
    {
      "cell_type": "code",
      "source": [
        "mae_1=mae(y_test,tf.squeeze(y_pred_1))\n",
        "mse_1=mse(y_test,tf.squeeze(y_pred_1))\n",
        "mae_1,mse_1"
      ],
      "metadata": {
        "colab": {
          "base_uri": "https://localhost:8080/"
        },
        "id": "g507jZYgVUwp",
        "outputId": "c49b96be-e755-4364-852a-bd92da6235d7"
      },
      "execution_count": 54,
      "outputs": [
        {
          "output_type": "execute_result",
          "data": {
            "text/plain": [
              "(<tf.Tensor: shape=(), dtype=float32, numpy=5.7191505>,\n",
              " <tf.Tensor: shape=(), dtype=float32, numpy=33.547436>)"
            ]
          },
          "metadata": {},
          "execution_count": 54
        }
      ]
    },
    {
      "cell_type": "markdown",
      "source": [
        "## Model 2"
      ],
      "metadata": {
        "id": "ES9om983V33m"
      }
    },
    {
      "cell_type": "code",
      "source": [
        "tf.random.set_seed(42)"
      ],
      "metadata": {
        "id": "zLmltkagW8Fh"
      },
      "execution_count": 55,
      "outputs": []
    },
    {
      "cell_type": "code",
      "source": [
        "model_2 = tf.keras.Sequential([\n",
        "    tf.keras.layers.Dense(10),\n",
        "    tf.keras.layers.Dense(1)\n",
        "])\n",
        "\n",
        "model_2.compile(loss=tf.keras.losses.mae,optimizer=tf.keras.optimizers.SGD(), metrics=['mse'])\n",
        "model_2.fit(tf.expand_dims(X_train, axis=-1), y_train, epochs=100)"
      ],
      "metadata": {
        "colab": {
          "base_uri": "https://localhost:8080/"
        },
        "id": "ZHUYW_k8V52W",
        "outputId": "ee85afc7-ef0f-4786-c652-f0027d9b7796"
      },
      "execution_count": 56,
      "outputs": [
        {
          "output_type": "stream",
          "name": "stdout",
          "text": [
            "Epoch 1/100\n",
            "2/2 [==============================] - 1s 19ms/step - loss: 18.8324 - mse: 578.7430\n",
            "Epoch 2/100\n",
            "2/2 [==============================] - 0s 11ms/step - loss: 11.2986 - mse: 159.1871\n",
            "Epoch 3/100\n",
            "2/2 [==============================] - 0s 11ms/step - loss: 28.5998 - mse: 1211.0735\n",
            "Epoch 4/100\n",
            "2/2 [==============================] - 0s 11ms/step - loss: 14.3137 - mse: 266.8110\n",
            "Epoch 5/100\n",
            "2/2 [==============================] - 0s 10ms/step - loss: 16.3681 - mse: 354.1478\n",
            "Epoch 6/100\n",
            "2/2 [==============================] - 0s 7ms/step - loss: 11.1357 - mse: 137.8406\n",
            "Epoch 7/100\n",
            "2/2 [==============================] - 0s 7ms/step - loss: 12.1611 - mse: 188.6283\n",
            "Epoch 8/100\n",
            "2/2 [==============================] - 0s 8ms/step - loss: 10.9045 - mse: 136.1202\n",
            "Epoch 9/100\n",
            "2/2 [==============================] - 0s 9ms/step - loss: 38.1926 - mse: 2257.1555\n",
            "Epoch 10/100\n",
            "2/2 [==============================] - 0s 7ms/step - loss: 25.7531 - mse: 931.8880\n",
            "Epoch 11/100\n",
            "2/2 [==============================] - 0s 7ms/step - loss: 10.2337 - mse: 148.6179\n",
            "Epoch 12/100\n",
            "2/2 [==============================] - 0s 8ms/step - loss: 25.2364 - mse: 888.0804\n",
            "Epoch 13/100\n",
            "2/2 [==============================] - 0s 8ms/step - loss: 17.1118 - mse: 407.5384\n",
            "Epoch 14/100\n",
            "2/2 [==============================] - 0s 8ms/step - loss: 26.3486 - mse: 1080.9417\n",
            "Epoch 15/100\n",
            "2/2 [==============================] - 0s 7ms/step - loss: 16.8367 - mse: 390.7925\n",
            "Epoch 16/100\n",
            "2/2 [==============================] - 0s 7ms/step - loss: 9.8045 - mse: 126.3714\n",
            "Epoch 17/100\n",
            "2/2 [==============================] - 0s 7ms/step - loss: 17.5854 - mse: 407.8268\n",
            "Epoch 18/100\n",
            "2/2 [==============================] - 0s 6ms/step - loss: 14.0724 - mse: 311.7511\n",
            "Epoch 19/100\n",
            "2/2 [==============================] - 0s 8ms/step - loss: 13.9091 - mse: 301.2277\n",
            "Epoch 20/100\n",
            "2/2 [==============================] - 0s 10ms/step - loss: 11.1774 - mse: 145.9660\n",
            "Epoch 21/100\n",
            "2/2 [==============================] - 0s 7ms/step - loss: 17.2338 - mse: 420.4087\n",
            "Epoch 22/100\n",
            "2/2 [==============================] - 0s 9ms/step - loss: 15.4715 - mse: 329.7600\n",
            "Epoch 23/100\n",
            "2/2 [==============================] - 0s 8ms/step - loss: 9.2285 - mse: 118.3219\n",
            "Epoch 24/100\n",
            "2/2 [==============================] - 0s 9ms/step - loss: 17.2684 - mse: 408.7951\n",
            "Epoch 25/100\n",
            "2/2 [==============================] - 0s 7ms/step - loss: 15.9362 - mse: 333.7791\n",
            "Epoch 26/100\n",
            "2/2 [==============================] - 0s 7ms/step - loss: 20.9352 - mse: 649.5243\n",
            "Epoch 27/100\n",
            "2/2 [==============================] - 0s 8ms/step - loss: 25.9489 - mse: 1050.3787\n",
            "Epoch 28/100\n",
            "2/2 [==============================] - 0s 8ms/step - loss: 18.4477 - mse: 538.5751\n",
            "Epoch 29/100\n",
            "2/2 [==============================] - 0s 9ms/step - loss: 9.2286 - mse: 97.4228\n",
            "Epoch 30/100\n",
            "2/2 [==============================] - 0s 7ms/step - loss: 29.0742 - mse: 1509.6677\n",
            "Epoch 31/100\n",
            "2/2 [==============================] - 0s 9ms/step - loss: 52.6559 - mse: 4957.4067\n",
            "Epoch 32/100\n",
            "2/2 [==============================] - 0s 6ms/step - loss: 11.9082 - mse: 206.4310\n",
            "Epoch 33/100\n",
            "2/2 [==============================] - 0s 7ms/step - loss: 15.5062 - mse: 331.4058\n",
            "Epoch 34/100\n",
            "2/2 [==============================] - 0s 8ms/step - loss: 12.5968 - mse: 209.6034\n",
            "Epoch 35/100\n",
            "2/2 [==============================] - 0s 7ms/step - loss: 9.1909 - mse: 91.5549\n",
            "Epoch 36/100\n",
            "2/2 [==============================] - 0s 9ms/step - loss: 16.5053 - mse: 396.2112\n",
            "Epoch 37/100\n",
            "2/2 [==============================] - 0s 7ms/step - loss: 11.0663 - mse: 192.0270\n",
            "Epoch 38/100\n",
            "2/2 [==============================] - 0s 12ms/step - loss: 18.1950 - mse: 435.9998\n",
            "Epoch 39/100\n",
            "2/2 [==============================] - 0s 7ms/step - loss: 19.1273 - mse: 532.4077\n",
            "Epoch 40/100\n",
            "2/2 [==============================] - 0s 8ms/step - loss: 20.4820 - mse: 612.9911\n",
            "Epoch 41/100\n",
            "2/2 [==============================] - 0s 10ms/step - loss: 14.8289 - mse: 275.8181\n",
            "Epoch 42/100\n",
            "2/2 [==============================] - 0s 11ms/step - loss: 12.2196 - mse: 183.6440\n",
            "Epoch 43/100\n",
            "2/2 [==============================] - 0s 8ms/step - loss: 10.6940 - mse: 164.5803\n",
            "Epoch 44/100\n",
            "2/2 [==============================] - 0s 9ms/step - loss: 32.4021 - mse: 1727.8881\n",
            "Epoch 45/100\n",
            "2/2 [==============================] - 0s 8ms/step - loss: 12.4905 - mse: 203.6515\n",
            "Epoch 46/100\n",
            "2/2 [==============================] - 0s 9ms/step - loss: 17.6233 - mse: 465.5535\n",
            "Epoch 47/100\n",
            "2/2 [==============================] - 0s 7ms/step - loss: 15.7072 - mse: 337.5208\n",
            "Epoch 48/100\n",
            "2/2 [==============================] - 0s 9ms/step - loss: 8.3397 - mse: 112.3470\n",
            "Epoch 49/100\n",
            "2/2 [==============================] - 0s 9ms/step - loss: 13.9365 - mse: 267.9945\n",
            "Epoch 50/100\n",
            "2/2 [==============================] - 0s 9ms/step - loss: 12.7864 - mse: 214.0559\n",
            "Epoch 51/100\n",
            "2/2 [==============================] - 0s 7ms/step - loss: 14.8031 - mse: 307.6040\n",
            "Epoch 52/100\n",
            "2/2 [==============================] - 0s 7ms/step - loss: 18.6928 - mse: 526.6727\n",
            "Epoch 53/100\n",
            "2/2 [==============================] - 0s 7ms/step - loss: 24.1128 - mse: 825.1273\n",
            "Epoch 54/100\n",
            "2/2 [==============================] - 0s 7ms/step - loss: 23.3058 - mse: 814.7557\n",
            "Epoch 55/100\n",
            "2/2 [==============================] - 0s 9ms/step - loss: 24.1785 - mse: 880.4410\n",
            "Epoch 56/100\n",
            "2/2 [==============================] - 0s 10ms/step - loss: 11.1948 - mse: 170.8597\n",
            "Epoch 57/100\n",
            "2/2 [==============================] - 0s 7ms/step - loss: 13.1701 - mse: 216.7961\n",
            "Epoch 58/100\n",
            "2/2 [==============================] - 0s 7ms/step - loss: 9.8374 - mse: 106.8694\n",
            "Epoch 59/100\n",
            "2/2 [==============================] - 0s 7ms/step - loss: 13.3747 - mse: 253.7103\n",
            "Epoch 60/100\n",
            "2/2 [==============================] - 0s 7ms/step - loss: 10.9051 - mse: 140.8456\n",
            "Epoch 61/100\n",
            "2/2 [==============================] - 0s 7ms/step - loss: 13.5334 - mse: 245.5326\n",
            "Epoch 62/100\n",
            "2/2 [==============================] - 0s 5ms/step - loss: 17.8684 - mse: 486.0454\n",
            "Epoch 63/100\n",
            "2/2 [==============================] - 0s 7ms/step - loss: 8.7164 - mse: 91.6752\n",
            "Epoch 64/100\n",
            "2/2 [==============================] - 0s 7ms/step - loss: 16.1286 - mse: 373.0667\n",
            "Epoch 65/100\n",
            "2/2 [==============================] - 0s 8ms/step - loss: 10.7261 - mse: 146.4350\n",
            "Epoch 66/100\n",
            "2/2 [==============================] - 0s 8ms/step - loss: 22.2013 - mse: 730.3696\n",
            "Epoch 67/100\n",
            "2/2 [==============================] - 0s 8ms/step - loss: 10.2537 - mse: 120.9828\n",
            "Epoch 68/100\n",
            "2/2 [==============================] - 0s 7ms/step - loss: 13.4756 - mse: 269.6888\n",
            "Epoch 69/100\n",
            "2/2 [==============================] - 0s 7ms/step - loss: 11.4268 - mse: 163.5565\n",
            "Epoch 70/100\n",
            "2/2 [==============================] - 0s 8ms/step - loss: 13.6145 - mse: 246.4580\n",
            "Epoch 71/100\n",
            "2/2 [==============================] - 0s 7ms/step - loss: 15.6522 - mse: 348.3018\n",
            "Epoch 72/100\n",
            "2/2 [==============================] - 0s 6ms/step - loss: 11.8529 - mse: 168.9853\n",
            "Epoch 73/100\n",
            "2/2 [==============================] - 0s 7ms/step - loss: 16.6562 - mse: 374.1504\n",
            "Epoch 74/100\n",
            "2/2 [==============================] - 0s 7ms/step - loss: 24.2391 - mse: 925.0900\n",
            "Epoch 75/100\n",
            "2/2 [==============================] - 0s 6ms/step - loss: 9.6379 - mse: 148.4164\n",
            "Epoch 76/100\n",
            "2/2 [==============================] - 0s 7ms/step - loss: 12.4963 - mse: 190.6607\n",
            "Epoch 77/100\n",
            "2/2 [==============================] - 0s 7ms/step - loss: 16.7926 - mse: 437.9178\n",
            "Epoch 78/100\n",
            "2/2 [==============================] - 0s 7ms/step - loss: 9.0769 - mse: 97.0945\n",
            "Epoch 79/100\n",
            "2/2 [==============================] - 0s 8ms/step - loss: 24.1516 - mse: 879.2487\n",
            "Epoch 80/100\n",
            "2/2 [==============================] - 0s 7ms/step - loss: 26.9684 - mse: 1124.7698\n",
            "Epoch 81/100\n",
            "2/2 [==============================] - 0s 6ms/step - loss: 11.7708 - mse: 175.3362\n",
            "Epoch 82/100\n",
            "2/2 [==============================] - 0s 6ms/step - loss: 11.9599 - mse: 210.8230\n",
            "Epoch 83/100\n",
            "2/2 [==============================] - 0s 7ms/step - loss: 17.3330 - mse: 391.3774\n",
            "Epoch 84/100\n",
            "2/2 [==============================] - 0s 8ms/step - loss: 6.8313 - mse: 63.5149\n",
            "Epoch 85/100\n",
            "2/2 [==============================] - 0s 9ms/step - loss: 15.9997 - mse: 360.8499\n",
            "Epoch 86/100\n",
            "2/2 [==============================] - 0s 7ms/step - loss: 15.8459 - mse: 334.4925\n",
            "Epoch 87/100\n",
            "2/2 [==============================] - 0s 8ms/step - loss: 20.3009 - mse: 577.3206\n",
            "Epoch 88/100\n",
            "2/2 [==============================] - 0s 7ms/step - loss: 34.1396 - mse: 1711.3621\n",
            "Epoch 89/100\n",
            "2/2 [==============================] - 0s 9ms/step - loss: 10.6287 - mse: 132.1529\n",
            "Epoch 90/100\n",
            "2/2 [==============================] - 0s 8ms/step - loss: 23.6059 - mse: 806.4468\n",
            "Epoch 91/100\n",
            "2/2 [==============================] - 0s 9ms/step - loss: 11.1391 - mse: 159.9815\n",
            "Epoch 92/100\n",
            "2/2 [==============================] - 0s 11ms/step - loss: 20.4661 - mse: 579.9738\n",
            "Epoch 93/100\n",
            "2/2 [==============================] - 0s 8ms/step - loss: 6.7971 - mse: 66.9563\n",
            "Epoch 94/100\n",
            "2/2 [==============================] - 0s 7ms/step - loss: 13.0093 - mse: 230.3406\n",
            "Epoch 95/100\n",
            "2/2 [==============================] - 0s 8ms/step - loss: 18.4226 - mse: 500.6317\n",
            "Epoch 96/100\n",
            "2/2 [==============================] - 0s 6ms/step - loss: 10.3423 - mse: 177.9545\n",
            "Epoch 97/100\n",
            "2/2 [==============================] - 0s 10ms/step - loss: 14.4383 - mse: 315.1293\n",
            "Epoch 98/100\n",
            "2/2 [==============================] - 0s 8ms/step - loss: 6.5597 - mse: 60.1213\n",
            "Epoch 99/100\n",
            "2/2 [==============================] - 0s 7ms/step - loss: 12.5786 - mse: 229.0544\n",
            "Epoch 100/100\n",
            "2/2 [==============================] - 0s 7ms/step - loss: 19.3845 - mse: 552.0623\n"
          ]
        },
        {
          "output_type": "execute_result",
          "data": {
            "text/plain": [
              "<keras.callbacks.History at 0x7f3005de84c0>"
            ]
          },
          "metadata": {},
          "execution_count": 56
        }
      ]
    },
    {
      "cell_type": "code",
      "source": [
        "y_pred_2 = model_2.predict(X_test)"
      ],
      "metadata": {
        "colab": {
          "base_uri": "https://localhost:8080/"
        },
        "id": "EcRQyBswWm9K",
        "outputId": "67b66e0e-b15b-4b95-c026-c533e21ed13e"
      },
      "execution_count": 57,
      "outputs": [
        {
          "output_type": "stream",
          "name": "stdout",
          "text": [
            "1/1 [==============================] - 0s 60ms/step\n"
          ]
        }
      ]
    },
    {
      "cell_type": "code",
      "source": [
        "plot_predictions(predictions = y_pred_2)"
      ],
      "metadata": {
        "colab": {
          "base_uri": "https://localhost:8080/",
          "height": 599
        },
        "id": "W4o5dPJ_WtWG",
        "outputId": "c8de9350-2ac1-4058-c243-f9857cbbccc0"
      },
      "execution_count": 58,
      "outputs": [
        {
          "output_type": "display_data",
          "data": {
            "text/plain": [
              "<Figure size 1000x700 with 1 Axes>"
            ],
            "image/png": "[encoded data removed]"
          },
          "metadata": {}
        }
      ]
    },
    {
      "cell_type": "code",
      "source": [
        "mae_2=mae(y_test,tf.squeeze(y_pred_2))\n",
        "mse_2=mse(y_test,tf.squeeze(y_pred_2))\n",
        "mae_2,mse_2"
      ],
      "metadata": {
        "colab": {
          "base_uri": "https://localhost:8080/"
        },
        "id": "HfBYd37pW4_j",
        "outputId": "7e00b305-83a6-4fd0-c5c6-93f80b3c7e14"
      },
      "execution_count": 59,
      "outputs": [
        {
          "output_type": "execute_result",
          "data": {
            "text/plain": [
              "(<tf.Tensor: shape=(), dtype=float32, numpy=13.452887>,\n",
              " <tf.Tensor: shape=(), dtype=float32, numpy=191.14436>)"
            ]
          },
          "metadata": {},
          "execution_count": 59
        }
      ]
    },
    {
      "cell_type": "code",
      "source": [
        "tf.random.set_seed(42)"
      ],
      "metadata": {
        "id": "8xLdcof7XHXH"
      },
      "execution_count": 60,
      "outputs": []
    },
    {
      "cell_type": "code",
      "source": [
        "model_3 = tf.keras.Sequential([\n",
        "    tf.keras.layers.Dense(10),\n",
        "    tf.keras.layers.Dense(1)\n",
        "])\n",
        "\n",
        "model_3.compile(loss=tf.keras.losses.mae,optimizer=tf.keras.optimizers.SGD(), metrics=['mae'])\n",
        "model_3.fit(tf.expand_dims(X_train, axis=-1), y_train, epochs=500)"
      ],
      "metadata": {
        "colab": {
          "base_uri": "https://localhost:8080/"
        },
        "id": "ePCY8eCDXLMy",
        "outputId": "5356cf58-0559-4eb2-a6fb-44a75d9c3403"
      },
      "execution_count": 61,
      "outputs": [
        {
          "output_type": "stream",
          "name": "stdout",
          "text": [
            "Epoch 1/500\n",
            "2/2 [==============================] - 0s 11ms/step - loss: 40.7159 - mae: 40.7159\n",
            "Epoch 2/500\n",
            "2/2 [==============================] - 0s 7ms/step - loss: 31.6537 - mae: 31.6537\n",
            "Epoch 3/500\n",
            "2/2 [==============================] - 0s 7ms/step - loss: 28.6520 - mae: 28.6520\n",
            "Epoch 4/500\n",
            "2/2 [==============================] - 0s 7ms/step - loss: 16.0975 - mae: 16.0975\n",
            "Epoch 5/500\n",
            "2/2 [==============================] - 0s 7ms/step - loss: 22.3402 - mae: 22.3402\n",
            "Epoch 6/500\n",
            "2/2 [==============================] - 0s 7ms/step - loss: 10.9967 - mae: 10.9967\n",
            "Epoch 7/500\n",
            "2/2 [==============================] - 0s 7ms/step - loss: 12.0232 - mae: 12.0232\n",
            "Epoch 8/500\n",
            "2/2 [==============================] - 0s 7ms/step - loss: 10.9110 - mae: 10.9110\n",
            "Epoch 9/500\n",
            "2/2 [==============================] - 0s 8ms/step - loss: 37.7975 - mae: 37.7975\n",
            "Epoch 10/500\n",
            "2/2 [==============================] - 0s 7ms/step - loss: 25.4181 - mae: 25.4181\n",
            "Epoch 11/500\n",
            "2/2 [==============================] - 0s 7ms/step - loss: 10.2560 - mae: 10.2560\n",
            "Epoch 12/500\n",
            "2/2 [==============================] - 0s 7ms/step - loss: 25.3898 - mae: 25.3898\n",
            "Epoch 13/500\n",
            "2/2 [==============================] - 0s 8ms/step - loss: 16.9434 - mae: 16.9434\n",
            "Epoch 14/500\n",
            "2/2 [==============================] - 0s 8ms/step - loss: 25.8371 - mae: 25.8371\n",
            "Epoch 15/500\n",
            "2/2 [==============================] - 0s 8ms/step - loss: 17.6689 - mae: 17.6689\n",
            "Epoch 16/500\n",
            "2/2 [==============================] - 0s 7ms/step - loss: 10.0774 - mae: 10.0774\n",
            "Epoch 17/500\n",
            "2/2 [==============================] - 0s 7ms/step - loss: 18.6723 - mae: 18.6723\n",
            "Epoch 18/500\n",
            "2/2 [==============================] - 0s 7ms/step - loss: 11.7940 - mae: 11.7940\n",
            "Epoch 19/500\n",
            "2/2 [==============================] - 0s 7ms/step - loss: 16.5108 - mae: 16.5108\n",
            "Epoch 20/500\n",
            "2/2 [==============================] - 0s 6ms/step - loss: 8.2392 - mae: 8.2392\n",
            "Epoch 21/500\n",
            "2/2 [==============================] - 0s 8ms/step - loss: 14.4108 - mae: 14.4108\n",
            "Epoch 22/500\n",
            "2/2 [==============================] - 0s 8ms/step - loss: 12.8238 - mae: 12.8238\n",
            "Epoch 23/500\n",
            "2/2 [==============================] - 0s 8ms/step - loss: 15.4620 - mae: 15.4620\n",
            "Epoch 24/500\n",
            "2/2 [==============================] - 0s 11ms/step - loss: 15.2509 - mae: 15.2509\n",
            "Epoch 25/500\n",
            "2/2 [==============================] - 0s 9ms/step - loss: 14.3298 - mae: 14.3298\n",
            "Epoch 26/500\n",
            "2/2 [==============================] - 0s 8ms/step - loss: 19.3251 - mae: 19.3251\n",
            "Epoch 27/500\n",
            "2/2 [==============================] - 0s 9ms/step - loss: 11.4633 - mae: 11.4633\n",
            "Epoch 28/500\n",
            "2/2 [==============================] - 0s 7ms/step - loss: 29.1632 - mae: 29.1632\n",
            "Epoch 29/500\n",
            "2/2 [==============================] - 0s 7ms/step - loss: 9.2521 - mae: 9.2521\n",
            "Epoch 30/500\n",
            "2/2 [==============================] - 0s 7ms/step - loss: 29.8842 - mae: 29.8842\n",
            "Epoch 31/500\n",
            "2/2 [==============================] - 0s 7ms/step - loss: 54.2337 - mae: 54.2337\n",
            "Epoch 32/500\n",
            "2/2 [==============================] - 0s 7ms/step - loss: 9.5822 - mae: 9.5822\n",
            "Epoch 33/500\n",
            "2/2 [==============================] - 0s 8ms/step - loss: 12.1758 - mae: 12.1758\n",
            "Epoch 34/500\n",
            "2/2 [==============================] - 0s 7ms/step - loss: 23.9531 - mae: 23.9531\n",
            "Epoch 35/500\n",
            "2/2 [==============================] - 0s 7ms/step - loss: 12.6160 - mae: 12.6160\n",
            "Epoch 36/500\n",
            "2/2 [==============================] - 0s 6ms/step - loss: 21.5169 - mae: 21.5169\n",
            "Epoch 37/500\n",
            "2/2 [==============================] - 0s 7ms/step - loss: 11.3902 - mae: 11.3902\n",
            "Epoch 38/500\n",
            "2/2 [==============================] - 0s 8ms/step - loss: 13.4816 - mae: 13.4816\n",
            "Epoch 39/500\n",
            "2/2 [==============================] - 0s 7ms/step - loss: 10.7993 - mae: 10.7993\n",
            "Epoch 40/500\n",
            "2/2 [==============================] - 0s 6ms/step - loss: 16.6243 - mae: 16.6243\n",
            "Epoch 41/500\n",
            "2/2 [==============================] - 0s 8ms/step - loss: 10.9866 - mae: 10.9866\n",
            "Epoch 42/500\n",
            "2/2 [==============================] - 0s 7ms/step - loss: 9.3109 - mae: 9.3109\n",
            "Epoch 43/500\n",
            "2/2 [==============================] - 0s 7ms/step - loss: 9.5965 - mae: 9.5965\n",
            "Epoch 44/500\n",
            "2/2 [==============================] - 0s 7ms/step - loss: 28.0370 - mae: 28.0370\n",
            "Epoch 45/500\n",
            "2/2 [==============================] - 0s 6ms/step - loss: 11.2968 - mae: 11.2968\n",
            "Epoch 46/500\n",
            "2/2 [==============================] - 0s 7ms/step - loss: 14.0977 - mae: 14.0977\n",
            "Epoch 47/500\n",
            "2/2 [==============================] - 0s 7ms/step - loss: 13.4922 - mae: 13.4922\n",
            "Epoch 48/500\n",
            "2/2 [==============================] - 0s 7ms/step - loss: 17.3239 - mae: 17.3239\n",
            "Epoch 49/500\n",
            "2/2 [==============================] - 0s 6ms/step - loss: 9.5263 - mae: 9.5263\n",
            "Epoch 50/500\n",
            "2/2 [==============================] - 0s 7ms/step - loss: 13.7248 - mae: 13.7248\n",
            "Epoch 51/500\n",
            "2/2 [==============================] - 0s 7ms/step - loss: 11.5674 - mae: 11.5674\n",
            "Epoch 52/500\n",
            "2/2 [==============================] - 0s 7ms/step - loss: 30.2715 - mae: 30.2715\n",
            "Epoch 53/500\n",
            "2/2 [==============================] - 0s 7ms/step - loss: 14.2361 - mae: 14.2361\n",
            "Epoch 54/500\n",
            "2/2 [==============================] - 0s 7ms/step - loss: 23.5336 - mae: 23.5336\n",
            "Epoch 55/500\n",
            "2/2 [==============================] - 0s 7ms/step - loss: 24.4459 - mae: 24.4459\n",
            "Epoch 56/500\n",
            "2/2 [==============================] - 0s 8ms/step - loss: 11.2986 - mae: 11.2986\n",
            "Epoch 57/500\n",
            "2/2 [==============================] - 0s 8ms/step - loss: 13.3001 - mae: 13.3001\n",
            "Epoch 58/500\n",
            "2/2 [==============================] - 0s 7ms/step - loss: 9.9159 - mae: 9.9159\n",
            "Epoch 59/500\n",
            "2/2 [==============================] - 0s 7ms/step - loss: 13.8345 - mae: 13.8345\n",
            "Epoch 60/500\n",
            "2/2 [==============================] - 0s 7ms/step - loss: 9.9587 - mae: 9.9587\n",
            "Epoch 61/500\n",
            "2/2 [==============================] - 0s 7ms/step - loss: 14.8895 - mae: 14.8895\n",
            "Epoch 62/500\n",
            "2/2 [==============================] - 0s 7ms/step - loss: 11.8757 - mae: 11.8757\n",
            "Epoch 63/500\n",
            "2/2 [==============================] - 0s 7ms/step - loss: 10.2609 - mae: 10.2609\n",
            "Epoch 64/500\n",
            "2/2 [==============================] - 0s 7ms/step - loss: 23.7420 - mae: 23.7420\n",
            "Epoch 65/500\n",
            "2/2 [==============================] - 0s 9ms/step - loss: 10.4358 - mae: 10.4358\n",
            "Epoch 66/500\n",
            "2/2 [==============================] - 0s 7ms/step - loss: 20.8045 - mae: 20.8045\n",
            "Epoch 67/500\n",
            "2/2 [==============================] - 0s 6ms/step - loss: 10.4050 - mae: 10.4050\n",
            "Epoch 68/500\n",
            "2/2 [==============================] - 0s 8ms/step - loss: 14.0858 - mae: 14.0858\n",
            "Epoch 69/500\n",
            "2/2 [==============================] - 0s 10ms/step - loss: 10.4669 - mae: 10.4669\n",
            "Epoch 70/500\n",
            "2/2 [==============================] - 0s 9ms/step - loss: 12.5320 - mae: 12.5320\n",
            "Epoch 71/500\n",
            "2/2 [==============================] - 0s 9ms/step - loss: 12.9618 - mae: 12.9618\n",
            "Epoch 72/500\n",
            "2/2 [==============================] - 0s 11ms/step - loss: 19.2329 - mae: 19.2329\n",
            "Epoch 73/500\n",
            "2/2 [==============================] - 0s 9ms/step - loss: 11.0988 - mae: 11.0988\n",
            "Epoch 74/500\n",
            "2/2 [==============================] - 0s 8ms/step - loss: 21.3036 - mae: 21.3036\n",
            "Epoch 75/500\n",
            "2/2 [==============================] - 0s 7ms/step - loss: 9.4206 - mae: 9.4206\n",
            "Epoch 76/500\n",
            "2/2 [==============================] - 0s 7ms/step - loss: 12.2361 - mae: 12.2361\n",
            "Epoch 77/500\n",
            "2/2 [==============================] - 0s 8ms/step - loss: 16.2156 - mae: 16.2156\n",
            "Epoch 78/500\n",
            "2/2 [==============================] - 0s 7ms/step - loss: 8.9950 - mae: 8.9950\n",
            "Epoch 79/500\n",
            "2/2 [==============================] - 0s 8ms/step - loss: 23.4385 - mae: 23.4385\n",
            "Epoch 80/500\n",
            "2/2 [==============================] - 0s 8ms/step - loss: 26.1083 - mae: 26.1083\n",
            "Epoch 81/500\n",
            "2/2 [==============================] - 0s 10ms/step - loss: 11.3705 - mae: 11.3705\n",
            "Epoch 82/500\n",
            "2/2 [==============================] - 0s 8ms/step - loss: 12.4858 - mae: 12.4858\n",
            "Epoch 83/500\n",
            "2/2 [==============================] - 0s 8ms/step - loss: 17.1671 - mae: 17.1671\n",
            "Epoch 84/500\n",
            "2/2 [==============================] - 0s 8ms/step - loss: 6.5719 - mae: 6.5719\n",
            "Epoch 85/500\n",
            "2/2 [==============================] - 0s 8ms/step - loss: 20.3172 - mae: 20.3172\n",
            "Epoch 86/500\n",
            "2/2 [==============================] - 0s 8ms/step - loss: 10.1536 - mae: 10.1536\n",
            "Epoch 87/500\n",
            "2/2 [==============================] - 0s 9ms/step - loss: 24.3749 - mae: 24.3749\n",
            "Epoch 88/500\n",
            "2/2 [==============================] - 0s 8ms/step - loss: 19.0397 - mae: 19.0397\n",
            "Epoch 89/500\n",
            "2/2 [==============================] - 0s 8ms/step - loss: 7.1466 - mae: 7.1466\n",
            "Epoch 90/500\n",
            "2/2 [==============================] - 0s 8ms/step - loss: 18.2338 - mae: 18.2338\n",
            "Epoch 91/500\n",
            "2/2 [==============================] - 0s 9ms/step - loss: 13.2816 - mae: 13.2816\n",
            "Epoch 92/500\n",
            "2/2 [==============================] - 0s 7ms/step - loss: 14.8220 - mae: 14.8220\n",
            "Epoch 93/500\n",
            "2/2 [==============================] - 0s 7ms/step - loss: 11.6185 - mae: 11.6185\n",
            "Epoch 94/500\n",
            "2/2 [==============================] - 0s 7ms/step - loss: 16.1748 - mae: 16.1748\n",
            "Epoch 95/500\n",
            "2/2 [==============================] - 0s 7ms/step - loss: 15.5157 - mae: 15.5157\n",
            "Epoch 96/500\n",
            "2/2 [==============================] - 0s 6ms/step - loss: 15.0449 - mae: 15.0449\n",
            "Epoch 97/500\n",
            "2/2 [==============================] - 0s 8ms/step - loss: 10.8741 - mae: 10.8741\n",
            "Epoch 98/500\n",
            "2/2 [==============================] - 0s 7ms/step - loss: 14.3326 - mae: 14.3326\n",
            "Epoch 99/500\n",
            "2/2 [==============================] - 0s 7ms/step - loss: 13.3575 - mae: 13.3575\n",
            "Epoch 100/500\n",
            "2/2 [==============================] - 0s 13ms/step - loss: 19.9574 - mae: 19.9574\n",
            "Epoch 101/500\n",
            "2/2 [==============================] - 0s 7ms/step - loss: 22.6019 - mae: 22.6019\n",
            "Epoch 102/500\n",
            "2/2 [==============================] - 0s 6ms/step - loss: 11.2956 - mae: 11.2956\n",
            "Epoch 103/500\n",
            "2/2 [==============================] - 0s 7ms/step - loss: 9.3570 - mae: 9.3570\n",
            "Epoch 104/500\n",
            "2/2 [==============================] - 0s 6ms/step - loss: 25.2532 - mae: 25.2532\n",
            "Epoch 105/500\n",
            "2/2 [==============================] - 0s 6ms/step - loss: 12.4593 - mae: 12.4593\n",
            "Epoch 106/500\n",
            "2/2 [==============================] - 0s 7ms/step - loss: 9.3978 - mae: 9.3978\n",
            "Epoch 107/500\n",
            "2/2 [==============================] - 0s 6ms/step - loss: 23.2845 - mae: 23.2845\n",
            "Epoch 108/500\n",
            "2/2 [==============================] - 0s 6ms/step - loss: 8.2803 - mae: 8.2803\n",
            "Epoch 109/500\n",
            "2/2 [==============================] - 0s 6ms/step - loss: 14.0820 - mae: 14.0820\n",
            "Epoch 110/500\n",
            "2/2 [==============================] - 0s 6ms/step - loss: 10.6040 - mae: 10.6040\n",
            "Epoch 111/500\n",
            "2/2 [==============================] - 0s 12ms/step - loss: 16.9101 - mae: 16.9101\n",
            "Epoch 112/500\n",
            "2/2 [==============================] - 0s 12ms/step - loss: 8.2699 - mae: 8.2699\n",
            "Epoch 113/500\n",
            "2/2 [==============================] - 0s 9ms/step - loss: 19.7573 - mae: 19.7573\n",
            "Epoch 114/500\n",
            "2/2 [==============================] - 0s 8ms/step - loss: 17.4544 - mae: 17.4544\n",
            "Epoch 115/500\n",
            "2/2 [==============================] - 0s 7ms/step - loss: 11.2416 - mae: 11.2416\n",
            "Epoch 116/500\n",
            "2/2 [==============================] - 0s 7ms/step - loss: 23.6525 - mae: 23.6525\n",
            "Epoch 117/500\n",
            "2/2 [==============================] - 0s 8ms/step - loss: 9.7488 - mae: 9.7488\n",
            "Epoch 118/500\n",
            "2/2 [==============================] - 0s 7ms/step - loss: 10.8362 - mae: 10.8362\n",
            "Epoch 119/500\n",
            "2/2 [==============================] - 0s 8ms/step - loss: 8.0842 - mae: 8.0842\n",
            "Epoch 120/500\n",
            "2/2 [==============================] - 0s 8ms/step - loss: 30.0433 - mae: 30.0433\n",
            "Epoch 121/500\n",
            "2/2 [==============================] - 0s 7ms/step - loss: 8.1139 - mae: 8.1139\n",
            "Epoch 122/500\n",
            "2/2 [==============================] - 0s 7ms/step - loss: 28.5871 - mae: 28.5871\n",
            "Epoch 123/500\n",
            "2/2 [==============================] - 0s 8ms/step - loss: 33.2433 - mae: 33.2433\n",
            "Epoch 124/500\n",
            "2/2 [==============================] - 0s 8ms/step - loss: 19.8948 - mae: 19.8948\n",
            "Epoch 125/500\n",
            "2/2 [==============================] - 0s 7ms/step - loss: 7.6874 - mae: 7.6874\n",
            "Epoch 126/500\n",
            "2/2 [==============================] - 0s 7ms/step - loss: 17.1505 - mae: 17.1505\n",
            "Epoch 127/500\n",
            "2/2 [==============================] - 0s 7ms/step - loss: 7.5203 - mae: 7.5203\n",
            "Epoch 128/500\n",
            "2/2 [==============================] - 0s 7ms/step - loss: 18.1393 - mae: 18.1393\n",
            "Epoch 129/500\n",
            "2/2 [==============================] - 0s 7ms/step - loss: 8.7893 - mae: 8.7893\n",
            "Epoch 130/500\n",
            "2/2 [==============================] - 0s 7ms/step - loss: 22.5452 - mae: 22.5452\n",
            "Epoch 131/500\n",
            "2/2 [==============================] - 0s 8ms/step - loss: 10.2489 - mae: 10.2489\n",
            "Epoch 132/500\n",
            "2/2 [==============================] - 0s 7ms/step - loss: 15.0143 - mae: 15.0143\n",
            "Epoch 133/500\n",
            "2/2 [==============================] - 0s 7ms/step - loss: 7.1000 - mae: 7.1000\n",
            "Epoch 134/500\n",
            "2/2 [==============================] - 0s 7ms/step - loss: 23.8815 - mae: 23.8815\n",
            "Epoch 135/500\n",
            "2/2 [==============================] - 0s 8ms/step - loss: 16.5826 - mae: 16.5826\n",
            "Epoch 136/500\n",
            "2/2 [==============================] - 0s 7ms/step - loss: 14.8110 - mae: 14.8110\n",
            "Epoch 137/500\n",
            "2/2 [==============================] - 0s 9ms/step - loss: 23.0377 - mae: 23.0377\n",
            "Epoch 138/500\n",
            "2/2 [==============================] - 0s 8ms/step - loss: 9.0957 - mae: 9.0957\n",
            "Epoch 139/500\n",
            "2/2 [==============================] - 0s 10ms/step - loss: 8.8959 - mae: 8.8959\n",
            "Epoch 140/500\n",
            "2/2 [==============================] - 0s 7ms/step - loss: 16.3746 - mae: 16.3746\n",
            "Epoch 141/500\n",
            "2/2 [==============================] - 0s 8ms/step - loss: 8.4268 - mae: 8.4268\n",
            "Epoch 142/500\n",
            "2/2 [==============================] - 0s 7ms/step - loss: 36.7459 - mae: 36.7459\n",
            "Epoch 143/500\n",
            "2/2 [==============================] - 0s 7ms/step - loss: 25.4201 - mae: 25.4201\n",
            "Epoch 144/500\n",
            "2/2 [==============================] - 0s 8ms/step - loss: 9.5548 - mae: 9.5548\n",
            "Epoch 145/500\n",
            "2/2 [==============================] - 0s 7ms/step - loss: 26.6564 - mae: 26.6564\n",
            "Epoch 146/500\n",
            "2/2 [==============================] - 0s 7ms/step - loss: 8.6646 - mae: 8.6646\n",
            "Epoch 147/500\n",
            "2/2 [==============================] - 0s 7ms/step - loss: 15.6681 - mae: 15.6681\n",
            "Epoch 148/500\n",
            "2/2 [==============================] - 0s 7ms/step - loss: 18.3730 - mae: 18.3730\n",
            "Epoch 149/500\n",
            "2/2 [==============================] - 0s 7ms/step - loss: 8.1559 - mae: 8.1559\n",
            "Epoch 150/500\n",
            "2/2 [==============================] - 0s 9ms/step - loss: 7.4872 - mae: 7.4872\n",
            "Epoch 151/500\n",
            "2/2 [==============================] - 0s 8ms/step - loss: 18.1961 - mae: 18.1961\n",
            "Epoch 152/500\n",
            "2/2 [==============================] - 0s 8ms/step - loss: 10.2634 - mae: 10.2634\n",
            "Epoch 153/500\n",
            "2/2 [==============================] - 0s 7ms/step - loss: 29.4153 - mae: 29.4153\n",
            "Epoch 154/500\n",
            "2/2 [==============================] - 0s 7ms/step - loss: 10.6055 - mae: 10.6055\n",
            "Epoch 155/500\n",
            "2/2 [==============================] - 0s 7ms/step - loss: 15.4992 - mae: 15.4992\n",
            "Epoch 156/500\n",
            "2/2 [==============================] - 0s 6ms/step - loss: 17.1146 - mae: 17.1146\n",
            "Epoch 157/500\n",
            "2/2 [==============================] - 0s 7ms/step - loss: 32.5698 - mae: 32.5698\n",
            "Epoch 158/500\n",
            "2/2 [==============================] - 0s 7ms/step - loss: 10.6410 - mae: 10.6410\n",
            "Epoch 159/500\n",
            "2/2 [==============================] - 0s 7ms/step - loss: 8.8816 - mae: 8.8816\n",
            "Epoch 160/500\n",
            "2/2 [==============================] - 0s 7ms/step - loss: 21.9471 - mae: 21.9471\n",
            "Epoch 161/500\n",
            "2/2 [==============================] - 0s 7ms/step - loss: 11.1100 - mae: 11.1100\n",
            "Epoch 162/500\n",
            "2/2 [==============================] - 0s 7ms/step - loss: 21.4783 - mae: 21.4783\n",
            "Epoch 163/500\n",
            "2/2 [==============================] - 0s 7ms/step - loss: 19.1594 - mae: 19.1594\n",
            "Epoch 164/500\n",
            "2/2 [==============================] - 0s 7ms/step - loss: 10.9645 - mae: 10.9645\n",
            "Epoch 165/500\n",
            "2/2 [==============================] - 0s 7ms/step - loss: 9.6393 - mae: 9.6393\n",
            "Epoch 166/500\n",
            "2/2 [==============================] - 0s 8ms/step - loss: 21.6435 - mae: 21.6435\n",
            "Epoch 167/500\n",
            "2/2 [==============================] - 0s 7ms/step - loss: 26.1577 - mae: 26.1577\n",
            "Epoch 168/500\n",
            "2/2 [==============================] - 0s 7ms/step - loss: 9.8366 - mae: 9.8366\n",
            "Epoch 169/500\n",
            "2/2 [==============================] - 0s 7ms/step - loss: 22.4312 - mae: 22.4312\n",
            "Epoch 170/500\n",
            "2/2 [==============================] - 0s 7ms/step - loss: 10.1757 - mae: 10.1757\n",
            "Epoch 171/500\n",
            "2/2 [==============================] - 0s 7ms/step - loss: 18.1052 - mae: 18.1052\n",
            "Epoch 172/500\n",
            "2/2 [==============================] - 0s 7ms/step - loss: 28.6974 - mae: 28.6974\n",
            "Epoch 173/500\n",
            "2/2 [==============================] - 0s 8ms/step - loss: 16.4197 - mae: 16.4197\n",
            "Epoch 174/500\n",
            "2/2 [==============================] - 0s 7ms/step - loss: 11.7336 - mae: 11.7336\n",
            "Epoch 175/500\n",
            "2/2 [==============================] - 0s 7ms/step - loss: 27.1730 - mae: 27.1730\n",
            "Epoch 176/500\n",
            "2/2 [==============================] - 0s 7ms/step - loss: 8.7503 - mae: 8.7503\n",
            "Epoch 177/500\n",
            "2/2 [==============================] - 0s 7ms/step - loss: 8.7679 - mae: 8.7679\n",
            "Epoch 178/500\n",
            "2/2 [==============================] - 0s 7ms/step - loss: 16.2017 - mae: 16.2017\n",
            "Epoch 179/500\n",
            "2/2 [==============================] - 0s 7ms/step - loss: 10.3993 - mae: 10.3993\n",
            "Epoch 180/500\n",
            "2/2 [==============================] - 0s 8ms/step - loss: 7.9883 - mae: 7.9883\n",
            "Epoch 181/500\n",
            "2/2 [==============================] - 0s 8ms/step - loss: 17.7785 - mae: 17.7785\n",
            "Epoch 182/500\n",
            "2/2 [==============================] - 0s 9ms/step - loss: 11.1911 - mae: 11.1911\n",
            "Epoch 183/500\n",
            "2/2 [==============================] - 0s 7ms/step - loss: 12.4033 - mae: 12.4033\n",
            "Epoch 184/500\n",
            "2/2 [==============================] - 0s 8ms/step - loss: 27.3957 - mae: 27.3957\n",
            "Epoch 185/500\n",
            "2/2 [==============================] - 0s 7ms/step - loss: 7.5541 - mae: 7.5541\n",
            "Epoch 186/500\n",
            "2/2 [==============================] - 0s 9ms/step - loss: 15.9357 - mae: 15.9357\n",
            "Epoch 187/500\n",
            "2/2 [==============================] - 0s 7ms/step - loss: 8.5897 - mae: 8.5897\n",
            "Epoch 188/500\n",
            "2/2 [==============================] - 0s 7ms/step - loss: 28.9073 - mae: 28.9073\n",
            "Epoch 189/500\n",
            "2/2 [==============================] - 0s 7ms/step - loss: 13.1381 - mae: 13.1381\n",
            "Epoch 190/500\n",
            "2/2 [==============================] - 0s 7ms/step - loss: 18.2765 - mae: 18.2765\n",
            "Epoch 191/500\n",
            "2/2 [==============================] - 0s 7ms/step - loss: 13.6985 - mae: 13.6985\n",
            "Epoch 192/500\n",
            "2/2 [==============================] - 0s 9ms/step - loss: 13.7000 - mae: 13.7000\n",
            "Epoch 193/500\n",
            "2/2 [==============================] - 0s 6ms/step - loss: 28.5506 - mae: 28.5506\n",
            "Epoch 194/500\n",
            "2/2 [==============================] - 0s 7ms/step - loss: 7.1198 - mae: 7.1198\n",
            "Epoch 195/500\n",
            "2/2 [==============================] - 0s 7ms/step - loss: 7.0639 - mae: 7.0639\n",
            "Epoch 196/500\n",
            "2/2 [==============================] - 0s 7ms/step - loss: 21.9630 - mae: 21.9630\n",
            "Epoch 197/500\n",
            "2/2 [==============================] - 0s 7ms/step - loss: 20.9371 - mae: 20.9371\n",
            "Epoch 198/500\n",
            "2/2 [==============================] - 0s 7ms/step - loss: 12.5291 - mae: 12.5291\n",
            "Epoch 199/500\n",
            "2/2 [==============================] - 0s 7ms/step - loss: 17.9892 - mae: 17.9892\n",
            "Epoch 200/500\n",
            "2/2 [==============================] - 0s 7ms/step - loss: 13.8238 - mae: 13.8238\n",
            "Epoch 201/500\n",
            "2/2 [==============================] - 0s 7ms/step - loss: 6.0435 - mae: 6.0435\n",
            "Epoch 202/500\n",
            "2/2 [==============================] - 0s 7ms/step - loss: 22.8264 - mae: 22.8264\n",
            "Epoch 203/500\n",
            "2/2 [==============================] - 0s 7ms/step - loss: 8.9530 - mae: 8.9530\n",
            "Epoch 204/500\n",
            "2/2 [==============================] - 0s 7ms/step - loss: 18.8063 - mae: 18.8063\n",
            "Epoch 205/500\n",
            "2/2 [==============================] - 0s 7ms/step - loss: 9.3535 - mae: 9.3535\n",
            "Epoch 206/500\n",
            "2/2 [==============================] - 0s 6ms/step - loss: 10.4228 - mae: 10.4228\n",
            "Epoch 207/500\n",
            "2/2 [==============================] - 0s 7ms/step - loss: 21.0780 - mae: 21.0780\n",
            "Epoch 208/500\n",
            "2/2 [==============================] - 0s 7ms/step - loss: 16.4536 - mae: 16.4536\n",
            "Epoch 209/500\n",
            "2/2 [==============================] - 0s 7ms/step - loss: 14.3537 - mae: 14.3537\n",
            "Epoch 210/500\n",
            "2/2 [==============================] - 0s 7ms/step - loss: 19.3568 - mae: 19.3568\n",
            "Epoch 211/500\n",
            "2/2 [==============================] - 0s 7ms/step - loss: 10.3048 - mae: 10.3048\n",
            "Epoch 212/500\n",
            "2/2 [==============================] - 0s 8ms/step - loss: 20.1319 - mae: 20.1319\n",
            "Epoch 213/500\n",
            "2/2 [==============================] - 0s 12ms/step - loss: 15.0779 - mae: 15.0779\n",
            "Epoch 214/500\n",
            "2/2 [==============================] - 0s 8ms/step - loss: 14.6149 - mae: 14.6149\n",
            "Epoch 215/500\n",
            "2/2 [==============================] - 0s 7ms/step - loss: 23.3474 - mae: 23.3474\n",
            "Epoch 216/500\n",
            "2/2 [==============================] - 0s 7ms/step - loss: 13.2915 - mae: 13.2915\n",
            "Epoch 217/500\n",
            "2/2 [==============================] - 0s 7ms/step - loss: 9.8130 - mae: 9.8130\n",
            "Epoch 218/500\n",
            "2/2 [==============================] - 0s 7ms/step - loss: 12.6073 - mae: 12.6073\n",
            "Epoch 219/500\n",
            "2/2 [==============================] - 0s 7ms/step - loss: 5.3472 - mae: 5.3472\n",
            "Epoch 220/500\n",
            "2/2 [==============================] - 0s 7ms/step - loss: 14.7016 - mae: 14.7016\n",
            "Epoch 221/500\n",
            "2/2 [==============================] - 0s 7ms/step - loss: 33.5452 - mae: 33.5452\n",
            "Epoch 222/500\n",
            "2/2 [==============================] - 0s 7ms/step - loss: 13.9027 - mae: 13.9027\n",
            "Epoch 223/500\n",
            "2/2 [==============================] - 0s 7ms/step - loss: 11.0004 - mae: 11.0004\n",
            "Epoch 224/500\n",
            "2/2 [==============================] - 0s 9ms/step - loss: 14.9553 - mae: 14.9553\n",
            "Epoch 225/500\n",
            "2/2 [==============================] - 0s 8ms/step - loss: 17.0041 - mae: 17.0041\n",
            "Epoch 226/500\n",
            "2/2 [==============================] - 0s 7ms/step - loss: 16.1924 - mae: 16.1924\n",
            "Epoch 227/500\n",
            "2/2 [==============================] - 0s 7ms/step - loss: 16.5126 - mae: 16.5126\n",
            "Epoch 228/500\n",
            "2/2 [==============================] - 0s 7ms/step - loss: 9.9503 - mae: 9.9503\n",
            "Epoch 229/500\n",
            "2/2 [==============================] - 0s 7ms/step - loss: 17.8497 - mae: 17.8497\n",
            "Epoch 230/500\n",
            "2/2 [==============================] - 0s 7ms/step - loss: 15.4691 - mae: 15.4691\n",
            "Epoch 231/500\n",
            "2/2 [==============================] - 0s 7ms/step - loss: 20.9008 - mae: 20.9008\n",
            "Epoch 232/500\n",
            "2/2 [==============================] - 0s 7ms/step - loss: 25.9682 - mae: 25.9682\n",
            "Epoch 233/500\n",
            "2/2 [==============================] - 0s 8ms/step - loss: 17.0417 - mae: 17.0417\n",
            "Epoch 234/500\n",
            "2/2 [==============================] - 0s 7ms/step - loss: 7.0439 - mae: 7.0439\n",
            "Epoch 235/500\n",
            "2/2 [==============================] - 0s 7ms/step - loss: 16.0086 - mae: 16.0086\n",
            "Epoch 236/500\n",
            "2/2 [==============================] - 0s 7ms/step - loss: 6.7926 - mae: 6.7926\n",
            "Epoch 237/500\n",
            "2/2 [==============================] - 0s 7ms/step - loss: 8.7418 - mae: 8.7418\n",
            "Epoch 238/500\n",
            "2/2 [==============================] - 0s 6ms/step - loss: 7.8458 - mae: 7.8458\n",
            "Epoch 239/500\n",
            "2/2 [==============================] - 0s 7ms/step - loss: 15.9080 - mae: 15.9080\n",
            "Epoch 240/500\n",
            "2/2 [==============================] - 0s 7ms/step - loss: 9.1237 - mae: 9.1237\n",
            "Epoch 241/500\n",
            "2/2 [==============================] - 0s 7ms/step - loss: 13.6265 - mae: 13.6265\n",
            "Epoch 242/500\n",
            "2/2 [==============================] - 0s 9ms/step - loss: 8.9845 - mae: 8.9845\n",
            "Epoch 243/500\n",
            "2/2 [==============================] - 0s 7ms/step - loss: 19.6302 - mae: 19.6302\n",
            "Epoch 244/500\n",
            "2/2 [==============================] - 0s 7ms/step - loss: 13.7959 - mae: 13.7959\n",
            "Epoch 245/500\n",
            "2/2 [==============================] - 0s 6ms/step - loss: 14.4622 - mae: 14.4622\n",
            "Epoch 246/500\n",
            "2/2 [==============================] - 0s 7ms/step - loss: 18.1119 - mae: 18.1119\n",
            "Epoch 247/500\n",
            "2/2 [==============================] - 0s 8ms/step - loss: 37.2356 - mae: 37.2356\n",
            "Epoch 248/500\n",
            "2/2 [==============================] - 0s 7ms/step - loss: 6.7786 - mae: 6.7786\n",
            "Epoch 249/500\n",
            "2/2 [==============================] - 0s 7ms/step - loss: 8.0077 - mae: 8.0077\n",
            "Epoch 250/500\n",
            "2/2 [==============================] - 0s 7ms/step - loss: 24.9598 - mae: 24.9598\n",
            "Epoch 251/500\n",
            "2/2 [==============================] - 0s 7ms/step - loss: 10.4352 - mae: 10.4352\n",
            "Epoch 252/500\n",
            "2/2 [==============================] - 0s 7ms/step - loss: 30.8309 - mae: 30.8309\n",
            "Epoch 253/500\n",
            "2/2 [==============================] - 0s 7ms/step - loss: 8.1467 - mae: 8.1467\n",
            "Epoch 254/500\n",
            "2/2 [==============================] - 0s 7ms/step - loss: 16.3002 - mae: 16.3002\n",
            "Epoch 255/500\n",
            "2/2 [==============================] - 0s 7ms/step - loss: 22.0462 - mae: 22.0462\n",
            "Epoch 256/500\n",
            "2/2 [==============================] - 0s 7ms/step - loss: 26.8174 - mae: 26.8174\n",
            "Epoch 257/500\n",
            "2/2 [==============================] - 0s 7ms/step - loss: 11.8838 - mae: 11.8838\n",
            "Epoch 258/500\n",
            "2/2 [==============================] - 0s 7ms/step - loss: 8.5090 - mae: 8.5090\n",
            "Epoch 259/500\n",
            "2/2 [==============================] - 0s 7ms/step - loss: 22.8169 - mae: 22.8169\n",
            "Epoch 260/500\n",
            "2/2 [==============================] - 0s 8ms/step - loss: 31.2827 - mae: 31.2827\n",
            "Epoch 261/500\n",
            "2/2 [==============================] - 0s 7ms/step - loss: 11.0967 - mae: 11.0967\n",
            "Epoch 262/500\n",
            "2/2 [==============================] - 0s 6ms/step - loss: 9.9643 - mae: 9.9643\n",
            "Epoch 263/500\n",
            "2/2 [==============================] - 0s 7ms/step - loss: 8.9144 - mae: 8.9144\n",
            "Epoch 264/500\n",
            "2/2 [==============================] - 0s 7ms/step - loss: 21.2264 - mae: 21.2264\n",
            "Epoch 265/500\n",
            "2/2 [==============================] - 0s 7ms/step - loss: 11.5476 - mae: 11.5476\n",
            "Epoch 266/500\n",
            "2/2 [==============================] - 0s 9ms/step - loss: 13.4004 - mae: 13.4004\n",
            "Epoch 267/500\n",
            "2/2 [==============================] - 0s 7ms/step - loss: 11.1458 - mae: 11.1458\n",
            "Epoch 268/500\n",
            "2/2 [==============================] - 0s 7ms/step - loss: 19.2945 - mae: 19.2945\n",
            "Epoch 269/500\n",
            "2/2 [==============================] - 0s 7ms/step - loss: 40.2877 - mae: 40.2877\n",
            "Epoch 270/500\n",
            "2/2 [==============================] - 0s 8ms/step - loss: 12.7137 - mae: 12.7137\n",
            "Epoch 271/500\n",
            "2/2 [==============================] - 0s 8ms/step - loss: 14.8111 - mae: 14.8111\n",
            "Epoch 272/500\n",
            "2/2 [==============================] - 0s 8ms/step - loss: 28.5901 - mae: 28.5901\n",
            "Epoch 273/500\n",
            "2/2 [==============================] - 0s 8ms/step - loss: 7.3032 - mae: 7.3032\n",
            "Epoch 274/500\n",
            "2/2 [==============================] - 0s 8ms/step - loss: 6.3749 - mae: 6.3749\n",
            "Epoch 275/500\n",
            "2/2 [==============================] - 0s 7ms/step - loss: 36.4844 - mae: 36.4844\n",
            "Epoch 276/500\n",
            "2/2 [==============================] - 0s 7ms/step - loss: 8.2696 - mae: 8.2696\n",
            "Epoch 277/500\n",
            "2/2 [==============================] - 0s 7ms/step - loss: 27.3702 - mae: 27.3702\n",
            "Epoch 278/500\n",
            "2/2 [==============================] - 0s 9ms/step - loss: 10.7588 - mae: 10.7588\n",
            "Epoch 279/500\n",
            "2/2 [==============================] - 0s 8ms/step - loss: 16.1744 - mae: 16.1744\n",
            "Epoch 280/500\n",
            "2/2 [==============================] - 0s 9ms/step - loss: 21.3688 - mae: 21.3688\n",
            "Epoch 281/500\n",
            "2/2 [==============================] - 0s 7ms/step - loss: 23.4744 - mae: 23.4744\n",
            "Epoch 282/500\n",
            "2/2 [==============================] - 0s 7ms/step - loss: 8.1898 - mae: 8.1898\n",
            "Epoch 283/500\n",
            "2/2 [==============================] - 0s 8ms/step - loss: 8.4105 - mae: 8.4105\n",
            "Epoch 284/500\n",
            "2/2 [==============================] - 0s 10ms/step - loss: 26.2004 - mae: 26.2004\n",
            "Epoch 285/500\n",
            "2/2 [==============================] - 0s 7ms/step - loss: 14.8303 - mae: 14.8303\n",
            "Epoch 286/500\n",
            "2/2 [==============================] - 0s 7ms/step - loss: 8.6702 - mae: 8.6702\n",
            "Epoch 287/500\n",
            "2/2 [==============================] - 0s 7ms/step - loss: 22.4739 - mae: 22.4739\n",
            "Epoch 288/500\n",
            "2/2 [==============================] - 0s 7ms/step - loss: 22.9192 - mae: 22.9192\n",
            "Epoch 289/500\n",
            "2/2 [==============================] - 0s 7ms/step - loss: 12.1826 - mae: 12.1826\n",
            "Epoch 290/500\n",
            "2/2 [==============================] - 0s 7ms/step - loss: 16.7425 - mae: 16.7425\n",
            "Epoch 291/500\n",
            "2/2 [==============================] - 0s 7ms/step - loss: 17.0716 - mae: 17.0716\n",
            "Epoch 292/500\n",
            "2/2 [==============================] - 0s 7ms/step - loss: 10.2335 - mae: 10.2335\n",
            "Epoch 293/500\n",
            "2/2 [==============================] - 0s 6ms/step - loss: 15.0055 - mae: 15.0055\n",
            "Epoch 294/500\n",
            "2/2 [==============================] - 0s 8ms/step - loss: 22.1606 - mae: 22.1606\n",
            "Epoch 295/500\n",
            "2/2 [==============================] - 0s 8ms/step - loss: 19.1732 - mae: 19.1732\n",
            "Epoch 296/500\n",
            "2/2 [==============================] - 0s 8ms/step - loss: 6.7083 - mae: 6.7083\n",
            "Epoch 297/500\n",
            "2/2 [==============================] - 0s 7ms/step - loss: 9.7257 - mae: 9.7257\n",
            "Epoch 298/500\n",
            "2/2 [==============================] - 0s 7ms/step - loss: 23.8634 - mae: 23.8634\n",
            "Epoch 299/500\n",
            "2/2 [==============================] - 0s 7ms/step - loss: 18.7580 - mae: 18.7580\n",
            "Epoch 300/500\n",
            "2/2 [==============================] - 0s 7ms/step - loss: 8.3021 - mae: 8.3021\n",
            "Epoch 301/500\n",
            "2/2 [==============================] - 0s 7ms/step - loss: 18.8648 - mae: 18.8648\n",
            "Epoch 302/500\n",
            "2/2 [==============================] - 0s 7ms/step - loss: 6.7966 - mae: 6.7966\n",
            "Epoch 303/500\n",
            "2/2 [==============================] - 0s 7ms/step - loss: 15.7895 - mae: 15.7895\n",
            "Epoch 304/500\n",
            "2/2 [==============================] - 0s 7ms/step - loss: 10.7298 - mae: 10.7298\n",
            "Epoch 305/500\n",
            "2/2 [==============================] - 0s 8ms/step - loss: 12.4520 - mae: 12.4520\n",
            "Epoch 306/500\n",
            "2/2 [==============================] - 0s 7ms/step - loss: 8.1991 - mae: 8.1991\n",
            "Epoch 307/500\n",
            "2/2 [==============================] - 0s 7ms/step - loss: 12.9016 - mae: 12.9016\n",
            "Epoch 308/500\n",
            "2/2 [==============================] - 0s 7ms/step - loss: 8.0587 - mae: 8.0587\n",
            "Epoch 309/500\n",
            "2/2 [==============================] - 0s 8ms/step - loss: 11.5392 - mae: 11.5392\n",
            "Epoch 310/500\n",
            "2/2 [==============================] - 0s 7ms/step - loss: 6.2586 - mae: 6.2586\n",
            "Epoch 311/500\n",
            "2/2 [==============================] - 0s 7ms/step - loss: 5.9248 - mae: 5.9248\n",
            "Epoch 312/500\n",
            "2/2 [==============================] - 0s 6ms/step - loss: 28.2820 - mae: 28.2820\n",
            "Epoch 313/500\n",
            "2/2 [==============================] - 0s 7ms/step - loss: 11.8197 - mae: 11.8197\n",
            "Epoch 314/500\n",
            "2/2 [==============================] - 0s 7ms/step - loss: 12.6014 - mae: 12.6014\n",
            "Epoch 315/500\n",
            "2/2 [==============================] - 0s 7ms/step - loss: 24.3448 - mae: 24.3448\n",
            "Epoch 316/500\n",
            "2/2 [==============================] - 0s 8ms/step - loss: 15.0920 - mae: 15.0920\n",
            "Epoch 317/500\n",
            "2/2 [==============================] - 0s 7ms/step - loss: 20.8937 - mae: 20.8937\n",
            "Epoch 318/500\n",
            "2/2 [==============================] - 0s 7ms/step - loss: 9.2735 - mae: 9.2735\n",
            "Epoch 319/500\n",
            "2/2 [==============================] - 0s 6ms/step - loss: 11.8709 - mae: 11.8709\n",
            "Epoch 320/500\n",
            "2/2 [==============================] - 0s 7ms/step - loss: 12.7290 - mae: 12.7290\n",
            "Epoch 321/500\n",
            "2/2 [==============================] - 0s 7ms/step - loss: 8.2331 - mae: 8.2331\n",
            "Epoch 322/500\n",
            "2/2 [==============================] - 0s 10ms/step - loss: 13.3698 - mae: 13.3698\n",
            "Epoch 323/500\n",
            "2/2 [==============================] - 0s 6ms/step - loss: 17.6120 - mae: 17.6120\n",
            "Epoch 324/500\n",
            "2/2 [==============================] - 0s 7ms/step - loss: 15.8665 - mae: 15.8665\n",
            "Epoch 325/500\n",
            "2/2 [==============================] - 0s 7ms/step - loss: 17.4916 - mae: 17.4916\n",
            "Epoch 326/500\n",
            "2/2 [==============================] - 0s 7ms/step - loss: 11.2011 - mae: 11.2011\n",
            "Epoch 327/500\n",
            "2/2 [==============================] - 0s 11ms/step - loss: 7.7501 - mae: 7.7501\n",
            "Epoch 328/500\n",
            "2/2 [==============================] - 0s 8ms/step - loss: 4.7841 - mae: 4.7841\n",
            "Epoch 329/500\n",
            "2/2 [==============================] - 0s 6ms/step - loss: 13.0631 - mae: 13.0631\n",
            "Epoch 330/500\n",
            "2/2 [==============================] - 0s 7ms/step - loss: 15.0825 - mae: 15.0825\n",
            "Epoch 331/500\n",
            "2/2 [==============================] - 0s 7ms/step - loss: 17.4508 - mae: 17.4508\n",
            "Epoch 332/500\n",
            "2/2 [==============================] - 0s 7ms/step - loss: 21.3146 - mae: 21.3146\n",
            "Epoch 333/500\n",
            "2/2 [==============================] - 0s 6ms/step - loss: 30.5137 - mae: 30.5137\n",
            "Epoch 334/500\n",
            "2/2 [==============================] - 0s 7ms/step - loss: 7.4628 - mae: 7.4628\n",
            "Epoch 335/500\n",
            "2/2 [==============================] - 0s 7ms/step - loss: 6.2227 - mae: 6.2227\n",
            "Epoch 336/500\n",
            "2/2 [==============================] - 0s 8ms/step - loss: 37.7069 - mae: 37.7069\n",
            "Epoch 337/500\n",
            "2/2 [==============================] - 0s 8ms/step - loss: 29.1446 - mae: 29.1446\n",
            "Epoch 338/500\n",
            "2/2 [==============================] - 0s 7ms/step - loss: 15.8071 - mae: 15.8071\n",
            "Epoch 339/500\n",
            "2/2 [==============================] - 0s 7ms/step - loss: 9.0551 - mae: 9.0551\n",
            "Epoch 340/500\n",
            "2/2 [==============================] - 0s 8ms/step - loss: 12.2371 - mae: 12.2371\n",
            "Epoch 341/500\n",
            "2/2 [==============================] - 0s 7ms/step - loss: 9.4839 - mae: 9.4839\n",
            "Epoch 342/500\n",
            "2/2 [==============================] - 0s 6ms/step - loss: 12.1237 - mae: 12.1237\n",
            "Epoch 343/500\n",
            "2/2 [==============================] - 0s 8ms/step - loss: 9.5694 - mae: 9.5694\n",
            "Epoch 344/500\n",
            "2/2 [==============================] - 0s 9ms/step - loss: 5.6120 - mae: 5.6120\n",
            "Epoch 345/500\n",
            "2/2 [==============================] - 0s 7ms/step - loss: 36.9710 - mae: 36.9710\n",
            "Epoch 346/500\n",
            "2/2 [==============================] - 0s 7ms/step - loss: 16.5930 - mae: 16.5930\n",
            "Epoch 347/500\n",
            "2/2 [==============================] - 0s 6ms/step - loss: 12.5943 - mae: 12.5943\n",
            "Epoch 348/500\n",
            "2/2 [==============================] - 0s 7ms/step - loss: 8.3051 - mae: 8.3051\n",
            "Epoch 349/500\n",
            "2/2 [==============================] - 0s 7ms/step - loss: 13.6613 - mae: 13.6613\n",
            "Epoch 350/500\n",
            "2/2 [==============================] - 0s 7ms/step - loss: 15.4695 - mae: 15.4695\n",
            "Epoch 351/500\n",
            "2/2 [==============================] - 0s 6ms/step - loss: 33.0313 - mae: 33.0313\n",
            "Epoch 352/500\n",
            "2/2 [==============================] - 0s 7ms/step - loss: 14.3029 - mae: 14.3029\n",
            "Epoch 353/500\n",
            "2/2 [==============================] - 0s 7ms/step - loss: 16.0093 - mae: 16.0093\n",
            "Epoch 354/500\n",
            "2/2 [==============================] - 0s 7ms/step - loss: 13.3644 - mae: 13.3644\n",
            "Epoch 355/500\n",
            "2/2 [==============================] - 0s 7ms/step - loss: 21.5162 - mae: 21.5162\n",
            "Epoch 356/500\n",
            "2/2 [==============================] - 0s 7ms/step - loss: 16.2337 - mae: 16.2337\n",
            "Epoch 357/500\n",
            "2/2 [==============================] - 0s 7ms/step - loss: 11.7788 - mae: 11.7788\n",
            "Epoch 358/500\n",
            "2/2 [==============================] - 0s 6ms/step - loss: 14.8644 - mae: 14.8644\n",
            "Epoch 359/500\n",
            "2/2 [==============================] - 0s 9ms/step - loss: 12.2519 - mae: 12.2519\n",
            "Epoch 360/500\n",
            "2/2 [==============================] - 0s 8ms/step - loss: 20.2193 - mae: 20.2193\n",
            "Epoch 361/500\n",
            "2/2 [==============================] - 0s 7ms/step - loss: 11.0888 - mae: 11.0888\n",
            "Epoch 362/500\n",
            "2/2 [==============================] - 0s 7ms/step - loss: 6.8169 - mae: 6.8169\n",
            "Epoch 363/500\n",
            "2/2 [==============================] - 0s 6ms/step - loss: 24.1207 - mae: 24.1207\n",
            "Epoch 364/500\n",
            "2/2 [==============================] - 0s 7ms/step - loss: 29.9261 - mae: 29.9261\n",
            "Epoch 365/500\n",
            "2/2 [==============================] - 0s 7ms/step - loss: 8.3926 - mae: 8.3926\n",
            "Epoch 366/500\n",
            "2/2 [==============================] - 0s 7ms/step - loss: 6.0804 - mae: 6.0804\n",
            "Epoch 367/500\n",
            "2/2 [==============================] - 0s 7ms/step - loss: 35.1248 - mae: 35.1248\n",
            "Epoch 368/500\n",
            "2/2 [==============================] - 0s 8ms/step - loss: 7.4390 - mae: 7.4390\n",
            "Epoch 369/500\n",
            "2/2 [==============================] - 0s 7ms/step - loss: 9.6805 - mae: 9.6805\n",
            "Epoch 370/500\n",
            "2/2 [==============================] - 0s 8ms/step - loss: 7.7838 - mae: 7.7838\n",
            "Epoch 371/500\n",
            "2/2 [==============================] - 0s 8ms/step - loss: 20.0633 - mae: 20.0633\n",
            "Epoch 372/500\n",
            "2/2 [==============================] - 0s 6ms/step - loss: 12.5202 - mae: 12.5202\n",
            "Epoch 373/500\n",
            "2/2 [==============================] - 0s 7ms/step - loss: 26.4271 - mae: 26.4271\n",
            "Epoch 374/500\n",
            "2/2 [==============================] - 0s 7ms/step - loss: 9.2424 - mae: 9.2424\n",
            "Epoch 375/500\n",
            "2/2 [==============================] - 0s 7ms/step - loss: 4.8780 - mae: 4.8780\n",
            "Epoch 376/500\n",
            "2/2 [==============================] - 0s 7ms/step - loss: 17.6259 - mae: 17.6259\n",
            "Epoch 377/500\n",
            "2/2 [==============================] - 0s 8ms/step - loss: 14.2585 - mae: 14.2585\n",
            "Epoch 378/500\n",
            "2/2 [==============================] - 0s 7ms/step - loss: 15.9082 - mae: 15.9082\n",
            "Epoch 379/500\n",
            "2/2 [==============================] - 0s 6ms/step - loss: 19.9782 - mae: 19.9782\n",
            "Epoch 380/500\n",
            "2/2 [==============================] - 0s 7ms/step - loss: 36.1793 - mae: 36.1793\n",
            "Epoch 381/500\n",
            "2/2 [==============================] - 0s 7ms/step - loss: 10.2748 - mae: 10.2748\n",
            "Epoch 382/500\n",
            "2/2 [==============================] - 0s 6ms/step - loss: 5.8737 - mae: 5.8737\n",
            "Epoch 383/500\n",
            "2/2 [==============================] - 0s 6ms/step - loss: 14.9000 - mae: 14.9000\n",
            "Epoch 384/500\n",
            "2/2 [==============================] - 0s 6ms/step - loss: 16.1317 - mae: 16.1317\n",
            "Epoch 385/500\n",
            "2/2 [==============================] - 0s 7ms/step - loss: 11.6622 - mae: 11.6622\n",
            "Epoch 386/500\n",
            "2/2 [==============================] - 0s 6ms/step - loss: 20.0543 - mae: 20.0543\n",
            "Epoch 387/500\n",
            "2/2 [==============================] - 0s 7ms/step - loss: 24.1373 - mae: 24.1373\n",
            "Epoch 388/500\n",
            "2/2 [==============================] - 0s 7ms/step - loss: 7.5494 - mae: 7.5494\n",
            "Epoch 389/500\n",
            "2/2 [==============================] - 0s 7ms/step - loss: 14.2303 - mae: 14.2303\n",
            "Epoch 390/500\n",
            "2/2 [==============================] - 0s 6ms/step - loss: 8.2520 - mae: 8.2520\n",
            "Epoch 391/500\n",
            "2/2 [==============================] - 0s 7ms/step - loss: 15.5191 - mae: 15.5191\n",
            "Epoch 392/500\n",
            "2/2 [==============================] - 0s 7ms/step - loss: 17.1609 - mae: 17.1609\n",
            "Epoch 393/500\n",
            "2/2 [==============================] - 0s 7ms/step - loss: 10.5216 - mae: 10.5216\n",
            "Epoch 394/500\n",
            "2/2 [==============================] - 0s 6ms/step - loss: 14.0717 - mae: 14.0717\n",
            "Epoch 395/500\n",
            "2/2 [==============================] - 0s 7ms/step - loss: 28.4310 - mae: 28.4310\n",
            "Epoch 396/500\n",
            "2/2 [==============================] - 0s 7ms/step - loss: 8.4816 - mae: 8.4816\n",
            "Epoch 397/500\n",
            "2/2 [==============================] - 0s 7ms/step - loss: 11.2787 - mae: 11.2787\n",
            "Epoch 398/500\n",
            "2/2 [==============================] - 0s 7ms/step - loss: 6.8837 - mae: 6.8837\n",
            "Epoch 399/500\n",
            "2/2 [==============================] - 0s 7ms/step - loss: 14.1440 - mae: 14.1440\n",
            "Epoch 400/500\n",
            "2/2 [==============================] - 0s 7ms/step - loss: 6.6823 - mae: 6.6823\n",
            "Epoch 401/500\n",
            "2/2 [==============================] - 0s 10ms/step - loss: 7.9850 - mae: 7.9850\n",
            "Epoch 402/500\n",
            "2/2 [==============================] - 0s 7ms/step - loss: 16.4366 - mae: 16.4366\n",
            "Epoch 403/500\n",
            "2/2 [==============================] - 0s 7ms/step - loss: 12.3311 - mae: 12.3311\n",
            "Epoch 404/500\n",
            "2/2 [==============================] - 0s 7ms/step - loss: 22.9150 - mae: 22.9150\n",
            "Epoch 405/500\n",
            "2/2 [==============================] - 0s 7ms/step - loss: 18.1391 - mae: 18.1391\n",
            "Epoch 406/500\n",
            "2/2 [==============================] - 0s 6ms/step - loss: 7.0293 - mae: 7.0293\n",
            "Epoch 407/500\n",
            "2/2 [==============================] - 0s 7ms/step - loss: 12.6678 - mae: 12.6678\n",
            "Epoch 408/500\n",
            "2/2 [==============================] - 0s 8ms/step - loss: 5.6339 - mae: 5.6339\n",
            "Epoch 409/500\n",
            "2/2 [==============================] - 0s 8ms/step - loss: 31.3238 - mae: 31.3238\n",
            "Epoch 410/500\n",
            "2/2 [==============================] - 0s 7ms/step - loss: 9.2131 - mae: 9.2131\n",
            "Epoch 411/500\n",
            "2/2 [==============================] - 0s 11ms/step - loss: 14.8435 - mae: 14.8435\n",
            "Epoch 412/500\n",
            "2/2 [==============================] - 0s 7ms/step - loss: 21.7118 - mae: 21.7118\n",
            "Epoch 413/500\n",
            "2/2 [==============================] - 0s 7ms/step - loss: 12.6508 - mae: 12.6508\n",
            "Epoch 414/500\n",
            "2/2 [==============================] - 0s 6ms/step - loss: 6.0133 - mae: 6.0133\n",
            "Epoch 415/500\n",
            "2/2 [==============================] - 0s 6ms/step - loss: 13.2148 - mae: 13.2148\n",
            "Epoch 416/500\n",
            "2/2 [==============================] - 0s 7ms/step - loss: 27.4143 - mae: 27.4143\n",
            "Epoch 417/500\n",
            "2/2 [==============================] - 0s 6ms/step - loss: 10.6656 - mae: 10.6656\n",
            "Epoch 418/500\n",
            "2/2 [==============================] - 0s 7ms/step - loss: 12.7979 - mae: 12.7979\n",
            "Epoch 419/500\n",
            "2/2 [==============================] - 0s 11ms/step - loss: 15.8520 - mae: 15.8520\n",
            "Epoch 420/500\n",
            "2/2 [==============================] - 0s 7ms/step - loss: 24.7174 - mae: 24.7174\n",
            "Epoch 421/500\n",
            "2/2 [==============================] - 0s 6ms/step - loss: 17.5587 - mae: 17.5587\n",
            "Epoch 422/500\n",
            "2/2 [==============================] - 0s 6ms/step - loss: 8.6780 - mae: 8.6780\n",
            "Epoch 423/500\n",
            "2/2 [==============================] - 0s 6ms/step - loss: 24.9007 - mae: 24.9007\n",
            "Epoch 424/500\n",
            "2/2 [==============================] - 0s 7ms/step - loss: 16.2814 - mae: 16.2814\n",
            "Epoch 425/500\n",
            "2/2 [==============================] - 0s 7ms/step - loss: 7.1155 - mae: 7.1155\n",
            "Epoch 426/500\n",
            "2/2 [==============================] - 0s 7ms/step - loss: 20.3955 - mae: 20.3955\n",
            "Epoch 427/500\n",
            "2/2 [==============================] - 0s 13ms/step - loss: 6.2918 - mae: 6.2918\n",
            "Epoch 428/500\n",
            "2/2 [==============================] - 0s 10ms/step - loss: 13.0636 - mae: 13.0636\n",
            "Epoch 429/500\n",
            "2/2 [==============================] - 0s 8ms/step - loss: 10.8433 - mae: 10.8433\n",
            "Epoch 430/500\n",
            "2/2 [==============================] - 0s 6ms/step - loss: 11.7089 - mae: 11.7089\n",
            "Epoch 431/500\n",
            "2/2 [==============================] - 0s 7ms/step - loss: 7.8719 - mae: 7.8719\n",
            "Epoch 432/500\n",
            "2/2 [==============================] - 0s 6ms/step - loss: 22.1351 - mae: 22.1351\n",
            "Epoch 433/500\n",
            "2/2 [==============================] - 0s 8ms/step - loss: 5.8737 - mae: 5.8737\n",
            "Epoch 434/500\n",
            "2/2 [==============================] - 0s 8ms/step - loss: 32.6601 - mae: 32.6601\n",
            "Epoch 435/500\n",
            "2/2 [==============================] - 0s 7ms/step - loss: 13.6632 - mae: 13.6632\n",
            "Epoch 436/500\n",
            "2/2 [==============================] - 0s 6ms/step - loss: 28.9050 - mae: 28.9050\n",
            "Epoch 437/500\n",
            "2/2 [==============================] - 0s 6ms/step - loss: 8.5762 - mae: 8.5762\n",
            "Epoch 438/500\n",
            "2/2 [==============================] - 0s 6ms/step - loss: 12.7149 - mae: 12.7149\n",
            "Epoch 439/500\n",
            "2/2 [==============================] - 0s 7ms/step - loss: 33.6880 - mae: 33.6880\n",
            "Epoch 440/500\n",
            "2/2 [==============================] - 0s 6ms/step - loss: 15.0769 - mae: 15.0769\n",
            "Epoch 441/500\n",
            "2/2 [==============================] - 0s 7ms/step - loss: 17.4618 - mae: 17.4618\n",
            "Epoch 442/500\n",
            "2/2 [==============================] - 0s 7ms/step - loss: 22.2959 - mae: 22.2959\n",
            "Epoch 443/500\n",
            "2/2 [==============================] - 0s 7ms/step - loss: 23.5996 - mae: 23.5996\n",
            "Epoch 444/500\n",
            "2/2 [==============================] - 0s 6ms/step - loss: 10.9933 - mae: 10.9933\n",
            "Epoch 445/500\n",
            "2/2 [==============================] - 0s 6ms/step - loss: 14.8908 - mae: 14.8908\n",
            "Epoch 446/500\n",
            "2/2 [==============================] - 0s 6ms/step - loss: 17.9607 - mae: 17.9607\n",
            "Epoch 447/500\n",
            "2/2 [==============================] - 0s 7ms/step - loss: 5.4101 - mae: 5.4101\n",
            "Epoch 448/500\n",
            "2/2 [==============================] - 0s 7ms/step - loss: 9.9968 - mae: 9.9968\n",
            "Epoch 449/500\n",
            "2/2 [==============================] - 0s 7ms/step - loss: 13.9608 - mae: 13.9608\n",
            "Epoch 450/500\n",
            "2/2 [==============================] - 0s 7ms/step - loss: 16.7265 - mae: 16.7265\n",
            "Epoch 451/500\n",
            "2/2 [==============================] - 0s 9ms/step - loss: 14.2545 - mae: 14.2545\n",
            "Epoch 452/500\n",
            "2/2 [==============================] - 0s 7ms/step - loss: 30.5862 - mae: 30.5862\n",
            "Epoch 453/500\n",
            "2/2 [==============================] - 0s 6ms/step - loss: 7.6069 - mae: 7.6069\n",
            "Epoch 454/500\n",
            "2/2 [==============================] - 0s 7ms/step - loss: 28.0891 - mae: 28.0891\n",
            "Epoch 455/500\n",
            "2/2 [==============================] - 0s 7ms/step - loss: 8.3113 - mae: 8.3113\n",
            "Epoch 456/500\n",
            "2/2 [==============================] - 0s 6ms/step - loss: 12.0057 - mae: 12.0057\n",
            "Epoch 457/500\n",
            "2/2 [==============================] - 0s 7ms/step - loss: 15.4113 - mae: 15.4113\n",
            "Epoch 458/500\n",
            "2/2 [==============================] - 0s 7ms/step - loss: 16.9612 - mae: 16.9612\n",
            "Epoch 459/500\n",
            "2/2 [==============================] - 0s 7ms/step - loss: 3.0651 - mae: 3.0651\n",
            "Epoch 460/500\n",
            "2/2 [==============================] - 0s 6ms/step - loss: 12.4751 - mae: 12.4751\n",
            "Epoch 461/500\n",
            "2/2 [==============================] - 0s 7ms/step - loss: 12.4613 - mae: 12.4613\n",
            "Epoch 462/500\n",
            "2/2 [==============================] - 0s 7ms/step - loss: 13.3332 - mae: 13.3332\n",
            "Epoch 463/500\n",
            "2/2 [==============================] - 0s 7ms/step - loss: 29.5911 - mae: 29.5911\n",
            "Epoch 464/500\n",
            "2/2 [==============================] - 0s 6ms/step - loss: 3.3830 - mae: 3.3830\n",
            "Epoch 465/500\n",
            "2/2 [==============================] - 0s 6ms/step - loss: 15.2123 - mae: 15.2123\n",
            "Epoch 466/500\n",
            "2/2 [==============================] - 0s 7ms/step - loss: 20.7815 - mae: 20.7815\n",
            "Epoch 467/500\n",
            "2/2 [==============================] - 0s 6ms/step - loss: 30.6939 - mae: 30.6939\n",
            "Epoch 468/500\n",
            "2/2 [==============================] - 0s 6ms/step - loss: 11.0982 - mae: 11.0982\n",
            "Epoch 469/500\n",
            "2/2 [==============================] - 0s 7ms/step - loss: 12.9324 - mae: 12.9324\n",
            "Epoch 470/500\n",
            "2/2 [==============================] - 0s 7ms/step - loss: 3.4708 - mae: 3.4708\n",
            "Epoch 471/500\n",
            "2/2 [==============================] - 0s 7ms/step - loss: 42.2558 - mae: 42.2558\n",
            "Epoch 472/500\n",
            "2/2 [==============================] - 0s 6ms/step - loss: 3.8224 - mae: 3.8224\n",
            "Epoch 473/500\n",
            "2/2 [==============================] - 0s 6ms/step - loss: 16.0854 - mae: 16.0854\n",
            "Epoch 474/500\n",
            "2/2 [==============================] - 0s 6ms/step - loss: 39.0763 - mae: 39.0763\n",
            "Epoch 475/500\n",
            "2/2 [==============================] - 0s 6ms/step - loss: 15.8519 - mae: 15.8519\n",
            "Epoch 476/500\n",
            "2/2 [==============================] - 0s 6ms/step - loss: 13.4495 - mae: 13.4495\n",
            "Epoch 477/500\n",
            "2/2 [==============================] - 0s 13ms/step - loss: 29.8170 - mae: 29.8170\n",
            "Epoch 478/500\n",
            "2/2 [==============================] - 0s 10ms/step - loss: 4.2773 - mae: 4.2773\n",
            "Epoch 479/500\n",
            "2/2 [==============================] - 0s 7ms/step - loss: 13.5880 - mae: 13.5880\n",
            "Epoch 480/500\n",
            "2/2 [==============================] - 0s 7ms/step - loss: 20.2419 - mae: 20.2419\n",
            "Epoch 481/500\n",
            "2/2 [==============================] - 0s 6ms/step - loss: 24.5334 - mae: 24.5334\n",
            "Epoch 482/500\n",
            "2/2 [==============================] - 0s 6ms/step - loss: 13.2746 - mae: 13.2746\n",
            "Epoch 483/500\n",
            "2/2 [==============================] - 0s 6ms/step - loss: 8.7792 - mae: 8.7792\n",
            "Epoch 484/500\n",
            "2/2 [==============================] - 0s 7ms/step - loss: 27.9342 - mae: 27.9342\n",
            "Epoch 485/500\n",
            "2/2 [==============================] - 0s 7ms/step - loss: 8.6552 - mae: 8.6552\n",
            "Epoch 486/500\n",
            "2/2 [==============================] - 0s 6ms/step - loss: 5.3756 - mae: 5.3756\n",
            "Epoch 487/500\n",
            "2/2 [==============================] - 0s 6ms/step - loss: 11.9459 - mae: 11.9459\n",
            "Epoch 488/500\n",
            "2/2 [==============================] - 0s 8ms/step - loss: 27.4695 - mae: 27.4695\n",
            "Epoch 489/500\n",
            "2/2 [==============================] - 0s 6ms/step - loss: 5.4698 - mae: 5.4698\n",
            "Epoch 490/500\n",
            "2/2 [==============================] - 0s 6ms/step - loss: 6.1342 - mae: 6.1342\n",
            "Epoch 491/500\n",
            "2/2 [==============================] - 0s 7ms/step - loss: 19.6446 - mae: 19.6446\n",
            "Epoch 492/500\n",
            "2/2 [==============================] - 0s 7ms/step - loss: 6.7098 - mae: 6.7098\n",
            "Epoch 493/500\n",
            "2/2 [==============================] - 0s 7ms/step - loss: 18.5993 - mae: 18.5993\n",
            "Epoch 494/500\n",
            "2/2 [==============================] - 0s 7ms/step - loss: 18.9905 - mae: 18.9905\n",
            "Epoch 495/500\n",
            "2/2 [==============================] - 0s 7ms/step - loss: 5.7992 - mae: 5.7992\n",
            "Epoch 496/500\n",
            "2/2 [==============================] - 0s 8ms/step - loss: 6.0022 - mae: 6.0022\n",
            "Epoch 497/500\n",
            "2/2 [==============================] - 0s 7ms/step - loss: 12.8291 - mae: 12.8291\n",
            "Epoch 498/500\n",
            "2/2 [==============================] - 0s 6ms/step - loss: 6.3997 - mae: 6.3997\n",
            "Epoch 499/500\n",
            "2/2 [==============================] - 0s 7ms/step - loss: 16.3099 - mae: 16.3099\n",
            "Epoch 500/500\n",
            "2/2 [==============================] - 0s 6ms/step - loss: 14.2697 - mae: 14.2697\n"
          ]
        },
        {
          "output_type": "execute_result",
          "data": {
            "text/plain": [
              "<keras.callbacks.History at 0x7f3005ca00d0>"
            ]
          },
          "metadata": {},
          "execution_count": 61
        }
      ]
    },
    {
      "cell_type": "code",
      "source": [
        "y_pred_3 = model_3.predict(y_pred)\n",
        "plot_predictions(predictions=y_pred_3)"
      ],
      "metadata": {
        "colab": {
          "base_uri": "https://localhost:8080/",
          "height": 616
        },
        "id": "2w7I0MIsXch5",
        "outputId": "a7909a04-6031-43bf-cd85-dfbc56058404"
      },
      "execution_count": 62,
      "outputs": [
        {
          "output_type": "stream",
          "name": "stdout",
          "text": [
            "1/1 [==============================] - 0s 109ms/step\n"
          ]
        },
        {
          "output_type": "display_data",
          "data": {
            "text/plain": [
              "<Figure size 1000x700 with 1 Axes>"
            ],
            "image/png": "[encoded data removed]"
          },
          "metadata": {}
        }
      ]
    },
    {
      "cell_type": "code",
      "source": [
        "mae_3=mae(y_test,tf.squeeze(y_pred_3))\n",
        "mse_3=mse(y_test,tf.squeeze(y_pred_3))\n",
        "mae_3,mse_3"
      ],
      "metadata": {
        "colab": {
          "base_uri": "https://localhost:8080/"
        },
        "id": "47CdqfzBX-Vt",
        "outputId": "b62f5b36-86dc-433c-d5c7-5edd36be5f6d"
      },
      "execution_count": 63,
      "outputs": [
        {
          "output_type": "execute_result",
          "data": {
            "text/plain": [
              "(<tf.Tensor: shape=(), dtype=float32, numpy=66.995575>,\n",
              " <tf.Tensor: shape=(), dtype=float32, numpy=4575.927>)"
            ]
          },
          "metadata": {},
          "execution_count": 63
        }
      ]
    },
    {
      "cell_type": "markdown",
      "source": [
        "## Compare models"
      ],
      "metadata": {
        "id": "xGDcMu9OYI5r"
      }
    },
    {
      "cell_type": "code",
      "source": [
        "import pandas as pd\n",
        "model_results = [[\"model_1\", mae_1.numpy(),mse_1.numpy()],\n",
        "                 [\"model_2\", mae_2.numpy(),mse_2.numpy()],\n",
        "                 [\"model_3\", mae_3.numpy(),mse_3.numpy()]]"
      ],
      "metadata": {
        "id": "lJ2CBlltYLb4"
      },
      "execution_count": 64,
      "outputs": []
    },
    {
      "cell_type": "code",
      "source": [
        "all_results = pd.DataFrame(model_results, columns=['model','mae','mse'])\n",
        "all_results"
      ],
      "metadata": {
        "colab": {
          "base_uri": "https://localhost:8080/",
          "height": 143
        },
        "id": "psu6RSEOYfXu",
        "outputId": "24ca96c5-247b-4e0e-c524-2eb21f091ce8"
      },
      "execution_count": 65,
      "outputs": [
        {
          "output_type": "execute_result",
          "data": {
            "text/plain": [
              "     model        mae          mse\n",
              "0  model_1   5.719151    33.547436\n",
              "1  model_2  13.452887   191.144363\n",
              "2  model_3  66.995575  4575.926758"
            ],
            "text/html": [
              "\n",
              "  <div id=\"df-f5e1885b-fc07-4920-ad23-c402a25d0d16\">\n",
              "    <div class=\"colab-df-container\">\n",
              "      <div>\n",
              "<style scoped>\n",
              "    .dataframe tbody tr th:only-of-type {\n",
              "        vertical-align: middle;\n",
              "    }\n",
              "\n",
              "    .dataframe tbody tr th {\n",
              "        vertical-align: top;\n",
              "    }\n",
              "\n",
              "    .dataframe thead th {\n",
              "        text-align: right;\n",
              "    }\n",
              "</style>\n",
              "<table border=\"1\" class=\"dataframe\">\n",
              "  <thead>\n",
              "    <tr style=\"text-align: right;\">\n",
              "      <th></th>\n",
              "      <th>model</th>\n",
              "      <th>mae</th>\n",
              "      <th>mse</th>\n",
              "    </tr>\n",
              "  </thead>\n",
              "  <tbody>\n",
              "    <tr>\n",
              "      <th>0</th>\n",
              "      <td>model_1</td>\n",
              "      <td>5.719151</td>\n",
              "      <td>33.547436</td>\n",
              "    </tr>\n",
              "    <tr>\n",
              "      <th>1</th>\n",
              "      <td>model_2</td>\n",
              "      <td>13.452887</td>\n",
              "      <td>191.144363</td>\n",
              "    </tr>\n",
              "    <tr>\n",
              "      <th>2</th>\n",
              "      <td>model_3</td>\n",
              "      <td>66.995575</td>\n",
              "      <td>4575.926758</td>\n",
              "    </tr>\n",
              "  </tbody>\n",
              "</table>\n",
              "</div>\n",
              "      <button class=\"colab-df-convert\" onclick=\"convertToInteractive('df-f5e1885b-fc07-4920-ad23-c402a25d0d16')\"\n",
              "              title=\"Convert this dataframe to an interactive table.\"\n",
              "              style=\"display:none;\">\n",
              "        \n",
              "  <svg xmlns=\"http://www.w3.org/2000/svg\" height=\"24px\"viewBox=\"0 0 24 24\"\n",
              "       width=\"24px\">\n",
              "    <path d=\"M0 0h24v24H0V0z\" fill=\"none\"/>\n",
              "    <path d=\"M18.56 5.44l.94 2.06.94-2.06 2.06-.94-2.06-.94-.94-2.06-.94 2.06-2.06.94zm-11 1L8.5 8.5l.94-2.06 2.06-.94-2.06-.94L8.5 2.5l-.94 2.06-2.06.94zm10 10l.94 2.06.94-2.06 2.06-.94-2.06-.94-.94-2.06-.94 2.06-2.06.94z\"/><path d=\"M17.41 7.96l-1.37-1.37c-.4-.4-.92-.59-1.43-.59-.52 0-1.04.2-1.43.59L10.3 9.45l-7.72 7.72c-.78.78-.78 2.05 0 2.83L4 21.41c.39.39.9.59 1.41.59.51 0 1.02-.2 1.41-.59l7.78-7.78 2.81-2.81c.8-.78.8-2.07 0-2.86zM5.41 20L4 18.59l7.72-7.72 1.47 1.35L5.41 20z\"/>\n",
              "  </svg>\n",
              "      </button>\n",
              "      \n",
              "  <style>\n",
              "    .colab-df-container {\n",
              "      display:flex;\n",
              "      flex-wrap:wrap;\n",
              "      gap: 12px;\n",
              "    }\n",
              "\n",
              "    .colab-df-convert {\n",
              "      background-color: #E8F0FE;\n",
              "      border: none;\n",
              "      border-radius: 50%;\n",
              "      cursor: pointer;\n",
              "      display: none;\n",
              "      fill: #1967D2;\n",
              "      height: 32px;\n",
              "      padding: 0 0 0 0;\n",
              "      width: 32px;\n",
              "    }\n",
              "\n",
              "    .colab-df-convert:hover {\n",
              "      background-color: #E2EBFA;\n",
              "      box-shadow: 0px 1px 2px rgba(60, 64, 67, 0.3), 0px 1px 3px 1px rgba(60, 64, 67, 0.15);\n",
              "      fill: #174EA6;\n",
              "    }\n",
              "\n",
              "    [theme=dark] .colab-df-convert {\n",
              "      background-color: #3B4455;\n",
              "      fill: #D2E3FC;\n",
              "    }\n",
              "\n",
              "    [theme=dark] .colab-df-convert:hover {\n",
              "      background-color: #434B5C;\n",
              "      box-shadow: 0px 1px 3px 1px rgba(0, 0, 0, 0.15);\n",
              "      filter: drop-shadow(0px 1px 2px rgba(0, 0, 0, 0.3));\n",
              "      fill: #FFFFFF;\n",
              "    }\n",
              "  </style>\n",
              "\n",
              "      <script>\n",
              "        const buttonEl =\n",
              "          document.querySelector('#df-f5e1885b-fc07-4920-ad23-c402a25d0d16 button.colab-df-convert');\n",
              "        buttonEl.style.display =\n",
              "          google.colab.kernel.accessAllowed ? 'block' : 'none';\n",
              "\n",
              "        async function convertToInteractive(key) {\n",
              "          const element = document.querySelector('#df-f5e1885b-fc07-4920-ad23-c402a25d0d16');\n",
              "          const dataTable =\n",
              "            await google.colab.kernel.invokeFunction('convertToInteractive',\n",
              "                                                     [key], {});\n",
              "          if (!dataTable) return;\n",
              "\n",
              "          const docLinkHtml = 'Like what you see? Visit the ' +\n",
              "            '<a target=\"_blank\" href=https://colab.research.google.com/notebooks/data_table.ipynb>data table notebook</a>'\n",
              "            + ' to learn more about interactive tables.';\n",
              "          element.innerHTML = '';\n",
              "          dataTable['output_type'] = 'display_data';\n",
              "          await google.colab.output.renderOutput(dataTable, element);\n",
              "          const docLink = document.createElement('div');\n",
              "          docLink.innerHTML = docLinkHtml;\n",
              "          element.appendChild(docLink);\n",
              "        }\n",
              "      </script>\n",
              "    </div>\n",
              "  </div>\n",
              "  "
            ]
          },
          "metadata": {},
          "execution_count": 65
        }
      ]
    },
    {
      "cell_type": "code",
      "source": [
        "model_2.summary()"
      ],
      "metadata": {
        "colab": {
          "base_uri": "https://localhost:8080/"
        },
        "id": "z-aPlMDsY9oU",
        "outputId": "47f1e976-dd70-4a87-ab7f-4df899eeebb4"
      },
      "execution_count": 66,
      "outputs": [
        {
          "output_type": "stream",
          "name": "stdout",
          "text": [
            "Model: \"sequential_5\"\n",
            "_________________________________________________________________\n",
            " Layer (type)                Output Shape              Param #   \n",
            "=================================================================\n",
            " dense_6 (Dense)             (None, 10)                20        \n",
            "                                                                 \n",
            " dense_7 (Dense)             (None, 1)                 11        \n",
            "                                                                 \n",
            "=================================================================\n",
            "Total params: 31\n",
            "Trainable params: 31\n",
            "Non-trainable params: 0\n",
            "_________________________________________________________________\n"
          ]
        }
      ]
    },
    {
      "cell_type": "code",
      "source": [
        "model_2.save(\"best_model\")"
      ],
      "metadata": {
        "colab": {
          "base_uri": "https://localhost:8080/"
        },
        "id": "AZiQB3-Ha34V",
        "outputId": "98ce68d5-5147-45c1-923d-fdf95acd7834"
      },
      "execution_count": 67,
      "outputs": [
        {
          "output_type": "stream",
          "name": "stderr",
          "text": [
            "WARNING:absl:Found untraced functions such as _update_step_xla while saving (showing 1 of 1). These functions will not be directly callable after loading.\n"
          ]
        }
      ]
    },
    {
      "cell_type": "code",
      "source": [
        "model_2.save('best_model.h5')"
      ],
      "metadata": {
        "id": "3wYRcJfQbGFj"
      },
      "execution_count": 68,
      "outputs": []
    },
    {
      "cell_type": "code",
      "source": [
        "loaded_model = tf.keras.models.load_model('/content/best_model')"
      ],
      "metadata": {
        "id": "fTwIP7uPb0YO"
      },
      "execution_count": 69,
      "outputs": []
    },
    {
      "cell_type": "code",
      "source": [
        "loaded_model.summary()"
      ],
      "metadata": {
        "colab": {
          "base_uri": "https://localhost:8080/"
        },
        "id": "IidEZ9hLcDvo",
        "outputId": "470cb9bb-953d-40ff-c447-5a635d7ccddd"
      },
      "execution_count": 70,
      "outputs": [
        {
          "output_type": "stream",
          "name": "stdout",
          "text": [
            "Model: \"sequential_5\"\n",
            "_________________________________________________________________\n",
            " Layer (type)                Output Shape              Param #   \n",
            "=================================================================\n",
            " dense_6 (Dense)             (None, 10)                20        \n",
            "                                                                 \n",
            " dense_7 (Dense)             (None, 1)                 11        \n",
            "                                                                 \n",
            "=================================================================\n",
            "Total params: 31\n",
            "Trainable params: 31\n",
            "Non-trainable params: 0\n",
            "_________________________________________________________________\n"
          ]
        }
      ]
    },
    {
      "cell_type": "markdown",
      "source": [
        "## Medical cost dataset"
      ],
      "metadata": {
        "id": "tJNasP5McF19"
      }
    },
    {
      "cell_type": "code",
      "source": [
        "import tensorflow as tf\n",
        "import pandas as pd\n",
        "import matplotlib.pyplot as plt\n",
        "from sklearn.model_selection import train_test_split"
      ],
      "metadata": {
        "id": "4qmQ6lkgjHKu"
      },
      "execution_count": 71,
      "outputs": []
    },
    {
      "cell_type": "code",
      "source": [
        "insurance = pd.read_csv('https://raw.githubusercontent.com/stedy/Machine-Learning-with-R-datasets/master/insurance.csv')\n",
        "insurance"
      ],
      "metadata": {
        "colab": {
          "base_uri": "https://localhost:8080/",
          "height": 424
        },
        "id": "IlHZvcpjjlQb",
        "outputId": "d2e70039-d458-40ad-d68a-dd2e8b4f2730"
      },
      "execution_count": 72,
      "outputs": [
        {
          "output_type": "execute_result",
          "data": {
            "text/plain": [
              "      age     sex     bmi  children smoker     region      charges\n",
              "0      19  female  27.900         0    yes  southwest  16884.92400\n",
              "1      18    male  33.770         1     no  southeast   1725.55230\n",
              "2      28    male  33.000         3     no  southeast   4449.46200\n",
              "3      33    male  22.705         0     no  northwest  21984.47061\n",
              "4      32    male  28.880         0     no  northwest   3866.85520\n",
              "...   ...     ...     ...       ...    ...        ...          ...\n",
              "1333   50    male  30.970         3     no  northwest  10600.54830\n",
              "1334   18  female  31.920         0     no  northeast   2205.98080\n",
              "1335   18  female  36.850         0     no  southeast   1629.83350\n",
              "1336   21  female  25.800         0     no  southwest   2007.94500\n",
              "1337   61  female  29.070         0    yes  northwest  29141.36030\n",
              "\n",
              "[1338 rows x 7 columns]"
            ],
            "text/html": [
              "\n",
              "  <div id=\"df-2bde38df-9776-45f6-adfd-f4cf2ee29026\">\n",
              "    <div class=\"colab-df-container\">\n",
              "      <div>\n",
              "<style scoped>\n",
              "    .dataframe tbody tr th:only-of-type {\n",
              "        vertical-align: middle;\n",
              "    }\n",
              "\n",
              "    .dataframe tbody tr th {\n",
              "        vertical-align: top;\n",
              "    }\n",
              "\n",
              "    .dataframe thead th {\n",
              "        text-align: right;\n",
              "    }\n",
              "</style>\n",
              "<table border=\"1\" class=\"dataframe\">\n",
              "  <thead>\n",
              "    <tr style=\"text-align: right;\">\n",
              "      <th></th>\n",
              "      <th>age</th>\n",
              "      <th>sex</th>\n",
              "      <th>bmi</th>\n",
              "      <th>children</th>\n",
              "      <th>smoker</th>\n",
              "      <th>region</th>\n",
              "      <th>charges</th>\n",
              "    </tr>\n",
              "  </thead>\n",
              "  <tbody>\n",
              "    <tr>\n",
              "      <th>0</th>\n",
              "      <td>19</td>\n",
              "      <td>female</td>\n",
              "      <td>27.900</td>\n",
              "      <td>0</td>\n",
              "      <td>yes</td>\n",
              "      <td>southwest</td>\n",
              "      <td>16884.92400</td>\n",
              "    </tr>\n",
              "    <tr>\n",
              "      <th>1</th>\n",
              "      <td>18</td>\n",
              "      <td>male</td>\n",
              "      <td>33.770</td>\n",
              "      <td>1</td>\n",
              "      <td>no</td>\n",
              "      <td>southeast</td>\n",
              "      <td>1725.55230</td>\n",
              "    </tr>\n",
              "    <tr>\n",
              "      <th>2</th>\n",
              "      <td>28</td>\n",
              "      <td>male</td>\n",
              "      <td>33.000</td>\n",
              "      <td>3</td>\n",
              "      <td>no</td>\n",
              "      <td>southeast</td>\n",
              "      <td>4449.46200</td>\n",
              "    </tr>\n",
              "    <tr>\n",
              "      <th>3</th>\n",
              "      <td>33</td>\n",
              "      <td>male</td>\n",
              "      <td>22.705</td>\n",
              "      <td>0</td>\n",
              "      <td>no</td>\n",
              "      <td>northwest</td>\n",
              "      <td>21984.47061</td>\n",
              "    </tr>\n",
              "    <tr>\n",
              "      <th>4</th>\n",
              "      <td>32</td>\n",
              "      <td>male</td>\n",
              "      <td>28.880</td>\n",
              "      <td>0</td>\n",
              "      <td>no</td>\n",
              "      <td>northwest</td>\n",
              "      <td>3866.85520</td>\n",
              "    </tr>\n",
              "    <tr>\n",
              "      <th>...</th>\n",
              "      <td>...</td>\n",
              "      <td>...</td>\n",
              "      <td>...</td>\n",
              "      <td>...</td>\n",
              "      <td>...</td>\n",
              "      <td>...</td>\n",
              "      <td>...</td>\n",
              "    </tr>\n",
              "    <tr>\n",
              "      <th>1333</th>\n",
              "      <td>50</td>\n",
              "      <td>male</td>\n",
              "      <td>30.970</td>\n",
              "      <td>3</td>\n",
              "      <td>no</td>\n",
              "      <td>northwest</td>\n",
              "      <td>10600.54830</td>\n",
              "    </tr>\n",
              "    <tr>\n",
              "      <th>1334</th>\n",
              "      <td>18</td>\n",
              "      <td>female</td>\n",
              "      <td>31.920</td>\n",
              "      <td>0</td>\n",
              "      <td>no</td>\n",
              "      <td>northeast</td>\n",
              "      <td>2205.98080</td>\n",
              "    </tr>\n",
              "    <tr>\n",
              "      <th>1335</th>\n",
              "      <td>18</td>\n",
              "      <td>female</td>\n",
              "      <td>36.850</td>\n",
              "      <td>0</td>\n",
              "      <td>no</td>\n",
              "      <td>southeast</td>\n",
              "      <td>1629.83350</td>\n",
              "    </tr>\n",
              "    <tr>\n",
              "      <th>1336</th>\n",
              "      <td>21</td>\n",
              "      <td>female</td>\n",
              "      <td>25.800</td>\n",
              "      <td>0</td>\n",
              "      <td>no</td>\n",
              "      <td>southwest</td>\n",
              "      <td>2007.94500</td>\n",
              "    </tr>\n",
              "    <tr>\n",
              "      <th>1337</th>\n",
              "      <td>61</td>\n",
              "      <td>female</td>\n",
              "      <td>29.070</td>\n",
              "      <td>0</td>\n",
              "      <td>yes</td>\n",
              "      <td>northwest</td>\n",
              "      <td>29141.36030</td>\n",
              "    </tr>\n",
              "  </tbody>\n",
              "</table>\n",
              "<p>1338 rows × 7 columns</p>\n",
              "</div>\n",
              "      <button class=\"colab-df-convert\" onclick=\"convertToInteractive('df-2bde38df-9776-45f6-adfd-f4cf2ee29026')\"\n",
              "              title=\"Convert this dataframe to an interactive table.\"\n",
              "              style=\"display:none;\">\n",
              "        \n",
              "  <svg xmlns=\"http://www.w3.org/2000/svg\" height=\"24px\"viewBox=\"0 0 24 24\"\n",
              "       width=\"24px\">\n",
              "    <path d=\"M0 0h24v24H0V0z\" fill=\"none\"/>\n",
              "    <path d=\"M18.56 5.44l.94 2.06.94-2.06 2.06-.94-2.06-.94-.94-2.06-.94 2.06-2.06.94zm-11 1L8.5 8.5l.94-2.06 2.06-.94-2.06-.94L8.5 2.5l-.94 2.06-2.06.94zm10 10l.94 2.06.94-2.06 2.06-.94-2.06-.94-.94-2.06-.94 2.06-2.06.94z\"/><path d=\"M17.41 7.96l-1.37-1.37c-.4-.4-.92-.59-1.43-.59-.52 0-1.04.2-1.43.59L10.3 9.45l-7.72 7.72c-.78.78-.78 2.05 0 2.83L4 21.41c.39.39.9.59 1.41.59.51 0 1.02-.2 1.41-.59l7.78-7.78 2.81-2.81c.8-.78.8-2.07 0-2.86zM5.41 20L4 18.59l7.72-7.72 1.47 1.35L5.41 20z\"/>\n",
              "  </svg>\n",
              "      </button>\n",
              "      \n",
              "  <style>\n",
              "    .colab-df-container {\n",
              "      display:flex;\n",
              "      flex-wrap:wrap;\n",
              "      gap: 12px;\n",
              "    }\n",
              "\n",
              "    .colab-df-convert {\n",
              "      background-color: #E8F0FE;\n",
              "      border: none;\n",
              "      border-radius: 50%;\n",
              "      cursor: pointer;\n",
              "      display: none;\n",
              "      fill: #1967D2;\n",
              "      height: 32px;\n",
              "      padding: 0 0 0 0;\n",
              "      width: 32px;\n",
              "    }\n",
              "\n",
              "    .colab-df-convert:hover {\n",
              "      background-color: #E2EBFA;\n",
              "      box-shadow: 0px 1px 2px rgba(60, 64, 67, 0.3), 0px 1px 3px 1px rgba(60, 64, 67, 0.15);\n",
              "      fill: #174EA6;\n",
              "    }\n",
              "\n",
              "    [theme=dark] .colab-df-convert {\n",
              "      background-color: #3B4455;\n",
              "      fill: #D2E3FC;\n",
              "    }\n",
              "\n",
              "    [theme=dark] .colab-df-convert:hover {\n",
              "      background-color: #434B5C;\n",
              "      box-shadow: 0px 1px 3px 1px rgba(0, 0, 0, 0.15);\n",
              "      filter: drop-shadow(0px 1px 2px rgba(0, 0, 0, 0.3));\n",
              "      fill: #FFFFFF;\n",
              "    }\n",
              "  </style>\n",
              "\n",
              "      <script>\n",
              "        const buttonEl =\n",
              "          document.querySelector('#df-2bde38df-9776-45f6-adfd-f4cf2ee29026 button.colab-df-convert');\n",
              "        buttonEl.style.display =\n",
              "          google.colab.kernel.accessAllowed ? 'block' : 'none';\n",
              "\n",
              "        async function convertToInteractive(key) {\n",
              "          const element = document.querySelector('#df-2bde38df-9776-45f6-adfd-f4cf2ee29026');\n",
              "          const dataTable =\n",
              "            await google.colab.kernel.invokeFunction('convertToInteractive',\n",
              "                                                     [key], {});\n",
              "          if (!dataTable) return;\n",
              "\n",
              "          const docLinkHtml = 'Like what you see? Visit the ' +\n",
              "            '<a target=\"_blank\" href=https://colab.research.google.com/notebooks/data_table.ipynb>data table notebook</a>'\n",
              "            + ' to learn more about interactive tables.';\n",
              "          element.innerHTML = '';\n",
              "          dataTable['output_type'] = 'display_data';\n",
              "          await google.colab.output.renderOutput(dataTable, element);\n",
              "          const docLink = document.createElement('div');\n",
              "          docLink.innerHTML = docLinkHtml;\n",
              "          element.appendChild(docLink);\n",
              "        }\n",
              "      </script>\n",
              "    </div>\n",
              "  </div>\n",
              "  "
            ]
          },
          "metadata": {},
          "execution_count": 72
        }
      ]
    },
    {
      "cell_type": "code",
      "source": [
        "insurance_one_hot = pd.get_dummies(insurance)\n",
        "insurance_one_hot.head()"
      ],
      "metadata": {
        "colab": {
          "base_uri": "https://localhost:8080/",
          "height": 206
        },
        "id": "neqVjhnrkZ7R",
        "outputId": "94ce54a9-4bc9-46c5-b514-788ae19d7eed"
      },
      "execution_count": 73,
      "outputs": [
        {
          "output_type": "execute_result",
          "data": {
            "text/plain": [
              "   age     bmi  children      charges  sex_female  sex_male  smoker_no  \\\n",
              "0   19  27.900         0  16884.92400           1         0          0   \n",
              "1   18  33.770         1   1725.55230           0         1          1   \n",
              "2   28  33.000         3   4449.46200           0         1          1   \n",
              "3   33  22.705         0  21984.47061           0         1          1   \n",
              "4   32  28.880         0   3866.85520           0         1          1   \n",
              "\n",
              "   smoker_yes  region_northeast  region_northwest  region_southeast  \\\n",
              "0           1                 0                 0                 0   \n",
              "1           0                 0                 0                 1   \n",
              "2           0                 0                 0                 1   \n",
              "3           0                 0                 1                 0   \n",
              "4           0                 0                 1                 0   \n",
              "\n",
              "   region_southwest  \n",
              "0                 1  \n",
              "1                 0  \n",
              "2                 0  \n",
              "3                 0  \n",
              "4                 0  "
            ],
            "text/html": [
              "\n",
              "  <div id=\"df-5a1f17f5-d146-4425-8d3e-1c72d2670347\">\n",
              "    <div class=\"colab-df-container\">\n",
              "      <div>\n",
              "<style scoped>\n",
              "    .dataframe tbody tr th:only-of-type {\n",
              "        vertical-align: middle;\n",
              "    }\n",
              "\n",
              "    .dataframe tbody tr th {\n",
              "        vertical-align: top;\n",
              "    }\n",
              "\n",
              "    .dataframe thead th {\n",
              "        text-align: right;\n",
              "    }\n",
              "</style>\n",
              "<table border=\"1\" class=\"dataframe\">\n",
              "  <thead>\n",
              "    <tr style=\"text-align: right;\">\n",
              "      <th></th>\n",
              "      <th>age</th>\n",
              "      <th>bmi</th>\n",
              "      <th>children</th>\n",
              "      <th>charges</th>\n",
              "      <th>sex_female</th>\n",
              "      <th>sex_male</th>\n",
              "      <th>smoker_no</th>\n",
              "      <th>smoker_yes</th>\n",
              "      <th>region_northeast</th>\n",
              "      <th>region_northwest</th>\n",
              "      <th>region_southeast</th>\n",
              "      <th>region_southwest</th>\n",
              "    </tr>\n",
              "  </thead>\n",
              "  <tbody>\n",
              "    <tr>\n",
              "      <th>0</th>\n",
              "      <td>19</td>\n",
              "      <td>27.900</td>\n",
              "      <td>0</td>\n",
              "      <td>16884.92400</td>\n",
              "      <td>1</td>\n",
              "      <td>0</td>\n",
              "      <td>0</td>\n",
              "      <td>1</td>\n",
              "      <td>0</td>\n",
              "      <td>0</td>\n",
              "      <td>0</td>\n",
              "      <td>1</td>\n",
              "    </tr>\n",
              "    <tr>\n",
              "      <th>1</th>\n",
              "      <td>18</td>\n",
              "      <td>33.770</td>\n",
              "      <td>1</td>\n",
              "      <td>1725.55230</td>\n",
              "      <td>0</td>\n",
              "      <td>1</td>\n",
              "      <td>1</td>\n",
              "      <td>0</td>\n",
              "      <td>0</td>\n",
              "      <td>0</td>\n",
              "      <td>1</td>\n",
              "      <td>0</td>\n",
              "    </tr>\n",
              "    <tr>\n",
              "      <th>2</th>\n",
              "      <td>28</td>\n",
              "      <td>33.000</td>\n",
              "      <td>3</td>\n",
              "      <td>4449.46200</td>\n",
              "      <td>0</td>\n",
              "      <td>1</td>\n",
              "      <td>1</td>\n",
              "      <td>0</td>\n",
              "      <td>0</td>\n",
              "      <td>0</td>\n",
              "      <td>1</td>\n",
              "      <td>0</td>\n",
              "    </tr>\n",
              "    <tr>\n",
              "      <th>3</th>\n",
              "      <td>33</td>\n",
              "      <td>22.705</td>\n",
              "      <td>0</td>\n",
              "      <td>21984.47061</td>\n",
              "      <td>0</td>\n",
              "      <td>1</td>\n",
              "      <td>1</td>\n",
              "      <td>0</td>\n",
              "      <td>0</td>\n",
              "      <td>1</td>\n",
              "      <td>0</td>\n",
              "      <td>0</td>\n",
              "    </tr>\n",
              "    <tr>\n",
              "      <th>4</th>\n",
              "      <td>32</td>\n",
              "      <td>28.880</td>\n",
              "      <td>0</td>\n",
              "      <td>3866.85520</td>\n",
              "      <td>0</td>\n",
              "      <td>1</td>\n",
              "      <td>1</td>\n",
              "      <td>0</td>\n",
              "      <td>0</td>\n",
              "      <td>1</td>\n",
              "      <td>0</td>\n",
              "      <td>0</td>\n",
              "    </tr>\n",
              "  </tbody>\n",
              "</table>\n",
              "</div>\n",
              "      <button class=\"colab-df-convert\" onclick=\"convertToInteractive('df-5a1f17f5-d146-4425-8d3e-1c72d2670347')\"\n",
              "              title=\"Convert this dataframe to an interactive table.\"\n",
              "              style=\"display:none;\">\n",
              "        \n",
              "  <svg xmlns=\"http://www.w3.org/2000/svg\" height=\"24px\"viewBox=\"0 0 24 24\"\n",
              "       width=\"24px\">\n",
              "    <path d=\"M0 0h24v24H0V0z\" fill=\"none\"/>\n",
              "    <path d=\"M18.56 5.44l.94 2.06.94-2.06 2.06-.94-2.06-.94-.94-2.06-.94 2.06-2.06.94zm-11 1L8.5 8.5l.94-2.06 2.06-.94-2.06-.94L8.5 2.5l-.94 2.06-2.06.94zm10 10l.94 2.06.94-2.06 2.06-.94-2.06-.94-.94-2.06-.94 2.06-2.06.94z\"/><path d=\"M17.41 7.96l-1.37-1.37c-.4-.4-.92-.59-1.43-.59-.52 0-1.04.2-1.43.59L10.3 9.45l-7.72 7.72c-.78.78-.78 2.05 0 2.83L4 21.41c.39.39.9.59 1.41.59.51 0 1.02-.2 1.41-.59l7.78-7.78 2.81-2.81c.8-.78.8-2.07 0-2.86zM5.41 20L4 18.59l7.72-7.72 1.47 1.35L5.41 20z\"/>\n",
              "  </svg>\n",
              "      </button>\n",
              "      \n",
              "  <style>\n",
              "    .colab-df-container {\n",
              "      display:flex;\n",
              "      flex-wrap:wrap;\n",
              "      gap: 12px;\n",
              "    }\n",
              "\n",
              "    .colab-df-convert {\n",
              "      background-color: #E8F0FE;\n",
              "      border: none;\n",
              "      border-radius: 50%;\n",
              "      cursor: pointer;\n",
              "      display: none;\n",
              "      fill: #1967D2;\n",
              "      height: 32px;\n",
              "      padding: 0 0 0 0;\n",
              "      width: 32px;\n",
              "    }\n",
              "\n",
              "    .colab-df-convert:hover {\n",
              "      background-color: #E2EBFA;\n",
              "      box-shadow: 0px 1px 2px rgba(60, 64, 67, 0.3), 0px 1px 3px 1px rgba(60, 64, 67, 0.15);\n",
              "      fill: #174EA6;\n",
              "    }\n",
              "\n",
              "    [theme=dark] .colab-df-convert {\n",
              "      background-color: #3B4455;\n",
              "      fill: #D2E3FC;\n",
              "    }\n",
              "\n",
              "    [theme=dark] .colab-df-convert:hover {\n",
              "      background-color: #434B5C;\n",
              "      box-shadow: 0px 1px 3px 1px rgba(0, 0, 0, 0.15);\n",
              "      filter: drop-shadow(0px 1px 2px rgba(0, 0, 0, 0.3));\n",
              "      fill: #FFFFFF;\n",
              "    }\n",
              "  </style>\n",
              "\n",
              "      <script>\n",
              "        const buttonEl =\n",
              "          document.querySelector('#df-5a1f17f5-d146-4425-8d3e-1c72d2670347 button.colab-df-convert');\n",
              "        buttonEl.style.display =\n",
              "          google.colab.kernel.accessAllowed ? 'block' : 'none';\n",
              "\n",
              "        async function convertToInteractive(key) {\n",
              "          const element = document.querySelector('#df-5a1f17f5-d146-4425-8d3e-1c72d2670347');\n",
              "          const dataTable =\n",
              "            await google.colab.kernel.invokeFunction('convertToInteractive',\n",
              "                                                     [key], {});\n",
              "          if (!dataTable) return;\n",
              "\n",
              "          const docLinkHtml = 'Like what you see? Visit the ' +\n",
              "            '<a target=\"_blank\" href=https://colab.research.google.com/notebooks/data_table.ipynb>data table notebook</a>'\n",
              "            + ' to learn more about interactive tables.';\n",
              "          element.innerHTML = '';\n",
              "          dataTable['output_type'] = 'display_data';\n",
              "          await google.colab.output.renderOutput(dataTable, element);\n",
              "          const docLink = document.createElement('div');\n",
              "          docLink.innerHTML = docLinkHtml;\n",
              "          element.appendChild(docLink);\n",
              "        }\n",
              "      </script>\n",
              "    </div>\n",
              "  </div>\n",
              "  "
            ]
          },
          "metadata": {},
          "execution_count": 73
        }
      ]
    },
    {
      "cell_type": "code",
      "source": [
        "X = insurance_one_hot.drop('charges', axis = 1 )\n",
        "X"
      ],
      "metadata": {
        "colab": {
          "base_uri": "https://localhost:8080/",
          "height": 424
        },
        "id": "YCvlAVrClpLr",
        "outputId": "ba19a5fb-2ff7-4c1c-c008-e18d776dbbe8"
      },
      "execution_count": 74,
      "outputs": [
        {
          "output_type": "execute_result",
          "data": {
            "text/plain": [
              "      age     bmi  children  sex_female  sex_male  smoker_no  smoker_yes  \\\n",
              "0      19  27.900         0           1         0          0           1   \n",
              "1      18  33.770         1           0         1          1           0   \n",
              "2      28  33.000         3           0         1          1           0   \n",
              "3      33  22.705         0           0         1          1           0   \n",
              "4      32  28.880         0           0         1          1           0   \n",
              "...   ...     ...       ...         ...       ...        ...         ...   \n",
              "1333   50  30.970         3           0         1          1           0   \n",
              "1334   18  31.920         0           1         0          1           0   \n",
              "1335   18  36.850         0           1         0          1           0   \n",
              "1336   21  25.800         0           1         0          1           0   \n",
              "1337   61  29.070         0           1         0          0           1   \n",
              "\n",
              "      region_northeast  region_northwest  region_southeast  region_southwest  \n",
              "0                    0                 0                 0                 1  \n",
              "1                    0                 0                 1                 0  \n",
              "2                    0                 0                 1                 0  \n",
              "3                    0                 1                 0                 0  \n",
              "4                    0                 1                 0                 0  \n",
              "...                ...               ...               ...               ...  \n",
              "1333                 0                 1                 0                 0  \n",
              "1334                 1                 0                 0                 0  \n",
              "1335                 0                 0                 1                 0  \n",
              "1336                 0                 0                 0                 1  \n",
              "1337                 0                 1                 0                 0  \n",
              "\n",
              "[1338 rows x 11 columns]"
            ],
            "text/html": [
              "\n",
              "  <div id=\"df-0d76f33b-3abf-48d6-8412-6230642f9a09\">\n",
              "    <div class=\"colab-df-container\">\n",
              "      <div>\n",
              "<style scoped>\n",
              "    .dataframe tbody tr th:only-of-type {\n",
              "        vertical-align: middle;\n",
              "    }\n",
              "\n",
              "    .dataframe tbody tr th {\n",
              "        vertical-align: top;\n",
              "    }\n",
              "\n",
              "    .dataframe thead th {\n",
              "        text-align: right;\n",
              "    }\n",
              "</style>\n",
              "<table border=\"1\" class=\"dataframe\">\n",
              "  <thead>\n",
              "    <tr style=\"text-align: right;\">\n",
              "      <th></th>\n",
              "      <th>age</th>\n",
              "      <th>bmi</th>\n",
              "      <th>children</th>\n",
              "      <th>sex_female</th>\n",
              "      <th>sex_male</th>\n",
              "      <th>smoker_no</th>\n",
              "      <th>smoker_yes</th>\n",
              "      <th>region_northeast</th>\n",
              "      <th>region_northwest</th>\n",
              "      <th>region_southeast</th>\n",
              "      <th>region_southwest</th>\n",
              "    </tr>\n",
              "  </thead>\n",
              "  <tbody>\n",
              "    <tr>\n",
              "      <th>0</th>\n",
              "      <td>19</td>\n",
              "      <td>27.900</td>\n",
              "      <td>0</td>\n",
              "      <td>1</td>\n",
              "      <td>0</td>\n",
              "      <td>0</td>\n",
              "      <td>1</td>\n",
              "      <td>0</td>\n",
              "      <td>0</td>\n",
              "      <td>0</td>\n",
              "      <td>1</td>\n",
              "    </tr>\n",
              "    <tr>\n",
              "      <th>1</th>\n",
              "      <td>18</td>\n",
              "      <td>33.770</td>\n",
              "      <td>1</td>\n",
              "      <td>0</td>\n",
              "      <td>1</td>\n",
              "      <td>1</td>\n",
              "      <td>0</td>\n",
              "      <td>0</td>\n",
              "      <td>0</td>\n",
              "      <td>1</td>\n",
              "      <td>0</td>\n",
              "    </tr>\n",
              "    <tr>\n",
              "      <th>2</th>\n",
              "      <td>28</td>\n",
              "      <td>33.000</td>\n",
              "      <td>3</td>\n",
              "      <td>0</td>\n",
              "      <td>1</td>\n",
              "      <td>1</td>\n",
              "      <td>0</td>\n",
              "      <td>0</td>\n",
              "      <td>0</td>\n",
              "      <td>1</td>\n",
              "      <td>0</td>\n",
              "    </tr>\n",
              "    <tr>\n",
              "      <th>3</th>\n",
              "      <td>33</td>\n",
              "      <td>22.705</td>\n",
              "      <td>0</td>\n",
              "      <td>0</td>\n",
              "      <td>1</td>\n",
              "      <td>1</td>\n",
              "      <td>0</td>\n",
              "      <td>0</td>\n",
              "      <td>1</td>\n",
              "      <td>0</td>\n",
              "      <td>0</td>\n",
              "    </tr>\n",
              "    <tr>\n",
              "      <th>4</th>\n",
              "      <td>32</td>\n",
              "      <td>28.880</td>\n",
              "      <td>0</td>\n",
              "      <td>0</td>\n",
              "      <td>1</td>\n",
              "      <td>1</td>\n",
              "      <td>0</td>\n",
              "      <td>0</td>\n",
              "      <td>1</td>\n",
              "      <td>0</td>\n",
              "      <td>0</td>\n",
              "    </tr>\n",
              "    <tr>\n",
              "      <th>...</th>\n",
              "      <td>...</td>\n",
              "      <td>...</td>\n",
              "      <td>...</td>\n",
              "      <td>...</td>\n",
              "      <td>...</td>\n",
              "      <td>...</td>\n",
              "      <td>...</td>\n",
              "      <td>...</td>\n",
              "      <td>...</td>\n",
              "      <td>...</td>\n",
              "      <td>...</td>\n",
              "    </tr>\n",
              "    <tr>\n",
              "      <th>1333</th>\n",
              "      <td>50</td>\n",
              "      <td>30.970</td>\n",
              "      <td>3</td>\n",
              "      <td>0</td>\n",
              "      <td>1</td>\n",
              "      <td>1</td>\n",
              "      <td>0</td>\n",
              "      <td>0</td>\n",
              "      <td>1</td>\n",
              "      <td>0</td>\n",
              "      <td>0</td>\n",
              "    </tr>\n",
              "    <tr>\n",
              "      <th>1334</th>\n",
              "      <td>18</td>\n",
              "      <td>31.920</td>\n",
              "      <td>0</td>\n",
              "      <td>1</td>\n",
              "      <td>0</td>\n",
              "      <td>1</td>\n",
              "      <td>0</td>\n",
              "      <td>1</td>\n",
              "      <td>0</td>\n",
              "      <td>0</td>\n",
              "      <td>0</td>\n",
              "    </tr>\n",
              "    <tr>\n",
              "      <th>1335</th>\n",
              "      <td>18</td>\n",
              "      <td>36.850</td>\n",
              "      <td>0</td>\n",
              "      <td>1</td>\n",
              "      <td>0</td>\n",
              "      <td>1</td>\n",
              "      <td>0</td>\n",
              "      <td>0</td>\n",
              "      <td>0</td>\n",
              "      <td>1</td>\n",
              "      <td>0</td>\n",
              "    </tr>\n",
              "    <tr>\n",
              "      <th>1336</th>\n",
              "      <td>21</td>\n",
              "      <td>25.800</td>\n",
              "      <td>0</td>\n",
              "      <td>1</td>\n",
              "      <td>0</td>\n",
              "      <td>1</td>\n",
              "      <td>0</td>\n",
              "      <td>0</td>\n",
              "      <td>0</td>\n",
              "      <td>0</td>\n",
              "      <td>1</td>\n",
              "    </tr>\n",
              "    <tr>\n",
              "      <th>1337</th>\n",
              "      <td>61</td>\n",
              "      <td>29.070</td>\n",
              "      <td>0</td>\n",
              "      <td>1</td>\n",
              "      <td>0</td>\n",
              "      <td>0</td>\n",
              "      <td>1</td>\n",
              "      <td>0</td>\n",
              "      <td>1</td>\n",
              "      <td>0</td>\n",
              "      <td>0</td>\n",
              "    </tr>\n",
              "  </tbody>\n",
              "</table>\n",
              "<p>1338 rows × 11 columns</p>\n",
              "</div>\n",
              "      <button class=\"colab-df-convert\" onclick=\"convertToInteractive('df-0d76f33b-3abf-48d6-8412-6230642f9a09')\"\n",
              "              title=\"Convert this dataframe to an interactive table.\"\n",
              "              style=\"display:none;\">\n",
              "        \n",
              "  <svg xmlns=\"http://www.w3.org/2000/svg\" height=\"24px\"viewBox=\"0 0 24 24\"\n",
              "       width=\"24px\">\n",
              "    <path d=\"M0 0h24v24H0V0z\" fill=\"none\"/>\n",
              "    <path d=\"M18.56 5.44l.94 2.06.94-2.06 2.06-.94-2.06-.94-.94-2.06-.94 2.06-2.06.94zm-11 1L8.5 8.5l.94-2.06 2.06-.94-2.06-.94L8.5 2.5l-.94 2.06-2.06.94zm10 10l.94 2.06.94-2.06 2.06-.94-2.06-.94-.94-2.06-.94 2.06-2.06.94z\"/><path d=\"M17.41 7.96l-1.37-1.37c-.4-.4-.92-.59-1.43-.59-.52 0-1.04.2-1.43.59L10.3 9.45l-7.72 7.72c-.78.78-.78 2.05 0 2.83L4 21.41c.39.39.9.59 1.41.59.51 0 1.02-.2 1.41-.59l7.78-7.78 2.81-2.81c.8-.78.8-2.07 0-2.86zM5.41 20L4 18.59l7.72-7.72 1.47 1.35L5.41 20z\"/>\n",
              "  </svg>\n",
              "      </button>\n",
              "      \n",
              "  <style>\n",
              "    .colab-df-container {\n",
              "      display:flex;\n",
              "      flex-wrap:wrap;\n",
              "      gap: 12px;\n",
              "    }\n",
              "\n",
              "    .colab-df-convert {\n",
              "      background-color: #E8F0FE;\n",
              "      border: none;\n",
              "      border-radius: 50%;\n",
              "      cursor: pointer;\n",
              "      display: none;\n",
              "      fill: #1967D2;\n",
              "      height: 32px;\n",
              "      padding: 0 0 0 0;\n",
              "      width: 32px;\n",
              "    }\n",
              "\n",
              "    .colab-df-convert:hover {\n",
              "      background-color: #E2EBFA;\n",
              "      box-shadow: 0px 1px 2px rgba(60, 64, 67, 0.3), 0px 1px 3px 1px rgba(60, 64, 67, 0.15);\n",
              "      fill: #174EA6;\n",
              "    }\n",
              "\n",
              "    [theme=dark] .colab-df-convert {\n",
              "      background-color: #3B4455;\n",
              "      fill: #D2E3FC;\n",
              "    }\n",
              "\n",
              "    [theme=dark] .colab-df-convert:hover {\n",
              "      background-color: #434B5C;\n",
              "      box-shadow: 0px 1px 3px 1px rgba(0, 0, 0, 0.15);\n",
              "      filter: drop-shadow(0px 1px 2px rgba(0, 0, 0, 0.3));\n",
              "      fill: #FFFFFF;\n",
              "    }\n",
              "  </style>\n",
              "\n",
              "      <script>\n",
              "        const buttonEl =\n",
              "          document.querySelector('#df-0d76f33b-3abf-48d6-8412-6230642f9a09 button.colab-df-convert');\n",
              "        buttonEl.style.display =\n",
              "          google.colab.kernel.accessAllowed ? 'block' : 'none';\n",
              "\n",
              "        async function convertToInteractive(key) {\n",
              "          const element = document.querySelector('#df-0d76f33b-3abf-48d6-8412-6230642f9a09');\n",
              "          const dataTable =\n",
              "            await google.colab.kernel.invokeFunction('convertToInteractive',\n",
              "                                                     [key], {});\n",
              "          if (!dataTable) return;\n",
              "\n",
              "          const docLinkHtml = 'Like what you see? Visit the ' +\n",
              "            '<a target=\"_blank\" href=https://colab.research.google.com/notebooks/data_table.ipynb>data table notebook</a>'\n",
              "            + ' to learn more about interactive tables.';\n",
              "          element.innerHTML = '';\n",
              "          dataTable['output_type'] = 'display_data';\n",
              "          await google.colab.output.renderOutput(dataTable, element);\n",
              "          const docLink = document.createElement('div');\n",
              "          docLink.innerHTML = docLinkHtml;\n",
              "          element.appendChild(docLink);\n",
              "        }\n",
              "      </script>\n",
              "    </div>\n",
              "  </div>\n",
              "  "
            ]
          },
          "metadata": {},
          "execution_count": 74
        }
      ]
    },
    {
      "cell_type": "code",
      "source": [
        "y = insurance_one_hot.charges\n",
        "y"
      ],
      "metadata": {
        "colab": {
          "base_uri": "https://localhost:8080/"
        },
        "id": "1gSP4PmnlQ-V",
        "outputId": "7289ba03-3ec9-4d4d-8cb8-e627e353d389"
      },
      "execution_count": 75,
      "outputs": [
        {
          "output_type": "execute_result",
          "data": {
            "text/plain": [
              "0       16884.92400\n",
              "1        1725.55230\n",
              "2        4449.46200\n",
              "3       21984.47061\n",
              "4        3866.85520\n",
              "           ...     \n",
              "1333    10600.54830\n",
              "1334     2205.98080\n",
              "1335     1629.83350\n",
              "1336     2007.94500\n",
              "1337    29141.36030\n",
              "Name: charges, Length: 1338, dtype: float64"
            ]
          },
          "metadata": {},
          "execution_count": 75
        }
      ]
    },
    {
      "cell_type": "code",
      "source": [
        "X_train, X_test, y_train, y_test = train_test_split(X,y, test_size=0.20, random_state=42  )\n",
        "len(X), len(X_train), len(X_test)"
      ],
      "metadata": {
        "colab": {
          "base_uri": "https://localhost:8080/"
        },
        "id": "ie1bID7blbFR",
        "outputId": "1aa7f0c2-f3d7-4966-c930-2cbecbcac618"
      },
      "execution_count": 76,
      "outputs": [
        {
          "output_type": "execute_result",
          "data": {
            "text/plain": [
              "(1338, 1070, 268)"
            ]
          },
          "metadata": {},
          "execution_count": 76
        }
      ]
    },
    {
      "cell_type": "code",
      "source": [
        "tf.random.set_seed(42)\n",
        "\n",
        "insurance_model = tf.keras.Sequential([\n",
        "tf.keras.layers.Dense(10),    \n",
        "tf.keras.layers.Dense(1)    \n",
        "])\n",
        "\n",
        "insurance_model.compile(loss=tf.keras.losses.mae, optimizer=tf.keras.optimizers.SGD(), metrics = ['mae'])\n",
        "insurance_model.fit(X_train, y_train, epochs=100)"
      ],
      "metadata": {
        "colab": {
          "base_uri": "https://localhost:8080/"
        },
        "id": "RmqnOHl2m1eN",
        "outputId": "07f82b83-a6e8-48b4-e75a-d8f11eb8a973"
      },
      "execution_count": 77,
      "outputs": [
        {
          "output_type": "stream",
          "name": "stdout",
          "text": [
            "Epoch 1/100\n",
            "34/34 [==============================] - 1s 2ms/step - loss: 8608.4131 - mae: 8608.4131\n",
            "Epoch 2/100\n",
            "34/34 [==============================] - 0s 2ms/step - loss: 7871.3311 - mae: 7871.3311\n",
            "Epoch 3/100\n",
            "34/34 [==============================] - 0s 2ms/step - loss: 7622.0029 - mae: 7622.0029\n",
            "Epoch 4/100\n",
            "34/34 [==============================] - 0s 2ms/step - loss: 7609.3809 - mae: 7609.3809\n",
            "Epoch 5/100\n",
            "34/34 [==============================] - 0s 2ms/step - loss: 7776.2554 - mae: 7776.2554\n",
            "Epoch 6/100\n",
            "34/34 [==============================] - 0s 2ms/step - loss: 7537.1685 - mae: 7537.1685\n",
            "Epoch 7/100\n",
            "34/34 [==============================] - 0s 2ms/step - loss: 7568.6357 - mae: 7568.6357\n",
            "Epoch 8/100\n",
            "34/34 [==============================] - 0s 2ms/step - loss: 7713.0513 - mae: 7713.0513\n",
            "Epoch 9/100\n",
            "34/34 [==============================] - 0s 2ms/step - loss: 7617.0127 - mae: 7617.0127\n",
            "Epoch 10/100\n",
            "34/34 [==============================] - 0s 2ms/step - loss: 7762.3965 - mae: 7762.3965\n",
            "Epoch 11/100\n",
            "34/34 [==============================] - 0s 2ms/step - loss: 7585.7280 - mae: 7585.7280\n",
            "Epoch 12/100\n",
            "34/34 [==============================] - 0s 2ms/step - loss: 7605.8569 - mae: 7605.8569\n",
            "Epoch 13/100\n",
            "34/34 [==============================] - 0s 2ms/step - loss: 7708.4399 - mae: 7708.4399\n",
            "Epoch 14/100\n",
            "34/34 [==============================] - 0s 1ms/step - loss: 7660.6582 - mae: 7660.6582\n",
            "Epoch 15/100\n",
            "34/34 [==============================] - 0s 2ms/step - loss: 7556.8555 - mae: 7556.8555\n",
            "Epoch 16/100\n",
            "34/34 [==============================] - 0s 2ms/step - loss: 7690.5137 - mae: 7690.5137\n",
            "Epoch 17/100\n",
            "34/34 [==============================] - 0s 2ms/step - loss: 7571.8110 - mae: 7571.8110\n",
            "Epoch 18/100\n",
            "34/34 [==============================] - 0s 2ms/step - loss: 7807.8447 - mae: 7807.8447\n",
            "Epoch 19/100\n",
            "34/34 [==============================] - 0s 2ms/step - loss: 7687.7666 - mae: 7687.7666\n",
            "Epoch 20/100\n",
            "34/34 [==============================] - 0s 2ms/step - loss: 7914.1187 - mae: 7914.1187\n",
            "Epoch 21/100\n",
            "34/34 [==============================] - 0s 2ms/step - loss: 7460.2925 - mae: 7460.2925\n",
            "Epoch 22/100\n",
            "34/34 [==============================] - 0s 2ms/step - loss: 7799.3076 - mae: 7799.3076\n",
            "Epoch 23/100\n",
            "34/34 [==============================] - 0s 2ms/step - loss: 7674.7900 - mae: 7674.7900\n",
            "Epoch 24/100\n",
            "34/34 [==============================] - 0s 2ms/step - loss: 7538.0874 - mae: 7538.0874\n",
            "Epoch 25/100\n",
            "34/34 [==============================] - 0s 2ms/step - loss: 7569.8843 - mae: 7569.8843\n",
            "Epoch 26/100\n",
            "34/34 [==============================] - 0s 2ms/step - loss: 7634.4858 - mae: 7634.4858\n",
            "Epoch 27/100\n",
            "34/34 [==============================] - 0s 2ms/step - loss: 7732.2388 - mae: 7732.2388\n",
            "Epoch 28/100\n",
            "34/34 [==============================] - 0s 2ms/step - loss: 7492.8667 - mae: 7492.8667\n",
            "Epoch 29/100\n",
            "34/34 [==============================] - 0s 2ms/step - loss: 7661.0049 - mae: 7661.0049\n",
            "Epoch 30/100\n",
            "34/34 [==============================] - 0s 2ms/step - loss: 7663.4937 - mae: 7663.4937\n",
            "Epoch 31/100\n",
            "34/34 [==============================] - 0s 2ms/step - loss: 7691.3765 - mae: 7691.3765\n",
            "Epoch 32/100\n",
            "34/34 [==============================] - 0s 2ms/step - loss: 7273.9033 - mae: 7273.9033\n",
            "Epoch 33/100\n",
            "34/34 [==============================] - 0s 2ms/step - loss: 7620.8096 - mae: 7620.8096\n",
            "Epoch 34/100\n",
            "34/34 [==============================] - 0s 2ms/step - loss: 7540.5483 - mae: 7540.5483\n",
            "Epoch 35/100\n",
            "34/34 [==============================] - 0s 1ms/step - loss: 7461.3428 - mae: 7461.3428\n",
            "Epoch 36/100\n",
            "34/34 [==============================] - 0s 2ms/step - loss: 7582.8193 - mae: 7582.8193\n",
            "Epoch 37/100\n",
            "34/34 [==============================] - 0s 2ms/step - loss: 7416.8809 - mae: 7416.8809\n",
            "Epoch 38/100\n",
            "34/34 [==============================] - 0s 2ms/step - loss: 7557.8159 - mae: 7557.8159\n",
            "Epoch 39/100\n",
            "34/34 [==============================] - 0s 2ms/step - loss: 7557.1108 - mae: 7557.1108\n",
            "Epoch 40/100\n",
            "34/34 [==============================] - 0s 2ms/step - loss: 7318.6157 - mae: 7318.6157\n",
            "Epoch 41/100\n",
            "34/34 [==============================] - 0s 2ms/step - loss: 7614.5415 - mae: 7614.5415\n",
            "Epoch 42/100\n",
            "34/34 [==============================] - 0s 2ms/step - loss: 7556.3350 - mae: 7556.3350\n",
            "Epoch 43/100\n",
            "34/34 [==============================] - 0s 2ms/step - loss: 7666.8037 - mae: 7666.8037\n",
            "Epoch 44/100\n",
            "34/34 [==============================] - 0s 2ms/step - loss: 7484.9253 - mae: 7484.9253\n",
            "Epoch 45/100\n",
            "34/34 [==============================] - 0s 2ms/step - loss: 7405.4043 - mae: 7405.4043\n",
            "Epoch 46/100\n",
            "34/34 [==============================] - 0s 2ms/step - loss: 7423.3301 - mae: 7423.3301\n",
            "Epoch 47/100\n",
            "34/34 [==============================] - 0s 2ms/step - loss: 7470.2432 - mae: 7470.2432\n",
            "Epoch 48/100\n",
            "34/34 [==============================] - 0s 2ms/step - loss: 7503.1265 - mae: 7503.1265\n",
            "Epoch 49/100\n",
            "34/34 [==============================] - 0s 2ms/step - loss: 7537.2661 - mae: 7537.2661\n",
            "Epoch 50/100\n",
            "34/34 [==============================] - 0s 2ms/step - loss: 7489.4937 - mae: 7489.4937\n",
            "Epoch 51/100\n",
            "34/34 [==============================] - 0s 2ms/step - loss: 7390.7583 - mae: 7390.7583\n",
            "Epoch 52/100\n",
            "34/34 [==============================] - 0s 2ms/step - loss: 7487.9048 - mae: 7487.9048\n",
            "Epoch 53/100\n",
            "34/34 [==============================] - 0s 2ms/step - loss: 7444.7075 - mae: 7444.7075\n",
            "Epoch 54/100\n",
            "34/34 [==============================] - 0s 2ms/step - loss: 7243.7002 - mae: 7243.7002\n",
            "Epoch 55/100\n",
            "34/34 [==============================] - 0s 2ms/step - loss: 7523.3511 - mae: 7523.3511\n",
            "Epoch 56/100\n",
            "34/34 [==============================] - 0s 2ms/step - loss: 7258.4590 - mae: 7258.4590\n",
            "Epoch 57/100\n",
            "34/34 [==============================] - 0s 2ms/step - loss: 7527.0913 - mae: 7527.0913\n",
            "Epoch 58/100\n",
            "34/34 [==============================] - 0s 2ms/step - loss: 7523.9111 - mae: 7523.9111\n",
            "Epoch 59/100\n",
            "34/34 [==============================] - 0s 2ms/step - loss: 7661.1167 - mae: 7661.1167\n",
            "Epoch 60/100\n",
            "34/34 [==============================] - 0s 2ms/step - loss: 7318.0796 - mae: 7318.0796\n",
            "Epoch 61/100\n",
            "34/34 [==============================] - 0s 2ms/step - loss: 7664.5757 - mae: 7664.5757\n",
            "Epoch 62/100\n",
            "34/34 [==============================] - 0s 2ms/step - loss: 7493.8794 - mae: 7493.8794\n",
            "Epoch 63/100\n",
            "34/34 [==============================] - 0s 2ms/step - loss: 7348.7476 - mae: 7348.7476\n",
            "Epoch 64/100\n",
            "34/34 [==============================] - 0s 2ms/step - loss: 7540.7896 - mae: 7540.7896\n",
            "Epoch 65/100\n",
            "34/34 [==============================] - 0s 2ms/step - loss: 7621.1055 - mae: 7621.1055\n",
            "Epoch 66/100\n",
            "34/34 [==============================] - 0s 2ms/step - loss: 7600.1665 - mae: 7600.1665\n",
            "Epoch 67/100\n",
            "34/34 [==============================] - 0s 2ms/step - loss: 7322.7607 - mae: 7322.7607\n",
            "Epoch 68/100\n",
            "34/34 [==============================] - 0s 2ms/step - loss: 7565.2046 - mae: 7565.2046\n",
            "Epoch 69/100\n",
            "34/34 [==============================] - 0s 2ms/step - loss: 7451.9775 - mae: 7451.9775\n",
            "Epoch 70/100\n",
            "34/34 [==============================] - 0s 2ms/step - loss: 7487.2681 - mae: 7487.2681\n",
            "Epoch 71/100\n",
            "34/34 [==============================] - 0s 2ms/step - loss: 7203.0625 - mae: 7203.0625\n",
            "Epoch 72/100\n",
            "34/34 [==============================] - 0s 2ms/step - loss: 7320.9287 - mae: 7320.9287\n",
            "Epoch 73/100\n",
            "34/34 [==============================] - 0s 2ms/step - loss: 7474.5444 - mae: 7474.5444\n",
            "Epoch 74/100\n",
            "34/34 [==============================] - 0s 2ms/step - loss: 7353.7290 - mae: 7353.7290\n",
            "Epoch 75/100\n",
            "34/34 [==============================] - 0s 2ms/step - loss: 7303.5225 - mae: 7303.5225\n",
            "Epoch 76/100\n",
            "34/34 [==============================] - 0s 2ms/step - loss: 7129.2617 - mae: 7129.2617\n",
            "Epoch 77/100\n",
            "34/34 [==============================] - 0s 2ms/step - loss: 7477.7324 - mae: 7477.7324\n",
            "Epoch 78/100\n",
            "34/34 [==============================] - 0s 2ms/step - loss: 7133.0127 - mae: 7133.0127\n",
            "Epoch 79/100\n",
            "34/34 [==============================] - 0s 2ms/step - loss: 7498.6631 - mae: 7498.6631\n",
            "Epoch 80/100\n",
            "34/34 [==============================] - 0s 2ms/step - loss: 7394.7295 - mae: 7394.7295\n",
            "Epoch 81/100\n",
            "34/34 [==============================] - 0s 2ms/step - loss: 7205.3003 - mae: 7205.3003\n",
            "Epoch 82/100\n",
            "34/34 [==============================] - 0s 2ms/step - loss: 7248.4214 - mae: 7248.4214\n",
            "Epoch 83/100\n",
            "34/34 [==============================] - 0s 2ms/step - loss: 7257.7900 - mae: 7257.7900\n",
            "Epoch 84/100\n",
            "34/34 [==============================] - 0s 2ms/step - loss: 7351.0498 - mae: 7351.0498\n",
            "Epoch 85/100\n",
            "34/34 [==============================] - 0s 1ms/step - loss: 7543.3193 - mae: 7543.3193\n",
            "Epoch 86/100\n",
            "34/34 [==============================] - 0s 2ms/step - loss: 7521.7310 - mae: 7521.7310\n",
            "Epoch 87/100\n",
            "34/34 [==============================] - 0s 2ms/step - loss: 7106.7749 - mae: 7106.7749\n",
            "Epoch 88/100\n",
            "34/34 [==============================] - 0s 2ms/step - loss: 7209.5200 - mae: 7209.5200\n",
            "Epoch 89/100\n",
            "34/34 [==============================] - 0s 2ms/step - loss: 7352.6372 - mae: 7352.6372\n",
            "Epoch 90/100\n",
            "34/34 [==============================] - 0s 2ms/step - loss: 7139.1782 - mae: 7139.1782\n",
            "Epoch 91/100\n",
            "34/34 [==============================] - 0s 2ms/step - loss: 7253.0347 - mae: 7253.0347\n",
            "Epoch 92/100\n",
            "34/34 [==============================] - 0s 2ms/step - loss: 7322.5449 - mae: 7322.5449\n",
            "Epoch 93/100\n",
            "34/34 [==============================] - 0s 2ms/step - loss: 7532.3965 - mae: 7532.3965\n",
            "Epoch 94/100\n",
            "34/34 [==============================] - 0s 2ms/step - loss: 7150.8408 - mae: 7150.8408\n",
            "Epoch 95/100\n",
            "34/34 [==============================] - 0s 2ms/step - loss: 7327.4932 - mae: 7327.4932\n",
            "Epoch 96/100\n",
            "34/34 [==============================] - 0s 2ms/step - loss: 7273.2466 - mae: 7273.2466\n",
            "Epoch 97/100\n",
            "34/34 [==============================] - 0s 2ms/step - loss: 7222.7759 - mae: 7222.7759\n",
            "Epoch 98/100\n",
            "34/34 [==============================] - 0s 2ms/step - loss: 7346.3403 - mae: 7346.3403\n",
            "Epoch 99/100\n",
            "34/34 [==============================] - 0s 2ms/step - loss: 7418.5508 - mae: 7418.5508\n",
            "Epoch 100/100\n",
            "34/34 [==============================] - 0s 2ms/step - loss: 7386.1758 - mae: 7386.1758\n"
          ]
        },
        {
          "output_type": "execute_result",
          "data": {
            "text/plain": [
              "<keras.callbacks.History at 0x7f2fed445b80>"
            ]
          },
          "metadata": {},
          "execution_count": 77
        }
      ]
    },
    {
      "cell_type": "code",
      "source": [
        "insurance_model.evaluate(X_test, y_test)"
      ],
      "metadata": {
        "colab": {
          "base_uri": "https://localhost:8080/"
        },
        "id": "cvKCxyQBnpP_",
        "outputId": "694ec5c5-5a7b-4ad5-9066-48ae32dc4677"
      },
      "execution_count": 78,
      "outputs": [
        {
          "output_type": "stream",
          "name": "stdout",
          "text": [
            "9/9 [==============================] - 0s 2ms/step - loss: 7207.3662 - mae: 7207.3662\n"
          ]
        },
        {
          "output_type": "execute_result",
          "data": {
            "text/plain": [
              "[7207.3662109375, 7207.3662109375]"
            ]
          },
          "metadata": {},
          "execution_count": 78
        }
      ]
    },
    {
      "cell_type": "code",
      "source": [
        "y_train.median(), y_train.mean()"
      ],
      "metadata": {
        "colab": {
          "base_uri": "https://localhost:8080/"
        },
        "id": "AGh1rw_vn2px",
        "outputId": "0ef5c539-c764-4ded-cf02-4108c1ca31ea"
      },
      "execution_count": 79,
      "outputs": [
        {
          "output_type": "execute_result",
          "data": {
            "text/plain": [
              "(9575.4421, 13346.089736364485)"
            ]
          },
          "metadata": {},
          "execution_count": 79
        }
      ]
    },
    {
      "cell_type": "markdown",
      "source": [
        "## Add extra layer"
      ],
      "metadata": {
        "id": "MPqbQVc-oaOn"
      }
    },
    {
      "cell_type": "code",
      "source": [
        "tf.random.set_seed(42)\n",
        "\n",
        "insurance_model_2 = tf.keras.Sequential([\n",
        "tf.keras.layers.Dense(100),    \n",
        "tf.keras.layers.Dense(10),    \n",
        "tf.keras.layers.Dense(1)    \n",
        "])\n",
        "\n",
        "insurance_model_2.compile(loss=tf.keras.losses.mae, optimizer=tf.keras.optimizers.Adam(), metrics = ['mae'])\n",
        "insurance_model_2.fit(X_train, y_train, epochs=100)"
      ],
      "metadata": {
        "colab": {
          "base_uri": "https://localhost:8080/"
        },
        "id": "m2kQEbCPn8ul",
        "outputId": "a98489f7-0796-4d1b-c829-d3271e82d165"
      },
      "execution_count": 80,
      "outputs": [
        {
          "output_type": "stream",
          "name": "stdout",
          "text": [
            "Epoch 1/100\n",
            "34/34 [==============================] - 1s 2ms/step - loss: 13287.9619 - mae: 13287.9619\n",
            "Epoch 2/100\n",
            "34/34 [==============================] - 0s 2ms/step - loss: 13124.6875 - mae: 13124.6875\n",
            "Epoch 3/100\n",
            "34/34 [==============================] - 0s 2ms/step - loss: 12775.3184 - mae: 12775.3184\n",
            "Epoch 4/100\n",
            "34/34 [==============================] - 0s 2ms/step - loss: 12080.9141 - mae: 12080.9141\n",
            "Epoch 5/100\n",
            "34/34 [==============================] - 0s 2ms/step - loss: 10916.6094 - mae: 10916.6094\n",
            "Epoch 6/100\n",
            "34/34 [==============================] - 0s 2ms/step - loss: 9442.6191 - mae: 9442.6191\n",
            "Epoch 7/100\n",
            "34/34 [==============================] - 0s 2ms/step - loss: 8120.5049 - mae: 8120.5049\n",
            "Epoch 8/100\n",
            "34/34 [==============================] - 0s 2ms/step - loss: 7510.4712 - mae: 7510.4712\n",
            "Epoch 9/100\n",
            "34/34 [==============================] - 0s 2ms/step - loss: 7418.0239 - mae: 7418.0239\n",
            "Epoch 10/100\n",
            "34/34 [==============================] - 0s 2ms/step - loss: 7398.7783 - mae: 7398.7783\n",
            "Epoch 11/100\n",
            "34/34 [==============================] - 0s 2ms/step - loss: 7380.3076 - mae: 7380.3076\n",
            "Epoch 12/100\n",
            "34/34 [==============================] - 0s 2ms/step - loss: 7358.5933 - mae: 7358.5933\n",
            "Epoch 13/100\n",
            "34/34 [==============================] - 0s 2ms/step - loss: 7338.4365 - mae: 7338.4365\n",
            "Epoch 14/100\n",
            "34/34 [==============================] - 0s 2ms/step - loss: 7316.1372 - mae: 7316.1372\n",
            "Epoch 15/100\n",
            "34/34 [==============================] - 0s 2ms/step - loss: 7297.5029 - mae: 7297.5029\n",
            "Epoch 16/100\n",
            "34/34 [==============================] - 0s 2ms/step - loss: 7275.3145 - mae: 7275.3145\n",
            "Epoch 17/100\n",
            "34/34 [==============================] - 0s 2ms/step - loss: 7255.1016 - mae: 7255.1016\n",
            "Epoch 18/100\n",
            "34/34 [==============================] - 0s 3ms/step - loss: 7232.2544 - mae: 7232.2544\n",
            "Epoch 19/100\n",
            "34/34 [==============================] - 0s 3ms/step - loss: 7209.9414 - mae: 7209.9414\n",
            "Epoch 20/100\n",
            "34/34 [==============================] - 0s 3ms/step - loss: 7186.3960 - mae: 7186.3960\n",
            "Epoch 21/100\n",
            "34/34 [==============================] - 0s 3ms/step - loss: 7167.9946 - mae: 7167.9946\n",
            "Epoch 22/100\n",
            "34/34 [==============================] - 0s 3ms/step - loss: 7140.0220 - mae: 7140.0220\n",
            "Epoch 23/100\n",
            "34/34 [==============================] - 0s 3ms/step - loss: 7114.9609 - mae: 7114.9609\n",
            "Epoch 24/100\n",
            "34/34 [==============================] - 0s 3ms/step - loss: 7090.4072 - mae: 7090.4072\n",
            "Epoch 25/100\n",
            "34/34 [==============================] - 0s 3ms/step - loss: 7072.6826 - mae: 7072.6826\n",
            "Epoch 26/100\n",
            "34/34 [==============================] - 0s 3ms/step - loss: 7039.9487 - mae: 7039.9487\n",
            "Epoch 27/100\n",
            "34/34 [==============================] - 0s 3ms/step - loss: 7012.1704 - mae: 7012.1704\n",
            "Epoch 28/100\n",
            "34/34 [==============================] - 0s 3ms/step - loss: 6984.1411 - mae: 6984.1411\n",
            "Epoch 29/100\n",
            "34/34 [==============================] - 0s 3ms/step - loss: 6955.9575 - mae: 6955.9575\n",
            "Epoch 30/100\n",
            "34/34 [==============================] - 0s 3ms/step - loss: 6928.9351 - mae: 6928.9351\n",
            "Epoch 31/100\n",
            "34/34 [==============================] - 0s 3ms/step - loss: 6898.5488 - mae: 6898.5488\n",
            "Epoch 32/100\n",
            "34/34 [==============================] - 0s 3ms/step - loss: 6870.3848 - mae: 6870.3848\n",
            "Epoch 33/100\n",
            "34/34 [==============================] - 0s 3ms/step - loss: 6839.5664 - mae: 6839.5664\n",
            "Epoch 34/100\n",
            "34/34 [==============================] - 0s 3ms/step - loss: 6808.3960 - mae: 6808.3960\n",
            "Epoch 35/100\n",
            "34/34 [==============================] - 0s 3ms/step - loss: 6774.7485 - mae: 6774.7485\n",
            "Epoch 36/100\n",
            "34/34 [==============================] - 0s 3ms/step - loss: 6740.7646 - mae: 6740.7646\n",
            "Epoch 37/100\n",
            "34/34 [==============================] - 0s 3ms/step - loss: 6705.5464 - mae: 6705.5464\n",
            "Epoch 38/100\n",
            "34/34 [==============================] - 0s 3ms/step - loss: 6674.7344 - mae: 6674.7344\n",
            "Epoch 39/100\n",
            "34/34 [==============================] - 0s 3ms/step - loss: 6638.0586 - mae: 6638.0586\n",
            "Epoch 40/100\n",
            "34/34 [==============================] - 0s 3ms/step - loss: 6603.4790 - mae: 6603.4790\n",
            "Epoch 41/100\n",
            "34/34 [==============================] - 0s 4ms/step - loss: 6572.7554 - mae: 6572.7554\n",
            "Epoch 42/100\n",
            "34/34 [==============================] - 0s 3ms/step - loss: 6548.5020 - mae: 6548.5020\n",
            "Epoch 43/100\n",
            "34/34 [==============================] - 0s 3ms/step - loss: 6519.9238 - mae: 6519.9238\n",
            "Epoch 44/100\n",
            "34/34 [==============================] - 0s 3ms/step - loss: 6497.9678 - mae: 6497.9678\n",
            "Epoch 45/100\n",
            "34/34 [==============================] - 0s 3ms/step - loss: 6486.9854 - mae: 6486.9854\n",
            "Epoch 46/100\n",
            "34/34 [==============================] - 0s 3ms/step - loss: 6469.7427 - mae: 6469.7427\n",
            "Epoch 47/100\n",
            "34/34 [==============================] - 0s 2ms/step - loss: 6453.2637 - mae: 6453.2637\n",
            "Epoch 48/100\n",
            "34/34 [==============================] - 0s 2ms/step - loss: 6440.0161 - mae: 6440.0161\n",
            "Epoch 49/100\n",
            "34/34 [==============================] - 0s 2ms/step - loss: 6427.2554 - mae: 6427.2554\n",
            "Epoch 50/100\n",
            "34/34 [==============================] - 0s 2ms/step - loss: 6413.2495 - mae: 6413.2495\n",
            "Epoch 51/100\n",
            "34/34 [==============================] - 0s 2ms/step - loss: 6399.4258 - mae: 6399.4258\n",
            "Epoch 52/100\n",
            "34/34 [==============================] - 0s 2ms/step - loss: 6388.2378 - mae: 6388.2378\n",
            "Epoch 53/100\n",
            "34/34 [==============================] - 0s 2ms/step - loss: 6374.0435 - mae: 6374.0435\n",
            "Epoch 54/100\n",
            "34/34 [==============================] - 0s 2ms/step - loss: 6360.4443 - mae: 6360.4443\n",
            "Epoch 55/100\n",
            "34/34 [==============================] - 0s 2ms/step - loss: 6347.3945 - mae: 6347.3945\n",
            "Epoch 56/100\n",
            "34/34 [==============================] - 0s 2ms/step - loss: 6333.1733 - mae: 6333.1733\n",
            "Epoch 57/100\n",
            "34/34 [==============================] - 0s 2ms/step - loss: 6320.5825 - mae: 6320.5825\n",
            "Epoch 58/100\n",
            "34/34 [==============================] - 0s 2ms/step - loss: 6306.2480 - mae: 6306.2480\n",
            "Epoch 59/100\n",
            "34/34 [==============================] - 0s 2ms/step - loss: 6292.0820 - mae: 6292.0820\n",
            "Epoch 60/100\n",
            "34/34 [==============================] - 0s 2ms/step - loss: 6280.9111 - mae: 6280.9111\n",
            "Epoch 61/100\n",
            "34/34 [==============================] - 0s 2ms/step - loss: 6261.3667 - mae: 6261.3667\n",
            "Epoch 62/100\n",
            "34/34 [==============================] - 0s 2ms/step - loss: 6249.5762 - mae: 6249.5762\n",
            "Epoch 63/100\n",
            "34/34 [==============================] - 0s 2ms/step - loss: 6231.2974 - mae: 6231.2974\n",
            "Epoch 64/100\n",
            "34/34 [==============================] - 0s 2ms/step - loss: 6213.9331 - mae: 6213.9331\n",
            "Epoch 65/100\n",
            "34/34 [==============================] - 0s 3ms/step - loss: 6197.1602 - mae: 6197.1602\n",
            "Epoch 66/100\n",
            "34/34 [==============================] - 0s 2ms/step - loss: 6180.0435 - mae: 6180.0435\n",
            "Epoch 67/100\n",
            "34/34 [==============================] - 0s 2ms/step - loss: 6167.4019 - mae: 6167.4019\n",
            "Epoch 68/100\n",
            "34/34 [==============================] - 0s 2ms/step - loss: 6145.3179 - mae: 6145.3179\n",
            "Epoch 69/100\n",
            "34/34 [==============================] - 0s 2ms/step - loss: 6128.9917 - mae: 6128.9917\n",
            "Epoch 70/100\n",
            "34/34 [==============================] - 0s 2ms/step - loss: 6108.9731 - mae: 6108.9731\n",
            "Epoch 71/100\n",
            "34/34 [==============================] - 0s 2ms/step - loss: 6088.8833 - mae: 6088.8833\n",
            "Epoch 72/100\n",
            "34/34 [==============================] - 0s 2ms/step - loss: 6070.2046 - mae: 6070.2046\n",
            "Epoch 73/100\n",
            "34/34 [==============================] - 0s 2ms/step - loss: 6054.8052 - mae: 6054.8052\n",
            "Epoch 74/100\n",
            "34/34 [==============================] - 0s 2ms/step - loss: 6027.7002 - mae: 6027.7002\n",
            "Epoch 75/100\n",
            "34/34 [==============================] - 0s 2ms/step - loss: 6007.3442 - mae: 6007.3442\n",
            "Epoch 76/100\n",
            "34/34 [==============================] - 0s 2ms/step - loss: 5990.7935 - mae: 5990.7935\n",
            "Epoch 77/100\n",
            "34/34 [==============================] - 0s 2ms/step - loss: 5959.7764 - mae: 5959.7764\n",
            "Epoch 78/100\n",
            "34/34 [==============================] - 0s 2ms/step - loss: 5936.3179 - mae: 5936.3179\n",
            "Epoch 79/100\n",
            "34/34 [==============================] - 0s 2ms/step - loss: 5912.2896 - mae: 5912.2896\n",
            "Epoch 80/100\n",
            "34/34 [==============================] - 0s 2ms/step - loss: 5884.5435 - mae: 5884.5435\n",
            "Epoch 81/100\n",
            "34/34 [==============================] - 0s 2ms/step - loss: 5858.9116 - mae: 5858.9116\n",
            "Epoch 82/100\n",
            "34/34 [==============================] - 0s 2ms/step - loss: 5830.3643 - mae: 5830.3643\n",
            "Epoch 83/100\n",
            "34/34 [==============================] - 0s 2ms/step - loss: 5802.4165 - mae: 5802.4165\n",
            "Epoch 84/100\n",
            "34/34 [==============================] - 0s 2ms/step - loss: 5768.5249 - mae: 5768.5249\n",
            "Epoch 85/100\n",
            "34/34 [==============================] - 0s 2ms/step - loss: 5742.6616 - mae: 5742.6616\n",
            "Epoch 86/100\n",
            "34/34 [==============================] - 0s 2ms/step - loss: 5707.3433 - mae: 5707.3433\n",
            "Epoch 87/100\n",
            "34/34 [==============================] - 0s 2ms/step - loss: 5671.0093 - mae: 5671.0093\n",
            "Epoch 88/100\n",
            "34/34 [==============================] - 0s 2ms/step - loss: 5635.9609 - mae: 5635.9609\n",
            "Epoch 89/100\n",
            "34/34 [==============================] - 0s 2ms/step - loss: 5596.9404 - mae: 5596.9404\n",
            "Epoch 90/100\n",
            "34/34 [==============================] - 0s 2ms/step - loss: 5555.4082 - mae: 5555.4082\n",
            "Epoch 91/100\n",
            "34/34 [==============================] - 0s 2ms/step - loss: 5518.7119 - mae: 5518.7119\n",
            "Epoch 92/100\n",
            "34/34 [==============================] - 0s 2ms/step - loss: 5469.3955 - mae: 5469.3955\n",
            "Epoch 93/100\n",
            "34/34 [==============================] - 0s 2ms/step - loss: 5427.3604 - mae: 5427.3604\n",
            "Epoch 94/100\n",
            "34/34 [==============================] - 0s 2ms/step - loss: 5380.7725 - mae: 5380.7725\n",
            "Epoch 95/100\n",
            "34/34 [==============================] - 0s 2ms/step - loss: 5328.6792 - mae: 5328.6792\n",
            "Epoch 96/100\n",
            "34/34 [==============================] - 0s 2ms/step - loss: 5282.7090 - mae: 5282.7090\n",
            "Epoch 97/100\n",
            "34/34 [==============================] - 0s 2ms/step - loss: 5228.4785 - mae: 5228.4785\n",
            "Epoch 98/100\n",
            "34/34 [==============================] - 0s 2ms/step - loss: 5165.1357 - mae: 5165.1357\n",
            "Epoch 99/100\n",
            "34/34 [==============================] - 0s 2ms/step - loss: 5106.5854 - mae: 5106.5854\n",
            "Epoch 100/100\n",
            "34/34 [==============================] - 0s 3ms/step - loss: 5052.6167 - mae: 5052.6167\n"
          ]
        },
        {
          "output_type": "execute_result",
          "data": {
            "text/plain": [
              "<keras.callbacks.History at 0x7f2ffdd6d790>"
            ]
          },
          "metadata": {},
          "execution_count": 80
        }
      ]
    },
    {
      "cell_type": "code",
      "source": [
        "insurance_model_2.evaluate(X_test,y_test)"
      ],
      "metadata": {
        "colab": {
          "base_uri": "https://localhost:8080/"
        },
        "id": "rKwfftKkop8m",
        "outputId": "ca9cd292-53c0-4b10-b2f8-40e6a6bbe773"
      },
      "execution_count": 81,
      "outputs": [
        {
          "output_type": "stream",
          "name": "stdout",
          "text": [
            "9/9 [==============================] - 0s 2ms/step - loss: 4917.3994 - mae: 4917.3994\n"
          ]
        },
        {
          "output_type": "execute_result",
          "data": {
            "text/plain": [
              "[4917.3994140625, 4917.3994140625]"
            ]
          },
          "metadata": {},
          "execution_count": 81
        }
      ]
    },
    {
      "cell_type": "code",
      "source": [
        "tf.random.set_seed(42)\n",
        "\n",
        "insurance_model_3 = tf.keras.Sequential([\n",
        "tf.keras.layers.Dense(100),    \n",
        "tf.keras.layers.Dense(10),    \n",
        "tf.keras.layers.Dense(1)    \n",
        "])\n",
        "\n",
        "insurance_model_3.compile(loss=tf.keras.losses.mae, optimizer=tf.keras.optimizers.Adam(), metrics = ['mae'])\n",
        "history = insurance_model_3.fit(X_train, y_train, epochs=200)"
      ],
      "metadata": {
        "colab": {
          "base_uri": "https://localhost:8080/"
        },
        "id": "L7epoHSNpri9",
        "outputId": "a251062c-530b-4f11-a8de-8b51a7f8372f"
      },
      "execution_count": 82,
      "outputs": [
        {
          "output_type": "stream",
          "name": "stdout",
          "text": [
            "Epoch 1/200\n",
            "34/34 [==============================] - 1s 2ms/step - loss: 13295.0645 - mae: 13295.0645\n",
            "Epoch 2/200\n",
            "34/34 [==============================] - 0s 2ms/step - loss: 13133.9277 - mae: 13133.9277\n",
            "Epoch 3/200\n",
            "34/34 [==============================] - 0s 2ms/step - loss: 12805.9219 - mae: 12805.9219\n",
            "Epoch 4/200\n",
            "34/34 [==============================] - 0s 2ms/step - loss: 12158.7539 - mae: 12158.7539\n",
            "Epoch 5/200\n",
            "34/34 [==============================] - 0s 2ms/step - loss: 11049.4229 - mae: 11049.4229\n",
            "Epoch 6/200\n",
            "34/34 [==============================] - 0s 3ms/step - loss: 9595.7803 - mae: 9595.7803\n",
            "Epoch 7/200\n",
            "34/34 [==============================] - 0s 2ms/step - loss: 8240.2510 - mae: 8240.2510\n",
            "Epoch 8/200\n",
            "34/34 [==============================] - 0s 2ms/step - loss: 7558.2788 - mae: 7558.2788\n",
            "Epoch 9/200\n",
            "34/34 [==============================] - 0s 2ms/step - loss: 7440.5347 - mae: 7440.5347\n",
            "Epoch 10/200\n",
            "34/34 [==============================] - 0s 2ms/step - loss: 7419.1797 - mae: 7419.1797\n",
            "Epoch 11/200\n",
            "34/34 [==============================] - 0s 2ms/step - loss: 7399.9692 - mae: 7399.9692\n",
            "Epoch 12/200\n",
            "34/34 [==============================] - 0s 2ms/step - loss: 7377.4722 - mae: 7377.4722\n",
            "Epoch 13/200\n",
            "34/34 [==============================] - 0s 2ms/step - loss: 7356.7041 - mae: 7356.7041\n",
            "Epoch 14/200\n",
            "34/34 [==============================] - 0s 2ms/step - loss: 7333.9111 - mae: 7333.9111\n",
            "Epoch 15/200\n",
            "34/34 [==============================] - 0s 2ms/step - loss: 7314.3433 - mae: 7314.3433\n",
            "Epoch 16/200\n",
            "34/34 [==============================] - 0s 2ms/step - loss: 7291.5830 - mae: 7291.5830\n",
            "Epoch 17/200\n",
            "34/34 [==============================] - 0s 2ms/step - loss: 7270.7446 - mae: 7270.7446\n",
            "Epoch 18/200\n",
            "34/34 [==============================] - 0s 2ms/step - loss: 7247.0220 - mae: 7247.0220\n",
            "Epoch 19/200\n",
            "34/34 [==============================] - 0s 2ms/step - loss: 7224.3452 - mae: 7224.3452\n",
            "Epoch 20/200\n",
            "34/34 [==============================] - 0s 2ms/step - loss: 7200.7046 - mae: 7200.7046\n",
            "Epoch 21/200\n",
            "34/34 [==============================] - 0s 2ms/step - loss: 7180.4644 - mae: 7180.4644\n",
            "Epoch 22/200\n",
            "34/34 [==============================] - 0s 2ms/step - loss: 7153.6284 - mae: 7153.6284\n",
            "Epoch 23/200\n",
            "34/34 [==============================] - 0s 2ms/step - loss: 7128.1646 - mae: 7128.1646\n",
            "Epoch 24/200\n",
            "34/34 [==============================] - 0s 2ms/step - loss: 7102.9399 - mae: 7102.9399\n",
            "Epoch 25/200\n",
            "34/34 [==============================] - 0s 2ms/step - loss: 7084.6475 - mae: 7084.6475\n",
            "Epoch 26/200\n",
            "34/34 [==============================] - 0s 2ms/step - loss: 7052.1875 - mae: 7052.1875\n",
            "Epoch 27/200\n",
            "34/34 [==============================] - 0s 3ms/step - loss: 7023.2500 - mae: 7023.2500\n",
            "Epoch 28/200\n",
            "34/34 [==============================] - 0s 2ms/step - loss: 6994.7012 - mae: 6994.7012\n",
            "Epoch 29/200\n",
            "34/34 [==============================] - 0s 2ms/step - loss: 6966.2690 - mae: 6966.2690\n",
            "Epoch 30/200\n",
            "34/34 [==============================] - 0s 2ms/step - loss: 6938.2075 - mae: 6938.2075\n",
            "Epoch 31/200\n",
            "34/34 [==============================] - 0s 2ms/step - loss: 6906.4785 - mae: 6906.4785\n",
            "Epoch 32/200\n",
            "34/34 [==============================] - 0s 2ms/step - loss: 6877.5547 - mae: 6877.5547\n",
            "Epoch 33/200\n",
            "34/34 [==============================] - 0s 2ms/step - loss: 6845.5923 - mae: 6845.5923\n",
            "Epoch 34/200\n",
            "34/34 [==============================] - 0s 2ms/step - loss: 6813.9644 - mae: 6813.9644\n",
            "Epoch 35/200\n",
            "34/34 [==============================] - 0s 2ms/step - loss: 6779.4688 - mae: 6779.4688\n",
            "Epoch 36/200\n",
            "34/34 [==============================] - 0s 2ms/step - loss: 6744.3638 - mae: 6744.3638\n",
            "Epoch 37/200\n",
            "34/34 [==============================] - 0s 2ms/step - loss: 6707.2617 - mae: 6707.2617\n",
            "Epoch 38/200\n",
            "34/34 [==============================] - 0s 2ms/step - loss: 6675.7466 - mae: 6675.7466\n",
            "Epoch 39/200\n",
            "34/34 [==============================] - 0s 2ms/step - loss: 6636.7500 - mae: 6636.7500\n",
            "Epoch 40/200\n",
            "34/34 [==============================] - 0s 2ms/step - loss: 6600.7812 - mae: 6600.7812\n",
            "Epoch 41/200\n",
            "34/34 [==============================] - 0s 2ms/step - loss: 6566.9702 - mae: 6566.9702\n",
            "Epoch 42/200\n",
            "34/34 [==============================] - 0s 2ms/step - loss: 6542.9907 - mae: 6542.9907\n",
            "Epoch 43/200\n",
            "34/34 [==============================] - 0s 2ms/step - loss: 6512.3667 - mae: 6512.3667\n",
            "Epoch 44/200\n",
            "34/34 [==============================] - 0s 2ms/step - loss: 6490.5337 - mae: 6490.5337\n",
            "Epoch 45/200\n",
            "34/34 [==============================] - 0s 2ms/step - loss: 6478.3174 - mae: 6478.3174\n",
            "Epoch 46/200\n",
            "34/34 [==============================] - 0s 2ms/step - loss: 6459.8682 - mae: 6459.8682\n",
            "Epoch 47/200\n",
            "34/34 [==============================] - 0s 2ms/step - loss: 6443.1328 - mae: 6443.1328\n",
            "Epoch 48/200\n",
            "34/34 [==============================] - 0s 2ms/step - loss: 6428.8794 - mae: 6428.8794\n",
            "Epoch 49/200\n",
            "34/34 [==============================] - 0s 2ms/step - loss: 6415.9531 - mae: 6415.9531\n",
            "Epoch 50/200\n",
            "34/34 [==============================] - 0s 2ms/step - loss: 6401.3042 - mae: 6401.3042\n",
            "Epoch 51/200\n",
            "34/34 [==============================] - 0s 2ms/step - loss: 6387.7988 - mae: 6387.7988\n",
            "Epoch 52/200\n",
            "34/34 [==============================] - 0s 2ms/step - loss: 6375.6421 - mae: 6375.6421\n",
            "Epoch 53/200\n",
            "34/34 [==============================] - 0s 3ms/step - loss: 6360.1934 - mae: 6360.1934\n",
            "Epoch 54/200\n",
            "34/34 [==============================] - 0s 2ms/step - loss: 6345.9961 - mae: 6345.9961\n",
            "Epoch 55/200\n",
            "34/34 [==============================] - 0s 2ms/step - loss: 6332.5625 - mae: 6332.5625\n",
            "Epoch 56/200\n",
            "34/34 [==============================] - 0s 2ms/step - loss: 6318.4751 - mae: 6318.4751\n",
            "Epoch 57/200\n",
            "34/34 [==============================] - 0s 2ms/step - loss: 6304.3042 - mae: 6304.3042\n",
            "Epoch 58/200\n",
            "34/34 [==============================] - 0s 3ms/step - loss: 6290.2637 - mae: 6290.2637\n",
            "Epoch 59/200\n",
            "34/34 [==============================] - 0s 3ms/step - loss: 6274.3789 - mae: 6274.3789\n",
            "Epoch 60/200\n",
            "34/34 [==============================] - 0s 3ms/step - loss: 6262.9619 - mae: 6262.9619\n",
            "Epoch 61/200\n",
            "34/34 [==============================] - 0s 3ms/step - loss: 6242.3594 - mae: 6242.3594\n",
            "Epoch 62/200\n",
            "34/34 [==============================] - 0s 3ms/step - loss: 6229.0488 - mae: 6229.0488\n",
            "Epoch 63/200\n",
            "34/34 [==============================] - 0s 3ms/step - loss: 6210.2754 - mae: 6210.2754\n",
            "Epoch 64/200\n",
            "34/34 [==============================] - 0s 3ms/step - loss: 6192.6675 - mae: 6192.6675\n",
            "Epoch 65/200\n",
            "34/34 [==============================] - 0s 3ms/step - loss: 6174.7329 - mae: 6174.7329\n",
            "Epoch 66/200\n",
            "34/34 [==============================] - 0s 3ms/step - loss: 6156.5732 - mae: 6156.5732\n",
            "Epoch 67/200\n",
            "34/34 [==============================] - 0s 3ms/step - loss: 6143.3682 - mae: 6143.3682\n",
            "Epoch 68/200\n",
            "34/34 [==============================] - 0s 3ms/step - loss: 6120.1572 - mae: 6120.1572\n",
            "Epoch 69/200\n",
            "34/34 [==============================] - 0s 3ms/step - loss: 6102.0332 - mae: 6102.0332\n",
            "Epoch 70/200\n",
            "34/34 [==============================] - 0s 3ms/step - loss: 6080.5923 - mae: 6080.5923\n",
            "Epoch 71/200\n",
            "34/34 [==============================] - 0s 3ms/step - loss: 6060.0659 - mae: 6060.0659\n",
            "Epoch 72/200\n",
            "34/34 [==============================] - 0s 3ms/step - loss: 6039.6904 - mae: 6039.6904\n",
            "Epoch 73/200\n",
            "34/34 [==============================] - 0s 3ms/step - loss: 6023.4370 - mae: 6023.4370\n",
            "Epoch 74/200\n",
            "34/34 [==============================] - 0s 3ms/step - loss: 5993.5977 - mae: 5993.5977\n",
            "Epoch 75/200\n",
            "34/34 [==============================] - 0s 3ms/step - loss: 5972.0498 - mae: 5972.0498\n",
            "Epoch 76/200\n",
            "34/34 [==============================] - 0s 3ms/step - loss: 5953.8950 - mae: 5953.8950\n",
            "Epoch 77/200\n",
            "34/34 [==============================] - 0s 3ms/step - loss: 5920.2295 - mae: 5920.2295\n",
            "Epoch 78/200\n",
            "34/34 [==============================] - 0s 3ms/step - loss: 5895.2935 - mae: 5895.2935\n",
            "Epoch 79/200\n",
            "34/34 [==============================] - 0s 3ms/step - loss: 5868.8369 - mae: 5868.8369\n",
            "Epoch 80/200\n",
            "34/34 [==============================] - 0s 3ms/step - loss: 5838.7915 - mae: 5838.7915\n",
            "Epoch 81/200\n",
            "34/34 [==============================] - 0s 3ms/step - loss: 5812.0708 - mae: 5812.0708\n",
            "Epoch 82/200\n",
            "34/34 [==============================] - 0s 3ms/step - loss: 5780.2510 - mae: 5780.2510\n",
            "Epoch 83/200\n",
            "34/34 [==============================] - 0s 3ms/step - loss: 5749.6089 - mae: 5749.6089\n",
            "Epoch 84/200\n",
            "34/34 [==============================] - 0s 3ms/step - loss: 5713.4463 - mae: 5713.4463\n",
            "Epoch 85/200\n",
            "34/34 [==============================] - 0s 3ms/step - loss: 5684.5142 - mae: 5684.5142\n",
            "Epoch 86/200\n",
            "34/34 [==============================] - 0s 3ms/step - loss: 5647.7383 - mae: 5647.7383\n",
            "Epoch 87/200\n",
            "34/34 [==============================] - 0s 3ms/step - loss: 5608.3853 - mae: 5608.3853\n",
            "Epoch 88/200\n",
            "34/34 [==============================] - 0s 2ms/step - loss: 5570.2646 - mae: 5570.2646\n",
            "Epoch 89/200\n",
            "34/34 [==============================] - 0s 2ms/step - loss: 5525.8760 - mae: 5525.8760\n",
            "Epoch 90/200\n",
            "34/34 [==============================] - 0s 2ms/step - loss: 5480.5654 - mae: 5480.5654\n",
            "Epoch 91/200\n",
            "34/34 [==============================] - 0s 2ms/step - loss: 5439.2603 - mae: 5439.2603\n",
            "Epoch 92/200\n",
            "34/34 [==============================] - 0s 2ms/step - loss: 5387.4614 - mae: 5387.4614\n",
            "Epoch 93/200\n",
            "34/34 [==============================] - 0s 2ms/step - loss: 5340.1543 - mae: 5340.1543\n",
            "Epoch 94/200\n",
            "34/34 [==============================] - 0s 2ms/step - loss: 5288.1694 - mae: 5288.1694\n",
            "Epoch 95/200\n",
            "34/34 [==============================] - 0s 2ms/step - loss: 5232.5425 - mae: 5232.5425\n",
            "Epoch 96/200\n",
            "34/34 [==============================] - 0s 2ms/step - loss: 5181.9082 - mae: 5181.9082\n",
            "Epoch 97/200\n",
            "34/34 [==============================] - 0s 2ms/step - loss: 5120.5840 - mae: 5120.5840\n",
            "Epoch 98/200\n",
            "34/34 [==============================] - 0s 2ms/step - loss: 5055.6387 - mae: 5055.6387\n",
            "Epoch 99/200\n",
            "34/34 [==============================] - 0s 2ms/step - loss: 4989.0107 - mae: 4989.0107\n",
            "Epoch 100/200\n",
            "34/34 [==============================] - 0s 2ms/step - loss: 4930.5054 - mae: 4930.5054\n",
            "Epoch 101/200\n",
            "34/34 [==============================] - 0s 2ms/step - loss: 4852.0166 - mae: 4852.0166\n",
            "Epoch 102/200\n",
            "34/34 [==============================] - 0s 2ms/step - loss: 4770.6733 - mae: 4770.6733\n",
            "Epoch 103/200\n",
            "34/34 [==============================] - 0s 3ms/step - loss: 4698.6128 - mae: 4698.6128\n",
            "Epoch 104/200\n",
            "34/34 [==============================] - 0s 2ms/step - loss: 4610.4839 - mae: 4610.4839\n",
            "Epoch 105/200\n",
            "34/34 [==============================] - 0s 2ms/step - loss: 4518.4209 - mae: 4518.4209\n",
            "Epoch 106/200\n",
            "34/34 [==============================] - 0s 2ms/step - loss: 4433.8145 - mae: 4433.8145\n",
            "Epoch 107/200\n",
            "34/34 [==============================] - 0s 2ms/step - loss: 4350.9448 - mae: 4350.9448\n",
            "Epoch 108/200\n",
            "34/34 [==============================] - 0s 2ms/step - loss: 4262.3452 - mae: 4262.3452\n",
            "Epoch 109/200\n",
            "34/34 [==============================] - 0s 2ms/step - loss: 4181.9087 - mae: 4181.9087\n",
            "Epoch 110/200\n",
            "34/34 [==============================] - 0s 2ms/step - loss: 4105.9883 - mae: 4105.9883\n",
            "Epoch 111/200\n",
            "34/34 [==============================] - 0s 2ms/step - loss: 4038.7004 - mae: 4038.7004\n",
            "Epoch 112/200\n",
            "34/34 [==============================] - 0s 2ms/step - loss: 3988.6221 - mae: 3988.6221\n",
            "Epoch 113/200\n",
            "34/34 [==============================] - 0s 2ms/step - loss: 3950.5032 - mae: 3950.5032\n",
            "Epoch 114/200\n",
            "34/34 [==============================] - 0s 2ms/step - loss: 3924.8733 - mae: 3924.8733\n",
            "Epoch 115/200\n",
            "34/34 [==============================] - 0s 2ms/step - loss: 3887.0256 - mae: 3887.0256\n",
            "Epoch 116/200\n",
            "34/34 [==============================] - 0s 2ms/step - loss: 3876.5396 - mae: 3876.5396\n",
            "Epoch 117/200\n",
            "34/34 [==============================] - 0s 2ms/step - loss: 3864.4172 - mae: 3864.4172\n",
            "Epoch 118/200\n",
            "34/34 [==============================] - 0s 2ms/step - loss: 3849.7715 - mae: 3849.7715\n",
            "Epoch 119/200\n",
            "34/34 [==============================] - 0s 2ms/step - loss: 3833.4971 - mae: 3833.4971\n",
            "Epoch 120/200\n",
            "34/34 [==============================] - 0s 2ms/step - loss: 3821.6265 - mae: 3821.6265\n",
            "Epoch 121/200\n",
            "34/34 [==============================] - 0s 3ms/step - loss: 3814.8579 - mae: 3814.8579\n",
            "Epoch 122/200\n",
            "34/34 [==============================] - 0s 2ms/step - loss: 3810.8301 - mae: 3810.8301\n",
            "Epoch 123/200\n",
            "34/34 [==============================] - 0s 2ms/step - loss: 3804.3413 - mae: 3804.3413\n",
            "Epoch 124/200\n",
            "34/34 [==============================] - 0s 2ms/step - loss: 3798.8374 - mae: 3798.8374\n",
            "Epoch 125/200\n",
            "34/34 [==============================] - 0s 2ms/step - loss: 3788.5667 - mae: 3788.5667\n",
            "Epoch 126/200\n",
            "34/34 [==============================] - 0s 2ms/step - loss: 3799.1030 - mae: 3799.1030\n",
            "Epoch 127/200\n",
            "34/34 [==============================] - 0s 2ms/step - loss: 3792.9478 - mae: 3792.9478\n",
            "Epoch 128/200\n",
            "34/34 [==============================] - 0s 2ms/step - loss: 3787.2026 - mae: 3787.2026\n",
            "Epoch 129/200\n",
            "34/34 [==============================] - 0s 2ms/step - loss: 3797.3472 - mae: 3797.3472\n",
            "Epoch 130/200\n",
            "34/34 [==============================] - 0s 2ms/step - loss: 3786.9255 - mae: 3786.9255\n",
            "Epoch 131/200\n",
            "34/34 [==============================] - 0s 2ms/step - loss: 3778.9419 - mae: 3778.9419\n",
            "Epoch 132/200\n",
            "34/34 [==============================] - 0s 2ms/step - loss: 3772.6306 - mae: 3772.6306\n",
            "Epoch 133/200\n",
            "34/34 [==============================] - 0s 2ms/step - loss: 3768.1567 - mae: 3768.1567\n",
            "Epoch 134/200\n",
            "34/34 [==============================] - 0s 2ms/step - loss: 3767.9824 - mae: 3767.9824\n",
            "Epoch 135/200\n",
            "34/34 [==============================] - 0s 2ms/step - loss: 3764.3865 - mae: 3764.3865\n",
            "Epoch 136/200\n",
            "34/34 [==============================] - 0s 2ms/step - loss: 3763.5022 - mae: 3763.5022\n",
            "Epoch 137/200\n",
            "34/34 [==============================] - 0s 2ms/step - loss: 3769.3977 - mae: 3769.3977\n",
            "Epoch 138/200\n",
            "34/34 [==============================] - 0s 2ms/step - loss: 3781.0999 - mae: 3781.0999\n",
            "Epoch 139/200\n",
            "34/34 [==============================] - 0s 2ms/step - loss: 3758.8074 - mae: 3758.8074\n",
            "Epoch 140/200\n",
            "34/34 [==============================] - 0s 2ms/step - loss: 3759.9939 - mae: 3759.9939\n",
            "Epoch 141/200\n",
            "34/34 [==============================] - 0s 2ms/step - loss: 3760.7610 - mae: 3760.7610\n",
            "Epoch 142/200\n",
            "34/34 [==============================] - 0s 2ms/step - loss: 3763.4749 - mae: 3763.4749\n",
            "Epoch 143/200\n",
            "34/34 [==============================] - 0s 2ms/step - loss: 3752.0291 - mae: 3752.0291\n",
            "Epoch 144/200\n",
            "34/34 [==============================] - 0s 2ms/step - loss: 3748.0510 - mae: 3748.0510\n",
            "Epoch 145/200\n",
            "34/34 [==============================] - 0s 2ms/step - loss: 3748.9907 - mae: 3748.9907\n",
            "Epoch 146/200\n",
            "34/34 [==============================] - 0s 3ms/step - loss: 3752.6118 - mae: 3752.6118\n",
            "Epoch 147/200\n",
            "34/34 [==============================] - 0s 2ms/step - loss: 3749.5134 - mae: 3749.5134\n",
            "Epoch 148/200\n",
            "34/34 [==============================] - 0s 2ms/step - loss: 3752.7185 - mae: 3752.7185\n",
            "Epoch 149/200\n",
            "34/34 [==============================] - 0s 2ms/step - loss: 3740.8552 - mae: 3740.8552\n",
            "Epoch 150/200\n",
            "34/34 [==============================] - 0s 2ms/step - loss: 3736.7393 - mae: 3736.7393\n",
            "Epoch 151/200\n",
            "34/34 [==============================] - 0s 2ms/step - loss: 3739.0557 - mae: 3739.0557\n",
            "Epoch 152/200\n",
            "34/34 [==============================] - 0s 2ms/step - loss: 3740.2212 - mae: 3740.2212\n",
            "Epoch 153/200\n",
            "34/34 [==============================] - 0s 2ms/step - loss: 3743.1584 - mae: 3743.1584\n",
            "Epoch 154/200\n",
            "34/34 [==============================] - 0s 2ms/step - loss: 3735.4092 - mae: 3735.4092\n",
            "Epoch 155/200\n",
            "34/34 [==============================] - 0s 2ms/step - loss: 3736.3494 - mae: 3736.3494\n",
            "Epoch 156/200\n",
            "34/34 [==============================] - 0s 2ms/step - loss: 3734.9473 - mae: 3734.9473\n",
            "Epoch 157/200\n",
            "34/34 [==============================] - 0s 2ms/step - loss: 3731.8174 - mae: 3731.8174\n",
            "Epoch 158/200\n",
            "34/34 [==============================] - 0s 2ms/step - loss: 3727.5454 - mae: 3727.5454\n",
            "Epoch 159/200\n",
            "34/34 [==============================] - 0s 2ms/step - loss: 3724.3940 - mae: 3724.3940\n",
            "Epoch 160/200\n",
            "34/34 [==============================] - 0s 2ms/step - loss: 3731.4814 - mae: 3731.4814\n",
            "Epoch 161/200\n",
            "34/34 [==============================] - 0s 2ms/step - loss: 3726.1917 - mae: 3726.1917\n",
            "Epoch 162/200\n",
            "34/34 [==============================] - 0s 2ms/step - loss: 3724.0029 - mae: 3724.0029\n",
            "Epoch 163/200\n",
            "34/34 [==============================] - 0s 2ms/step - loss: 3720.5383 - mae: 3720.5383\n",
            "Epoch 164/200\n",
            "34/34 [==============================] - 0s 2ms/step - loss: 3725.3159 - mae: 3725.3159\n",
            "Epoch 165/200\n",
            "34/34 [==============================] - 0s 2ms/step - loss: 3716.0627 - mae: 3716.0627\n",
            "Epoch 166/200\n",
            "34/34 [==============================] - 0s 2ms/step - loss: 3718.1851 - mae: 3718.1851\n",
            "Epoch 167/200\n",
            "34/34 [==============================] - 0s 2ms/step - loss: 3718.6687 - mae: 3718.6687\n",
            "Epoch 168/200\n",
            "34/34 [==============================] - 0s 2ms/step - loss: 3713.5532 - mae: 3713.5532\n",
            "Epoch 169/200\n",
            "34/34 [==============================] - 0s 2ms/step - loss: 3712.2468 - mae: 3712.2468\n",
            "Epoch 170/200\n",
            "34/34 [==============================] - 0s 2ms/step - loss: 3706.2241 - mae: 3706.2241\n",
            "Epoch 171/200\n",
            "34/34 [==============================] - 0s 3ms/step - loss: 3705.4158 - mae: 3705.4158\n",
            "Epoch 172/200\n",
            "34/34 [==============================] - 0s 2ms/step - loss: 3708.8960 - mae: 3708.8960\n",
            "Epoch 173/200\n",
            "34/34 [==============================] - 0s 2ms/step - loss: 3702.1243 - mae: 3702.1243\n",
            "Epoch 174/200\n",
            "34/34 [==============================] - 0s 2ms/step - loss: 3707.2117 - mae: 3707.2117\n",
            "Epoch 175/200\n",
            "34/34 [==============================] - 0s 2ms/step - loss: 3708.6624 - mae: 3708.6624\n",
            "Epoch 176/200\n",
            "34/34 [==============================] - 0s 2ms/step - loss: 3704.5620 - mae: 3704.5620\n",
            "Epoch 177/200\n",
            "34/34 [==============================] - 0s 2ms/step - loss: 3697.0764 - mae: 3697.0764\n",
            "Epoch 178/200\n",
            "34/34 [==============================] - 0s 2ms/step - loss: 3694.4570 - mae: 3694.4570\n",
            "Epoch 179/200\n",
            "34/34 [==============================] - 0s 2ms/step - loss: 3705.8315 - mae: 3705.8315\n",
            "Epoch 180/200\n",
            "34/34 [==============================] - 0s 2ms/step - loss: 3709.2288 - mae: 3709.2288\n",
            "Epoch 181/200\n",
            "34/34 [==============================] - 0s 2ms/step - loss: 3695.2756 - mae: 3695.2756\n",
            "Epoch 182/200\n",
            "34/34 [==============================] - 0s 2ms/step - loss: 3691.3381 - mae: 3691.3381\n",
            "Epoch 183/200\n",
            "34/34 [==============================] - 0s 2ms/step - loss: 3689.5210 - mae: 3689.5210\n",
            "Epoch 184/200\n",
            "34/34 [==============================] - 0s 2ms/step - loss: 3695.8701 - mae: 3695.8701\n",
            "Epoch 185/200\n",
            "34/34 [==============================] - 0s 2ms/step - loss: 3692.1895 - mae: 3692.1895\n",
            "Epoch 186/200\n",
            "34/34 [==============================] - 0s 2ms/step - loss: 3695.1060 - mae: 3695.1060\n",
            "Epoch 187/200\n",
            "34/34 [==============================] - 0s 2ms/step - loss: 3687.1357 - mae: 3687.1357\n",
            "Epoch 188/200\n",
            "34/34 [==============================] - 0s 2ms/step - loss: 3693.2361 - mae: 3693.2361\n",
            "Epoch 189/200\n",
            "34/34 [==============================] - 0s 2ms/step - loss: 3682.9382 - mae: 3682.9382\n",
            "Epoch 190/200\n",
            "34/34 [==============================] - 0s 2ms/step - loss: 3679.7881 - mae: 3679.7881\n",
            "Epoch 191/200\n",
            "34/34 [==============================] - 0s 2ms/step - loss: 3695.1206 - mae: 3695.1206\n",
            "Epoch 192/200\n",
            "34/34 [==============================] - 0s 2ms/step - loss: 3681.7229 - mae: 3681.7229\n",
            "Epoch 193/200\n",
            "34/34 [==============================] - 0s 2ms/step - loss: 3673.0220 - mae: 3673.0220\n",
            "Epoch 194/200\n",
            "34/34 [==============================] - 0s 2ms/step - loss: 3674.3477 - mae: 3674.3477\n",
            "Epoch 195/200\n",
            "34/34 [==============================] - 0s 2ms/step - loss: 3671.1738 - mae: 3671.1738\n",
            "Epoch 196/200\n",
            "34/34 [==============================] - 0s 2ms/step - loss: 3680.0815 - mae: 3680.0815\n",
            "Epoch 197/200\n",
            "34/34 [==============================] - 0s 2ms/step - loss: 3664.7312 - mae: 3664.7312\n",
            "Epoch 198/200\n",
            "34/34 [==============================] - 0s 2ms/step - loss: 3670.9702 - mae: 3670.9702\n",
            "Epoch 199/200\n",
            "34/34 [==============================] - 0s 2ms/step - loss: 3679.2961 - mae: 3679.2961\n",
            "Epoch 200/200\n",
            "34/34 [==============================] - 0s 2ms/step - loss: 3665.8342 - mae: 3665.8342\n"
          ]
        }
      ]
    },
    {
      "cell_type": "code",
      "source": [
        "insurance_model_3.evaluate(X_test,y_test)"
      ],
      "metadata": {
        "colab": {
          "base_uri": "https://localhost:8080/"
        },
        "id": "7uHJQC4rqBle",
        "outputId": "2a97ee06-dcae-454c-a3c7-043ecaacaad8"
      },
      "execution_count": 83,
      "outputs": [
        {
          "output_type": "stream",
          "name": "stdout",
          "text": [
            "9/9 [==============================] - 0s 2ms/step - loss: 3488.8347 - mae: 3488.8347\n"
          ]
        },
        {
          "output_type": "execute_result",
          "data": {
            "text/plain": [
              "[3488.834716796875, 3488.834716796875]"
            ]
          },
          "metadata": {},
          "execution_count": 83
        }
      ]
    },
    {
      "cell_type": "code",
      "source": [
        "pd.DataFrame(history.history).plot()"
      ],
      "metadata": {
        "colab": {
          "base_uri": "https://localhost:8080/",
          "height": 447
        },
        "id": "oYwZd3AvqLPS",
        "outputId": "8a439138-41e8-49ca-fb77-d5684de1262e"
      },
      "execution_count": 85,
      "outputs": [
        {
          "output_type": "execute_result",
          "data": {
            "text/plain": [
              "<Axes: >"
            ]
          },
          "metadata": {},
          "execution_count": 85
        },
        {
          "output_type": "display_data",
          "data": {
            "text/plain": [
              "<Figure size 640x480 with 1 Axes>"
            ],
            "image/png": "[encoded data removed]"
          },
          "metadata": {}
        }
      ]
    },
    {
      "cell_type": "markdown",
      "source": [
        "## Normalization and standardization"
      ],
      "metadata": {
        "id": "BjHJqXRxSPvt"
      }
    },
    {
      "cell_type": "code",
      "source": [
        "X"
      ],
      "metadata": {
        "colab": {
          "base_uri": "https://localhost:8080/",
          "height": 424
        },
        "id": "c7Gsq2IRS7SG",
        "outputId": "79f75bcb-f0be-4a03-b395-922212718ec5"
      },
      "execution_count": 86,
      "outputs": [
        {
          "output_type": "execute_result",
          "data": {
            "text/plain": [
              "      age     bmi  children  sex_female  sex_male  smoker_no  smoker_yes  \\\n",
              "0      19  27.900         0           1         0          0           1   \n",
              "1      18  33.770         1           0         1          1           0   \n",
              "2      28  33.000         3           0         1          1           0   \n",
              "3      33  22.705         0           0         1          1           0   \n",
              "4      32  28.880         0           0         1          1           0   \n",
              "...   ...     ...       ...         ...       ...        ...         ...   \n",
              "1333   50  30.970         3           0         1          1           0   \n",
              "1334   18  31.920         0           1         0          1           0   \n",
              "1335   18  36.850         0           1         0          1           0   \n",
              "1336   21  25.800         0           1         0          1           0   \n",
              "1337   61  29.070         0           1         0          0           1   \n",
              "\n",
              "      region_northeast  region_northwest  region_southeast  region_southwest  \n",
              "0                    0                 0                 0                 1  \n",
              "1                    0                 0                 1                 0  \n",
              "2                    0                 0                 1                 0  \n",
              "3                    0                 1                 0                 0  \n",
              "4                    0                 1                 0                 0  \n",
              "...                ...               ...               ...               ...  \n",
              "1333                 0                 1                 0                 0  \n",
              "1334                 1                 0                 0                 0  \n",
              "1335                 0                 0                 1                 0  \n",
              "1336                 0                 0                 0                 1  \n",
              "1337                 0                 1                 0                 0  \n",
              "\n",
              "[1338 rows x 11 columns]"
            ],
            "text/html": [
              "\n",
              "  <div id=\"df-e5f6785e-94e4-4474-89f2-09c86ec95d30\">\n",
              "    <div class=\"colab-df-container\">\n",
              "      <div>\n",
              "<style scoped>\n",
              "    .dataframe tbody tr th:only-of-type {\n",
              "        vertical-align: middle;\n",
              "    }\n",
              "\n",
              "    .dataframe tbody tr th {\n",
              "        vertical-align: top;\n",
              "    }\n",
              "\n",
              "    .dataframe thead th {\n",
              "        text-align: right;\n",
              "    }\n",
              "</style>\n",
              "<table border=\"1\" class=\"dataframe\">\n",
              "  <thead>\n",
              "    <tr style=\"text-align: right;\">\n",
              "      <th></th>\n",
              "      <th>age</th>\n",
              "      <th>bmi</th>\n",
              "      <th>children</th>\n",
              "      <th>sex_female</th>\n",
              "      <th>sex_male</th>\n",
              "      <th>smoker_no</th>\n",
              "      <th>smoker_yes</th>\n",
              "      <th>region_northeast</th>\n",
              "      <th>region_northwest</th>\n",
              "      <th>region_southeast</th>\n",
              "      <th>region_southwest</th>\n",
              "    </tr>\n",
              "  </thead>\n",
              "  <tbody>\n",
              "    <tr>\n",
              "      <th>0</th>\n",
              "      <td>19</td>\n",
              "      <td>27.900</td>\n",
              "      <td>0</td>\n",
              "      <td>1</td>\n",
              "      <td>0</td>\n",
              "      <td>0</td>\n",
              "      <td>1</td>\n",
              "      <td>0</td>\n",
              "      <td>0</td>\n",
              "      <td>0</td>\n",
              "      <td>1</td>\n",
              "    </tr>\n",
              "    <tr>\n",
              "      <th>1</th>\n",
              "      <td>18</td>\n",
              "      <td>33.770</td>\n",
              "      <td>1</td>\n",
              "      <td>0</td>\n",
              "      <td>1</td>\n",
              "      <td>1</td>\n",
              "      <td>0</td>\n",
              "      <td>0</td>\n",
              "      <td>0</td>\n",
              "      <td>1</td>\n",
              "      <td>0</td>\n",
              "    </tr>\n",
              "    <tr>\n",
              "      <th>2</th>\n",
              "      <td>28</td>\n",
              "      <td>33.000</td>\n",
              "      <td>3</td>\n",
              "      <td>0</td>\n",
              "      <td>1</td>\n",
              "      <td>1</td>\n",
              "      <td>0</td>\n",
              "      <td>0</td>\n",
              "      <td>0</td>\n",
              "      <td>1</td>\n",
              "      <td>0</td>\n",
              "    </tr>\n",
              "    <tr>\n",
              "      <th>3</th>\n",
              "      <td>33</td>\n",
              "      <td>22.705</td>\n",
              "      <td>0</td>\n",
              "      <td>0</td>\n",
              "      <td>1</td>\n",
              "      <td>1</td>\n",
              "      <td>0</td>\n",
              "      <td>0</td>\n",
              "      <td>1</td>\n",
              "      <td>0</td>\n",
              "      <td>0</td>\n",
              "    </tr>\n",
              "    <tr>\n",
              "      <th>4</th>\n",
              "      <td>32</td>\n",
              "      <td>28.880</td>\n",
              "      <td>0</td>\n",
              "      <td>0</td>\n",
              "      <td>1</td>\n",
              "      <td>1</td>\n",
              "      <td>0</td>\n",
              "      <td>0</td>\n",
              "      <td>1</td>\n",
              "      <td>0</td>\n",
              "      <td>0</td>\n",
              "    </tr>\n",
              "    <tr>\n",
              "      <th>...</th>\n",
              "      <td>...</td>\n",
              "      <td>...</td>\n",
              "      <td>...</td>\n",
              "      <td>...</td>\n",
              "      <td>...</td>\n",
              "      <td>...</td>\n",
              "      <td>...</td>\n",
              "      <td>...</td>\n",
              "      <td>...</td>\n",
              "      <td>...</td>\n",
              "      <td>...</td>\n",
              "    </tr>\n",
              "    <tr>\n",
              "      <th>1333</th>\n",
              "      <td>50</td>\n",
              "      <td>30.970</td>\n",
              "      <td>3</td>\n",
              "      <td>0</td>\n",
              "      <td>1</td>\n",
              "      <td>1</td>\n",
              "      <td>0</td>\n",
              "      <td>0</td>\n",
              "      <td>1</td>\n",
              "      <td>0</td>\n",
              "      <td>0</td>\n",
              "    </tr>\n",
              "    <tr>\n",
              "      <th>1334</th>\n",
              "      <td>18</td>\n",
              "      <td>31.920</td>\n",
              "      <td>0</td>\n",
              "      <td>1</td>\n",
              "      <td>0</td>\n",
              "      <td>1</td>\n",
              "      <td>0</td>\n",
              "      <td>1</td>\n",
              "      <td>0</td>\n",
              "      <td>0</td>\n",
              "      <td>0</td>\n",
              "    </tr>\n",
              "    <tr>\n",
              "      <th>1335</th>\n",
              "      <td>18</td>\n",
              "      <td>36.850</td>\n",
              "      <td>0</td>\n",
              "      <td>1</td>\n",
              "      <td>0</td>\n",
              "      <td>1</td>\n",
              "      <td>0</td>\n",
              "      <td>0</td>\n",
              "      <td>0</td>\n",
              "      <td>1</td>\n",
              "      <td>0</td>\n",
              "    </tr>\n",
              "    <tr>\n",
              "      <th>1336</th>\n",
              "      <td>21</td>\n",
              "      <td>25.800</td>\n",
              "      <td>0</td>\n",
              "      <td>1</td>\n",
              "      <td>0</td>\n",
              "      <td>1</td>\n",
              "      <td>0</td>\n",
              "      <td>0</td>\n",
              "      <td>0</td>\n",
              "      <td>0</td>\n",
              "      <td>1</td>\n",
              "    </tr>\n",
              "    <tr>\n",
              "      <th>1337</th>\n",
              "      <td>61</td>\n",
              "      <td>29.070</td>\n",
              "      <td>0</td>\n",
              "      <td>1</td>\n",
              "      <td>0</td>\n",
              "      <td>0</td>\n",
              "      <td>1</td>\n",
              "      <td>0</td>\n",
              "      <td>1</td>\n",
              "      <td>0</td>\n",
              "      <td>0</td>\n",
              "    </tr>\n",
              "  </tbody>\n",
              "</table>\n",
              "<p>1338 rows × 11 columns</p>\n",
              "</div>\n",
              "      <button class=\"colab-df-convert\" onclick=\"convertToInteractive('df-e5f6785e-94e4-4474-89f2-09c86ec95d30')\"\n",
              "              title=\"Convert this dataframe to an interactive table.\"\n",
              "              style=\"display:none;\">\n",
              "        \n",
              "  <svg xmlns=\"http://www.w3.org/2000/svg\" height=\"24px\"viewBox=\"0 0 24 24\"\n",
              "       width=\"24px\">\n",
              "    <path d=\"M0 0h24v24H0V0z\" fill=\"none\"/>\n",
              "    <path d=\"M18.56 5.44l.94 2.06.94-2.06 2.06-.94-2.06-.94-.94-2.06-.94 2.06-2.06.94zm-11 1L8.5 8.5l.94-2.06 2.06-.94-2.06-.94L8.5 2.5l-.94 2.06-2.06.94zm10 10l.94 2.06.94-2.06 2.06-.94-2.06-.94-.94-2.06-.94 2.06-2.06.94z\"/><path d=\"M17.41 7.96l-1.37-1.37c-.4-.4-.92-.59-1.43-.59-.52 0-1.04.2-1.43.59L10.3 9.45l-7.72 7.72c-.78.78-.78 2.05 0 2.83L4 21.41c.39.39.9.59 1.41.59.51 0 1.02-.2 1.41-.59l7.78-7.78 2.81-2.81c.8-.78.8-2.07 0-2.86zM5.41 20L4 18.59l7.72-7.72 1.47 1.35L5.41 20z\"/>\n",
              "  </svg>\n",
              "      </button>\n",
              "      \n",
              "  <style>\n",
              "    .colab-df-container {\n",
              "      display:flex;\n",
              "      flex-wrap:wrap;\n",
              "      gap: 12px;\n",
              "    }\n",
              "\n",
              "    .colab-df-convert {\n",
              "      background-color: #E8F0FE;\n",
              "      border: none;\n",
              "      border-radius: 50%;\n",
              "      cursor: pointer;\n",
              "      display: none;\n",
              "      fill: #1967D2;\n",
              "      height: 32px;\n",
              "      padding: 0 0 0 0;\n",
              "      width: 32px;\n",
              "    }\n",
              "\n",
              "    .colab-df-convert:hover {\n",
              "      background-color: #E2EBFA;\n",
              "      box-shadow: 0px 1px 2px rgba(60, 64, 67, 0.3), 0px 1px 3px 1px rgba(60, 64, 67, 0.15);\n",
              "      fill: #174EA6;\n",
              "    }\n",
              "\n",
              "    [theme=dark] .colab-df-convert {\n",
              "      background-color: #3B4455;\n",
              "      fill: #D2E3FC;\n",
              "    }\n",
              "\n",
              "    [theme=dark] .colab-df-convert:hover {\n",
              "      background-color: #434B5C;\n",
              "      box-shadow: 0px 1px 3px 1px rgba(0, 0, 0, 0.15);\n",
              "      filter: drop-shadow(0px 1px 2px rgba(0, 0, 0, 0.3));\n",
              "      fill: #FFFFFF;\n",
              "    }\n",
              "  </style>\n",
              "\n",
              "      <script>\n",
              "        const buttonEl =\n",
              "          document.querySelector('#df-e5f6785e-94e4-4474-89f2-09c86ec95d30 button.colab-df-convert');\n",
              "        buttonEl.style.display =\n",
              "          google.colab.kernel.accessAllowed ? 'block' : 'none';\n",
              "\n",
              "        async function convertToInteractive(key) {\n",
              "          const element = document.querySelector('#df-e5f6785e-94e4-4474-89f2-09c86ec95d30');\n",
              "          const dataTable =\n",
              "            await google.colab.kernel.invokeFunction('convertToInteractive',\n",
              "                                                     [key], {});\n",
              "          if (!dataTable) return;\n",
              "\n",
              "          const docLinkHtml = 'Like what you see? Visit the ' +\n",
              "            '<a target=\"_blank\" href=https://colab.research.google.com/notebooks/data_table.ipynb>data table notebook</a>'\n",
              "            + ' to learn more about interactive tables.';\n",
              "          element.innerHTML = '';\n",
              "          dataTable['output_type'] = 'display_data';\n",
              "          await google.colab.output.renderOutput(dataTable, element);\n",
              "          const docLink = document.createElement('div');\n",
              "          docLink.innerHTML = docLinkHtml;\n",
              "          element.appendChild(docLink);\n",
              "        }\n",
              "      </script>\n",
              "    </div>\n",
              "  </div>\n",
              "  "
            ]
          },
          "metadata": {},
          "execution_count": 86
        }
      ]
    },
    {
      "cell_type": "code",
      "source": [
        "X[\"age\"].plot(kind='hist')"
      ],
      "metadata": {
        "colab": {
          "base_uri": "https://localhost:8080/",
          "height": 447
        },
        "id": "zifamdzzS-sP",
        "outputId": "94a1d980-6f3b-4f53-dd17-9e47aa41bd4c"
      },
      "execution_count": 87,
      "outputs": [
        {
          "output_type": "execute_result",
          "data": {
            "text/plain": [
              "<Axes: ylabel='Frequency'>"
            ]
          },
          "metadata": {},
          "execution_count": 87
        },
        {
          "output_type": "display_data",
          "data": {
            "text/plain": [
              "<Figure size 640x480 with 1 Axes>"
            ],
            "image/png": "[encoded data removed]"
          },
          "metadata": {}
        }
      ]
    },
    {
      "cell_type": "code",
      "source": [
        "X['bmi'].plot(kind='hist')"
      ],
      "metadata": {
        "colab": {
          "base_uri": "https://localhost:8080/",
          "height": 447
        },
        "id": "V65M_j0rTHgV",
        "outputId": "92210556-eab2-4ed2-86df-2ff950966ed0"
      },
      "execution_count": 88,
      "outputs": [
        {
          "output_type": "execute_result",
          "data": {
            "text/plain": [
              "<Axes: ylabel='Frequency'>"
            ]
          },
          "metadata": {},
          "execution_count": 88
        },
        {
          "output_type": "display_data",
          "data": {
            "text/plain": [
              "<Figure size 640x480 with 1 Axes>"
            ],
            "image/png": "[encoded data removed]"
          },
          "metadata": {}
        }
      ]
    },
    {
      "cell_type": "code",
      "source": [
        "X[\"children\"].value_counts()"
      ],
      "metadata": {
        "colab": {
          "base_uri": "https://localhost:8080/"
        },
        "id": "XpvzGFZTTMdR",
        "outputId": "fb061e2e-00d0-4771-de75-56973a6a80cb"
      },
      "execution_count": 89,
      "outputs": [
        {
          "output_type": "execute_result",
          "data": {
            "text/plain": [
              "0    574\n",
              "1    324\n",
              "2    240\n",
              "3    157\n",
              "4     25\n",
              "5     18\n",
              "Name: children, dtype: int64"
            ]
          },
          "metadata": {},
          "execution_count": 89
        }
      ]
    },
    {
      "cell_type": "code",
      "source": [
        "from sklearn.compose import make_column_transformer\n",
        "from sklearn.preprocessing import MinMaxScaler, OneHotEncoder\n",
        "from sklearn.model_selection import train_test_split\n",
        "ct = make_column_transformer(\n",
        "    (MinMaxScaler(),['age','bmi','children']),\n",
        "    (OneHotEncoder(handle_unknown=\"ignore\"), ['sex','smoker','region']))                         \n",
        "\n",
        "X = insurance.drop('charges',axis=1)\n",
        "y = insurance.charges\n",
        "\n",
        "X_train, X_test, y_train, y_test = train_test_split(X,y, test_size=0.2, random_state=42)\n",
        "\n",
        "ct.fit(X_train)\n",
        "\n",
        "X_train_normal = ct.transform(X_train)\n",
        "X_test_normal = ct.transform(X_test)"
      ],
      "metadata": {
        "id": "IfiMB77lTQKe"
      },
      "execution_count": 97,
      "outputs": []
    },
    {
      "cell_type": "code",
      "source": [
        "X_train_normal[0]"
      ],
      "metadata": {
        "colab": {
          "base_uri": "https://localhost:8080/"
        },
        "id": "CdWlnCQXUeET",
        "outputId": "2d787cef-5954-4e39-c596-14fcf312140a"
      },
      "execution_count": 101,
      "outputs": [
        {
          "output_type": "execute_result",
          "data": {
            "text/plain": [
              "array([0.60869565, 0.10734463, 0.4       , 1.        , 0.        ,\n",
              "       1.        , 0.        , 0.        , 1.        , 0.        ,\n",
              "       0.        ])"
            ]
          },
          "metadata": {},
          "execution_count": 101
        }
      ]
    },
    {
      "cell_type": "code",
      "source": [
        "X_train.shape, X_train_normal.shape"
      ],
      "metadata": {
        "colab": {
          "base_uri": "https://localhost:8080/"
        },
        "id": "Zqaj-RElWNcO",
        "outputId": "6091b4dc-f9e9-4f1a-edfe-9d6a3171c517"
      },
      "execution_count": 102,
      "outputs": [
        {
          "output_type": "execute_result",
          "data": {
            "text/plain": [
              "((1070, 6), (1070, 11))"
            ]
          },
          "metadata": {},
          "execution_count": 102
        }
      ]
    },
    {
      "cell_type": "code",
      "source": [
        "tf.random.set_seed(42)\n",
        "\n",
        "insurance_model_normal = tf.keras.Sequential([\n",
        "tf.keras.layers.Dense(100),    \n",
        "tf.keras.layers.Dense(10),    \n",
        "tf.keras.layers.Dense(1)    \n",
        "])\n",
        "\n",
        "insurance_model_normal.compile(loss=tf.keras.losses.mae, optimizer=tf.keras.optimizers.Adam(), metrics = ['mae'])\n",
        "history = insurance_model_normal.fit(X_train_normal, y_train, epochs=100)"
      ],
      "metadata": {
        "colab": {
          "base_uri": "https://localhost:8080/"
        },
        "id": "IT6qIQzQWmbV",
        "outputId": "ccaf1c8c-d140-4671-9990-1caf37eb5469"
      },
      "execution_count": 111,
      "outputs": [
        {
          "output_type": "stream",
          "name": "stdout",
          "text": [
            "Epoch 1/100\n",
            "34/34 [==============================] - 1s 2ms/step - loss: 13343.6514 - mae: 13343.6514\n",
            "Epoch 2/100\n",
            "34/34 [==============================] - 0s 2ms/step - loss: 13333.9814 - mae: 13333.9814\n",
            "Epoch 3/100\n",
            "34/34 [==============================] - 0s 2ms/step - loss: 13309.7422 - mae: 13309.7422\n",
            "Epoch 4/100\n",
            "34/34 [==============================] - 0s 2ms/step - loss: 13259.6631 - mae: 13259.6631\n",
            "Epoch 5/100\n",
            "34/34 [==============================] - 0s 2ms/step - loss: 13172.5684 - mae: 13172.5684\n",
            "Epoch 6/100\n",
            "34/34 [==============================] - 0s 2ms/step - loss: 13037.5518 - mae: 13037.5518\n",
            "Epoch 7/100\n",
            "34/34 [==============================] - 0s 2ms/step - loss: 12844.5918 - mae: 12844.5918\n",
            "Epoch 8/100\n",
            "34/34 [==============================] - 0s 2ms/step - loss: 12583.5938 - mae: 12583.5938\n",
            "Epoch 9/100\n",
            "34/34 [==============================] - 0s 2ms/step - loss: 12244.2715 - mae: 12244.2715\n",
            "Epoch 10/100\n",
            "34/34 [==============================] - 0s 2ms/step - loss: 11825.6729 - mae: 11825.6729\n",
            "Epoch 11/100\n",
            "34/34 [==============================] - 0s 2ms/step - loss: 11341.0098 - mae: 11341.0098\n",
            "Epoch 12/100\n",
            "34/34 [==============================] - 0s 2ms/step - loss: 10833.8438 - mae: 10833.8438\n",
            "Epoch 13/100\n",
            "34/34 [==============================] - 0s 2ms/step - loss: 10333.4180 - mae: 10333.4180\n",
            "Epoch 14/100\n",
            "34/34 [==============================] - 0s 2ms/step - loss: 9843.5098 - mae: 9843.5098\n",
            "Epoch 15/100\n",
            "34/34 [==============================] - 0s 2ms/step - loss: 9385.8096 - mae: 9385.8096\n",
            "Epoch 16/100\n",
            "34/34 [==============================] - 0s 2ms/step - loss: 8982.6543 - mae: 8982.6543\n",
            "Epoch 17/100\n",
            "34/34 [==============================] - 0s 2ms/step - loss: 8651.6250 - mae: 8651.6250\n",
            "Epoch 18/100\n",
            "34/34 [==============================] - 0s 2ms/step - loss: 8384.2666 - mae: 8384.2666\n",
            "Epoch 19/100\n",
            "34/34 [==============================] - 0s 2ms/step - loss: 8187.6553 - mae: 8187.6553\n",
            "Epoch 20/100\n",
            "34/34 [==============================] - 0s 2ms/step - loss: 8051.2578 - mae: 8051.2578\n",
            "Epoch 21/100\n",
            "34/34 [==============================] - 0s 2ms/step - loss: 7950.6021 - mae: 7950.6021\n",
            "Epoch 22/100\n",
            "34/34 [==============================] - 0s 2ms/step - loss: 7880.9868 - mae: 7880.9868\n",
            "Epoch 23/100\n",
            "34/34 [==============================] - 0s 2ms/step - loss: 7824.9375 - mae: 7824.9375\n",
            "Epoch 24/100\n",
            "34/34 [==============================] - 0s 2ms/step - loss: 7773.8047 - mae: 7773.8047\n",
            "Epoch 25/100\n",
            "34/34 [==============================] - 0s 2ms/step - loss: 7734.7319 - mae: 7734.7319\n",
            "Epoch 26/100\n",
            "34/34 [==============================] - 0s 2ms/step - loss: 7683.0933 - mae: 7683.0933\n",
            "Epoch 27/100\n",
            "34/34 [==============================] - 0s 2ms/step - loss: 7640.0835 - mae: 7640.0835\n",
            "Epoch 28/100\n",
            "34/34 [==============================] - 0s 2ms/step - loss: 7596.7290 - mae: 7596.7290\n",
            "Epoch 29/100\n",
            "34/34 [==============================] - 0s 2ms/step - loss: 7552.8569 - mae: 7552.8569\n",
            "Epoch 30/100\n",
            "34/34 [==============================] - 0s 2ms/step - loss: 7508.2881 - mae: 7508.2881\n",
            "Epoch 31/100\n",
            "34/34 [==============================] - 0s 2ms/step - loss: 7463.1992 - mae: 7463.1992\n",
            "Epoch 32/100\n",
            "34/34 [==============================] - 0s 2ms/step - loss: 7417.7998 - mae: 7417.7998\n",
            "Epoch 33/100\n",
            "34/34 [==============================] - 0s 2ms/step - loss: 7372.1802 - mae: 7372.1802\n",
            "Epoch 34/100\n",
            "34/34 [==============================] - 0s 2ms/step - loss: 7322.4810 - mae: 7322.4810\n",
            "Epoch 35/100\n",
            "34/34 [==============================] - 0s 2ms/step - loss: 7274.1455 - mae: 7274.1455\n",
            "Epoch 36/100\n",
            "34/34 [==============================] - 0s 2ms/step - loss: 7222.5894 - mae: 7222.5894\n",
            "Epoch 37/100\n",
            "34/34 [==============================] - 0s 2ms/step - loss: 7170.6182 - mae: 7170.6182\n",
            "Epoch 38/100\n",
            "34/34 [==============================] - 0s 2ms/step - loss: 7117.8584 - mae: 7117.8584\n",
            "Epoch 39/100\n",
            "34/34 [==============================] - 0s 2ms/step - loss: 7061.1367 - mae: 7061.1367\n",
            "Epoch 40/100\n",
            "34/34 [==============================] - 0s 2ms/step - loss: 7003.7993 - mae: 7003.7993\n",
            "Epoch 41/100\n",
            "34/34 [==============================] - 0s 2ms/step - loss: 6945.2144 - mae: 6945.2144\n",
            "Epoch 42/100\n",
            "34/34 [==============================] - 0s 3ms/step - loss: 6883.4336 - mae: 6883.4336\n",
            "Epoch 43/100\n",
            "34/34 [==============================] - 0s 2ms/step - loss: 6818.2480 - mae: 6818.2480\n",
            "Epoch 44/100\n",
            "34/34 [==============================] - 0s 2ms/step - loss: 6749.0483 - mae: 6749.0483\n",
            "Epoch 45/100\n",
            "34/34 [==============================] - 0s 2ms/step - loss: 6678.8672 - mae: 6678.8672\n",
            "Epoch 46/100\n",
            "34/34 [==============================] - 0s 2ms/step - loss: 6606.6685 - mae: 6606.6685\n",
            "Epoch 47/100\n",
            "34/34 [==============================] - 0s 2ms/step - loss: 6531.8696 - mae: 6531.8696\n",
            "Epoch 48/100\n",
            "34/34 [==============================] - 0s 2ms/step - loss: 6449.3970 - mae: 6449.3970\n",
            "Epoch 49/100\n",
            "34/34 [==============================] - 0s 2ms/step - loss: 6366.6909 - mae: 6366.6909\n",
            "Epoch 50/100\n",
            "34/34 [==============================] - 0s 2ms/step - loss: 6276.5752 - mae: 6276.5752\n",
            "Epoch 51/100\n",
            "34/34 [==============================] - 0s 2ms/step - loss: 6187.9624 - mae: 6187.9624\n",
            "Epoch 52/100\n",
            "34/34 [==============================] - 0s 2ms/step - loss: 6089.3027 - mae: 6089.3027\n",
            "Epoch 53/100\n",
            "34/34 [==============================] - 0s 2ms/step - loss: 5988.1646 - mae: 5988.1646\n",
            "Epoch 54/100\n",
            "34/34 [==============================] - 0s 2ms/step - loss: 5883.9990 - mae: 5883.9990\n",
            "Epoch 55/100\n",
            "34/34 [==============================] - 0s 2ms/step - loss: 5771.1792 - mae: 5771.1792\n",
            "Epoch 56/100\n",
            "34/34 [==============================] - 0s 2ms/step - loss: 5657.0928 - mae: 5657.0928\n",
            "Epoch 57/100\n",
            "34/34 [==============================] - 0s 2ms/step - loss: 5537.8364 - mae: 5537.8364\n",
            "Epoch 58/100\n",
            "34/34 [==============================] - 0s 2ms/step - loss: 5418.2212 - mae: 5418.2212\n",
            "Epoch 59/100\n",
            "34/34 [==============================] - 0s 2ms/step - loss: 5292.7617 - mae: 5292.7617\n",
            "Epoch 60/100\n",
            "34/34 [==============================] - 0s 2ms/step - loss: 5166.7769 - mae: 5166.7769\n",
            "Epoch 61/100\n",
            "34/34 [==============================] - 0s 2ms/step - loss: 5037.3687 - mae: 5037.3687\n",
            "Epoch 62/100\n",
            "34/34 [==============================] - 0s 2ms/step - loss: 4903.2344 - mae: 4903.2344\n",
            "Epoch 63/100\n",
            "34/34 [==============================] - 0s 2ms/step - loss: 4773.4927 - mae: 4773.4927\n",
            "Epoch 64/100\n",
            "34/34 [==============================] - 0s 2ms/step - loss: 4641.9956 - mae: 4641.9956\n",
            "Epoch 65/100\n",
            "34/34 [==============================] - 0s 2ms/step - loss: 4520.1235 - mae: 4520.1235\n",
            "Epoch 66/100\n",
            "34/34 [==============================] - 0s 2ms/step - loss: 4405.6250 - mae: 4405.6250\n",
            "Epoch 67/100\n",
            "34/34 [==============================] - 0s 2ms/step - loss: 4301.4404 - mae: 4301.4404\n",
            "Epoch 68/100\n",
            "34/34 [==============================] - 0s 2ms/step - loss: 4197.9517 - mae: 4197.9517\n",
            "Epoch 69/100\n",
            "34/34 [==============================] - 0s 2ms/step - loss: 4104.7339 - mae: 4104.7339\n",
            "Epoch 70/100\n",
            "34/34 [==============================] - 0s 2ms/step - loss: 4019.2832 - mae: 4019.2832\n",
            "Epoch 71/100\n",
            "34/34 [==============================] - 0s 2ms/step - loss: 3943.1233 - mae: 3943.1233\n",
            "Epoch 72/100\n",
            "34/34 [==============================] - 0s 3ms/step - loss: 3877.4150 - mae: 3877.4150\n",
            "Epoch 73/100\n",
            "34/34 [==============================] - 0s 3ms/step - loss: 3824.9788 - mae: 3824.9788\n",
            "Epoch 74/100\n",
            "34/34 [==============================] - 0s 3ms/step - loss: 3780.2595 - mae: 3780.2595\n",
            "Epoch 75/100\n",
            "34/34 [==============================] - 0s 3ms/step - loss: 3749.3909 - mae: 3749.3909\n",
            "Epoch 76/100\n",
            "34/34 [==============================] - 0s 3ms/step - loss: 3726.2568 - mae: 3726.2568\n",
            "Epoch 77/100\n",
            "34/34 [==============================] - 0s 3ms/step - loss: 3706.4519 - mae: 3706.4519\n",
            "Epoch 78/100\n",
            "34/34 [==============================] - 0s 3ms/step - loss: 3694.4216 - mae: 3694.4216\n",
            "Epoch 79/100\n",
            "34/34 [==============================] - 0s 3ms/step - loss: 3685.2166 - mae: 3685.2166\n",
            "Epoch 80/100\n",
            "34/34 [==============================] - 0s 3ms/step - loss: 3677.2952 - mae: 3677.2952\n",
            "Epoch 81/100\n",
            "34/34 [==============================] - 0s 3ms/step - loss: 3672.4995 - mae: 3672.4995\n",
            "Epoch 82/100\n",
            "34/34 [==============================] - 0s 3ms/step - loss: 3670.1667 - mae: 3670.1667\n",
            "Epoch 83/100\n",
            "34/34 [==============================] - 0s 3ms/step - loss: 3664.7334 - mae: 3664.7334\n",
            "Epoch 84/100\n",
            "34/34 [==============================] - 0s 3ms/step - loss: 3662.1985 - mae: 3662.1985\n",
            "Epoch 85/100\n",
            "34/34 [==============================] - 0s 3ms/step - loss: 3659.9485 - mae: 3659.9485\n",
            "Epoch 86/100\n",
            "34/34 [==============================] - 0s 3ms/step - loss: 3658.7932 - mae: 3658.7932\n",
            "Epoch 87/100\n",
            "34/34 [==============================] - 0s 3ms/step - loss: 3655.8149 - mae: 3655.8149\n",
            "Epoch 88/100\n",
            "34/34 [==============================] - 0s 3ms/step - loss: 3653.4485 - mae: 3653.4485\n",
            "Epoch 89/100\n",
            "34/34 [==============================] - 0s 3ms/step - loss: 3652.1892 - mae: 3652.1892\n",
            "Epoch 90/100\n",
            "34/34 [==============================] - 0s 3ms/step - loss: 3650.3884 - mae: 3650.3884\n",
            "Epoch 91/100\n",
            "34/34 [==============================] - 0s 3ms/step - loss: 3647.3508 - mae: 3647.3508\n",
            "Epoch 92/100\n",
            "34/34 [==============================] - 0s 3ms/step - loss: 3646.6697 - mae: 3646.6697\n",
            "Epoch 93/100\n",
            "34/34 [==============================] - 0s 3ms/step - loss: 3644.3491 - mae: 3644.3491\n",
            "Epoch 94/100\n",
            "34/34 [==============================] - 0s 3ms/step - loss: 3642.7188 - mae: 3642.7188\n",
            "Epoch 95/100\n",
            "34/34 [==============================] - 0s 3ms/step - loss: 3643.7898 - mae: 3643.7898\n",
            "Epoch 96/100\n",
            "34/34 [==============================] - 0s 3ms/step - loss: 3640.7368 - mae: 3640.7368\n",
            "Epoch 97/100\n",
            "34/34 [==============================] - 0s 3ms/step - loss: 3638.0413 - mae: 3638.0413\n",
            "Epoch 98/100\n",
            "34/34 [==============================] - 0s 3ms/step - loss: 3636.2651 - mae: 3636.2651\n",
            "Epoch 99/100\n",
            "34/34 [==============================] - 0s 2ms/step - loss: 3635.2671 - mae: 3635.2671\n",
            "Epoch 100/100\n",
            "34/34 [==============================] - 0s 3ms/step - loss: 3633.9609 - mae: 3633.9609\n"
          ]
        }
      ]
    },
    {
      "cell_type": "code",
      "source": [
        "insurance_model_normal.evaluate(X_test_normal, y_test)"
      ],
      "metadata": {
        "colab": {
          "base_uri": "https://localhost:8080/"
        },
        "id": "QZcXJBNaXILZ",
        "outputId": "a7eaa41a-3676-4d3f-beec-db469e7d3501"
      },
      "execution_count": 113,
      "outputs": [
        {
          "output_type": "stream",
          "name": "stdout",
          "text": [
            "9/9 [==============================] - 0s 6ms/step - loss: 3436.2954 - mae: 3436.2954\n"
          ]
        },
        {
          "output_type": "execute_result",
          "data": {
            "text/plain": [
              "[3436.29541015625, 3436.29541015625]"
            ]
          },
          "metadata": {},
          "execution_count": 113
        }
      ]
    },
    {
      "cell_type": "code",
      "source": [],
      "metadata": {
        "id": "XZFRVE3sXNVF"
      },
      "execution_count": null,
      "outputs": []
    }
  ]
}